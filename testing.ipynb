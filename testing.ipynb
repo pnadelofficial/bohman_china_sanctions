{
 "cells": [
  {
   "cell_type": "code",
   "execution_count": 1,
   "metadata": {},
   "outputs": [
    {
     "name": "stderr",
     "output_type": "stream",
     "text": [
      "/Users/pnadel01/miniconda3/envs/ecosa_viz/lib/python3.11/site-packages/openpyxl/worksheet/_reader.py:329: UserWarning: Data Validation extension is not supported and will be removed\n",
      "  warn(msg)\n"
     ]
    }
   ],
   "source": [
    "import pandas as pd\n",
    "\n",
    "df = pd.read_excel('CSM.xlsm', sheet_name='Master Sheet')"
   ]
  },
  {
   "cell_type": "code",
   "execution_count": 2,
   "metadata": {},
   "outputs": [
    {
     "data": {
      "text/html": [
       "<div>\n",
       "<style scoped>\n",
       "    .dataframe tbody tr th:only-of-type {\n",
       "        vertical-align: middle;\n",
       "    }\n",
       "\n",
       "    .dataframe tbody tr th {\n",
       "        vertical-align: top;\n",
       "    }\n",
       "\n",
       "    .dataframe thead th {\n",
       "        text-align: right;\n",
       "    }\n",
       "</style>\n",
       "<table border=\"1\" class=\"dataframe\">\n",
       "  <thead>\n",
       "    <tr style=\"text-align: right;\">\n",
       "      <th></th>\n",
       "      <th>Start Date</th>\n",
       "      <th>Title</th>\n",
       "      <th>Form of Restriction</th>\n",
       "      <th>Restriction Quotes</th>\n",
       "      <th>Mechanism</th>\n",
       "      <th>Formality</th>\n",
       "      <th>Legal Basis</th>\n",
       "      <th>Targeted Individuals</th>\n",
       "      <th>Targeted Entities</th>\n",
       "      <th>Nationality of Targets</th>\n",
       "      <th>Sector</th>\n",
       "      <th>Targeted Product Categories</th>\n",
       "      <th>Comment</th>\n",
       "      <th>Full Text Chinese</th>\n",
       "      <th>Full Text English</th>\n",
       "      <th>Link</th>\n",
       "      <th>Link2</th>\n",
       "      <th>Link3</th>\n",
       "      <th>Link 4</th>\n",
       "      <th>Link 5</th>\n",
       "    </tr>\n",
       "  </thead>\n",
       "  <tbody>\n",
       "    <tr>\n",
       "      <th>0</th>\n",
       "      <td>2019-12-02</td>\n",
       "      <td>Sanctions on NGOs in response to the US \"Hong ...</td>\n",
       "      <td>Targeted Sanction</td>\n",
       "      <td>the Chinese government has decided to suspend ...</td>\n",
       "      <td>Formal</td>\n",
       "      <td>Formal</td>\n",
       "      <td>NaN</td>\n",
       "      <td>NaN</td>\n",
       "      <td>National Endowment for Democracy; National Dem...</td>\n",
       "      <td>United States (North America)</td>\n",
       "      <td>Academia &amp; Civil Society</td>\n",
       "      <td>NaN</td>\n",
       "      <td>NaN</td>\n",
       "      <td>日前，美方不顾中方坚决反对，执意将所谓“香港人权与民主法案”签署成法，这严重违反国际法和国际...</td>\n",
       "      <td>NaN</td>\n",
       "      <td>Full Text Chinese (MFA)</td>\n",
       "      <td>NaN</td>\n",
       "      <td>NaN</td>\n",
       "      <td>NaN</td>\n",
       "      <td>NaN</td>\n",
       "    </tr>\n",
       "    <tr>\n",
       "      <th>1</th>\n",
       "      <td>2020-01-01</td>\n",
       "      <td>Cessation of Licenses to Export Graphite to Sw...</td>\n",
       "      <td>Export Control</td>\n",
       "      <td>Undefined</td>\n",
       "      <td>Bureaucratic Obstruction</td>\n",
       "      <td>Informal</td>\n",
       "      <td>NaN</td>\n",
       "      <td>NaN</td>\n",
       "      <td>NaN</td>\n",
       "      <td>Sweden (Europe)</td>\n",
       "      <td>Raw Materials</td>\n",
       "      <td>Graphite</td>\n",
       "      <td>The process of granting export licenses presum...</td>\n",
       "      <td>NaN</td>\n",
       "      <td>NaN</td>\n",
       "      <td>European Commission</td>\n",
       "      <td>Investigation by Swedish Public Radio</td>\n",
       "      <td>NaN</td>\n",
       "      <td>NaN</td>\n",
       "      <td>NaN</td>\n",
       "    </tr>\n",
       "    <tr>\n",
       "      <th>2</th>\n",
       "      <td>2020-07-13</td>\n",
       "      <td>Sanctions in response to the US imposition of ...</td>\n",
       "      <td>Targeted Sanction</td>\n",
       "      <td>China has decided to impose corresponding sanc...</td>\n",
       "      <td>Formal</td>\n",
       "      <td>Formal</td>\n",
       "      <td>NaN</td>\n",
       "      <td>Sam Brownback; Marco Rubio; Ted Cruz; Chris Smith</td>\n",
       "      <td>United States Congressional-Executive Commissi...</td>\n",
       "      <td>United States (North America)</td>\n",
       "      <td>Public Sector</td>\n",
       "      <td>NaN</td>\n",
       "      <td>Overlap in targets with 2020-08-10 sanctions (...</td>\n",
       "      <td>环球时报记者：7月9日，美国国务院和财政部分别宣布根据美国内法对一家中国新疆政府机构和4...</td>\n",
       "      <td>NaN</td>\n",
       "      <td>Full Text Chinese (MFA)</td>\n",
       "      <td>NaN</td>\n",
       "      <td>NaN</td>\n",
       "      <td>NaN</td>\n",
       "      <td>NaN</td>\n",
       "    </tr>\n",
       "    <tr>\n",
       "      <th>3</th>\n",
       "      <td>2020-08-10</td>\n",
       "      <td>Sanctions in response to the US imposition of ...</td>\n",
       "      <td>Targeted Sanction</td>\n",
       "      <td>China has decided to impose sanctions on the f...</td>\n",
       "      <td>Formal</td>\n",
       "      <td>Formal</td>\n",
       "      <td>NaN</td>\n",
       "      <td>Marco Rubio; Ted Cruz; Josh Hawley; Tom Cotton...</td>\n",
       "      <td>NaN</td>\n",
       "      <td>United States (North America)</td>\n",
       "      <td>Academia &amp; Civil Society</td>\n",
       "      <td>NaN</td>\n",
       "      <td>Overlap in targets with 2020-07-13 sanctions (...</td>\n",
       "      <td>NaN</td>\n",
       "      <td>CCTV: On August 7, the US State Department and...</td>\n",
       "      <td>Full Text English (MFA)</td>\n",
       "      <td>NaN</td>\n",
       "      <td>NaN</td>\n",
       "      <td>NaN</td>\n",
       "      <td>NaN</td>\n",
       "    </tr>\n",
       "    <tr>\n",
       "      <th>4</th>\n",
       "      <td>2021-01-21</td>\n",
       "      <td>Foreign Ministry Spokesperson Announces Sancti...</td>\n",
       "      <td>Targeted Sanction</td>\n",
       "      <td>China has decided to sanction 28 persons who h...</td>\n",
       "      <td>Formal</td>\n",
       "      <td>Formal</td>\n",
       "      <td>NaN</td>\n",
       "      <td>Michael R. Pompeo; Peter K. Navarro; Robert C....</td>\n",
       "      <td>NaN</td>\n",
       "      <td>United States (North America)</td>\n",
       "      <td>Public Sector</td>\n",
       "      <td>NaN</td>\n",
       "      <td>Only 10 out of 28 people are mentioned. The re...</td>\n",
       "      <td>\\n外交部发言人宣布中方对蓬佩奥等人实施制裁\\n2021-01-21 01:01\\n\\n【中...</td>\n",
       "      <td>Foreign Ministry Spokesperson Announces Sancti...</td>\n",
       "      <td>Full Text English (MFA)</td>\n",
       "      <td>Full Text Chinese (MFA)</td>\n",
       "      <td>NaN</td>\n",
       "      <td>NaN</td>\n",
       "      <td>NaN</td>\n",
       "    </tr>\n",
       "    <tr>\n",
       "      <th>5</th>\n",
       "      <td>2021-03-22</td>\n",
       "      <td>Foreign Ministry Spokesperson Announces Sancti...</td>\n",
       "      <td>Targeted Sanction</td>\n",
       "      <td>Individuals concerned and their families are p...</td>\n",
       "      <td>Formal</td>\n",
       "      <td>Formal</td>\n",
       "      <td>NaN</td>\n",
       "      <td>Reinhard Butikofer; Michael Gahler; Raphaël Gl...</td>\n",
       "      <td>Political and Security Committee of the Counci...</td>\n",
       "      <td>Germany (Europe); France (Europe); Bulgaria (E...</td>\n",
       "      <td>Public Sector; Academia &amp; Civil Society</td>\n",
       "      <td>NaN</td>\n",
       "      <td>Significant step (escalation) in China's forma...</td>\n",
       "      <td>外交部发言人宣布中方对欧盟有关机构和人员实施制裁\\n2021-03-22 20:26\\n\\n...</td>\n",
       "      <td>Foreign Ministry Spokesperson Announces Sancti...</td>\n",
       "      <td>Full Text Chinese (MFA)</td>\n",
       "      <td>Full Text English (MFA)</td>\n",
       "      <td>NaN</td>\n",
       "      <td>NaN</td>\n",
       "      <td>NaN</td>\n",
       "    </tr>\n",
       "    <tr>\n",
       "      <th>6</th>\n",
       "      <td>2021-03-26</td>\n",
       "      <td>Foreign Ministry Spokesperson: China imposes s...</td>\n",
       "      <td>Targeted Sanction</td>\n",
       "      <td>China has decided to impose sanctions on nine ...</td>\n",
       "      <td>Formal</td>\n",
       "      <td>Formal</td>\n",
       "      <td>NaN</td>\n",
       "      <td>David Alton; Geoffrey Nice; Helena Kennedy; Ia...</td>\n",
       "      <td>China Research Group; Conservative Party Human...</td>\n",
       "      <td>United Kingdom (Europe)</td>\n",
       "      <td>Public Sector; Academia &amp; Civil Society</td>\n",
       "      <td>NaN</td>\n",
       "      <td>NaN</td>\n",
       "      <td>外交部发言人宣布中方对英国有关人员和实体实施制裁\\n\\n日前，英方基于谎言和虚假信息，以所谓...</td>\n",
       "      <td>NaN</td>\n",
       "      <td>Full Text Chinese (MFA)</td>\n",
       "      <td>NaN</td>\n",
       "      <td>NaN</td>\n",
       "      <td>NaN</td>\n",
       "      <td>NaN</td>\n",
       "    </tr>\n",
       "    <tr>\n",
       "      <th>7</th>\n",
       "      <td>2021-03-27</td>\n",
       "      <td>Foreign Ministry Spokesperson\\nAnnounces Sanct...</td>\n",
       "      <td>Targeted Sanction</td>\n",
       "      <td>prohibiting the above-mentioned individuals fr...</td>\n",
       "      <td>Formal</td>\n",
       "      <td>Formal</td>\n",
       "      <td>NaN</td>\n",
       "      <td>Gayle Manchin; Tony Perkins; Michael Chong</td>\n",
       "      <td>United States Commission on International Reli...</td>\n",
       "      <td>United States (North America); Canada (North A...</td>\n",
       "      <td>Public Sector</td>\n",
       "      <td>NaN</td>\n",
       "      <td>Imposed together with sanctions against the EU...</td>\n",
       "      <td>外交部发言人宣布对美国、加拿大有关人员和实体实施制裁\\n2021-03-27 21:36 来...</td>\n",
       "      <td>Foreign Ministry Spokesperson Announces Sancti...</td>\n",
       "      <td>Full Text Chinese (MFA)</td>\n",
       "      <td>Full Text English (MFA)</td>\n",
       "      <td>NaN</td>\n",
       "      <td>NaN</td>\n",
       "      <td>NaN</td>\n",
       "    </tr>\n",
       "    <tr>\n",
       "      <th>8</th>\n",
       "      <td>2021-04-14</td>\n",
       "      <td>Icelandic pensioner placed on Chinese blacklist</td>\n",
       "      <td>Targeted Sanction</td>\n",
       "      <td>An Icelandic man, who works as a lawyer and ha...</td>\n",
       "      <td>Formal</td>\n",
       "      <td>Formal</td>\n",
       "      <td>NaN</td>\n",
       "      <td>Jónas Haraldsson</td>\n",
       "      <td>NaN</td>\n",
       "      <td>Iceland (Europe)</td>\n",
       "      <td>Academia &amp; Civil Society</td>\n",
       "      <td>NaN</td>\n",
       "      <td>Likely for the Xinjiang March sanctions Icelan...</td>\n",
       "      <td>NaN</td>\n",
       "      <td>NaN</td>\n",
       "      <td>Reporting (Icelandic)</td>\n",
       "      <td>Reporting (Icelandic)</td>\n",
       "      <td>NaN</td>\n",
       "      <td>NaN</td>\n",
       "      <td>NaN</td>\n",
       "    </tr>\n",
       "    <tr>\n",
       "      <th>9</th>\n",
       "      <td>2021-07-23</td>\n",
       "      <td>Foreign Ministry Spokesperson's Remarks on Chi...</td>\n",
       "      <td>Targeted Sanction</td>\n",
       "      <td>China has decided to take reciprocal counterme...</td>\n",
       "      <td>Formal</td>\n",
       "      <td>Formal</td>\n",
       "      <td>Anti-Foreign Sanctions Law</td>\n",
       "      <td>Wilbur Louis Ross; Carolyn Bartholomew; Jonath...</td>\n",
       "      <td>Hong Kong Democratic Council</td>\n",
       "      <td>United States (North America)</td>\n",
       "      <td>Public Sector; Academia &amp; Civil Society</td>\n",
       "      <td>NaN</td>\n",
       "      <td>NaN</td>\n",
       "      <td>NaN</td>\n",
       "      <td>Foreign Ministry Spokesperson's Remarks on Chi...</td>\n",
       "      <td>Full Text English (MFA)</td>\n",
       "      <td>NaN</td>\n",
       "      <td>NaN</td>\n",
       "      <td>NaN</td>\n",
       "      <td>NaN</td>\n",
       "    </tr>\n",
       "    <tr>\n",
       "      <th>10</th>\n",
       "      <td>2021-11-05</td>\n",
       "      <td>Punitive Measures Imposed on Staunch \"Taiwan I...</td>\n",
       "      <td>Targeted Sanction</td>\n",
       "      <td>The mainland will punish the above-mentioned \"...</td>\n",
       "      <td>Formal</td>\n",
       "      <td>Formal</td>\n",
       "      <td>NaN</td>\n",
       "      <td>Su Tseng-chang (苏贞昌); You Si-kun (游锡堃); Joseph...</td>\n",
       "      <td>NaN</td>\n",
       "      <td>Taiwan (Asia)</td>\n",
       "      <td>Public Sector</td>\n",
       "      <td>NaN</td>\n",
       "      <td>NaN</td>\n",
       "      <td>国台办：依法对苏贞昌、游锡堃、吴钊燮等极少数“台独”顽固分子实施惩戒\\n2021-11-05...</td>\n",
       "      <td>NaN</td>\n",
       "      <td>Full Text Chinese (Taiwan Affairs Office)</td>\n",
       "      <td>NaN</td>\n",
       "      <td>NaN</td>\n",
       "      <td>NaN</td>\n",
       "      <td>NaN</td>\n",
       "    </tr>\n",
       "    <tr>\n",
       "      <th>11</th>\n",
       "      <td>2021-12-21</td>\n",
       "      <td>Sanctions on Officials of the United States Co...</td>\n",
       "      <td>Targeted Sanction</td>\n",
       "      <td>China has decided to take reciprocal counterme...</td>\n",
       "      <td>Formal</td>\n",
       "      <td>Formal</td>\n",
       "      <td>Anti-Foreign Sanctions Law</td>\n",
       "      <td>Nadine Maenza; Nury Turkel; Anurima Bhargava; ...</td>\n",
       "      <td>NaN</td>\n",
       "      <td>United States (North America)</td>\n",
       "      <td>Public Sector; Academia &amp; Civil Society</td>\n",
       "      <td>NaN</td>\n",
       "      <td>NaN</td>\n",
       "      <td>NaN</td>\n",
       "      <td>CCTV: On December 10, the US Department of Sta...</td>\n",
       "      <td>Full Text English (MFA)</td>\n",
       "      <td>NaN</td>\n",
       "      <td>NaN</td>\n",
       "      <td>NaN</td>\n",
       "      <td>NaN</td>\n",
       "    </tr>\n",
       "    <tr>\n",
       "      <th>12</th>\n",
       "      <td>2022-08-01</td>\n",
       "      <td>Foreign Ministry Spokesperson Announces China'...</td>\n",
       "      <td>Targeted Sanction</td>\n",
       "      <td>China decides to adopt sanctions on Vaiciukevi...</td>\n",
       "      <td>Formal</td>\n",
       "      <td>Formal</td>\n",
       "      <td>NaN</td>\n",
       "      <td>Agnė Vaiciukevičiūtė</td>\n",
       "      <td>Ministry of Transport and Communications of Li...</td>\n",
       "      <td>Lithuania (Europe)</td>\n",
       "      <td>Public Sector; Transportation</td>\n",
       "      <td>Lithuania's international road transport activ...</td>\n",
       "      <td>NaN</td>\n",
       "      <td>外交部发言人宣布中方针对立陶宛交通与通讯部副部长瓦伊丘凯维丘特实施制裁\\n2022-08-1...</td>\n",
       "      <td>Foreign Ministry Spokesperson Announces China’...</td>\n",
       "      <td>Full Text Chinese (MFA)</td>\n",
       "      <td>NaN</td>\n",
       "      <td>NaN</td>\n",
       "      <td>NaN</td>\n",
       "      <td>NaN</td>\n",
       "    </tr>\n",
       "    <tr>\n",
       "      <th>13</th>\n",
       "      <td>2022-08-03</td>\n",
       "      <td>Suspension of natural sand exports to Taiwan f...</td>\n",
       "      <td>Export Control</td>\n",
       "      <td>The Ministry of Commerce (MOC) has decided to ...</td>\n",
       "      <td>Conversion</td>\n",
       "      <td>Informal</td>\n",
       "      <td>\"relevant laws and regulations\"</td>\n",
       "      <td>NaN</td>\n",
       "      <td>NaN</td>\n",
       "      <td>Taiwan (Asia)</td>\n",
       "      <td>Raw Materials</td>\n",
       "      <td>Sand</td>\n",
       "      <td>Announcement made the day Pelosi visited Taiwan.</td>\n",
       "      <td>商务部回应暂停天然砂对台湾地区出口\\n2022-08-03 17:02 来源：新华网\\n　　...</td>\n",
       "      <td>NaN</td>\n",
       "      <td>Full Text Chinese (MOFCOM)</td>\n",
       "      <td>NaN</td>\n",
       "      <td>NaN</td>\n",
       "      <td>NaN</td>\n",
       "      <td>NaN</td>\n",
       "    </tr>\n",
       "    <tr>\n",
       "      <th>14</th>\n",
       "      <td>2022-08-03</td>\n",
       "      <td>Suspension of the import of citrus fruits, fre...</td>\n",
       "      <td>Import Restriction</td>\n",
       "      <td>Since last year, mainland customs has repeated...</td>\n",
       "      <td>Conversion</td>\n",
       "      <td>Informal</td>\n",
       "      <td>\"in accordance with relevant mainland laws, re...</td>\n",
       "      <td>NaN</td>\n",
       "      <td>NaN</td>\n",
       "      <td>Taiwan (Asia)</td>\n",
       "      <td>Food &amp; Beverage</td>\n",
       "      <td>Citrus fruits, fresh white hairtail, frozen ho...</td>\n",
       "      <td>Announcement made the day Pelosi visited Taiwan.</td>\n",
       "      <td>海关总署动植物检疫司 进出口食品安全局关于暂停台湾地区柑橘类水果和冰鲜白带鱼、冻竹荚鱼输入大...</td>\n",
       "      <td>NaN</td>\n",
       "      <td>Full Text Chinese (Customs)</td>\n",
       "      <td>NaN</td>\n",
       "      <td>NaN</td>\n",
       "      <td>NaN</td>\n",
       "      <td>NaN</td>\n",
       "    </tr>\n",
       "    <tr>\n",
       "      <th>15</th>\n",
       "      <td>2022-08-03</td>\n",
       "      <td>Taiwan Affairs Office Announces Sanctions on I...</td>\n",
       "      <td>Targeted Sanction</td>\n",
       "      <td>The mainland has decided to take disciplinary ...</td>\n",
       "      <td>Formal</td>\n",
       "      <td>Formal</td>\n",
       "      <td>NaN</td>\n",
       "      <td>NaN</td>\n",
       "      <td>Taiwan Foundation for Democracy (台湾民主基金会); Tai...</td>\n",
       "      <td>Taiwan (Asia)</td>\n",
       "      <td>Academia &amp; Civil Society; Energy ; ICT; Health...</td>\n",
       "      <td>NaN</td>\n",
       "      <td>Hints at extraterritoriality: \"The mainland ha...</td>\n",
       "      <td>国台办宣布对“台独”顽固分子关联机构予以惩戒\\n2022-08-03 09:06 来源：新华...</td>\n",
       "      <td>NaN</td>\n",
       "      <td>Full Text Chinese (Taiwan Affairs Office)</td>\n",
       "      <td>NaN</td>\n",
       "      <td>NaN</td>\n",
       "      <td>NaN</td>\n",
       "      <td>NaN</td>\n",
       "    </tr>\n",
       "    <tr>\n",
       "      <th>16</th>\n",
       "      <td>2022-08-05</td>\n",
       "      <td>Foreign Ministry Spokesperson Announces China'...</td>\n",
       "      <td>Targeted Sanction</td>\n",
       "      <td>In response to Pelosi's vile provocative behav...</td>\n",
       "      <td>Formal</td>\n",
       "      <td>Formal</td>\n",
       "      <td>\"in accordance with the relevant laws\"</td>\n",
       "      <td>Nancy Pelosi</td>\n",
       "      <td>NaN</td>\n",
       "      <td>United States (North America)</td>\n",
       "      <td>Public Sector</td>\n",
       "      <td>NaN</td>\n",
       "      <td>NaN</td>\n",
       "      <td>外交部发言人宣布中方对美国国会众议长佩洛西实施制裁\\n2022-08-05 16:15\\n\\...</td>\n",
       "      <td>NaN</td>\n",
       "      <td>Full Text Chinese (MFA)</td>\n",
       "      <td>NaN</td>\n",
       "      <td>NaN</td>\n",
       "      <td>NaN</td>\n",
       "      <td>NaN</td>\n",
       "    </tr>\n",
       "    <tr>\n",
       "      <th>17</th>\n",
       "      <td>2022-08-16</td>\n",
       "      <td>Taiwan Affairs Office Announces Sanctions on S...</td>\n",
       "      <td>Targeted Sanction</td>\n",
       "      <td>The spokesperson said that in order to safegua...</td>\n",
       "      <td>Formal</td>\n",
       "      <td>Formal</td>\n",
       "      <td>NaN</td>\n",
       "      <td>Hsiao Bi-khim (萧美琴); Koo Li-hsiung (顾立雄); Tsai...</td>\n",
       "      <td>NaN</td>\n",
       "      <td>Taiwan (Asia)</td>\n",
       "      <td>Public Sector; Academia &amp; Civil Society</td>\n",
       "      <td>NaN</td>\n",
       "      <td>Reiterates sanctions against Joseph Wu and two...</td>\n",
       "      <td>中共中央台办发言人受权宣布对列入清单的一批“台独”顽固分子等人员实施制裁\\n2022-08-...</td>\n",
       "      <td>NaN</td>\n",
       "      <td>Full Text Chinese (Taiwan Affairs Office)</td>\n",
       "      <td>NaN</td>\n",
       "      <td>NaN</td>\n",
       "      <td>NaN</td>\n",
       "      <td>NaN</td>\n",
       "    </tr>\n",
       "    <tr>\n",
       "      <th>18</th>\n",
       "      <td>2022-12-23</td>\n",
       "      <td>Decision on taking counter-sanctions against Y...</td>\n",
       "      <td>Targeted Sanction</td>\n",
       "      <td>China has decided to take the following counte...</td>\n",
       "      <td>Formal</td>\n",
       "      <td>Formal</td>\n",
       "      <td>Anti-Foreign Sanctions Law (Articles 4, 5 and 6)</td>\n",
       "      <td>Yu Maochun; Todd Stein</td>\n",
       "      <td>NaN</td>\n",
       "      <td>United States (North America)</td>\n",
       "      <td>Public Sector</td>\n",
       "      <td>NaN</td>\n",
       "      <td>NaN</td>\n",
       "      <td>关于对余茂春、托德·斯坦恩采取反制裁措施的决定\\n2022-12-23 08:00\\n\\n【...</td>\n",
       "      <td>NaN</td>\n",
       "      <td>Full Text Chinese (MFA)</td>\n",
       "      <td>NaN</td>\n",
       "      <td>NaN</td>\n",
       "      <td>NaN</td>\n",
       "      <td>NaN</td>\n",
       "    </tr>\n",
       "    <tr>\n",
       "      <th>19</th>\n",
       "      <td>2023-02-01</td>\n",
       "      <td>Announcement... on the inclusion of Lockheed M...</td>\n",
       "      <td>Targeted Sanction</td>\n",
       "      <td>\\n1. The above-mentioned enterprises are prohi...</td>\n",
       "      <td>Formal</td>\n",
       "      <td>Formal</td>\n",
       "      <td>Unreliable Entity List\\n\\nForeign Trade Law;\\n...</td>\n",
       "      <td>NaN</td>\n",
       "      <td>Lockheed Martin; Raytheon Missiles &amp; Defense</td>\n",
       "      <td>United States (North America)</td>\n",
       "      <td>Defense</td>\n",
       "      <td>NaN</td>\n",
       "      <td>Is this a \"sanction\" or \"restriction on foreig...</td>\n",
       "      <td>不可靠实体清单工作机制关于将洛克希德·马丁公司、雷神导弹与防务公司列入不可靠实体清单的公告\\...</td>\n",
       "      <td>NaN</td>\n",
       "      <td>Full Text Chinese (MOFCOM)</td>\n",
       "      <td>NaN</td>\n",
       "      <td>NaN</td>\n",
       "      <td>NaN</td>\n",
       "      <td>NaN</td>\n",
       "    </tr>\n",
       "    <tr>\n",
       "      <th>20</th>\n",
       "      <td>2023-02-16</td>\n",
       "      <td>Inclusion of two US defence companies and asso...</td>\n",
       "      <td>Targeted Sanction</td>\n",
       "      <td>To safeguard national sovereignty, security an...</td>\n",
       "      <td>Formal</td>\n",
       "      <td>Formal</td>\n",
       "      <td>Unreliable Entity List\\n\\nAnti-Foreign Sanctio...</td>\n",
       "      <td>James Donald Taiclet; Frank Andrew St. John; J...</td>\n",
       "      <td>Lockheed Martin Corporation; Raytheon Missiles...</td>\n",
       "      <td>United States (North America)</td>\n",
       "      <td>Defense</td>\n",
       "      <td>NaN</td>\n",
       "      <td>Asks Chinese companies to carry out due dilige...</td>\n",
       "      <td>商务部新闻发言人就不可靠实体清单实施有关问题答记者问\\n问：2月16日发布的不可靠实体清单公...</td>\n",
       "      <td>NaN</td>\n",
       "      <td>Full Text Chinese (MOFCOM)</td>\n",
       "      <td>NaN</td>\n",
       "      <td>NaN</td>\n",
       "      <td>NaN</td>\n",
       "      <td>NaN</td>\n",
       "    </tr>\n",
       "    <tr>\n",
       "      <th>21</th>\n",
       "      <td>2023-03-31</td>\n",
       "      <td>Restrictions on Micron</td>\n",
       "      <td>Obstruction of Foreign Business in China</td>\n",
       "      <td>In accordance with the Cybersecurity Law and o...</td>\n",
       "      <td>Formal</td>\n",
       "      <td>Formal</td>\n",
       "      <td>National Security Law;\\nCybersecurity Law</td>\n",
       "      <td>NaN</td>\n",
       "      <td>Micron</td>\n",
       "      <td>United States (North America)</td>\n",
       "      <td>Semiconductors</td>\n",
       "      <td>NaN</td>\n",
       "      <td>Investigation led to restriction of purchases ...</td>\n",
       "      <td>为保障关键信息基础设施供应链安全，防范产品问题隐患造成网络安全风险，维护国家安全，依据《中华...</td>\n",
       "      <td>NaN</td>\n",
       "      <td>Full Text Chinese Investgation Launch (CAC)</td>\n",
       "      <td>Full Text Chinese Investgation Result (CAC)</td>\n",
       "      <td>NaN</td>\n",
       "      <td>NaN</td>\n",
       "      <td>NaN</td>\n",
       "    </tr>\n",
       "    <tr>\n",
       "      <th>22</th>\n",
       "      <td>2023-04-07</td>\n",
       "      <td>Decision on taking countermeasures against the...</td>\n",
       "      <td>Targeted Sanction</td>\n",
       "      <td>China has decided to take the following counte...</td>\n",
       "      <td>Formal</td>\n",
       "      <td>Formal</td>\n",
       "      <td>Anti-Foreign Sanctions Law (Articles 4, 5, 6 a...</td>\n",
       "      <td>Sarah May Stern; John P. Walters; John Heubusc...</td>\n",
       "      <td>Hudson Institute; Ronald Reagan Library</td>\n",
       "      <td>United States (North America)</td>\n",
       "      <td>Academia &amp; Civil Society</td>\n",
       "      <td>NaN</td>\n",
       "      <td>NaN</td>\n",
       "      <td>关于对美国哈德逊研究所、里根图书馆及其负责人采取反制措施的决定\\n2023-04-07 10...</td>\n",
       "      <td>NaN</td>\n",
       "      <td>Full Text Chinese (MFA)</td>\n",
       "      <td>NaN</td>\n",
       "      <td>NaN</td>\n",
       "      <td>NaN</td>\n",
       "      <td>NaN</td>\n",
       "    </tr>\n",
       "    <tr>\n",
       "      <th>23</th>\n",
       "      <td>2023-04-07</td>\n",
       "      <td>Taiwan Affairs Office Announces Sanctions on I...</td>\n",
       "      <td>Targeted Sanction</td>\n",
       "      <td>the mainland has decided to impose punitive me...</td>\n",
       "      <td>Formal</td>\n",
       "      <td>Formal</td>\n",
       "      <td>NaN</td>\n",
       "      <td>NaN</td>\n",
       "      <td>Prospect Foundation； Asian Pacific League for ...</td>\n",
       "      <td>Taiwan (Asia)</td>\n",
       "      <td>Academia &amp; Civil Society</td>\n",
       "      <td>NaN</td>\n",
       "      <td>NaN</td>\n",
       "      <td>国台办宣布对宣扬“台独”的有关机构予以惩戒\\n2023-04-07 09:11 来源：新华网...</td>\n",
       "      <td>NaN</td>\n",
       "      <td>Full Text Chinese (Taiwan Affairs Office)</td>\n",
       "      <td>NaN</td>\n",
       "      <td>NaN</td>\n",
       "      <td>NaN</td>\n",
       "      <td>NaN</td>\n",
       "    </tr>\n",
       "    <tr>\n",
       "      <th>24</th>\n",
       "      <td>2023-04-13</td>\n",
       "      <td>Decision on taking countermeasures against ant...</td>\n",
       "      <td>Targeted Sanction</td>\n",
       "      <td>In accordance with Articles 3, 4, 6 and 15 of ...</td>\n",
       "      <td>Formal</td>\n",
       "      <td>Formal</td>\n",
       "      <td>Anti-Foreign Sanctions Law</td>\n",
       "      <td>Michael McCaul</td>\n",
       "      <td>NaN</td>\n",
       "      <td>United States (North America)</td>\n",
       "      <td>Public Sector</td>\n",
       "      <td>NaN</td>\n",
       "      <td>NaN</td>\n",
       "      <td>关于对美国反华议员迈克·麦考尔采取反制措施的决定\\n2023-04-13 17:36\\n\\n...</td>\n",
       "      <td>NaN</td>\n",
       "      <td>Full Text Chinese (MFA)</td>\n",
       "      <td>NaN</td>\n",
       "      <td>NaN</td>\n",
       "      <td>NaN</td>\n",
       "      <td>NaN</td>\n",
       "    </tr>\n",
       "    <tr>\n",
       "      <th>25</th>\n",
       "      <td>2023-07-03</td>\n",
       "      <td>Announcement on ... the Implementation of Expo...</td>\n",
       "      <td>Export Control</td>\n",
       "      <td>NaN</td>\n",
       "      <td>Formal</td>\n",
       "      <td>Formal</td>\n",
       "      <td>Export Control Law;\\nForeign Trade Law;\\nCusto...</td>\n",
       "      <td>NaN</td>\n",
       "      <td>NaN</td>\n",
       "      <td>NaN</td>\n",
       "      <td>Raw Materials</td>\n",
       "      <td>Gallium and germanium</td>\n",
       "      <td>Introduces export license requirements for gal...</td>\n",
       "      <td>商务部 海关总署公告2023年第23号 关于对镓、锗相关物项实施出口管制的公告\\n【发布单位...</td>\n",
       "      <td>NaN</td>\n",
       "      <td>Full Text Chinese (MOFCOM)</td>\n",
       "      <td>Analysis (PIIE)</td>\n",
       "      <td>Analysis (IFRI)</td>\n",
       "      <td>NaN</td>\n",
       "      <td>NaN</td>\n",
       "    </tr>\n",
       "    <tr>\n",
       "      <th>26</th>\n",
       "      <td>2023-07-31</td>\n",
       "      <td>Announcement No. 28 ... on the implementation ...</td>\n",
       "      <td>Export Control</td>\n",
       "      <td>it is decided to implement temporary export co...</td>\n",
       "      <td>Formal</td>\n",
       "      <td>Formal</td>\n",
       "      <td>Export Control Law;\\n Foreign Trade Law;\\n Cus...</td>\n",
       "      <td>NaN</td>\n",
       "      <td>NaN</td>\n",
       "      <td>NaN</td>\n",
       "      <td>Drones</td>\n",
       "      <td>Lower-end drones – extended flight time, paylo...</td>\n",
       "      <td>Seems designed to accomodate western accusatio...</td>\n",
       "      <td>商务部 海关总署 国家国防科工局 中央军委装备发展部公告2023年第28号 关于对部分无人机...</td>\n",
       "      <td>NaN</td>\n",
       "      <td>Full Text Chinese (MOFCOM)</td>\n",
       "      <td>Analysis (Geopolitechs)</td>\n",
       "      <td>Reporting (Reuters)</td>\n",
       "      <td>NaN</td>\n",
       "      <td>NaN</td>\n",
       "    </tr>\n",
       "    <tr>\n",
       "      <th>27</th>\n",
       "      <td>2023-07-31</td>\n",
       "      <td>Announcement No. 27 ... on the Implementation ...</td>\n",
       "      <td>Export Control</td>\n",
       "      <td>it is decided to implement export controls on ...</td>\n",
       "      <td>Formal</td>\n",
       "      <td>Formal</td>\n",
       "      <td>Export Control Law;\\n Foreign Trade Law;\\n Cus...</td>\n",
       "      <td>NaN</td>\n",
       "      <td>NaN</td>\n",
       "      <td>NaN</td>\n",
       "      <td>Drones</td>\n",
       "      <td>High-end components – engines, advanced sensor...</td>\n",
       "      <td>Seems designed to accomodate western accusatio...</td>\n",
       "      <td>商务部 海关总署 国家国防科工局 中央军委装备发展部公告2023年第27号 关于对无人机相关...</td>\n",
       "      <td>NaN</td>\n",
       "      <td>Full Text Chinese (MOFCOM)</td>\n",
       "      <td>Analysis (Geopolitechs)</td>\n",
       "      <td>Reporting (Reuters)</td>\n",
       "      <td>NaN</td>\n",
       "      <td>NaN</td>\n",
       "    </tr>\n",
       "    <tr>\n",
       "      <th>28</th>\n",
       "      <td>2023-08-24</td>\n",
       "      <td>China ban on Japanese seafood products after F...</td>\n",
       "      <td>Import Restriction</td>\n",
       "      <td>the General Administration of Customs has deci...</td>\n",
       "      <td>Conversion</td>\n",
       "      <td>Informal</td>\n",
       "      <td>Food Safety Law</td>\n",
       "      <td>Japan</td>\n",
       "      <td>NaN</td>\n",
       "      <td>Japan (Asia)</td>\n",
       "      <td>Food &amp; Beverage</td>\n",
       "      <td>Seafood products</td>\n",
       "      <td>No evidence that the ban had something to do w...</td>\n",
       "      <td>海关总署公告\\n2023年第103号\\n\\n为全面防范日本福岛核污染水排海对食品安全造成的放...</td>\n",
       "      <td>NaN</td>\n",
       "      <td>Full Text Chinese (Customs)</td>\n",
       "      <td>Full Text English (MFA)</td>\n",
       "      <td>Analysis (The Interpreter)</td>\n",
       "      <td>NaN</td>\n",
       "      <td>NaN</td>\n",
       "    </tr>\n",
       "    <tr>\n",
       "      <th>29</th>\n",
       "      <td>2023-08-24</td>\n",
       "      <td>Boycott of Japanese beauty products after Fuku...</td>\n",
       "      <td>Boycott</td>\n",
       "      <td>NaN</td>\n",
       "      <td>Boycott Fomentation</td>\n",
       "      <td>Informal</td>\n",
       "      <td>NaN</td>\n",
       "      <td>NaN</td>\n",
       "      <td>Shiseido; Kosé</td>\n",
       "      <td>Japan (Asia)</td>\n",
       "      <td>Consumer Goods</td>\n",
       "      <td>Beauty products</td>\n",
       "      <td>May be more companies targeted</td>\n",
       "      <td>NaN</td>\n",
       "      <td>NaN</td>\n",
       "      <td>Reporting (FT)</td>\n",
       "      <td>NaN</td>\n",
       "      <td>NaN</td>\n",
       "      <td>NaN</td>\n",
       "      <td>NaN</td>\n",
       "    </tr>\n",
       "    <tr>\n",
       "      <th>30</th>\n",
       "      <td>2023-09-15</td>\n",
       "      <td>Sanctions on Lockheed Martin and Northrop Grum...</td>\n",
       "      <td>Targeted Sanction</td>\n",
       "      <td>Lockheed Martin Corporation, St. Louis, MO dir...</td>\n",
       "      <td>Formal</td>\n",
       "      <td>Formal</td>\n",
       "      <td>Anti-Foreign Sanctions Law</td>\n",
       "      <td>NaN</td>\n",
       "      <td>Lockheed Martin Corporation; Northrop Grumman</td>\n",
       "      <td>United States (North America)</td>\n",
       "      <td>Defense</td>\n",
       "      <td>NaN</td>\n",
       "      <td>NaN</td>\n",
       "      <td>NaN</td>\n",
       "      <td>China Daily: Lately the US has provided advanc...</td>\n",
       "      <td>Full Text Chinese (MFA)</td>\n",
       "      <td>NaN</td>\n",
       "      <td>NaN</td>\n",
       "      <td>NaN</td>\n",
       "      <td>NaN</td>\n",
       "    </tr>\n",
       "    <tr>\n",
       "      <th>31</th>\n",
       "      <td>2023-10-20</td>\n",
       "      <td>Announcement on ... Optimizing and Adjusting T...</td>\n",
       "      <td>Export Control</td>\n",
       "      <td>NaN</td>\n",
       "      <td>Formal</td>\n",
       "      <td>Formal</td>\n",
       "      <td>Export Control Law;\\nForeign Trade Law;\\nCusto...</td>\n",
       "      <td>NaN</td>\n",
       "      <td>NaN</td>\n",
       "      <td>NaN</td>\n",
       "      <td>Raw Materials</td>\n",
       "      <td>Graphite</td>\n",
       "      <td>Introduces export license requirements for gra...</td>\n",
       "      <td>商务部 海关总署公告2023年第39号 关于优化调整石墨物项临时出口管制措施的公告\\n\\n【...</td>\n",
       "      <td>NaN</td>\n",
       "      <td>Full Text Chinese (MOFCOM)</td>\n",
       "      <td>Analysis (PIIE)</td>\n",
       "      <td>NaN</td>\n",
       "      <td>NaN</td>\n",
       "      <td>NaN</td>\n",
       "    </tr>\n",
       "    <tr>\n",
       "      <th>32</th>\n",
       "      <td>2023-12-21</td>\n",
       "      <td>The State Council Tariff Commission's decision...</td>\n",
       "      <td>Import Control</td>\n",
       "      <td>In accordance with the Cross-Strait Economic C...</td>\n",
       "      <td>Conversion</td>\n",
       "      <td>Informal</td>\n",
       "      <td>Cross-Strait Economic Cooperation Framework Ag...</td>\n",
       "      <td>NaN</td>\n",
       "      <td>NaN</td>\n",
       "      <td>Taiwan (Asia)</td>\n",
       "      <td>Raw Materials</td>\n",
       "      <td>Propylene; butadiene; isoprene; mixed xylene i...</td>\n",
       "      <td>Imposed ahead of Taiwanese elections. A second...</td>\n",
       "      <td>国务院关税税则委员会关于中止《海峡两岸经济合作框架协议》\\n部分产品关税减让的公告\\n发布日...</td>\n",
       "      <td>NaN</td>\n",
       "      <td>Full Text Chinese (Ministry of Finance)</td>\n",
       "      <td>Investigation (MOFCOM)</td>\n",
       "      <td>NaN</td>\n",
       "      <td>NaN</td>\n",
       "      <td>NaN</td>\n",
       "    </tr>\n",
       "    <tr>\n",
       "      <th>33</th>\n",
       "      <td>2023-12-26</td>\n",
       "      <td>Sanctions on US Firm Kharon and Two Researcher...</td>\n",
       "      <td>Targeted Sanction</td>\n",
       "      <td>In accordance with China’s Anti-Foreign Sancti...</td>\n",
       "      <td>Formal</td>\n",
       "      <td>Formal</td>\n",
       "      <td>Anti-Foreign Sanctions Law</td>\n",
       "      <td>Edmund Xu; Nicole Morgret</td>\n",
       "      <td>Kharon</td>\n",
       "      <td>United States (North America)</td>\n",
       "      <td>Defense</td>\n",
       "      <td>NaN</td>\n",
       "      <td>NaN</td>\n",
       "      <td>NaN</td>\n",
       "      <td>Xinhua News Agency: The US issued an annual hu...</td>\n",
       "      <td>Full Text Chinese (MFA)</td>\n",
       "      <td>NaN</td>\n",
       "      <td>NaN</td>\n",
       "      <td>NaN</td>\n",
       "      <td>NaN</td>\n",
       "    </tr>\n",
       "    <tr>\n",
       "      <th>34</th>\n",
       "      <td>2024-01-07</td>\n",
       "      <td>Countermeasures on US Arms Sales to China’s Ta...</td>\n",
       "      <td>Targeted Sanction</td>\n",
       "      <td>In response to these gravely wrong actions tak...</td>\n",
       "      <td>Formal</td>\n",
       "      <td>Formal</td>\n",
       "      <td>Anti-Foreign Sanctions Law</td>\n",
       "      <td>NaN</td>\n",
       "      <td>BAE Systems Land and Armament; Alliant Techsys...</td>\n",
       "      <td>United States (North America)</td>\n",
       "      <td>Defense</td>\n",
       "      <td>NaN</td>\n",
       "      <td>NaN</td>\n",
       "      <td>NaN</td>\n",
       "      <td>Foreign Ministry Spokesperson’s Remarks on Cou...</td>\n",
       "      <td>Full Text Chinese (MFA)</td>\n",
       "      <td>NaN</td>\n",
       "      <td>NaN</td>\n",
       "      <td>NaN</td>\n",
       "      <td>NaN</td>\n",
       "    </tr>\n",
       "    <tr>\n",
       "      <th>35</th>\n",
       "      <td>2024-04-11</td>\n",
       "      <td>Decision on taking countermeasures against Gen...</td>\n",
       "      <td>Targeted Sanction</td>\n",
       "      <td>China has decided to take the following counte...</td>\n",
       "      <td>Formal</td>\n",
       "      <td>Formal</td>\n",
       "      <td>Anti-Foreign Sanctions Law (Articles 3, 4, 5, ...</td>\n",
       "      <td>NaN</td>\n",
       "      <td>General Atomics Aeronautical Systems; General ...</td>\n",
       "      <td>United States (North America)</td>\n",
       "      <td>Defense; Drones</td>\n",
       "      <td>NaN</td>\n",
       "      <td>NaN</td>\n",
       "      <td>关于对美国通用原子航空系统公司、通用动力陆地系统公司采取反制措施的决定\\n2024-04-1...</td>\n",
       "      <td>NaN</td>\n",
       "      <td>Full Text Chinese (MFA)</td>\n",
       "      <td>NaN</td>\n",
       "      <td>NaN</td>\n",
       "      <td>NaN</td>\n",
       "      <td>NaN</td>\n",
       "    </tr>\n",
       "    <tr>\n",
       "      <th>36</th>\n",
       "      <td>2024-04-19</td>\n",
       "      <td>Announcement of the Ministry of Commerce No. 1...</td>\n",
       "      <td>Import Control</td>\n",
       "      <td>Based on the investigation results and Article...</td>\n",
       "      <td>Conversion</td>\n",
       "      <td>Informal</td>\n",
       "      <td>Anti-Dumping Regulations</td>\n",
       "      <td>NaN</td>\n",
       "      <td>Formosa Chemicals &amp; Fibre Corp. (台湾化学纤维股份有限公司)...</td>\n",
       "      <td>Taiwan (Asia)</td>\n",
       "      <td>Chemicals</td>\n",
       "      <td>Polycarbonate</td>\n",
       "      <td>Investigation launch in later 2023 and results...</td>\n",
       "      <td>商务部公告2024年第13号 关于原产于台湾地区的进口聚碳酸酯反倾销调查最终裁定的公告\\n【...</td>\n",
       "      <td>NaN</td>\n",
       "      <td>Full Text Chinese (MOFCOM)</td>\n",
       "      <td>NaN</td>\n",
       "      <td>NaN</td>\n",
       "      <td>NaN</td>\n",
       "      <td>NaN</td>\n",
       "    </tr>\n",
       "    <tr>\n",
       "      <th>37</th>\n",
       "      <td>2024-05-20</td>\n",
       "      <td>Announcement of the Working Mechanism of the U...</td>\n",
       "      <td>Targeted Sanction</td>\n",
       "      <td>To safeguard national sovereignty, security an...</td>\n",
       "      <td>Formal</td>\n",
       "      <td>Formal</td>\n",
       "      <td>Unreliable Entity List (Article 2, Article 8 a...</td>\n",
       "      <td>NaN</td>\n",
       "      <td>General Atomics Aeronautical Systems; General ...</td>\n",
       "      <td>United States (North America)</td>\n",
       "      <td>Defense</td>\n",
       "      <td>NaN</td>\n",
       "      <td>Step towards extraterritoriality.\\n\\nIn additi...</td>\n",
       "      <td>不可靠实体清单工作机制关于对通用原子航空系统公司等三家美国企业采取不可靠实体清单措施的公告\\...</td>\n",
       "      <td>NaN</td>\n",
       "      <td>Full Text Chinese (MOFCOM)</td>\n",
       "      <td>NaN</td>\n",
       "      <td>NaN</td>\n",
       "      <td>NaN</td>\n",
       "      <td>NaN</td>\n",
       "    </tr>\n",
       "    <tr>\n",
       "      <th>38</th>\n",
       "      <td>2024-05-20</td>\n",
       "      <td>Announcement of the Working Mechanism of the U...</td>\n",
       "      <td>Targeted Sanction</td>\n",
       "      <td>To safeguard national sovereignty, security an...</td>\n",
       "      <td>Formal</td>\n",
       "      <td>Formal</td>\n",
       "      <td>Unreliable Entity List (Article 2, Article 8 a...</td>\n",
       "      <td>NaN</td>\n",
       "      <td>Boeing Defense, Space &amp; Security</td>\n",
       "      <td>United States (North America)</td>\n",
       "      <td>Defense</td>\n",
       "      <td>NaN</td>\n",
       "      <td>NaN</td>\n",
       "      <td>不可靠实体清单工作机制关于将波音防务、空间与安全集团列入不可靠实体清单的公告\\n【发布单位】...</td>\n",
       "      <td>NaN</td>\n",
       "      <td>Full Text Chinese (MOFCOM)</td>\n",
       "      <td>NaN</td>\n",
       "      <td>NaN</td>\n",
       "      <td>NaN</td>\n",
       "      <td>NaN</td>\n",
       "    </tr>\n",
       "    <tr>\n",
       "      <th>39</th>\n",
       "      <td>2024-05-21</td>\n",
       "      <td>Decision on taking countermeasures against for...</td>\n",
       "      <td>Targeted Sanction</td>\n",
       "      <td>China has decided to take the following counte...</td>\n",
       "      <td>Formal</td>\n",
       "      <td>Formal</td>\n",
       "      <td>Anti-Foreign Sanctions Law (Articles 3, 4, 6, ...</td>\n",
       "      <td>Mike Gallagher</td>\n",
       "      <td>NaN</td>\n",
       "      <td>United States (North America)</td>\n",
       "      <td>Public Sector</td>\n",
       "      <td>NaN</td>\n",
       "      <td>Excludes art 5 of AFSL</td>\n",
       "      <td>关于对美国国会前议员加拉格尔采取反制措施的决定\\n2024-05-21 16:30\\n\\n【...</td>\n",
       "      <td>NaN</td>\n",
       "      <td>Full Text Chinese (MFA)</td>\n",
       "      <td>NaN</td>\n",
       "      <td>NaN</td>\n",
       "      <td>NaN</td>\n",
       "      <td>NaN</td>\n",
       "    </tr>\n",
       "    <tr>\n",
       "      <th>40</th>\n",
       "      <td>2024-05-22</td>\n",
       "      <td>Decision on taking countermeasures against U.S...</td>\n",
       "      <td>Targeted Sanction</td>\n",
       "      <td>For the 12 companies as listed in the attached...</td>\n",
       "      <td>Formal</td>\n",
       "      <td>Formal</td>\n",
       "      <td>Anti-Foreign Sanctions Law (Articles 3, 4, 5, ...</td>\n",
       "      <td>Kathy J. Warden; Matthew Bromberg; Benjamin R....</td>\n",
       "      <td>Lockheed Martin Missiles and Fire Control; Loc...</td>\n",
       "      <td>United States (North America)</td>\n",
       "      <td>Defense</td>\n",
       "      <td>Missiles, missile defense, munitions, aerospac...</td>\n",
       "      <td>Very similar in form to subsequent sanctions d...</td>\n",
       "      <td>关于对美国军工企业及高级管理人员采取反制措施的决定\\n2024-05-22 17:00\\n\\...</td>\n",
       "      <td>Decision on Taking Countermeasures Against\\nU....</td>\n",
       "      <td>Full Text Chinese (MFA)</td>\n",
       "      <td>Full Text English (MFA)</td>\n",
       "      <td>NaN</td>\n",
       "      <td>NaN</td>\n",
       "      <td>NaN</td>\n",
       "    </tr>\n",
       "    <tr>\n",
       "      <th>41</th>\n",
       "      <td>2024-05-30</td>\n",
       "      <td>Announcement No. 21 ... on the Implementation ...</td>\n",
       "      <td>Export Control</td>\n",
       "      <td>in order to safeguard national security and in...</td>\n",
       "      <td>Formal</td>\n",
       "      <td>Formal</td>\n",
       "      <td>Export Control Law;\\n Foreign Trade Law;\\n Cus...</td>\n",
       "      <td>NaN</td>\n",
       "      <td>NaN</td>\n",
       "      <td>NaN</td>\n",
       "      <td>Aerospace; Energy; Defense</td>\n",
       "      <td>Aerospace manufacturing equipment and software...</td>\n",
       "      <td>I checked trade data for the aerospace HS code...</td>\n",
       "      <td>商务部 海关总署 中央军委装备发展部公告2024年第21号 关于对有关物项实施出口管制的公告...</td>\n",
       "      <td>NaN</td>\n",
       "      <td>Full Text Chinese (MOFCOM)</td>\n",
       "      <td>NaN</td>\n",
       "      <td>NaN</td>\n",
       "      <td>NaN</td>\n",
       "      <td>NaN</td>\n",
       "    </tr>\n",
       "    <tr>\n",
       "      <th>42</th>\n",
       "      <td>2024-05-31</td>\n",
       "      <td>The State Council Tariff Commission's decision...</td>\n",
       "      <td>Import Control</td>\n",
       "      <td>Starting from June 15, 2024, the application o...</td>\n",
       "      <td>Conversion</td>\n",
       "      <td>Informal</td>\n",
       "      <td>Cross-Strait Economic Cooperation Framework Ag...</td>\n",
       "      <td>NaN</td>\n",
       "      <td>NaN</td>\n",
       "      <td>Taiwan (Asia)</td>\n",
       "      <td>Chemicals; Raw Materials</td>\n",
       "      <td>NaN</td>\n",
       "      <td>In response to Lai's inauguration speech in Ma...</td>\n",
       "      <td>国务院关税税则委员会关于中止《海峡两岸经济合作框架协议》\\n部分产品（第二批）关税减让的公告...</td>\n",
       "      <td>NaN</td>\n",
       "      <td>Full Text Chinese (Ministry of Finance)</td>\n",
       "      <td>Investigation (MOFCOM)</td>\n",
       "      <td>Reporting (Reuters)</td>\n",
       "      <td>NaN</td>\n",
       "      <td>NaN</td>\n",
       "    </tr>\n",
       "    <tr>\n",
       "      <th>43</th>\n",
       "      <td>2024-06-21</td>\n",
       "      <td>Decision to Take Countermeasures Against Lockh...</td>\n",
       "      <td>Targeted Sanction</td>\n",
       "      <td>China has decided to take countermeasures agai...</td>\n",
       "      <td>Formal</td>\n",
       "      <td>Formal</td>\n",
       "      <td>Anti-Foreign Sanctions Law (Articles 3, 4, 5, ...</td>\n",
       "      <td>James Donald Taiclet; Frank Andrew St. John; J...</td>\n",
       "      <td>Lockheed Martin Missile System Integration Lab...</td>\n",
       "      <td>United States (North America)</td>\n",
       "      <td>Defense</td>\n",
       "      <td>NaN</td>\n",
       "      <td>NaN</td>\n",
       "      <td>关于对洛克希德·马丁公司实体和高级管理人员采取反制措施的决定\\n2024-06-21 17:...</td>\n",
       "      <td>NaN</td>\n",
       "      <td>Full Text Chinese (MFA)</td>\n",
       "      <td>NaN</td>\n",
       "      <td>NaN</td>\n",
       "      <td>NaN</td>\n",
       "      <td>NaN</td>\n",
       "    </tr>\n",
       "    <tr>\n",
       "      <th>44</th>\n",
       "      <td>2024-07-12</td>\n",
       "      <td>Decision on taking countermeasures against U.S...</td>\n",
       "      <td>Targeted Sanction</td>\n",
       "      <td>For the six companies ...\\nTheir movable and i...</td>\n",
       "      <td>Formal</td>\n",
       "      <td>Formal</td>\n",
       "      <td>Anti-Foreign Sanctions Law (Articles 3, 4, 5, ...</td>\n",
       "      <td>Wahid Nawabi; Kevin McDonnell; Brian William S...</td>\n",
       "      <td>Anduril Industries; Maritime Tactical Systems;...</td>\n",
       "      <td>United States (North America)</td>\n",
       "      <td>Defense</td>\n",
       "      <td>Aerospace, maritime systems, defense systems</td>\n",
       "      <td>Very similar to other sanctions decisions on U...</td>\n",
       "      <td>关于对美国军工企业及高级管理人员采取反制措施的决定\\n2024-07-12 18:10\\n\\...</td>\n",
       "      <td>Decision on Taking Countermeasures Against U.S...</td>\n",
       "      <td>Full Text Chinese (MFA)</td>\n",
       "      <td>Full Text English (MFA)</td>\n",
       "      <td>NaN</td>\n",
       "      <td>NaN</td>\n",
       "      <td>NaN</td>\n",
       "    </tr>\n",
       "    <tr>\n",
       "      <th>45</th>\n",
       "      <td>2024-07-31</td>\n",
       "      <td>Decision on taking countermeasures against U.S...</td>\n",
       "      <td>Targeted Sanction</td>\n",
       "      <td>China has decided to take the following counte...</td>\n",
       "      <td>Formal</td>\n",
       "      <td>Formal</td>\n",
       "      <td>Anti-Foreign Sanctions Law (Articles 3, 4, 5, ...</td>\n",
       "      <td>Jim McGovern</td>\n",
       "      <td>NaN</td>\n",
       "      <td>United States (North America)</td>\n",
       "      <td>Public Sector</td>\n",
       "      <td>NaN</td>\n",
       "      <td>NaN</td>\n",
       "      <td>关于对美国国会议员麦戈文采取反制措施的决定\\n2024-07-31 18:21\\n\\n【中大...</td>\n",
       "      <td>NaN</td>\n",
       "      <td>Full Text Chinese (MFA)</td>\n",
       "      <td>NaN</td>\n",
       "      <td>NaN</td>\n",
       "      <td>NaN</td>\n",
       "      <td>NaN</td>\n",
       "    </tr>\n",
       "    <tr>\n",
       "      <th>46</th>\n",
       "      <td>2024-07-31</td>\n",
       "      <td>Announcement No. 31 ... on Optimizing and Adju...</td>\n",
       "      <td>Export Control</td>\n",
       "      <td>it is decided to adjust the export control mea...</td>\n",
       "      <td>Formal</td>\n",
       "      <td>Formal</td>\n",
       "      <td>Export Control Law;\\n Foreign Trade Law;\\n Cus...</td>\n",
       "      <td>NaN</td>\n",
       "      <td>NaN</td>\n",
       "      <td>NaN</td>\n",
       "      <td>Drones</td>\n",
       "      <td>NaN</td>\n",
       "      <td>Consolidates and tightens frameworks No. 27 an...</td>\n",
       "      <td>商务部 海关总署 中央军委装备发展部公告2024年第31号 关于优化调整无人机出口管制措施的...</td>\n",
       "      <td>NaN</td>\n",
       "      <td>Full Text Chinese (MOFCOM)</td>\n",
       "      <td>Press Release (Xinhua)</td>\n",
       "      <td>NaN</td>\n",
       "      <td>NaN</td>\n",
       "      <td>NaN</td>\n",
       "    </tr>\n",
       "    <tr>\n",
       "      <th>47</th>\n",
       "      <td>2024-08-15</td>\n",
       "      <td>Announcement … on the Implementation of Export...</td>\n",
       "      <td>Export Control</td>\n",
       "      <td>NaN</td>\n",
       "      <td>Formal</td>\n",
       "      <td>Formal</td>\n",
       "      <td>Export Control Law;\\nForeign Trade Law;\\nCusto...</td>\n",
       "      <td>NaN</td>\n",
       "      <td>NaN</td>\n",
       "      <td>NaN</td>\n",
       "      <td>Raw Materials</td>\n",
       "      <td>Antimony</td>\n",
       "      <td>Introduces export license requirements for ant...</td>\n",
       "      <td>商务部 海关总署公告2024年第33号 关于对锑等物项实施出口管制的公告\\n【发布单位】安全...</td>\n",
       "      <td>NaN</td>\n",
       "      <td>Full Text Chinese (MOFCOM)</td>\n",
       "      <td>Analysis (CSIS)</td>\n",
       "      <td>Reporting (Reuters)</td>\n",
       "      <td>NaN</td>\n",
       "      <td>NaN</td>\n",
       "    </tr>\n",
       "    <tr>\n",
       "      <th>48</th>\n",
       "      <td>2024-09-18</td>\n",
       "      <td>Decision on taking countermeasures against U.S...</td>\n",
       "      <td>Targeted Sanction</td>\n",
       "      <td>China has decided to take the following counte...</td>\n",
       "      <td>Formal</td>\n",
       "      <td>Formal</td>\n",
       "      <td>Anti-Foreign Sanctions Law (Articles 3, 4, 6, ...</td>\n",
       "      <td>NaN</td>\n",
       "      <td>Sierra Nevada Corporation; Stick Rudder Enterp...</td>\n",
       "      <td>United States (North America)</td>\n",
       "      <td>Defense</td>\n",
       "      <td>Aerospace, defense transport and communication...</td>\n",
       "      <td>Does not reference article 5 of the Anti-Forei...</td>\n",
       "      <td>关于对美国军工企业采取反制措施的决定\\n2024-09-18 14:43\\n\\n【中大小】 ...</td>\n",
       "      <td>Decision on Taking Countermeasures Against U.S...</td>\n",
       "      <td>Full Text Chinese (MFA)</td>\n",
       "      <td>Full Text English (MFA)</td>\n",
       "      <td>NaN</td>\n",
       "      <td>NaN</td>\n",
       "      <td>NaN</td>\n",
       "    </tr>\n",
       "    <tr>\n",
       "      <th>49</th>\n",
       "      <td>2024-10-08</td>\n",
       "      <td>Anti-dumping Measures on Imports of Brandy Ori...</td>\n",
       "      <td>Import Control</td>\n",
       "      <td>In accordance with Articles 28 and 29 of the A...</td>\n",
       "      <td>Conversion</td>\n",
       "      <td>Informal</td>\n",
       "      <td>Anti-dumping Regulations (Articles 28 and 29)</td>\n",
       "      <td>NaN</td>\n",
       "      <td>NaN</td>\n",
       "      <td>European Union (Europe); France (Europe)</td>\n",
       "      <td>Food &amp; Beverage</td>\n",
       "      <td>Brandy</td>\n",
       "      <td>Investigation extended to April 2025\\n\\nAnnoun...</td>\n",
       "      <td>商务部公告2024年第42号 关于对原产于欧盟的进口相关白兰地实施临时反倾销措施的公告\\n【...</td>\n",
       "      <td>NaN</td>\n",
       "      <td>Full Text Chinese (MOFCOM, Nov 11)</td>\n",
       "      <td>Full Text Chinese (MOFCOM Oct 8)</td>\n",
       "      <td>Extension of Investigation (MOFCOM)</td>\n",
       "      <td>Reporting (Reuters)</td>\n",
       "      <td>NaN</td>\n",
       "    </tr>\n",
       "    <tr>\n",
       "      <th>50</th>\n",
       "      <td>2024-10-10</td>\n",
       "      <td>Decision on taking countermeasures against U.S...</td>\n",
       "      <td>Targeted Sanction</td>\n",
       "      <td>For the three companies … Their movable and im...</td>\n",
       "      <td>Formal</td>\n",
       "      <td>Formal</td>\n",
       "      <td>Anti-Foreign Sanctions Law (Articles 3, 4, 5, ...</td>\n",
       "      <td>Steven Roger Rudder; James William Ickes II; D...</td>\n",
       "      <td>Edge Autonomy Operations LLC; Huntington Ingal...</td>\n",
       "      <td>United States (North America)</td>\n",
       "      <td>Defense</td>\n",
       "      <td>Ships, aerospace, defense systems</td>\n",
       "      <td>Several media reports on impact on Skydio. \\n\\...</td>\n",
       "      <td>关于对美国军工企业及高级管理人员采取反制措施的决定\\n2024-10-10 17:00\\n\\...</td>\n",
       "      <td>Decision on Taking Countermeasures Against U.S...</td>\n",
       "      <td>Full Text Chinese (MFA)</td>\n",
       "      <td>Full Text English (MFA)</td>\n",
       "      <td>Skydio Statement</td>\n",
       "      <td>NaN</td>\n",
       "      <td>NaN</td>\n",
       "    </tr>\n",
       "    <tr>\n",
       "      <th>51</th>\n",
       "      <td>2024-12-03</td>\n",
       "      <td>Ministry of Commerce Notice 2024 No. 46: Notic...</td>\n",
       "      <td>Export Control</td>\n",
       "      <td>\\nThe export of dual-use items to U.S. militar...</td>\n",
       "      <td>Formal</td>\n",
       "      <td>Formal</td>\n",
       "      <td>Export Control Law</td>\n",
       "      <td>NaN</td>\n",
       "      <td>NaN</td>\n",
       "      <td>United States (North America)</td>\n",
       "      <td>Raw Materials</td>\n",
       "      <td>Gallium, germanium, antimony, superhard materi...</td>\n",
       "      <td>1. First proper export restriction since 2010?...</td>\n",
       "      <td>商务部公告2024年第46号 关于加强相关两用物项对美国出口管制的公告\\n【发布单位】安全与...</td>\n",
       "      <td>Ministry of Commerce Notice 2024 No. 46: Notic...</td>\n",
       "      <td>Full Text Chinese (MOFCOM)</td>\n",
       "      <td>Reporting (NYT)</td>\n",
       "      <td>NaN</td>\n",
       "      <td>NaN</td>\n",
       "      <td>NaN</td>\n",
       "    </tr>\n",
       "    <tr>\n",
       "      <th>52</th>\n",
       "      <td>2024-12-05</td>\n",
       "      <td>Decision on taking countermeasures against U.S...</td>\n",
       "      <td>Targeted Sanction</td>\n",
       "      <td>For the 13 companies … Their movable and immov...</td>\n",
       "      <td>Formal</td>\n",
       "      <td>Formal</td>\n",
       "      <td>Anti-Foreign Sanctions Law (Articles 3, 4, 5, ...</td>\n",
       "      <td>Barbara Borgonovi; Gerard Hueber; Charles Wood...</td>\n",
       "      <td>Teledyne Brown Engineering, Inc.; BRINC Drones...</td>\n",
       "      <td>United States (North America)</td>\n",
       "      <td>Defense</td>\n",
       "      <td>Aerospace, AI, drones, surveillance, naval</td>\n",
       "      <td>Very similar to other sanctions decisions on U...</td>\n",
       "      <td>\\n关于对美国军工企业及高级管理人员采取反制措施的决定\\n2024-12-05 15:00\\...</td>\n",
       "      <td>Decision on Taking Countermeasures Against U.S...</td>\n",
       "      <td>Full Text Chinese (MFA)</td>\n",
       "      <td>Full Text English (MFA)</td>\n",
       "      <td>NaN</td>\n",
       "      <td>NaN</td>\n",
       "      <td>NaN</td>\n",
       "    </tr>\n",
       "    <tr>\n",
       "      <th>53</th>\n",
       "      <td>2024-12-21</td>\n",
       "      <td>Decision on taking countermeasures against Can...</td>\n",
       "      <td>Targeted Sanction</td>\n",
       "      <td>China has decided to take countermeasures agai...</td>\n",
       "      <td>Formal</td>\n",
       "      <td>Formal</td>\n",
       "      <td>Anti-Foreign Sanctions Law (Articles 3, 4, 5, ...</td>\n",
       "      <td>Clive Ansley; Geoffrey Aharon; Justine Bernatc...</td>\n",
       "      <td>Uyghur Rights Advocacy Project in Canada; Cana...</td>\n",
       "      <td>Canada (North America)</td>\n",
       "      <td>Academia &amp; Civil Society</td>\n",
       "      <td>NaN</td>\n",
       "      <td>NaN</td>\n",
       "      <td>关于对加拿大机构及人员采取反制措施的决定 2024-12-21 16:50【(2024年12...</td>\n",
       "      <td>Decision on taking countermeasures against Can...</td>\n",
       "      <td>Full Text Chinese (MFA)</td>\n",
       "      <td>NaN</td>\n",
       "      <td>NaN</td>\n",
       "      <td>NaN</td>\n",
       "      <td>NaN</td>\n",
       "    </tr>\n",
       "    <tr>\n",
       "      <th>54</th>\n",
       "      <td>2025-01-02</td>\n",
       "      <td>Ministry of Commerce Announcement No. 1 of 202...</td>\n",
       "      <td>Export Control</td>\n",
       "      <td>and take the following measures:\\n\\n1. The exp...</td>\n",
       "      <td>Formal</td>\n",
       "      <td>Formal</td>\n",
       "      <td>Export Control Law;\\nDual-Use Regulations (202...</td>\n",
       "      <td>NaN</td>\n",
       "      <td>General Dynamics; L3 Harris Technologies; Inte...</td>\n",
       "      <td>United States (North America)</td>\n",
       "      <td>Defense</td>\n",
       "      <td>Missile systems; military aircraft; surveillan...</td>\n",
       "      <td>First use of dual-use regulations and \"export ...</td>\n",
       "      <td>商务部公告2025年第1号 公布将28家美国实体列入出口管制管控名单\\n【发布单位】安全与管...</td>\n",
       "      <td>NaN</td>\n",
       "      <td>Full Text Chinese (MOFCOM)</td>\n",
       "      <td>Q&amp;A \"Export Control List\" (MOFCOM)</td>\n",
       "      <td>Analysis (Geopolitechs)</td>\n",
       "      <td>NaN</td>\n",
       "      <td>NaN</td>\n",
       "    </tr>\n",
       "    <tr>\n",
       "      <th>55</th>\n",
       "      <td>2025-01-02</td>\n",
       "      <td>Announcement … on the Taking of Unreliable Ent...</td>\n",
       "      <td>Targeted Sanction</td>\n",
       "      <td>1. The above-mentioned enterprises are prohibi...</td>\n",
       "      <td>Formal</td>\n",
       "      <td>Formal</td>\n",
       "      <td>Unreliable Entity List\\n\\nForeign Trade Law;\\n...</td>\n",
       "      <td>NaN</td>\n",
       "      <td>Lockheed Martin Missiles and Fire Control; Loc...</td>\n",
       "      <td>United States (North America)</td>\n",
       "      <td>Defense</td>\n",
       "      <td>Missiles; military aircraft; aerospace R&amp;D; sy...</td>\n",
       "      <td>Suggests UEL is used for most severe violation...</td>\n",
       "      <td>不可靠实体清单工作机制关于对洛克希德·马丁导弹与火控公司等10家美国企业采取不可靠实体清单措...</td>\n",
       "      <td>NaN</td>\n",
       "      <td>Full Text Chinese (MOFCOM)</td>\n",
       "      <td>Q&amp;A on UEL (MOFCOM)</td>\n",
       "      <td>Analysis (Geopolitechs)</td>\n",
       "      <td>NaN</td>\n",
       "      <td>NaN</td>\n",
       "    </tr>\n",
       "  </tbody>\n",
       "</table>\n",
       "</div>"
      ],
      "text/plain": [
       "   Start Date                                              Title  \\\n",
       "0  2019-12-02  Sanctions on NGOs in response to the US \"Hong ...   \n",
       "1  2020-01-01  Cessation of Licenses to Export Graphite to Sw...   \n",
       "2  2020-07-13  Sanctions in response to the US imposition of ...   \n",
       "3  2020-08-10  Sanctions in response to the US imposition of ...   \n",
       "4  2021-01-21  Foreign Ministry Spokesperson Announces Sancti...   \n",
       "5  2021-03-22  Foreign Ministry Spokesperson Announces Sancti...   \n",
       "6  2021-03-26  Foreign Ministry Spokesperson: China imposes s...   \n",
       "7  2021-03-27  Foreign Ministry Spokesperson\\nAnnounces Sanct...   \n",
       "8  2021-04-14    Icelandic pensioner placed on Chinese blacklist   \n",
       "9  2021-07-23  Foreign Ministry Spokesperson's Remarks on Chi...   \n",
       "10 2021-11-05  Punitive Measures Imposed on Staunch \"Taiwan I...   \n",
       "11 2021-12-21  Sanctions on Officials of the United States Co...   \n",
       "12 2022-08-01  Foreign Ministry Spokesperson Announces China'...   \n",
       "13 2022-08-03  Suspension of natural sand exports to Taiwan f...   \n",
       "14 2022-08-03  Suspension of the import of citrus fruits, fre...   \n",
       "15 2022-08-03  Taiwan Affairs Office Announces Sanctions on I...   \n",
       "16 2022-08-05  Foreign Ministry Spokesperson Announces China'...   \n",
       "17 2022-08-16  Taiwan Affairs Office Announces Sanctions on S...   \n",
       "18 2022-12-23  Decision on taking counter-sanctions against Y...   \n",
       "19 2023-02-01  Announcement... on the inclusion of Lockheed M...   \n",
       "20 2023-02-16  Inclusion of two US defence companies and asso...   \n",
       "21 2023-03-31                             Restrictions on Micron   \n",
       "22 2023-04-07  Decision on taking countermeasures against the...   \n",
       "23 2023-04-07  Taiwan Affairs Office Announces Sanctions on I...   \n",
       "24 2023-04-13  Decision on taking countermeasures against ant...   \n",
       "25 2023-07-03  Announcement on ... the Implementation of Expo...   \n",
       "26 2023-07-31  Announcement No. 28 ... on the implementation ...   \n",
       "27 2023-07-31  Announcement No. 27 ... on the Implementation ...   \n",
       "28 2023-08-24  China ban on Japanese seafood products after F...   \n",
       "29 2023-08-24  Boycott of Japanese beauty products after Fuku...   \n",
       "30 2023-09-15  Sanctions on Lockheed Martin and Northrop Grum...   \n",
       "31 2023-10-20  Announcement on ... Optimizing and Adjusting T...   \n",
       "32 2023-12-21  The State Council Tariff Commission's decision...   \n",
       "33 2023-12-26  Sanctions on US Firm Kharon and Two Researcher...   \n",
       "34 2024-01-07  Countermeasures on US Arms Sales to China’s Ta...   \n",
       "35 2024-04-11  Decision on taking countermeasures against Gen...   \n",
       "36 2024-04-19  Announcement of the Ministry of Commerce No. 1...   \n",
       "37 2024-05-20  Announcement of the Working Mechanism of the U...   \n",
       "38 2024-05-20  Announcement of the Working Mechanism of the U...   \n",
       "39 2024-05-21  Decision on taking countermeasures against for...   \n",
       "40 2024-05-22  Decision on taking countermeasures against U.S...   \n",
       "41 2024-05-30  Announcement No. 21 ... on the Implementation ...   \n",
       "42 2024-05-31  The State Council Tariff Commission's decision...   \n",
       "43 2024-06-21  Decision to Take Countermeasures Against Lockh...   \n",
       "44 2024-07-12  Decision on taking countermeasures against U.S...   \n",
       "45 2024-07-31  Decision on taking countermeasures against U.S...   \n",
       "46 2024-07-31  Announcement No. 31 ... on Optimizing and Adju...   \n",
       "47 2024-08-15  Announcement … on the Implementation of Export...   \n",
       "48 2024-09-18  Decision on taking countermeasures against U.S...   \n",
       "49 2024-10-08  Anti-dumping Measures on Imports of Brandy Ori...   \n",
       "50 2024-10-10  Decision on taking countermeasures against U.S...   \n",
       "51 2024-12-03  Ministry of Commerce Notice 2024 No. 46: Notic...   \n",
       "52 2024-12-05  Decision on taking countermeasures against U.S...   \n",
       "53 2024-12-21  Decision on taking countermeasures against Can...   \n",
       "54 2025-01-02  Ministry of Commerce Announcement No. 1 of 202...   \n",
       "55 2025-01-02  Announcement … on the Taking of Unreliable Ent...   \n",
       "\n",
       "                         Form of Restriction  \\\n",
       "0                          Targeted Sanction   \n",
       "1                             Export Control   \n",
       "2                          Targeted Sanction   \n",
       "3                          Targeted Sanction   \n",
       "4                          Targeted Sanction   \n",
       "5                          Targeted Sanction   \n",
       "6                          Targeted Sanction   \n",
       "7                          Targeted Sanction   \n",
       "8                          Targeted Sanction   \n",
       "9                          Targeted Sanction   \n",
       "10                         Targeted Sanction   \n",
       "11                         Targeted Sanction   \n",
       "12                         Targeted Sanction   \n",
       "13                            Export Control   \n",
       "14                        Import Restriction   \n",
       "15                         Targeted Sanction   \n",
       "16                         Targeted Sanction   \n",
       "17                         Targeted Sanction   \n",
       "18                         Targeted Sanction   \n",
       "19                         Targeted Sanction   \n",
       "20                         Targeted Sanction   \n",
       "21  Obstruction of Foreign Business in China   \n",
       "22                         Targeted Sanction   \n",
       "23                         Targeted Sanction   \n",
       "24                         Targeted Sanction   \n",
       "25                            Export Control   \n",
       "26                            Export Control   \n",
       "27                            Export Control   \n",
       "28                        Import Restriction   \n",
       "29                                   Boycott   \n",
       "30                         Targeted Sanction   \n",
       "31                            Export Control   \n",
       "32                            Import Control   \n",
       "33                         Targeted Sanction   \n",
       "34                         Targeted Sanction   \n",
       "35                         Targeted Sanction   \n",
       "36                            Import Control   \n",
       "37                         Targeted Sanction   \n",
       "38                         Targeted Sanction   \n",
       "39                         Targeted Sanction   \n",
       "40                         Targeted Sanction   \n",
       "41                            Export Control   \n",
       "42                            Import Control   \n",
       "43                         Targeted Sanction   \n",
       "44                         Targeted Sanction   \n",
       "45                         Targeted Sanction   \n",
       "46                            Export Control   \n",
       "47                            Export Control   \n",
       "48                         Targeted Sanction   \n",
       "49                            Import Control   \n",
       "50                         Targeted Sanction   \n",
       "51                            Export Control   \n",
       "52                         Targeted Sanction   \n",
       "53                         Targeted Sanction   \n",
       "54                            Export Control   \n",
       "55                         Targeted Sanction   \n",
       "\n",
       "                                   Restriction Quotes  \\\n",
       "0   the Chinese government has decided to suspend ...   \n",
       "1                                           Undefined   \n",
       "2   China has decided to impose corresponding sanc...   \n",
       "3   China has decided to impose sanctions on the f...   \n",
       "4   China has decided to sanction 28 persons who h...   \n",
       "5   Individuals concerned and their families are p...   \n",
       "6   China has decided to impose sanctions on nine ...   \n",
       "7   prohibiting the above-mentioned individuals fr...   \n",
       "8   An Icelandic man, who works as a lawyer and ha...   \n",
       "9   China has decided to take reciprocal counterme...   \n",
       "10  The mainland will punish the above-mentioned \"...   \n",
       "11  China has decided to take reciprocal counterme...   \n",
       "12  China decides to adopt sanctions on Vaiciukevi...   \n",
       "13  The Ministry of Commerce (MOC) has decided to ...   \n",
       "14  Since last year, mainland customs has repeated...   \n",
       "15  The mainland has decided to take disciplinary ...   \n",
       "16  In response to Pelosi's vile provocative behav...   \n",
       "17  The spokesperson said that in order to safegua...   \n",
       "18  China has decided to take the following counte...   \n",
       "19  \\n1. The above-mentioned enterprises are prohi...   \n",
       "20  To safeguard national sovereignty, security an...   \n",
       "21  In accordance with the Cybersecurity Law and o...   \n",
       "22  China has decided to take the following counte...   \n",
       "23  the mainland has decided to impose punitive me...   \n",
       "24  In accordance with Articles 3, 4, 6 and 15 of ...   \n",
       "25                                                NaN   \n",
       "26  it is decided to implement temporary export co...   \n",
       "27  it is decided to implement export controls on ...   \n",
       "28  the General Administration of Customs has deci...   \n",
       "29                                                NaN   \n",
       "30  Lockheed Martin Corporation, St. Louis, MO dir...   \n",
       "31                                                NaN   \n",
       "32  In accordance with the Cross-Strait Economic C...   \n",
       "33  In accordance with China’s Anti-Foreign Sancti...   \n",
       "34  In response to these gravely wrong actions tak...   \n",
       "35  China has decided to take the following counte...   \n",
       "36  Based on the investigation results and Article...   \n",
       "37  To safeguard national sovereignty, security an...   \n",
       "38  To safeguard national sovereignty, security an...   \n",
       "39  China has decided to take the following counte...   \n",
       "40  For the 12 companies as listed in the attached...   \n",
       "41  in order to safeguard national security and in...   \n",
       "42  Starting from June 15, 2024, the application o...   \n",
       "43  China has decided to take countermeasures agai...   \n",
       "44  For the six companies ...\\nTheir movable and i...   \n",
       "45  China has decided to take the following counte...   \n",
       "46  it is decided to adjust the export control mea...   \n",
       "47                                                NaN   \n",
       "48  China has decided to take the following counte...   \n",
       "49  In accordance with Articles 28 and 29 of the A...   \n",
       "50  For the three companies … Their movable and im...   \n",
       "51  \\nThe export of dual-use items to U.S. militar...   \n",
       "52  For the 13 companies … Their movable and immov...   \n",
       "53  China has decided to take countermeasures agai...   \n",
       "54  and take the following measures:\\n\\n1. The exp...   \n",
       "55  1. The above-mentioned enterprises are prohibi...   \n",
       "\n",
       "                   Mechanism Formality  \\\n",
       "0                     Formal    Formal   \n",
       "1   Bureaucratic Obstruction  Informal   \n",
       "2                     Formal    Formal   \n",
       "3                     Formal    Formal   \n",
       "4                     Formal    Formal   \n",
       "5                     Formal    Formal   \n",
       "6                     Formal    Formal   \n",
       "7                     Formal    Formal   \n",
       "8                     Formal    Formal   \n",
       "9                     Formal    Formal   \n",
       "10                    Formal    Formal   \n",
       "11                    Formal    Formal   \n",
       "12                    Formal    Formal   \n",
       "13                Conversion  Informal   \n",
       "14                Conversion  Informal   \n",
       "15                    Formal    Formal   \n",
       "16                    Formal    Formal   \n",
       "17                    Formal    Formal   \n",
       "18                    Formal    Formal   \n",
       "19                    Formal    Formal   \n",
       "20                    Formal    Formal   \n",
       "21                    Formal    Formal   \n",
       "22                    Formal    Formal   \n",
       "23                    Formal    Formal   \n",
       "24                    Formal    Formal   \n",
       "25                    Formal    Formal   \n",
       "26                    Formal    Formal   \n",
       "27                    Formal    Formal   \n",
       "28                Conversion  Informal   \n",
       "29       Boycott Fomentation  Informal   \n",
       "30                    Formal    Formal   \n",
       "31                    Formal    Formal   \n",
       "32                Conversion  Informal   \n",
       "33                    Formal    Formal   \n",
       "34                    Formal    Formal   \n",
       "35                    Formal    Formal   \n",
       "36                Conversion  Informal   \n",
       "37                    Formal    Formal   \n",
       "38                    Formal    Formal   \n",
       "39                    Formal    Formal   \n",
       "40                    Formal    Formal   \n",
       "41                    Formal    Formal   \n",
       "42                Conversion  Informal   \n",
       "43                    Formal    Formal   \n",
       "44                    Formal    Formal   \n",
       "45                    Formal    Formal   \n",
       "46                    Formal    Formal   \n",
       "47                    Formal    Formal   \n",
       "48                    Formal    Formal   \n",
       "49                Conversion  Informal   \n",
       "50                    Formal    Formal   \n",
       "51                    Formal    Formal   \n",
       "52                    Formal    Formal   \n",
       "53                    Formal    Formal   \n",
       "54                    Formal    Formal   \n",
       "55                    Formal    Formal   \n",
       "\n",
       "                                          Legal Basis  \\\n",
       "0                                                 NaN   \n",
       "1                                                 NaN   \n",
       "2                                                 NaN   \n",
       "3                                                 NaN   \n",
       "4                                                 NaN   \n",
       "5                                                 NaN   \n",
       "6                                                 NaN   \n",
       "7                                                 NaN   \n",
       "8                                                 NaN   \n",
       "9                          Anti-Foreign Sanctions Law   \n",
       "10                                                NaN   \n",
       "11                         Anti-Foreign Sanctions Law   \n",
       "12                                                NaN   \n",
       "13                    \"relevant laws and regulations\"   \n",
       "14  \"in accordance with relevant mainland laws, re...   \n",
       "15                                                NaN   \n",
       "16             \"in accordance with the relevant laws\"   \n",
       "17                                                NaN   \n",
       "18   Anti-Foreign Sanctions Law (Articles 4, 5 and 6)   \n",
       "19  Unreliable Entity List\\n\\nForeign Trade Law;\\n...   \n",
       "20  Unreliable Entity List\\n\\nAnti-Foreign Sanctio...   \n",
       "21          National Security Law;\\nCybersecurity Law   \n",
       "22  Anti-Foreign Sanctions Law (Articles 4, 5, 6 a...   \n",
       "23                                                NaN   \n",
       "24                         Anti-Foreign Sanctions Law   \n",
       "25  Export Control Law;\\nForeign Trade Law;\\nCusto...   \n",
       "26  Export Control Law;\\n Foreign Trade Law;\\n Cus...   \n",
       "27  Export Control Law;\\n Foreign Trade Law;\\n Cus...   \n",
       "28                                    Food Safety Law   \n",
       "29                                                NaN   \n",
       "30                         Anti-Foreign Sanctions Law   \n",
       "31  Export Control Law;\\nForeign Trade Law;\\nCusto...   \n",
       "32  Cross-Strait Economic Cooperation Framework Ag...   \n",
       "33                         Anti-Foreign Sanctions Law   \n",
       "34                         Anti-Foreign Sanctions Law   \n",
       "35  Anti-Foreign Sanctions Law (Articles 3, 4, 5, ...   \n",
       "36                           Anti-Dumping Regulations   \n",
       "37  Unreliable Entity List (Article 2, Article 8 a...   \n",
       "38  Unreliable Entity List (Article 2, Article 8 a...   \n",
       "39  Anti-Foreign Sanctions Law (Articles 3, 4, 6, ...   \n",
       "40  Anti-Foreign Sanctions Law (Articles 3, 4, 5, ...   \n",
       "41  Export Control Law;\\n Foreign Trade Law;\\n Cus...   \n",
       "42  Cross-Strait Economic Cooperation Framework Ag...   \n",
       "43  Anti-Foreign Sanctions Law (Articles 3, 4, 5, ...   \n",
       "44  Anti-Foreign Sanctions Law (Articles 3, 4, 5, ...   \n",
       "45  Anti-Foreign Sanctions Law (Articles 3, 4, 5, ...   \n",
       "46  Export Control Law;\\n Foreign Trade Law;\\n Cus...   \n",
       "47  Export Control Law;\\nForeign Trade Law;\\nCusto...   \n",
       "48  Anti-Foreign Sanctions Law (Articles 3, 4, 6, ...   \n",
       "49      Anti-dumping Regulations (Articles 28 and 29)   \n",
       "50  Anti-Foreign Sanctions Law (Articles 3, 4, 5, ...   \n",
       "51                                 Export Control Law   \n",
       "52  Anti-Foreign Sanctions Law (Articles 3, 4, 5, ...   \n",
       "53  Anti-Foreign Sanctions Law (Articles 3, 4, 5, ...   \n",
       "54  Export Control Law;\\nDual-Use Regulations (202...   \n",
       "55  Unreliable Entity List\\n\\nForeign Trade Law;\\n...   \n",
       "\n",
       "                                 Targeted Individuals  \\\n",
       "0                                                 NaN   \n",
       "1                                                 NaN   \n",
       "2   Sam Brownback; Marco Rubio; Ted Cruz; Chris Smith   \n",
       "3   Marco Rubio; Ted Cruz; Josh Hawley; Tom Cotton...   \n",
       "4   Michael R. Pompeo; Peter K. Navarro; Robert C....   \n",
       "5   Reinhard Butikofer; Michael Gahler; Raphaël Gl...   \n",
       "6   David Alton; Geoffrey Nice; Helena Kennedy; Ia...   \n",
       "7          Gayle Manchin; Tony Perkins; Michael Chong   \n",
       "8                                    Jónas Haraldsson   \n",
       "9   Wilbur Louis Ross; Carolyn Bartholomew; Jonath...   \n",
       "10  Su Tseng-chang (苏贞昌); You Si-kun (游锡堃); Joseph...   \n",
       "11  Nadine Maenza; Nury Turkel; Anurima Bhargava; ...   \n",
       "12                               Agnė Vaiciukevičiūtė   \n",
       "13                                                NaN   \n",
       "14                                                NaN   \n",
       "15                                                NaN   \n",
       "16                                       Nancy Pelosi   \n",
       "17  Hsiao Bi-khim (萧美琴); Koo Li-hsiung (顾立雄); Tsai...   \n",
       "18                             Yu Maochun; Todd Stein   \n",
       "19                                                NaN   \n",
       "20  James Donald Taiclet; Frank Andrew St. John; J...   \n",
       "21                                                NaN   \n",
       "22  Sarah May Stern; John P. Walters; John Heubusc...   \n",
       "23                                                NaN   \n",
       "24                                     Michael McCaul   \n",
       "25                                                NaN   \n",
       "26                                                NaN   \n",
       "27                                                NaN   \n",
       "28                                              Japan   \n",
       "29                                                NaN   \n",
       "30                                                NaN   \n",
       "31                                                NaN   \n",
       "32                                                NaN   \n",
       "33                          Edmund Xu; Nicole Morgret   \n",
       "34                                                NaN   \n",
       "35                                                NaN   \n",
       "36                                                NaN   \n",
       "37                                                NaN   \n",
       "38                                                NaN   \n",
       "39                                     Mike Gallagher   \n",
       "40  Kathy J. Warden; Matthew Bromberg; Benjamin R....   \n",
       "41                                                NaN   \n",
       "42                                                NaN   \n",
       "43  James Donald Taiclet; Frank Andrew St. John; J...   \n",
       "44  Wahid Nawabi; Kevin McDonnell; Brian William S...   \n",
       "45                                       Jim McGovern   \n",
       "46                                                NaN   \n",
       "47                                                NaN   \n",
       "48                                                NaN   \n",
       "49                                                NaN   \n",
       "50  Steven Roger Rudder; James William Ickes II; D...   \n",
       "51                                                NaN   \n",
       "52  Barbara Borgonovi; Gerard Hueber; Charles Wood...   \n",
       "53  Clive Ansley; Geoffrey Aharon; Justine Bernatc...   \n",
       "54                                                NaN   \n",
       "55                                                NaN   \n",
       "\n",
       "                                    Targeted Entities  \\\n",
       "0   National Endowment for Democracy; National Dem...   \n",
       "1                                                 NaN   \n",
       "2   United States Congressional-Executive Commissi...   \n",
       "3                                                 NaN   \n",
       "4                                                 NaN   \n",
       "5   Political and Security Committee of the Counci...   \n",
       "6   China Research Group; Conservative Party Human...   \n",
       "7   United States Commission on International Reli...   \n",
       "8                                                 NaN   \n",
       "9                        Hong Kong Democratic Council   \n",
       "10                                                NaN   \n",
       "11                                                NaN   \n",
       "12  Ministry of Transport and Communications of Li...   \n",
       "13                                                NaN   \n",
       "14                                                NaN   \n",
       "15  Taiwan Foundation for Democracy (台湾民主基金会); Tai...   \n",
       "16                                                NaN   \n",
       "17                                                NaN   \n",
       "18                                                NaN   \n",
       "19       Lockheed Martin; Raytheon Missiles & Defense   \n",
       "20  Lockheed Martin Corporation; Raytheon Missiles...   \n",
       "21                                             Micron   \n",
       "22            Hudson Institute; Ronald Reagan Library   \n",
       "23  Prospect Foundation； Asian Pacific League for ...   \n",
       "24                                                NaN   \n",
       "25                                                NaN   \n",
       "26                                                NaN   \n",
       "27                                                NaN   \n",
       "28                                                NaN   \n",
       "29                                     Shiseido; Kosé   \n",
       "30      Lockheed Martin Corporation; Northrop Grumman   \n",
       "31                                                NaN   \n",
       "32                                                NaN   \n",
       "33                                             Kharon   \n",
       "34  BAE Systems Land and Armament; Alliant Techsys...   \n",
       "35  General Atomics Aeronautical Systems; General ...   \n",
       "36  Formosa Chemicals & Fibre Corp. (台湾化学纤维股份有限公司)...   \n",
       "37  General Atomics Aeronautical Systems; General ...   \n",
       "38                   Boeing Defense, Space & Security   \n",
       "39                                                NaN   \n",
       "40  Lockheed Martin Missiles and Fire Control; Loc...   \n",
       "41                                                NaN   \n",
       "42                                                NaN   \n",
       "43  Lockheed Martin Missile System Integration Lab...   \n",
       "44  Anduril Industries; Maritime Tactical Systems;...   \n",
       "45                                                NaN   \n",
       "46                                                NaN   \n",
       "47                                                NaN   \n",
       "48  Sierra Nevada Corporation; Stick Rudder Enterp...   \n",
       "49                                                NaN   \n",
       "50  Edge Autonomy Operations LLC; Huntington Ingal...   \n",
       "51                                                NaN   \n",
       "52  Teledyne Brown Engineering, Inc.; BRINC Drones...   \n",
       "53  Uyghur Rights Advocacy Project in Canada; Cana...   \n",
       "54  General Dynamics; L3 Harris Technologies; Inte...   \n",
       "55  Lockheed Martin Missiles and Fire Control; Loc...   \n",
       "\n",
       "                               Nationality of Targets  \\\n",
       "0                       United States (North America)   \n",
       "1                                     Sweden (Europe)   \n",
       "2                       United States (North America)   \n",
       "3                       United States (North America)   \n",
       "4                       United States (North America)   \n",
       "5   Germany (Europe); France (Europe); Bulgaria (E...   \n",
       "6                             United Kingdom (Europe)   \n",
       "7   United States (North America); Canada (North A...   \n",
       "8                                    Iceland (Europe)   \n",
       "9                       United States (North America)   \n",
       "10                                      Taiwan (Asia)   \n",
       "11                      United States (North America)   \n",
       "12                                 Lithuania (Europe)   \n",
       "13                                      Taiwan (Asia)   \n",
       "14                                      Taiwan (Asia)   \n",
       "15                                      Taiwan (Asia)   \n",
       "16                      United States (North America)   \n",
       "17                                      Taiwan (Asia)   \n",
       "18                      United States (North America)   \n",
       "19                      United States (North America)   \n",
       "20                      United States (North America)   \n",
       "21                      United States (North America)   \n",
       "22                      United States (North America)   \n",
       "23                                      Taiwan (Asia)   \n",
       "24                      United States (North America)   \n",
       "25                                                NaN   \n",
       "26                                                NaN   \n",
       "27                                                NaN   \n",
       "28                                       Japan (Asia)   \n",
       "29                                       Japan (Asia)   \n",
       "30                      United States (North America)   \n",
       "31                                                NaN   \n",
       "32                                      Taiwan (Asia)   \n",
       "33                      United States (North America)   \n",
       "34                      United States (North America)   \n",
       "35                      United States (North America)   \n",
       "36                                      Taiwan (Asia)   \n",
       "37                      United States (North America)   \n",
       "38                      United States (North America)   \n",
       "39                      United States (North America)   \n",
       "40                      United States (North America)   \n",
       "41                                                NaN   \n",
       "42                                      Taiwan (Asia)   \n",
       "43                      United States (North America)   \n",
       "44                      United States (North America)   \n",
       "45                      United States (North America)   \n",
       "46                                                NaN   \n",
       "47                                                NaN   \n",
       "48                      United States (North America)   \n",
       "49           European Union (Europe); France (Europe)   \n",
       "50                      United States (North America)   \n",
       "51                      United States (North America)   \n",
       "52                      United States (North America)   \n",
       "53                             Canada (North America)   \n",
       "54                      United States (North America)   \n",
       "55                      United States (North America)   \n",
       "\n",
       "                                               Sector  \\\n",
       "0                            Academia & Civil Society   \n",
       "1                                      Raw Materials    \n",
       "2                                       Public Sector   \n",
       "3                            Academia & Civil Society   \n",
       "4                                       Public Sector   \n",
       "5             Public Sector; Academia & Civil Society   \n",
       "6             Public Sector; Academia & Civil Society   \n",
       "7                                       Public Sector   \n",
       "8                            Academia & Civil Society   \n",
       "9             Public Sector; Academia & Civil Society   \n",
       "10                                      Public Sector   \n",
       "11            Public Sector; Academia & Civil Society   \n",
       "12                      Public Sector; Transportation   \n",
       "13                                     Raw Materials    \n",
       "14                                    Food & Beverage   \n",
       "15  Academia & Civil Society; Energy ; ICT; Health...   \n",
       "16                                      Public Sector   \n",
       "17            Public Sector; Academia & Civil Society   \n",
       "18                                      Public Sector   \n",
       "19                                            Defense   \n",
       "20                                            Defense   \n",
       "21                                    Semiconductors    \n",
       "22                           Academia & Civil Society   \n",
       "23                           Academia & Civil Society   \n",
       "24                                      Public Sector   \n",
       "25                                     Raw Materials    \n",
       "26                                             Drones   \n",
       "27                                             Drones   \n",
       "28                                    Food & Beverage   \n",
       "29                                     Consumer Goods   \n",
       "30                                            Defense   \n",
       "31                                     Raw Materials    \n",
       "32                                     Raw Materials    \n",
       "33                                            Defense   \n",
       "34                                            Defense   \n",
       "35                                    Defense; Drones   \n",
       "36                                          Chemicals   \n",
       "37                                            Defense   \n",
       "38                                            Defense   \n",
       "39                                      Public Sector   \n",
       "40                                            Defense   \n",
       "41                         Aerospace; Energy; Defense   \n",
       "42                          Chemicals; Raw Materials    \n",
       "43                                            Defense   \n",
       "44                                            Defense   \n",
       "45                                      Public Sector   \n",
       "46                                             Drones   \n",
       "47                                     Raw Materials    \n",
       "48                                            Defense   \n",
       "49                                    Food & Beverage   \n",
       "50                                            Defense   \n",
       "51                                     Raw Materials    \n",
       "52                                            Defense   \n",
       "53                           Academia & Civil Society   \n",
       "54                                            Defense   \n",
       "55                                            Defense   \n",
       "\n",
       "                          Targeted Product Categories  \\\n",
       "0                                                 NaN   \n",
       "1                                            Graphite   \n",
       "2                                                 NaN   \n",
       "3                                                 NaN   \n",
       "4                                                 NaN   \n",
       "5                                                 NaN   \n",
       "6                                                 NaN   \n",
       "7                                                 NaN   \n",
       "8                                                 NaN   \n",
       "9                                                 NaN   \n",
       "10                                                NaN   \n",
       "11                                                NaN   \n",
       "12  Lithuania's international road transport activ...   \n",
       "13                                               Sand   \n",
       "14  Citrus fruits, fresh white hairtail, frozen ho...   \n",
       "15                                                NaN   \n",
       "16                                                NaN   \n",
       "17                                                NaN   \n",
       "18                                                NaN   \n",
       "19                                                NaN   \n",
       "20                                                NaN   \n",
       "21                                                NaN   \n",
       "22                                                NaN   \n",
       "23                                                NaN   \n",
       "24                                                NaN   \n",
       "25                              Gallium and germanium   \n",
       "26  Lower-end drones – extended flight time, paylo...   \n",
       "27  High-end components – engines, advanced sensor...   \n",
       "28                                   Seafood products   \n",
       "29                                    Beauty products   \n",
       "30                                                NaN   \n",
       "31                                           Graphite   \n",
       "32  Propylene; butadiene; isoprene; mixed xylene i...   \n",
       "33                                                NaN   \n",
       "34                                                NaN   \n",
       "35                                                NaN   \n",
       "36                                      Polycarbonate   \n",
       "37                                                NaN   \n",
       "38                                                NaN   \n",
       "39                                                NaN   \n",
       "40  Missiles, missile defense, munitions, aerospac...   \n",
       "41  Aerospace manufacturing equipment and software...   \n",
       "42                                                NaN   \n",
       "43                                                NaN   \n",
       "44       Aerospace, maritime systems, defense systems   \n",
       "45                                                NaN   \n",
       "46                                                NaN   \n",
       "47                                           Antimony   \n",
       "48  Aerospace, defense transport and communication...   \n",
       "49                                             Brandy   \n",
       "50                  Ships, aerospace, defense systems   \n",
       "51  Gallium, germanium, antimony, superhard materi...   \n",
       "52         Aerospace, AI, drones, surveillance, naval   \n",
       "53                                                NaN   \n",
       "54  Missile systems; military aircraft; surveillan...   \n",
       "55  Missiles; military aircraft; aerospace R&D; sy...   \n",
       "\n",
       "                                              Comment  \\\n",
       "0                                                 NaN   \n",
       "1   The process of granting export licenses presum...   \n",
       "2   Overlap in targets with 2020-08-10 sanctions (...   \n",
       "3   Overlap in targets with 2020-07-13 sanctions (...   \n",
       "4   Only 10 out of 28 people are mentioned. The re...   \n",
       "5   Significant step (escalation) in China's forma...   \n",
       "6                                                 NaN   \n",
       "7   Imposed together with sanctions against the EU...   \n",
       "8   Likely for the Xinjiang March sanctions Icelan...   \n",
       "9                                                 NaN   \n",
       "10                                                NaN   \n",
       "11                                                NaN   \n",
       "12                                                NaN   \n",
       "13   Announcement made the day Pelosi visited Taiwan.   \n",
       "14   Announcement made the day Pelosi visited Taiwan.   \n",
       "15  Hints at extraterritoriality: \"The mainland ha...   \n",
       "16                                                NaN   \n",
       "17  Reiterates sanctions against Joseph Wu and two...   \n",
       "18                                                NaN   \n",
       "19  Is this a \"sanction\" or \"restriction on foreig...   \n",
       "20  Asks Chinese companies to carry out due dilige...   \n",
       "21  Investigation led to restriction of purchases ...   \n",
       "22                                                NaN   \n",
       "23                                                NaN   \n",
       "24                                                NaN   \n",
       "25  Introduces export license requirements for gal...   \n",
       "26  Seems designed to accomodate western accusatio...   \n",
       "27  Seems designed to accomodate western accusatio...   \n",
       "28  No evidence that the ban had something to do w...   \n",
       "29                     May be more companies targeted   \n",
       "30                                                NaN   \n",
       "31  Introduces export license requirements for gra...   \n",
       "32  Imposed ahead of Taiwanese elections. A second...   \n",
       "33                                                NaN   \n",
       "34                                                NaN   \n",
       "35                                                NaN   \n",
       "36  Investigation launch in later 2023 and results...   \n",
       "37  Step towards extraterritoriality.\\n\\nIn additi...   \n",
       "38                                                NaN   \n",
       "39                             Excludes art 5 of AFSL   \n",
       "40  Very similar in form to subsequent sanctions d...   \n",
       "41  I checked trade data for the aerospace HS code...   \n",
       "42  In response to Lai's inauguration speech in Ma...   \n",
       "43                                                NaN   \n",
       "44  Very similar to other sanctions decisions on U...   \n",
       "45                                                NaN   \n",
       "46  Consolidates and tightens frameworks No. 27 an...   \n",
       "47  Introduces export license requirements for ant...   \n",
       "48  Does not reference article 5 of the Anti-Forei...   \n",
       "49  Investigation extended to April 2025\\n\\nAnnoun...   \n",
       "50  Several media reports on impact on Skydio. \\n\\...   \n",
       "51  1. First proper export restriction since 2010?...   \n",
       "52  Very similar to other sanctions decisions on U...   \n",
       "53                                                NaN   \n",
       "54  First use of dual-use regulations and \"export ...   \n",
       "55  Suggests UEL is used for most severe violation...   \n",
       "\n",
       "                                    Full Text Chinese  \\\n",
       "0   日前，美方不顾中方坚决反对，执意将所谓“香港人权与民主法案”签署成法，这严重违反国际法和国际...   \n",
       "1                                                 NaN   \n",
       "2   　　环球时报记者：7月9日，美国国务院和财政部分别宣布根据美国内法对一家中国新疆政府机构和4...   \n",
       "3                                                 NaN   \n",
       "4   \\n外交部发言人宣布中方对蓬佩奥等人实施制裁\\n2021-01-21 01:01\\n\\n【中...   \n",
       "5   外交部发言人宣布中方对欧盟有关机构和人员实施制裁\\n2021-03-22 20:26\\n\\n...   \n",
       "6   外交部发言人宣布中方对英国有关人员和实体实施制裁\\n\\n日前，英方基于谎言和虚假信息，以所谓...   \n",
       "7   外交部发言人宣布对美国、加拿大有关人员和实体实施制裁\\n2021-03-27 21:36 来...   \n",
       "8                                                 NaN   \n",
       "9                                                 NaN   \n",
       "10  国台办：依法对苏贞昌、游锡堃、吴钊燮等极少数“台独”顽固分子实施惩戒\\n2021-11-05...   \n",
       "11                                                NaN   \n",
       "12  外交部发言人宣布中方针对立陶宛交通与通讯部副部长瓦伊丘凯维丘特实施制裁\\n2022-08-1...   \n",
       "13  商务部回应暂停天然砂对台湾地区出口\\n2022-08-03 17:02 来源：新华网\\n　　...   \n",
       "14  海关总署动植物检疫司 进出口食品安全局关于暂停台湾地区柑橘类水果和冰鲜白带鱼、冻竹荚鱼输入大...   \n",
       "15  国台办宣布对“台独”顽固分子关联机构予以惩戒\\n2022-08-03 09:06 来源：新华...   \n",
       "16  外交部发言人宣布中方对美国国会众议长佩洛西实施制裁\\n2022-08-05 16:15\\n\\...   \n",
       "17  中共中央台办发言人受权宣布对列入清单的一批“台独”顽固分子等人员实施制裁\\n2022-08-...   \n",
       "18  关于对余茂春、托德·斯坦恩采取反制裁措施的决定\\n2022-12-23 08:00\\n\\n【...   \n",
       "19  不可靠实体清单工作机制关于将洛克希德·马丁公司、雷神导弹与防务公司列入不可靠实体清单的公告\\...   \n",
       "20  商务部新闻发言人就不可靠实体清单实施有关问题答记者问\\n问：2月16日发布的不可靠实体清单公...   \n",
       "21  为保障关键信息基础设施供应链安全，防范产品问题隐患造成网络安全风险，维护国家安全，依据《中华...   \n",
       "22  关于对美国哈德逊研究所、里根图书馆及其负责人采取反制措施的决定\\n2023-04-07 10...   \n",
       "23  国台办宣布对宣扬“台独”的有关机构予以惩戒\\n2023-04-07 09:11 来源：新华网...   \n",
       "24  关于对美国反华议员迈克·麦考尔采取反制措施的决定\\n2023-04-13 17:36\\n\\n...   \n",
       "25  商务部 海关总署公告2023年第23号 关于对镓、锗相关物项实施出口管制的公告\\n【发布单位...   \n",
       "26  商务部 海关总署 国家国防科工局 中央军委装备发展部公告2023年第28号 关于对部分无人机...   \n",
       "27  商务部 海关总署 国家国防科工局 中央军委装备发展部公告2023年第27号 关于对无人机相关...   \n",
       "28  海关总署公告\\n2023年第103号\\n\\n为全面防范日本福岛核污染水排海对食品安全造成的放...   \n",
       "29                                                NaN   \n",
       "30                                                NaN   \n",
       "31  商务部 海关总署公告2023年第39号 关于优化调整石墨物项临时出口管制措施的公告\\n\\n【...   \n",
       "32  国务院关税税则委员会关于中止《海峡两岸经济合作框架协议》\\n部分产品关税减让的公告\\n发布日...   \n",
       "33                                                NaN   \n",
       "34                                                NaN   \n",
       "35  关于对美国通用原子航空系统公司、通用动力陆地系统公司采取反制措施的决定\\n2024-04-1...   \n",
       "36  商务部公告2024年第13号 关于原产于台湾地区的进口聚碳酸酯反倾销调查最终裁定的公告\\n【...   \n",
       "37  不可靠实体清单工作机制关于对通用原子航空系统公司等三家美国企业采取不可靠实体清单措施的公告\\...   \n",
       "38  不可靠实体清单工作机制关于将波音防务、空间与安全集团列入不可靠实体清单的公告\\n【发布单位】...   \n",
       "39  关于对美国国会前议员加拉格尔采取反制措施的决定\\n2024-05-21 16:30\\n\\n【...   \n",
       "40  关于对美国军工企业及高级管理人员采取反制措施的决定\\n2024-05-22 17:00\\n\\...   \n",
       "41  商务部 海关总署 中央军委装备发展部公告2024年第21号 关于对有关物项实施出口管制的公告...   \n",
       "42  国务院关税税则委员会关于中止《海峡两岸经济合作框架协议》\\n部分产品（第二批）关税减让的公告...   \n",
       "43  关于对洛克希德·马丁公司实体和高级管理人员采取反制措施的决定\\n2024-06-21 17:...   \n",
       "44  关于对美国军工企业及高级管理人员采取反制措施的决定\\n2024-07-12 18:10\\n\\...   \n",
       "45  关于对美国国会议员麦戈文采取反制措施的决定\\n2024-07-31 18:21\\n\\n【中大...   \n",
       "46  商务部 海关总署 中央军委装备发展部公告2024年第31号 关于优化调整无人机出口管制措施的...   \n",
       "47  商务部 海关总署公告2024年第33号 关于对锑等物项实施出口管制的公告\\n【发布单位】安全...   \n",
       "48  关于对美国军工企业采取反制措施的决定\\n2024-09-18 14:43\\n\\n【中大小】 ...   \n",
       "49  商务部公告2024年第42号 关于对原产于欧盟的进口相关白兰地实施临时反倾销措施的公告\\n【...   \n",
       "50  关于对美国军工企业及高级管理人员采取反制措施的决定\\n2024-10-10 17:00\\n\\...   \n",
       "51  商务部公告2024年第46号 关于加强相关两用物项对美国出口管制的公告\\n【发布单位】安全与...   \n",
       "52  \\n关于对美国军工企业及高级管理人员采取反制措施的决定\\n2024-12-05 15:00\\...   \n",
       "53  关于对加拿大机构及人员采取反制措施的决定 2024-12-21 16:50【(2024年12...   \n",
       "54  商务部公告2025年第1号 公布将28家美国实体列入出口管制管控名单\\n【发布单位】安全与管...   \n",
       "55  不可靠实体清单工作机制关于对洛克希德·马丁导弹与火控公司等10家美国企业采取不可靠实体清单措...   \n",
       "\n",
       "                                    Full Text English  \\\n",
       "0                                                 NaN   \n",
       "1                                                 NaN   \n",
       "2                                                 NaN   \n",
       "3   CCTV: On August 7, the US State Department and...   \n",
       "4   Foreign Ministry Spokesperson Announces Sancti...   \n",
       "5   Foreign Ministry Spokesperson Announces Sancti...   \n",
       "6                                                 NaN   \n",
       "7   Foreign Ministry Spokesperson Announces Sancti...   \n",
       "8                                                 NaN   \n",
       "9   Foreign Ministry Spokesperson's Remarks on Chi...   \n",
       "10                                                NaN   \n",
       "11  CCTV: On December 10, the US Department of Sta...   \n",
       "12  Foreign Ministry Spokesperson Announces China’...   \n",
       "13                                                NaN   \n",
       "14                                                NaN   \n",
       "15                                                NaN   \n",
       "16                                                NaN   \n",
       "17                                                NaN   \n",
       "18                                                NaN   \n",
       "19                                                NaN   \n",
       "20                                                NaN   \n",
       "21                                                NaN   \n",
       "22                                                NaN   \n",
       "23                                                NaN   \n",
       "24                                                NaN   \n",
       "25                                                NaN   \n",
       "26                                                NaN   \n",
       "27                                                NaN   \n",
       "28                                                NaN   \n",
       "29                                                NaN   \n",
       "30  China Daily: Lately the US has provided advanc...   \n",
       "31                                                NaN   \n",
       "32                                                NaN   \n",
       "33  Xinhua News Agency: The US issued an annual hu...   \n",
       "34  Foreign Ministry Spokesperson’s Remarks on Cou...   \n",
       "35                                                NaN   \n",
       "36                                                NaN   \n",
       "37                                                NaN   \n",
       "38                                                NaN   \n",
       "39                                                NaN   \n",
       "40  Decision on Taking Countermeasures Against\\nU....   \n",
       "41                                                NaN   \n",
       "42                                                NaN   \n",
       "43                                                NaN   \n",
       "44  Decision on Taking Countermeasures Against U.S...   \n",
       "45                                                NaN   \n",
       "46                                                NaN   \n",
       "47                                                NaN   \n",
       "48  Decision on Taking Countermeasures Against U.S...   \n",
       "49                                                NaN   \n",
       "50  Decision on Taking Countermeasures Against U.S...   \n",
       "51  Ministry of Commerce Notice 2024 No. 46: Notic...   \n",
       "52  Decision on Taking Countermeasures Against U.S...   \n",
       "53  Decision on taking countermeasures against Can...   \n",
       "54                                                NaN   \n",
       "55                                                NaN   \n",
       "\n",
       "                                           Link  \\\n",
       "0                       Full Text Chinese (MFA)   \n",
       "1                           European Commission   \n",
       "2                       Full Text Chinese (MFA)   \n",
       "3                       Full Text English (MFA)   \n",
       "4                       Full Text English (MFA)   \n",
       "5                       Full Text Chinese (MFA)   \n",
       "6                       Full Text Chinese (MFA)   \n",
       "7                       Full Text Chinese (MFA)   \n",
       "8                         Reporting (Icelandic)   \n",
       "9                       Full Text English (MFA)   \n",
       "10    Full Text Chinese (Taiwan Affairs Office)   \n",
       "11                      Full Text English (MFA)   \n",
       "12                      Full Text Chinese (MFA)   \n",
       "13                   Full Text Chinese (MOFCOM)   \n",
       "14                  Full Text Chinese (Customs)   \n",
       "15    Full Text Chinese (Taiwan Affairs Office)   \n",
       "16                      Full Text Chinese (MFA)   \n",
       "17    Full Text Chinese (Taiwan Affairs Office)   \n",
       "18                      Full Text Chinese (MFA)   \n",
       "19                   Full Text Chinese (MOFCOM)   \n",
       "20                   Full Text Chinese (MOFCOM)   \n",
       "21  Full Text Chinese Investgation Launch (CAC)   \n",
       "22                      Full Text Chinese (MFA)   \n",
       "23    Full Text Chinese (Taiwan Affairs Office)   \n",
       "24                      Full Text Chinese (MFA)   \n",
       "25                   Full Text Chinese (MOFCOM)   \n",
       "26                   Full Text Chinese (MOFCOM)   \n",
       "27                   Full Text Chinese (MOFCOM)   \n",
       "28                  Full Text Chinese (Customs)   \n",
       "29                               Reporting (FT)   \n",
       "30                      Full Text Chinese (MFA)   \n",
       "31                   Full Text Chinese (MOFCOM)   \n",
       "32      Full Text Chinese (Ministry of Finance)   \n",
       "33                      Full Text Chinese (MFA)   \n",
       "34                      Full Text Chinese (MFA)   \n",
       "35                      Full Text Chinese (MFA)   \n",
       "36                   Full Text Chinese (MOFCOM)   \n",
       "37                   Full Text Chinese (MOFCOM)   \n",
       "38                   Full Text Chinese (MOFCOM)   \n",
       "39                      Full Text Chinese (MFA)   \n",
       "40                      Full Text Chinese (MFA)   \n",
       "41                   Full Text Chinese (MOFCOM)   \n",
       "42      Full Text Chinese (Ministry of Finance)   \n",
       "43                      Full Text Chinese (MFA)   \n",
       "44                      Full Text Chinese (MFA)   \n",
       "45                      Full Text Chinese (MFA)   \n",
       "46                   Full Text Chinese (MOFCOM)   \n",
       "47                   Full Text Chinese (MOFCOM)   \n",
       "48                      Full Text Chinese (MFA)   \n",
       "49           Full Text Chinese (MOFCOM, Nov 11)   \n",
       "50                      Full Text Chinese (MFA)   \n",
       "51                   Full Text Chinese (MOFCOM)   \n",
       "52                      Full Text Chinese (MFA)   \n",
       "53                      Full Text Chinese (MFA)   \n",
       "54                   Full Text Chinese (MOFCOM)   \n",
       "55                   Full Text Chinese (MOFCOM)   \n",
       "\n",
       "                                          Link2  \\\n",
       "0                                           NaN   \n",
       "1         Investigation by Swedish Public Radio   \n",
       "2                                           NaN   \n",
       "3                                           NaN   \n",
       "4                       Full Text Chinese (MFA)   \n",
       "5                       Full Text English (MFA)   \n",
       "6                                           NaN   \n",
       "7                       Full Text English (MFA)   \n",
       "8                         Reporting (Icelandic)   \n",
       "9                                           NaN   \n",
       "10                                          NaN   \n",
       "11                                          NaN   \n",
       "12                                          NaN   \n",
       "13                                          NaN   \n",
       "14                                          NaN   \n",
       "15                                          NaN   \n",
       "16                                          NaN   \n",
       "17                                          NaN   \n",
       "18                                          NaN   \n",
       "19                                          NaN   \n",
       "20                                          NaN   \n",
       "21  Full Text Chinese Investgation Result (CAC)   \n",
       "22                                          NaN   \n",
       "23                                          NaN   \n",
       "24                                          NaN   \n",
       "25                              Analysis (PIIE)   \n",
       "26                      Analysis (Geopolitechs)   \n",
       "27                      Analysis (Geopolitechs)   \n",
       "28                      Full Text English (MFA)   \n",
       "29                                          NaN   \n",
       "30                                          NaN   \n",
       "31                              Analysis (PIIE)   \n",
       "32                       Investigation (MOFCOM)   \n",
       "33                                          NaN   \n",
       "34                                          NaN   \n",
       "35                                          NaN   \n",
       "36                                          NaN   \n",
       "37                                          NaN   \n",
       "38                                          NaN   \n",
       "39                                          NaN   \n",
       "40                      Full Text English (MFA)   \n",
       "41                                          NaN   \n",
       "42                       Investigation (MOFCOM)   \n",
       "43                                          NaN   \n",
       "44                      Full Text English (MFA)   \n",
       "45                                          NaN   \n",
       "46                       Press Release (Xinhua)   \n",
       "47                              Analysis (CSIS)   \n",
       "48                      Full Text English (MFA)   \n",
       "49             Full Text Chinese (MOFCOM Oct 8)   \n",
       "50                      Full Text English (MFA)   \n",
       "51                              Reporting (NYT)   \n",
       "52                      Full Text English (MFA)   \n",
       "53                                          NaN   \n",
       "54           Q&A \"Export Control List\" (MOFCOM)   \n",
       "55                          Q&A on UEL (MOFCOM)   \n",
       "\n",
       "                                  Link3               Link 4  Link 5  \n",
       "0                                   NaN                  NaN     NaN  \n",
       "1                                   NaN                  NaN     NaN  \n",
       "2                                   NaN                  NaN     NaN  \n",
       "3                                   NaN                  NaN     NaN  \n",
       "4                                   NaN                  NaN     NaN  \n",
       "5                                   NaN                  NaN     NaN  \n",
       "6                                   NaN                  NaN     NaN  \n",
       "7                                   NaN                  NaN     NaN  \n",
       "8                                   NaN                  NaN     NaN  \n",
       "9                                   NaN                  NaN     NaN  \n",
       "10                                  NaN                  NaN     NaN  \n",
       "11                                  NaN                  NaN     NaN  \n",
       "12                                  NaN                  NaN     NaN  \n",
       "13                                  NaN                  NaN     NaN  \n",
       "14                                  NaN                  NaN     NaN  \n",
       "15                                  NaN                  NaN     NaN  \n",
       "16                                  NaN                  NaN     NaN  \n",
       "17                                  NaN                  NaN     NaN  \n",
       "18                                  NaN                  NaN     NaN  \n",
       "19                                  NaN                  NaN     NaN  \n",
       "20                                  NaN                  NaN     NaN  \n",
       "21                                  NaN                  NaN     NaN  \n",
       "22                                  NaN                  NaN     NaN  \n",
       "23                                  NaN                  NaN     NaN  \n",
       "24                                  NaN                  NaN     NaN  \n",
       "25                      Analysis (IFRI)                  NaN     NaN  \n",
       "26                  Reporting (Reuters)                  NaN     NaN  \n",
       "27                  Reporting (Reuters)                  NaN     NaN  \n",
       "28           Analysis (The Interpreter)                  NaN     NaN  \n",
       "29                                  NaN                  NaN     NaN  \n",
       "30                                  NaN                  NaN     NaN  \n",
       "31                                  NaN                  NaN     NaN  \n",
       "32                                  NaN                  NaN     NaN  \n",
       "33                                  NaN                  NaN     NaN  \n",
       "34                                  NaN                  NaN     NaN  \n",
       "35                                  NaN                  NaN     NaN  \n",
       "36                                  NaN                  NaN     NaN  \n",
       "37                                  NaN                  NaN     NaN  \n",
       "38                                  NaN                  NaN     NaN  \n",
       "39                                  NaN                  NaN     NaN  \n",
       "40                                  NaN                  NaN     NaN  \n",
       "41                                  NaN                  NaN     NaN  \n",
       "42                  Reporting (Reuters)                  NaN     NaN  \n",
       "43                                  NaN                  NaN     NaN  \n",
       "44                                  NaN                  NaN     NaN  \n",
       "45                                  NaN                  NaN     NaN  \n",
       "46                                  NaN                  NaN     NaN  \n",
       "47                  Reporting (Reuters)                  NaN     NaN  \n",
       "48                                  NaN                  NaN     NaN  \n",
       "49  Extension of Investigation (MOFCOM)  Reporting (Reuters)     NaN  \n",
       "50                     Skydio Statement                  NaN     NaN  \n",
       "51                                  NaN                  NaN     NaN  \n",
       "52                                  NaN                  NaN     NaN  \n",
       "53                                  NaN                  NaN     NaN  \n",
       "54              Analysis (Geopolitechs)                  NaN     NaN  \n",
       "55              Analysis (Geopolitechs)                  NaN     NaN  "
      ]
     },
     "execution_count": 2,
     "metadata": {},
     "output_type": "execute_result"
    }
   ],
   "source": [
    "df = df.dropna(subset=['Title'])\n",
    "df"
   ]
  },
  {
   "cell_type": "code",
   "execution_count": 8,
   "metadata": {},
   "outputs": [
    {
     "data": {
      "text/plain": [
       "['Academia & Civil Society',\n",
       " 'Raw Materials',\n",
       " 'Public Sector',\n",
       " 'Academia & Civil Society',\n",
       " 'Transportation',\n",
       " 'Food & Beverage',\n",
       " 'Energy',\n",
       " 'ICT',\n",
       " 'Health',\n",
       " 'Other Electronics',\n",
       " 'Defense',\n",
       " 'Semiconductors',\n",
       " 'Drones',\n",
       " 'Consumer Goods',\n",
       " 'Drones',\n",
       " 'Chemicals',\n",
       " 'Aerospace',\n",
       " 'Energy',\n",
       " 'Defense',\n",
       " 'Raw Materials']"
      ]
     },
     "execution_count": 8,
     "metadata": {},
     "output_type": "execute_result"
    }
   ],
   "source": [
    "[e.strip() for e in df['Sector'].str.split(';').explode().unique()]"
   ]
  },
  {
   "cell_type": "markdown",
   "metadata": {},
   "source": [
    "# Tab 1\n",
    "\n",
    "* Sunburst chart\n",
    "* Or treemap chart"
   ]
  },
  {
   "cell_type": "code",
   "execution_count": 6,
   "metadata": {},
   "outputs": [
    {
     "name": "stderr",
     "output_type": "stream",
     "text": [
      "/var/folders/l_/b5wczsf55z9dmf_dzr3vw6ph0000gr/T/ipykernel_48932/3327934380.py:2: SettingWithCopyWarning: \n",
      "A value is trying to be set on a copy of a slice from a DataFrame.\n",
      "Try using .loc[row_indexer,col_indexer] = value instead\n",
      "\n",
      "See the caveats in the documentation: https://pandas.pydata.org/pandas-docs/stable/user_guide/indexing.html#returning-a-view-versus-a-copy\n",
      "  df_national['Year'] = df_national['Start Date'].dt.year.astype(int)\n"
     ]
    },
    {
     "data": {
      "text/html": [
       "<div>\n",
       "<style scoped>\n",
       "    .dataframe tbody tr th:only-of-type {\n",
       "        vertical-align: middle;\n",
       "    }\n",
       "\n",
       "    .dataframe tbody tr th {\n",
       "        vertical-align: top;\n",
       "    }\n",
       "\n",
       "    .dataframe thead th {\n",
       "        text-align: right;\n",
       "    }\n",
       "</style>\n",
       "<table border=\"1\" class=\"dataframe\">\n",
       "  <thead>\n",
       "    <tr style=\"text-align: right;\">\n",
       "      <th></th>\n",
       "      <th>Start Date</th>\n",
       "      <th>Title</th>\n",
       "      <th>Form of Restriction</th>\n",
       "      <th>Restriction Quotes</th>\n",
       "      <th>Mechanism</th>\n",
       "      <th>Formality</th>\n",
       "      <th>Legal Basis</th>\n",
       "      <th>Targeted Individuals</th>\n",
       "      <th>Targeted Entities</th>\n",
       "      <th>Nationality of Targets</th>\n",
       "      <th>...</th>\n",
       "      <th>Targeted Product Categories</th>\n",
       "      <th>Comment</th>\n",
       "      <th>Full Text Chinese</th>\n",
       "      <th>Full Text English</th>\n",
       "      <th>Link</th>\n",
       "      <th>Link2</th>\n",
       "      <th>Link3</th>\n",
       "      <th>Link 4</th>\n",
       "      <th>Link 5</th>\n",
       "      <th>Year</th>\n",
       "    </tr>\n",
       "  </thead>\n",
       "  <tbody>\n",
       "    <tr>\n",
       "      <th>0</th>\n",
       "      <td>2019-12-02</td>\n",
       "      <td>Sanctions on NGOs in response to the US \"Hong ...</td>\n",
       "      <td>Targeted Sanction</td>\n",
       "      <td>the Chinese government has decided to suspend ...</td>\n",
       "      <td>Formal</td>\n",
       "      <td>Formal</td>\n",
       "      <td>NaN</td>\n",
       "      <td>NaN</td>\n",
       "      <td>National Endowment for Democracy; National Dem...</td>\n",
       "      <td>United States (North America)</td>\n",
       "      <td>...</td>\n",
       "      <td>NaN</td>\n",
       "      <td>NaN</td>\n",
       "      <td>日前，美方不顾中方坚决反对，执意将所谓“香港人权与民主法案”签署成法，这严重违反国际法和国际...</td>\n",
       "      <td>NaN</td>\n",
       "      <td>Full Text Chinese (MFA)</td>\n",
       "      <td>NaN</td>\n",
       "      <td>NaN</td>\n",
       "      <td>NaN</td>\n",
       "      <td>NaN</td>\n",
       "      <td>2019</td>\n",
       "    </tr>\n",
       "    <tr>\n",
       "      <th>1</th>\n",
       "      <td>2020-01-01</td>\n",
       "      <td>Cessation of Licenses to Export Graphite to Sw...</td>\n",
       "      <td>Export Control</td>\n",
       "      <td>Undefined</td>\n",
       "      <td>Bureaucratic Obstruction</td>\n",
       "      <td>Informal</td>\n",
       "      <td>NaN</td>\n",
       "      <td>NaN</td>\n",
       "      <td>NaN</td>\n",
       "      <td>Sweden (Europe)</td>\n",
       "      <td>...</td>\n",
       "      <td>Graphite</td>\n",
       "      <td>The process of granting export licenses presum...</td>\n",
       "      <td>NaN</td>\n",
       "      <td>NaN</td>\n",
       "      <td>European Commission</td>\n",
       "      <td>Investigation by Swedish Public Radio</td>\n",
       "      <td>NaN</td>\n",
       "      <td>NaN</td>\n",
       "      <td>NaN</td>\n",
       "      <td>2020</td>\n",
       "    </tr>\n",
       "    <tr>\n",
       "      <th>2</th>\n",
       "      <td>2020-07-13</td>\n",
       "      <td>Sanctions in response to the US imposition of ...</td>\n",
       "      <td>Targeted Sanction</td>\n",
       "      <td>China has decided to impose corresponding sanc...</td>\n",
       "      <td>Formal</td>\n",
       "      <td>Formal</td>\n",
       "      <td>NaN</td>\n",
       "      <td>Sam Brownback; Marco Rubio; Ted Cruz; Chris Smith</td>\n",
       "      <td>United States Congressional-Executive Commissi...</td>\n",
       "      <td>United States (North America)</td>\n",
       "      <td>...</td>\n",
       "      <td>NaN</td>\n",
       "      <td>Overlap in targets with 2020-08-10 sanctions (...</td>\n",
       "      <td>环球时报记者：7月9日，美国国务院和财政部分别宣布根据美国内法对一家中国新疆政府机构和4...</td>\n",
       "      <td>NaN</td>\n",
       "      <td>Full Text Chinese (MFA)</td>\n",
       "      <td>NaN</td>\n",
       "      <td>NaN</td>\n",
       "      <td>NaN</td>\n",
       "      <td>NaN</td>\n",
       "      <td>2020</td>\n",
       "    </tr>\n",
       "    <tr>\n",
       "      <th>3</th>\n",
       "      <td>2020-08-10</td>\n",
       "      <td>Sanctions in response to the US imposition of ...</td>\n",
       "      <td>Targeted Sanction</td>\n",
       "      <td>China has decided to impose sanctions on the f...</td>\n",
       "      <td>Formal</td>\n",
       "      <td>Formal</td>\n",
       "      <td>NaN</td>\n",
       "      <td>Marco Rubio; Ted Cruz; Josh Hawley; Tom Cotton...</td>\n",
       "      <td>NaN</td>\n",
       "      <td>United States (North America)</td>\n",
       "      <td>...</td>\n",
       "      <td>NaN</td>\n",
       "      <td>Overlap in targets with 2020-07-13 sanctions (...</td>\n",
       "      <td>NaN</td>\n",
       "      <td>CCTV: On August 7, the US State Department and...</td>\n",
       "      <td>Full Text English (MFA)</td>\n",
       "      <td>NaN</td>\n",
       "      <td>NaN</td>\n",
       "      <td>NaN</td>\n",
       "      <td>NaN</td>\n",
       "      <td>2020</td>\n",
       "    </tr>\n",
       "    <tr>\n",
       "      <th>4</th>\n",
       "      <td>2021-01-21</td>\n",
       "      <td>Foreign Ministry Spokesperson Announces Sancti...</td>\n",
       "      <td>Targeted Sanction</td>\n",
       "      <td>China has decided to sanction 28 persons who h...</td>\n",
       "      <td>Formal</td>\n",
       "      <td>Formal</td>\n",
       "      <td>NaN</td>\n",
       "      <td>Michael R. Pompeo; Peter K. Navarro; Robert C....</td>\n",
       "      <td>NaN</td>\n",
       "      <td>United States (North America)</td>\n",
       "      <td>...</td>\n",
       "      <td>NaN</td>\n",
       "      <td>Only 10 out of 28 people are mentioned. The re...</td>\n",
       "      <td>\\n外交部发言人宣布中方对蓬佩奥等人实施制裁\\n2021-01-21 01:01\\n\\n【中...</td>\n",
       "      <td>Foreign Ministry Spokesperson Announces Sancti...</td>\n",
       "      <td>Full Text English (MFA)</td>\n",
       "      <td>Full Text Chinese (MFA)</td>\n",
       "      <td>NaN</td>\n",
       "      <td>NaN</td>\n",
       "      <td>NaN</td>\n",
       "      <td>2021</td>\n",
       "    </tr>\n",
       "    <tr>\n",
       "      <th>5</th>\n",
       "      <td>2021-03-22</td>\n",
       "      <td>Foreign Ministry Spokesperson Announces Sancti...</td>\n",
       "      <td>Targeted Sanction</td>\n",
       "      <td>Individuals concerned and their families are p...</td>\n",
       "      <td>Formal</td>\n",
       "      <td>Formal</td>\n",
       "      <td>NaN</td>\n",
       "      <td>Reinhard Butikofer; Michael Gahler; Raphaël Gl...</td>\n",
       "      <td>Political and Security Committee of the Counci...</td>\n",
       "      <td>Germany (Europe); France (Europe); Bulgaria (E...</td>\n",
       "      <td>...</td>\n",
       "      <td>NaN</td>\n",
       "      <td>Significant step (escalation) in China's forma...</td>\n",
       "      <td>外交部发言人宣布中方对欧盟有关机构和人员实施制裁\\n2021-03-22 20:26\\n\\n...</td>\n",
       "      <td>Foreign Ministry Spokesperson Announces Sancti...</td>\n",
       "      <td>Full Text Chinese (MFA)</td>\n",
       "      <td>Full Text English (MFA)</td>\n",
       "      <td>NaN</td>\n",
       "      <td>NaN</td>\n",
       "      <td>NaN</td>\n",
       "      <td>2021</td>\n",
       "    </tr>\n",
       "    <tr>\n",
       "      <th>6</th>\n",
       "      <td>2021-03-26</td>\n",
       "      <td>Foreign Ministry Spokesperson: China imposes s...</td>\n",
       "      <td>Targeted Sanction</td>\n",
       "      <td>China has decided to impose sanctions on nine ...</td>\n",
       "      <td>Formal</td>\n",
       "      <td>Formal</td>\n",
       "      <td>NaN</td>\n",
       "      <td>David Alton; Geoffrey Nice; Helena Kennedy; Ia...</td>\n",
       "      <td>China Research Group; Conservative Party Human...</td>\n",
       "      <td>United Kingdom (Europe)</td>\n",
       "      <td>...</td>\n",
       "      <td>NaN</td>\n",
       "      <td>NaN</td>\n",
       "      <td>外交部发言人宣布中方对英国有关人员和实体实施制裁\\n\\n日前，英方基于谎言和虚假信息，以所谓...</td>\n",
       "      <td>NaN</td>\n",
       "      <td>Full Text Chinese (MFA)</td>\n",
       "      <td>NaN</td>\n",
       "      <td>NaN</td>\n",
       "      <td>NaN</td>\n",
       "      <td>NaN</td>\n",
       "      <td>2021</td>\n",
       "    </tr>\n",
       "    <tr>\n",
       "      <th>7</th>\n",
       "      <td>2021-03-27</td>\n",
       "      <td>Foreign Ministry Spokesperson\\nAnnounces Sanct...</td>\n",
       "      <td>Targeted Sanction</td>\n",
       "      <td>prohibiting the above-mentioned individuals fr...</td>\n",
       "      <td>Formal</td>\n",
       "      <td>Formal</td>\n",
       "      <td>NaN</td>\n",
       "      <td>Gayle Manchin; Tony Perkins; Michael Chong</td>\n",
       "      <td>United States Commission on International Reli...</td>\n",
       "      <td>United States (North America); Canada (North A...</td>\n",
       "      <td>...</td>\n",
       "      <td>NaN</td>\n",
       "      <td>Imposed together with sanctions against the EU...</td>\n",
       "      <td>外交部发言人宣布对美国、加拿大有关人员和实体实施制裁\\n2021-03-27 21:36 来...</td>\n",
       "      <td>Foreign Ministry Spokesperson Announces Sancti...</td>\n",
       "      <td>Full Text Chinese (MFA)</td>\n",
       "      <td>Full Text English (MFA)</td>\n",
       "      <td>NaN</td>\n",
       "      <td>NaN</td>\n",
       "      <td>NaN</td>\n",
       "      <td>2021</td>\n",
       "    </tr>\n",
       "    <tr>\n",
       "      <th>8</th>\n",
       "      <td>2021-04-14</td>\n",
       "      <td>Icelandic pensioner placed on Chinese blacklist</td>\n",
       "      <td>Targeted Sanction</td>\n",
       "      <td>An Icelandic man, who works as a lawyer and ha...</td>\n",
       "      <td>Formal</td>\n",
       "      <td>Formal</td>\n",
       "      <td>NaN</td>\n",
       "      <td>Jónas Haraldsson</td>\n",
       "      <td>NaN</td>\n",
       "      <td>Iceland (Europe)</td>\n",
       "      <td>...</td>\n",
       "      <td>NaN</td>\n",
       "      <td>Likely for the Xinjiang March sanctions Icelan...</td>\n",
       "      <td>NaN</td>\n",
       "      <td>NaN</td>\n",
       "      <td>Reporting (Icelandic)</td>\n",
       "      <td>Reporting (Icelandic)</td>\n",
       "      <td>NaN</td>\n",
       "      <td>NaN</td>\n",
       "      <td>NaN</td>\n",
       "      <td>2021</td>\n",
       "    </tr>\n",
       "    <tr>\n",
       "      <th>9</th>\n",
       "      <td>2021-07-23</td>\n",
       "      <td>Foreign Ministry Spokesperson's Remarks on Chi...</td>\n",
       "      <td>Targeted Sanction</td>\n",
       "      <td>China has decided to take reciprocal counterme...</td>\n",
       "      <td>Formal</td>\n",
       "      <td>Formal</td>\n",
       "      <td>Anti-Foreign Sanctions Law</td>\n",
       "      <td>Wilbur Louis Ross; Carolyn Bartholomew; Jonath...</td>\n",
       "      <td>Hong Kong Democratic Council</td>\n",
       "      <td>United States (North America)</td>\n",
       "      <td>...</td>\n",
       "      <td>NaN</td>\n",
       "      <td>NaN</td>\n",
       "      <td>NaN</td>\n",
       "      <td>Foreign Ministry Spokesperson's Remarks on Chi...</td>\n",
       "      <td>Full Text English (MFA)</td>\n",
       "      <td>NaN</td>\n",
       "      <td>NaN</td>\n",
       "      <td>NaN</td>\n",
       "      <td>NaN</td>\n",
       "      <td>2021</td>\n",
       "    </tr>\n",
       "    <tr>\n",
       "      <th>10</th>\n",
       "      <td>2021-11-05</td>\n",
       "      <td>Punitive Measures Imposed on Staunch \"Taiwan I...</td>\n",
       "      <td>Targeted Sanction</td>\n",
       "      <td>The mainland will punish the above-mentioned \"...</td>\n",
       "      <td>Formal</td>\n",
       "      <td>Formal</td>\n",
       "      <td>NaN</td>\n",
       "      <td>Su Tseng-chang (苏贞昌); You Si-kun (游锡堃); Joseph...</td>\n",
       "      <td>NaN</td>\n",
       "      <td>Taiwan (Asia)</td>\n",
       "      <td>...</td>\n",
       "      <td>NaN</td>\n",
       "      <td>NaN</td>\n",
       "      <td>国台办：依法对苏贞昌、游锡堃、吴钊燮等极少数“台独”顽固分子实施惩戒\\n2021-11-05...</td>\n",
       "      <td>NaN</td>\n",
       "      <td>Full Text Chinese (Taiwan Affairs Office)</td>\n",
       "      <td>NaN</td>\n",
       "      <td>NaN</td>\n",
       "      <td>NaN</td>\n",
       "      <td>NaN</td>\n",
       "      <td>2021</td>\n",
       "    </tr>\n",
       "    <tr>\n",
       "      <th>11</th>\n",
       "      <td>2021-12-21</td>\n",
       "      <td>Sanctions on Officials of the United States Co...</td>\n",
       "      <td>Targeted Sanction</td>\n",
       "      <td>China has decided to take reciprocal counterme...</td>\n",
       "      <td>Formal</td>\n",
       "      <td>Formal</td>\n",
       "      <td>Anti-Foreign Sanctions Law</td>\n",
       "      <td>Nadine Maenza; Nury Turkel; Anurima Bhargava; ...</td>\n",
       "      <td>NaN</td>\n",
       "      <td>United States (North America)</td>\n",
       "      <td>...</td>\n",
       "      <td>NaN</td>\n",
       "      <td>NaN</td>\n",
       "      <td>NaN</td>\n",
       "      <td>CCTV: On December 10, the US Department of Sta...</td>\n",
       "      <td>Full Text English (MFA)</td>\n",
       "      <td>NaN</td>\n",
       "      <td>NaN</td>\n",
       "      <td>NaN</td>\n",
       "      <td>NaN</td>\n",
       "      <td>2021</td>\n",
       "    </tr>\n",
       "    <tr>\n",
       "      <th>12</th>\n",
       "      <td>2022-08-01</td>\n",
       "      <td>Foreign Ministry Spokesperson Announces China'...</td>\n",
       "      <td>Targeted Sanction</td>\n",
       "      <td>China decides to adopt sanctions on Vaiciukevi...</td>\n",
       "      <td>Formal</td>\n",
       "      <td>Formal</td>\n",
       "      <td>NaN</td>\n",
       "      <td>Agnė Vaiciukevičiūtė</td>\n",
       "      <td>Ministry of Transport and Communications of Li...</td>\n",
       "      <td>Lithuania (Europe)</td>\n",
       "      <td>...</td>\n",
       "      <td>Lithuania's international road transport activ...</td>\n",
       "      <td>NaN</td>\n",
       "      <td>外交部发言人宣布中方针对立陶宛交通与通讯部副部长瓦伊丘凯维丘特实施制裁\\n2022-08-1...</td>\n",
       "      <td>Foreign Ministry Spokesperson Announces China’...</td>\n",
       "      <td>Full Text Chinese (MFA)</td>\n",
       "      <td>NaN</td>\n",
       "      <td>NaN</td>\n",
       "      <td>NaN</td>\n",
       "      <td>NaN</td>\n",
       "      <td>2022</td>\n",
       "    </tr>\n",
       "    <tr>\n",
       "      <th>13</th>\n",
       "      <td>2022-08-03</td>\n",
       "      <td>Suspension of natural sand exports to Taiwan f...</td>\n",
       "      <td>Export Control</td>\n",
       "      <td>The Ministry of Commerce (MOC) has decided to ...</td>\n",
       "      <td>Conversion</td>\n",
       "      <td>Informal</td>\n",
       "      <td>\"relevant laws and regulations\"</td>\n",
       "      <td>NaN</td>\n",
       "      <td>NaN</td>\n",
       "      <td>Taiwan (Asia)</td>\n",
       "      <td>...</td>\n",
       "      <td>Sand</td>\n",
       "      <td>Announcement made the day Pelosi visited Taiwan.</td>\n",
       "      <td>商务部回应暂停天然砂对台湾地区出口\\n2022-08-03 17:02 来源：新华网\\n　　...</td>\n",
       "      <td>NaN</td>\n",
       "      <td>Full Text Chinese (MOFCOM)</td>\n",
       "      <td>NaN</td>\n",
       "      <td>NaN</td>\n",
       "      <td>NaN</td>\n",
       "      <td>NaN</td>\n",
       "      <td>2022</td>\n",
       "    </tr>\n",
       "    <tr>\n",
       "      <th>14</th>\n",
       "      <td>2022-08-03</td>\n",
       "      <td>Suspension of the import of citrus fruits, fre...</td>\n",
       "      <td>Import Restriction</td>\n",
       "      <td>Since last year, mainland customs has repeated...</td>\n",
       "      <td>Conversion</td>\n",
       "      <td>Informal</td>\n",
       "      <td>\"in accordance with relevant mainland laws, re...</td>\n",
       "      <td>NaN</td>\n",
       "      <td>NaN</td>\n",
       "      <td>Taiwan (Asia)</td>\n",
       "      <td>...</td>\n",
       "      <td>Citrus fruits, fresh white hairtail, frozen ho...</td>\n",
       "      <td>Announcement made the day Pelosi visited Taiwan.</td>\n",
       "      <td>海关总署动植物检疫司 进出口食品安全局关于暂停台湾地区柑橘类水果和冰鲜白带鱼、冻竹荚鱼输入大...</td>\n",
       "      <td>NaN</td>\n",
       "      <td>Full Text Chinese (Customs)</td>\n",
       "      <td>NaN</td>\n",
       "      <td>NaN</td>\n",
       "      <td>NaN</td>\n",
       "      <td>NaN</td>\n",
       "      <td>2022</td>\n",
       "    </tr>\n",
       "    <tr>\n",
       "      <th>15</th>\n",
       "      <td>2022-08-03</td>\n",
       "      <td>Taiwan Affairs Office Announces Sanctions on I...</td>\n",
       "      <td>Targeted Sanction</td>\n",
       "      <td>The mainland has decided to take disciplinary ...</td>\n",
       "      <td>Formal</td>\n",
       "      <td>Formal</td>\n",
       "      <td>NaN</td>\n",
       "      <td>NaN</td>\n",
       "      <td>Taiwan Foundation for Democracy (台湾民主基金会); Tai...</td>\n",
       "      <td>Taiwan (Asia)</td>\n",
       "      <td>...</td>\n",
       "      <td>NaN</td>\n",
       "      <td>Hints at extraterritoriality: \"The mainland ha...</td>\n",
       "      <td>国台办宣布对“台独”顽固分子关联机构予以惩戒\\n2022-08-03 09:06 来源：新华...</td>\n",
       "      <td>NaN</td>\n",
       "      <td>Full Text Chinese (Taiwan Affairs Office)</td>\n",
       "      <td>NaN</td>\n",
       "      <td>NaN</td>\n",
       "      <td>NaN</td>\n",
       "      <td>NaN</td>\n",
       "      <td>2022</td>\n",
       "    </tr>\n",
       "    <tr>\n",
       "      <th>16</th>\n",
       "      <td>2022-08-05</td>\n",
       "      <td>Foreign Ministry Spokesperson Announces China'...</td>\n",
       "      <td>Targeted Sanction</td>\n",
       "      <td>In response to Pelosi's vile provocative behav...</td>\n",
       "      <td>Formal</td>\n",
       "      <td>Formal</td>\n",
       "      <td>\"in accordance with the relevant laws\"</td>\n",
       "      <td>Nancy Pelosi</td>\n",
       "      <td>NaN</td>\n",
       "      <td>United States (North America)</td>\n",
       "      <td>...</td>\n",
       "      <td>NaN</td>\n",
       "      <td>NaN</td>\n",
       "      <td>外交部发言人宣布中方对美国国会众议长佩洛西实施制裁\\n2022-08-05 16:15\\n\\...</td>\n",
       "      <td>NaN</td>\n",
       "      <td>Full Text Chinese (MFA)</td>\n",
       "      <td>NaN</td>\n",
       "      <td>NaN</td>\n",
       "      <td>NaN</td>\n",
       "      <td>NaN</td>\n",
       "      <td>2022</td>\n",
       "    </tr>\n",
       "    <tr>\n",
       "      <th>17</th>\n",
       "      <td>2022-08-16</td>\n",
       "      <td>Taiwan Affairs Office Announces Sanctions on S...</td>\n",
       "      <td>Targeted Sanction</td>\n",
       "      <td>The spokesperson said that in order to safegua...</td>\n",
       "      <td>Formal</td>\n",
       "      <td>Formal</td>\n",
       "      <td>NaN</td>\n",
       "      <td>Hsiao Bi-khim (萧美琴); Koo Li-hsiung (顾立雄); Tsai...</td>\n",
       "      <td>NaN</td>\n",
       "      <td>Taiwan (Asia)</td>\n",
       "      <td>...</td>\n",
       "      <td>NaN</td>\n",
       "      <td>Reiterates sanctions against Joseph Wu and two...</td>\n",
       "      <td>中共中央台办发言人受权宣布对列入清单的一批“台独”顽固分子等人员实施制裁\\n2022-08-...</td>\n",
       "      <td>NaN</td>\n",
       "      <td>Full Text Chinese (Taiwan Affairs Office)</td>\n",
       "      <td>NaN</td>\n",
       "      <td>NaN</td>\n",
       "      <td>NaN</td>\n",
       "      <td>NaN</td>\n",
       "      <td>2022</td>\n",
       "    </tr>\n",
       "    <tr>\n",
       "      <th>18</th>\n",
       "      <td>2022-12-23</td>\n",
       "      <td>Decision on taking counter-sanctions against Y...</td>\n",
       "      <td>Targeted Sanction</td>\n",
       "      <td>China has decided to take the following counte...</td>\n",
       "      <td>Formal</td>\n",
       "      <td>Formal</td>\n",
       "      <td>Anti-Foreign Sanctions Law (Articles 4, 5 and 6)</td>\n",
       "      <td>Yu Maochun; Todd Stein</td>\n",
       "      <td>NaN</td>\n",
       "      <td>United States (North America)</td>\n",
       "      <td>...</td>\n",
       "      <td>NaN</td>\n",
       "      <td>NaN</td>\n",
       "      <td>关于对余茂春、托德·斯坦恩采取反制裁措施的决定\\n2022-12-23 08:00\\n\\n【...</td>\n",
       "      <td>NaN</td>\n",
       "      <td>Full Text Chinese (MFA)</td>\n",
       "      <td>NaN</td>\n",
       "      <td>NaN</td>\n",
       "      <td>NaN</td>\n",
       "      <td>NaN</td>\n",
       "      <td>2022</td>\n",
       "    </tr>\n",
       "    <tr>\n",
       "      <th>19</th>\n",
       "      <td>2023-02-01</td>\n",
       "      <td>Announcement... on the inclusion of Lockheed M...</td>\n",
       "      <td>Targeted Sanction</td>\n",
       "      <td>\\n1. The above-mentioned enterprises are prohi...</td>\n",
       "      <td>Formal</td>\n",
       "      <td>Formal</td>\n",
       "      <td>Unreliable Entity List\\n\\nForeign Trade Law;\\n...</td>\n",
       "      <td>NaN</td>\n",
       "      <td>Lockheed Martin; Raytheon Missiles &amp; Defense</td>\n",
       "      <td>United States (North America)</td>\n",
       "      <td>...</td>\n",
       "      <td>NaN</td>\n",
       "      <td>Is this a \"sanction\" or \"restriction on foreig...</td>\n",
       "      <td>不可靠实体清单工作机制关于将洛克希德·马丁公司、雷神导弹与防务公司列入不可靠实体清单的公告\\...</td>\n",
       "      <td>NaN</td>\n",
       "      <td>Full Text Chinese (MOFCOM)</td>\n",
       "      <td>NaN</td>\n",
       "      <td>NaN</td>\n",
       "      <td>NaN</td>\n",
       "      <td>NaN</td>\n",
       "      <td>2023</td>\n",
       "    </tr>\n",
       "    <tr>\n",
       "      <th>20</th>\n",
       "      <td>2023-02-16</td>\n",
       "      <td>Inclusion of two US defence companies and asso...</td>\n",
       "      <td>Targeted Sanction</td>\n",
       "      <td>To safeguard national sovereignty, security an...</td>\n",
       "      <td>Formal</td>\n",
       "      <td>Formal</td>\n",
       "      <td>Unreliable Entity List\\n\\nAnti-Foreign Sanctio...</td>\n",
       "      <td>James Donald Taiclet; Frank Andrew St. John; J...</td>\n",
       "      <td>Lockheed Martin Corporation; Raytheon Missiles...</td>\n",
       "      <td>United States (North America)</td>\n",
       "      <td>...</td>\n",
       "      <td>NaN</td>\n",
       "      <td>Asks Chinese companies to carry out due dilige...</td>\n",
       "      <td>商务部新闻发言人就不可靠实体清单实施有关问题答记者问\\n问：2月16日发布的不可靠实体清单公...</td>\n",
       "      <td>NaN</td>\n",
       "      <td>Full Text Chinese (MOFCOM)</td>\n",
       "      <td>NaN</td>\n",
       "      <td>NaN</td>\n",
       "      <td>NaN</td>\n",
       "      <td>NaN</td>\n",
       "      <td>2023</td>\n",
       "    </tr>\n",
       "    <tr>\n",
       "      <th>21</th>\n",
       "      <td>2023-03-31</td>\n",
       "      <td>Restrictions on Micron</td>\n",
       "      <td>Obstruction of Foreign Business in China</td>\n",
       "      <td>In accordance with the Cybersecurity Law and o...</td>\n",
       "      <td>Formal</td>\n",
       "      <td>Formal</td>\n",
       "      <td>National Security Law;\\nCybersecurity Law</td>\n",
       "      <td>NaN</td>\n",
       "      <td>Micron</td>\n",
       "      <td>United States (North America)</td>\n",
       "      <td>...</td>\n",
       "      <td>NaN</td>\n",
       "      <td>Investigation led to restriction of purchases ...</td>\n",
       "      <td>为保障关键信息基础设施供应链安全，防范产品问题隐患造成网络安全风险，维护国家安全，依据《中华...</td>\n",
       "      <td>NaN</td>\n",
       "      <td>Full Text Chinese Investgation Launch (CAC)</td>\n",
       "      <td>Full Text Chinese Investgation Result (CAC)</td>\n",
       "      <td>NaN</td>\n",
       "      <td>NaN</td>\n",
       "      <td>NaN</td>\n",
       "      <td>2023</td>\n",
       "    </tr>\n",
       "    <tr>\n",
       "      <th>22</th>\n",
       "      <td>2023-04-07</td>\n",
       "      <td>Decision on taking countermeasures against the...</td>\n",
       "      <td>Targeted Sanction</td>\n",
       "      <td>China has decided to take the following counte...</td>\n",
       "      <td>Formal</td>\n",
       "      <td>Formal</td>\n",
       "      <td>Anti-Foreign Sanctions Law (Articles 4, 5, 6 a...</td>\n",
       "      <td>Sarah May Stern; John P. Walters; John Heubusc...</td>\n",
       "      <td>Hudson Institute; Ronald Reagan Library</td>\n",
       "      <td>United States (North America)</td>\n",
       "      <td>...</td>\n",
       "      <td>NaN</td>\n",
       "      <td>NaN</td>\n",
       "      <td>关于对美国哈德逊研究所、里根图书馆及其负责人采取反制措施的决定\\n2023-04-07 10...</td>\n",
       "      <td>NaN</td>\n",
       "      <td>Full Text Chinese (MFA)</td>\n",
       "      <td>NaN</td>\n",
       "      <td>NaN</td>\n",
       "      <td>NaN</td>\n",
       "      <td>NaN</td>\n",
       "      <td>2023</td>\n",
       "    </tr>\n",
       "    <tr>\n",
       "      <th>23</th>\n",
       "      <td>2023-04-07</td>\n",
       "      <td>Taiwan Affairs Office Announces Sanctions on I...</td>\n",
       "      <td>Targeted Sanction</td>\n",
       "      <td>the mainland has decided to impose punitive me...</td>\n",
       "      <td>Formal</td>\n",
       "      <td>Formal</td>\n",
       "      <td>NaN</td>\n",
       "      <td>NaN</td>\n",
       "      <td>Prospect Foundation； Asian Pacific League for ...</td>\n",
       "      <td>Taiwan (Asia)</td>\n",
       "      <td>...</td>\n",
       "      <td>NaN</td>\n",
       "      <td>NaN</td>\n",
       "      <td>国台办宣布对宣扬“台独”的有关机构予以惩戒\\n2023-04-07 09:11 来源：新华网...</td>\n",
       "      <td>NaN</td>\n",
       "      <td>Full Text Chinese (Taiwan Affairs Office)</td>\n",
       "      <td>NaN</td>\n",
       "      <td>NaN</td>\n",
       "      <td>NaN</td>\n",
       "      <td>NaN</td>\n",
       "      <td>2023</td>\n",
       "    </tr>\n",
       "    <tr>\n",
       "      <th>24</th>\n",
       "      <td>2023-04-13</td>\n",
       "      <td>Decision on taking countermeasures against ant...</td>\n",
       "      <td>Targeted Sanction</td>\n",
       "      <td>In accordance with Articles 3, 4, 6 and 15 of ...</td>\n",
       "      <td>Formal</td>\n",
       "      <td>Formal</td>\n",
       "      <td>Anti-Foreign Sanctions Law</td>\n",
       "      <td>Michael McCaul</td>\n",
       "      <td>NaN</td>\n",
       "      <td>United States (North America)</td>\n",
       "      <td>...</td>\n",
       "      <td>NaN</td>\n",
       "      <td>NaN</td>\n",
       "      <td>关于对美国反华议员迈克·麦考尔采取反制措施的决定\\n2023-04-13 17:36\\n\\n...</td>\n",
       "      <td>NaN</td>\n",
       "      <td>Full Text Chinese (MFA)</td>\n",
       "      <td>NaN</td>\n",
       "      <td>NaN</td>\n",
       "      <td>NaN</td>\n",
       "      <td>NaN</td>\n",
       "      <td>2023</td>\n",
       "    </tr>\n",
       "    <tr>\n",
       "      <th>28</th>\n",
       "      <td>2023-08-24</td>\n",
       "      <td>China ban on Japanese seafood products after F...</td>\n",
       "      <td>Import Restriction</td>\n",
       "      <td>the General Administration of Customs has deci...</td>\n",
       "      <td>Conversion</td>\n",
       "      <td>Informal</td>\n",
       "      <td>Food Safety Law</td>\n",
       "      <td>Japan</td>\n",
       "      <td>NaN</td>\n",
       "      <td>Japan (Asia)</td>\n",
       "      <td>...</td>\n",
       "      <td>Seafood products</td>\n",
       "      <td>No evidence that the ban had something to do w...</td>\n",
       "      <td>海关总署公告\\n2023年第103号\\n\\n为全面防范日本福岛核污染水排海对食品安全造成的放...</td>\n",
       "      <td>NaN</td>\n",
       "      <td>Full Text Chinese (Customs)</td>\n",
       "      <td>Full Text English (MFA)</td>\n",
       "      <td>Analysis (The Interpreter)</td>\n",
       "      <td>NaN</td>\n",
       "      <td>NaN</td>\n",
       "      <td>2023</td>\n",
       "    </tr>\n",
       "    <tr>\n",
       "      <th>29</th>\n",
       "      <td>2023-08-24</td>\n",
       "      <td>Boycott of Japanese beauty products after Fuku...</td>\n",
       "      <td>Boycott</td>\n",
       "      <td>NaN</td>\n",
       "      <td>Boycott Fomentation</td>\n",
       "      <td>Informal</td>\n",
       "      <td>NaN</td>\n",
       "      <td>NaN</td>\n",
       "      <td>Shiseido; Kosé</td>\n",
       "      <td>Japan (Asia)</td>\n",
       "      <td>...</td>\n",
       "      <td>Beauty products</td>\n",
       "      <td>May be more companies targeted</td>\n",
       "      <td>NaN</td>\n",
       "      <td>NaN</td>\n",
       "      <td>Reporting (FT)</td>\n",
       "      <td>NaN</td>\n",
       "      <td>NaN</td>\n",
       "      <td>NaN</td>\n",
       "      <td>NaN</td>\n",
       "      <td>2023</td>\n",
       "    </tr>\n",
       "    <tr>\n",
       "      <th>30</th>\n",
       "      <td>2023-09-15</td>\n",
       "      <td>Sanctions on Lockheed Martin and Northrop Grum...</td>\n",
       "      <td>Targeted Sanction</td>\n",
       "      <td>Lockheed Martin Corporation, St. Louis, MO dir...</td>\n",
       "      <td>Formal</td>\n",
       "      <td>Formal</td>\n",
       "      <td>Anti-Foreign Sanctions Law</td>\n",
       "      <td>NaN</td>\n",
       "      <td>Lockheed Martin Corporation; Northrop Grumman</td>\n",
       "      <td>United States (North America)</td>\n",
       "      <td>...</td>\n",
       "      <td>NaN</td>\n",
       "      <td>NaN</td>\n",
       "      <td>NaN</td>\n",
       "      <td>China Daily: Lately the US has provided advanc...</td>\n",
       "      <td>Full Text Chinese (MFA)</td>\n",
       "      <td>NaN</td>\n",
       "      <td>NaN</td>\n",
       "      <td>NaN</td>\n",
       "      <td>NaN</td>\n",
       "      <td>2023</td>\n",
       "    </tr>\n",
       "    <tr>\n",
       "      <th>32</th>\n",
       "      <td>2023-12-21</td>\n",
       "      <td>The State Council Tariff Commission's decision...</td>\n",
       "      <td>Import Control</td>\n",
       "      <td>In accordance with the Cross-Strait Economic C...</td>\n",
       "      <td>Conversion</td>\n",
       "      <td>Informal</td>\n",
       "      <td>Cross-Strait Economic Cooperation Framework Ag...</td>\n",
       "      <td>NaN</td>\n",
       "      <td>NaN</td>\n",
       "      <td>Taiwan (Asia)</td>\n",
       "      <td>...</td>\n",
       "      <td>Propylene; butadiene; isoprene; mixed xylene i...</td>\n",
       "      <td>Imposed ahead of Taiwanese elections. A second...</td>\n",
       "      <td>国务院关税税则委员会关于中止《海峡两岸经济合作框架协议》\\n部分产品关税减让的公告\\n发布日...</td>\n",
       "      <td>NaN</td>\n",
       "      <td>Full Text Chinese (Ministry of Finance)</td>\n",
       "      <td>Investigation (MOFCOM)</td>\n",
       "      <td>NaN</td>\n",
       "      <td>NaN</td>\n",
       "      <td>NaN</td>\n",
       "      <td>2023</td>\n",
       "    </tr>\n",
       "    <tr>\n",
       "      <th>33</th>\n",
       "      <td>2023-12-26</td>\n",
       "      <td>Sanctions on US Firm Kharon and Two Researcher...</td>\n",
       "      <td>Targeted Sanction</td>\n",
       "      <td>In accordance with China’s Anti-Foreign Sancti...</td>\n",
       "      <td>Formal</td>\n",
       "      <td>Formal</td>\n",
       "      <td>Anti-Foreign Sanctions Law</td>\n",
       "      <td>Edmund Xu; Nicole Morgret</td>\n",
       "      <td>Kharon</td>\n",
       "      <td>United States (North America)</td>\n",
       "      <td>...</td>\n",
       "      <td>NaN</td>\n",
       "      <td>NaN</td>\n",
       "      <td>NaN</td>\n",
       "      <td>Xinhua News Agency: The US issued an annual hu...</td>\n",
       "      <td>Full Text Chinese (MFA)</td>\n",
       "      <td>NaN</td>\n",
       "      <td>NaN</td>\n",
       "      <td>NaN</td>\n",
       "      <td>NaN</td>\n",
       "      <td>2023</td>\n",
       "    </tr>\n",
       "    <tr>\n",
       "      <th>34</th>\n",
       "      <td>2024-01-07</td>\n",
       "      <td>Countermeasures on US Arms Sales to China’s Ta...</td>\n",
       "      <td>Targeted Sanction</td>\n",
       "      <td>In response to these gravely wrong actions tak...</td>\n",
       "      <td>Formal</td>\n",
       "      <td>Formal</td>\n",
       "      <td>Anti-Foreign Sanctions Law</td>\n",
       "      <td>NaN</td>\n",
       "      <td>BAE Systems Land and Armament; Alliant Techsys...</td>\n",
       "      <td>United States (North America)</td>\n",
       "      <td>...</td>\n",
       "      <td>NaN</td>\n",
       "      <td>NaN</td>\n",
       "      <td>NaN</td>\n",
       "      <td>Foreign Ministry Spokesperson’s Remarks on Cou...</td>\n",
       "      <td>Full Text Chinese (MFA)</td>\n",
       "      <td>NaN</td>\n",
       "      <td>NaN</td>\n",
       "      <td>NaN</td>\n",
       "      <td>NaN</td>\n",
       "      <td>2024</td>\n",
       "    </tr>\n",
       "    <tr>\n",
       "      <th>35</th>\n",
       "      <td>2024-04-11</td>\n",
       "      <td>Decision on taking countermeasures against Gen...</td>\n",
       "      <td>Targeted Sanction</td>\n",
       "      <td>China has decided to take the following counte...</td>\n",
       "      <td>Formal</td>\n",
       "      <td>Formal</td>\n",
       "      <td>Anti-Foreign Sanctions Law (Articles 3, 4, 5, ...</td>\n",
       "      <td>NaN</td>\n",
       "      <td>General Atomics Aeronautical Systems; General ...</td>\n",
       "      <td>United States (North America)</td>\n",
       "      <td>...</td>\n",
       "      <td>NaN</td>\n",
       "      <td>NaN</td>\n",
       "      <td>关于对美国通用原子航空系统公司、通用动力陆地系统公司采取反制措施的决定\\n2024-04-1...</td>\n",
       "      <td>NaN</td>\n",
       "      <td>Full Text Chinese (MFA)</td>\n",
       "      <td>NaN</td>\n",
       "      <td>NaN</td>\n",
       "      <td>NaN</td>\n",
       "      <td>NaN</td>\n",
       "      <td>2024</td>\n",
       "    </tr>\n",
       "    <tr>\n",
       "      <th>36</th>\n",
       "      <td>2024-04-19</td>\n",
       "      <td>Announcement of the Ministry of Commerce No. 1...</td>\n",
       "      <td>Import Control</td>\n",
       "      <td>Based on the investigation results and Article...</td>\n",
       "      <td>Conversion</td>\n",
       "      <td>Informal</td>\n",
       "      <td>Anti-Dumping Regulations</td>\n",
       "      <td>NaN</td>\n",
       "      <td>Formosa Chemicals &amp; Fibre Corp. (台湾化学纤维股份有限公司)...</td>\n",
       "      <td>Taiwan (Asia)</td>\n",
       "      <td>...</td>\n",
       "      <td>Polycarbonate</td>\n",
       "      <td>Investigation launch in later 2023 and results...</td>\n",
       "      <td>商务部公告2024年第13号 关于原产于台湾地区的进口聚碳酸酯反倾销调查最终裁定的公告\\n【...</td>\n",
       "      <td>NaN</td>\n",
       "      <td>Full Text Chinese (MOFCOM)</td>\n",
       "      <td>NaN</td>\n",
       "      <td>NaN</td>\n",
       "      <td>NaN</td>\n",
       "      <td>NaN</td>\n",
       "      <td>2024</td>\n",
       "    </tr>\n",
       "    <tr>\n",
       "      <th>37</th>\n",
       "      <td>2024-05-20</td>\n",
       "      <td>Announcement of the Working Mechanism of the U...</td>\n",
       "      <td>Targeted Sanction</td>\n",
       "      <td>To safeguard national sovereignty, security an...</td>\n",
       "      <td>Formal</td>\n",
       "      <td>Formal</td>\n",
       "      <td>Unreliable Entity List (Article 2, Article 8 a...</td>\n",
       "      <td>NaN</td>\n",
       "      <td>General Atomics Aeronautical Systems; General ...</td>\n",
       "      <td>United States (North America)</td>\n",
       "      <td>...</td>\n",
       "      <td>NaN</td>\n",
       "      <td>Step towards extraterritoriality.\\n\\nIn additi...</td>\n",
       "      <td>不可靠实体清单工作机制关于对通用原子航空系统公司等三家美国企业采取不可靠实体清单措施的公告\\...</td>\n",
       "      <td>NaN</td>\n",
       "      <td>Full Text Chinese (MOFCOM)</td>\n",
       "      <td>NaN</td>\n",
       "      <td>NaN</td>\n",
       "      <td>NaN</td>\n",
       "      <td>NaN</td>\n",
       "      <td>2024</td>\n",
       "    </tr>\n",
       "    <tr>\n",
       "      <th>38</th>\n",
       "      <td>2024-05-20</td>\n",
       "      <td>Announcement of the Working Mechanism of the U...</td>\n",
       "      <td>Targeted Sanction</td>\n",
       "      <td>To safeguard national sovereignty, security an...</td>\n",
       "      <td>Formal</td>\n",
       "      <td>Formal</td>\n",
       "      <td>Unreliable Entity List (Article 2, Article 8 a...</td>\n",
       "      <td>NaN</td>\n",
       "      <td>Boeing Defense, Space &amp; Security</td>\n",
       "      <td>United States (North America)</td>\n",
       "      <td>...</td>\n",
       "      <td>NaN</td>\n",
       "      <td>NaN</td>\n",
       "      <td>不可靠实体清单工作机制关于将波音防务、空间与安全集团列入不可靠实体清单的公告\\n【发布单位】...</td>\n",
       "      <td>NaN</td>\n",
       "      <td>Full Text Chinese (MOFCOM)</td>\n",
       "      <td>NaN</td>\n",
       "      <td>NaN</td>\n",
       "      <td>NaN</td>\n",
       "      <td>NaN</td>\n",
       "      <td>2024</td>\n",
       "    </tr>\n",
       "    <tr>\n",
       "      <th>39</th>\n",
       "      <td>2024-05-21</td>\n",
       "      <td>Decision on taking countermeasures against for...</td>\n",
       "      <td>Targeted Sanction</td>\n",
       "      <td>China has decided to take the following counte...</td>\n",
       "      <td>Formal</td>\n",
       "      <td>Formal</td>\n",
       "      <td>Anti-Foreign Sanctions Law (Articles 3, 4, 6, ...</td>\n",
       "      <td>Mike Gallagher</td>\n",
       "      <td>NaN</td>\n",
       "      <td>United States (North America)</td>\n",
       "      <td>...</td>\n",
       "      <td>NaN</td>\n",
       "      <td>Excludes art 5 of AFSL</td>\n",
       "      <td>关于对美国国会前议员加拉格尔采取反制措施的决定\\n2024-05-21 16:30\\n\\n【...</td>\n",
       "      <td>NaN</td>\n",
       "      <td>Full Text Chinese (MFA)</td>\n",
       "      <td>NaN</td>\n",
       "      <td>NaN</td>\n",
       "      <td>NaN</td>\n",
       "      <td>NaN</td>\n",
       "      <td>2024</td>\n",
       "    </tr>\n",
       "    <tr>\n",
       "      <th>40</th>\n",
       "      <td>2024-05-22</td>\n",
       "      <td>Decision on taking countermeasures against U.S...</td>\n",
       "      <td>Targeted Sanction</td>\n",
       "      <td>For the 12 companies as listed in the attached...</td>\n",
       "      <td>Formal</td>\n",
       "      <td>Formal</td>\n",
       "      <td>Anti-Foreign Sanctions Law (Articles 3, 4, 5, ...</td>\n",
       "      <td>Kathy J. Warden; Matthew Bromberg; Benjamin R....</td>\n",
       "      <td>Lockheed Martin Missiles and Fire Control; Loc...</td>\n",
       "      <td>United States (North America)</td>\n",
       "      <td>...</td>\n",
       "      <td>Missiles, missile defense, munitions, aerospac...</td>\n",
       "      <td>Very similar in form to subsequent sanctions d...</td>\n",
       "      <td>关于对美国军工企业及高级管理人员采取反制措施的决定\\n2024-05-22 17:00\\n\\...</td>\n",
       "      <td>Decision on Taking Countermeasures Against\\nU....</td>\n",
       "      <td>Full Text Chinese (MFA)</td>\n",
       "      <td>Full Text English (MFA)</td>\n",
       "      <td>NaN</td>\n",
       "      <td>NaN</td>\n",
       "      <td>NaN</td>\n",
       "      <td>2024</td>\n",
       "    </tr>\n",
       "    <tr>\n",
       "      <th>42</th>\n",
       "      <td>2024-05-31</td>\n",
       "      <td>The State Council Tariff Commission's decision...</td>\n",
       "      <td>Import Control</td>\n",
       "      <td>Starting from June 15, 2024, the application o...</td>\n",
       "      <td>Conversion</td>\n",
       "      <td>Informal</td>\n",
       "      <td>Cross-Strait Economic Cooperation Framework Ag...</td>\n",
       "      <td>NaN</td>\n",
       "      <td>NaN</td>\n",
       "      <td>Taiwan (Asia)</td>\n",
       "      <td>...</td>\n",
       "      <td>NaN</td>\n",
       "      <td>In response to Lai's inauguration speech in Ma...</td>\n",
       "      <td>国务院关税税则委员会关于中止《海峡两岸经济合作框架协议》\\n部分产品（第二批）关税减让的公告...</td>\n",
       "      <td>NaN</td>\n",
       "      <td>Full Text Chinese (Ministry of Finance)</td>\n",
       "      <td>Investigation (MOFCOM)</td>\n",
       "      <td>Reporting (Reuters)</td>\n",
       "      <td>NaN</td>\n",
       "      <td>NaN</td>\n",
       "      <td>2024</td>\n",
       "    </tr>\n",
       "    <tr>\n",
       "      <th>43</th>\n",
       "      <td>2024-06-21</td>\n",
       "      <td>Decision to Take Countermeasures Against Lockh...</td>\n",
       "      <td>Targeted Sanction</td>\n",
       "      <td>China has decided to take countermeasures agai...</td>\n",
       "      <td>Formal</td>\n",
       "      <td>Formal</td>\n",
       "      <td>Anti-Foreign Sanctions Law (Articles 3, 4, 5, ...</td>\n",
       "      <td>James Donald Taiclet; Frank Andrew St. John; J...</td>\n",
       "      <td>Lockheed Martin Missile System Integration Lab...</td>\n",
       "      <td>United States (North America)</td>\n",
       "      <td>...</td>\n",
       "      <td>NaN</td>\n",
       "      <td>NaN</td>\n",
       "      <td>关于对洛克希德·马丁公司实体和高级管理人员采取反制措施的决定\\n2024-06-21 17:...</td>\n",
       "      <td>NaN</td>\n",
       "      <td>Full Text Chinese (MFA)</td>\n",
       "      <td>NaN</td>\n",
       "      <td>NaN</td>\n",
       "      <td>NaN</td>\n",
       "      <td>NaN</td>\n",
       "      <td>2024</td>\n",
       "    </tr>\n",
       "    <tr>\n",
       "      <th>44</th>\n",
       "      <td>2024-07-12</td>\n",
       "      <td>Decision on taking countermeasures against U.S...</td>\n",
       "      <td>Targeted Sanction</td>\n",
       "      <td>For the six companies ...\\nTheir movable and i...</td>\n",
       "      <td>Formal</td>\n",
       "      <td>Formal</td>\n",
       "      <td>Anti-Foreign Sanctions Law (Articles 3, 4, 5, ...</td>\n",
       "      <td>Wahid Nawabi; Kevin McDonnell; Brian William S...</td>\n",
       "      <td>Anduril Industries; Maritime Tactical Systems;...</td>\n",
       "      <td>United States (North America)</td>\n",
       "      <td>...</td>\n",
       "      <td>Aerospace, maritime systems, defense systems</td>\n",
       "      <td>Very similar to other sanctions decisions on U...</td>\n",
       "      <td>关于对美国军工企业及高级管理人员采取反制措施的决定\\n2024-07-12 18:10\\n\\...</td>\n",
       "      <td>Decision on Taking Countermeasures Against U.S...</td>\n",
       "      <td>Full Text Chinese (MFA)</td>\n",
       "      <td>Full Text English (MFA)</td>\n",
       "      <td>NaN</td>\n",
       "      <td>NaN</td>\n",
       "      <td>NaN</td>\n",
       "      <td>2024</td>\n",
       "    </tr>\n",
       "    <tr>\n",
       "      <th>45</th>\n",
       "      <td>2024-07-31</td>\n",
       "      <td>Decision on taking countermeasures against U.S...</td>\n",
       "      <td>Targeted Sanction</td>\n",
       "      <td>China has decided to take the following counte...</td>\n",
       "      <td>Formal</td>\n",
       "      <td>Formal</td>\n",
       "      <td>Anti-Foreign Sanctions Law (Articles 3, 4, 5, ...</td>\n",
       "      <td>Jim McGovern</td>\n",
       "      <td>NaN</td>\n",
       "      <td>United States (North America)</td>\n",
       "      <td>...</td>\n",
       "      <td>NaN</td>\n",
       "      <td>NaN</td>\n",
       "      <td>关于对美国国会议员麦戈文采取反制措施的决定\\n2024-07-31 18:21\\n\\n【中大...</td>\n",
       "      <td>NaN</td>\n",
       "      <td>Full Text Chinese (MFA)</td>\n",
       "      <td>NaN</td>\n",
       "      <td>NaN</td>\n",
       "      <td>NaN</td>\n",
       "      <td>NaN</td>\n",
       "      <td>2024</td>\n",
       "    </tr>\n",
       "    <tr>\n",
       "      <th>48</th>\n",
       "      <td>2024-09-18</td>\n",
       "      <td>Decision on taking countermeasures against U.S...</td>\n",
       "      <td>Targeted Sanction</td>\n",
       "      <td>China has decided to take the following counte...</td>\n",
       "      <td>Formal</td>\n",
       "      <td>Formal</td>\n",
       "      <td>Anti-Foreign Sanctions Law (Articles 3, 4, 6, ...</td>\n",
       "      <td>NaN</td>\n",
       "      <td>Sierra Nevada Corporation; Stick Rudder Enterp...</td>\n",
       "      <td>United States (North America)</td>\n",
       "      <td>...</td>\n",
       "      <td>Aerospace, defense transport and communication...</td>\n",
       "      <td>Does not reference article 5 of the Anti-Forei...</td>\n",
       "      <td>关于对美国军工企业采取反制措施的决定\\n2024-09-18 14:43\\n\\n【中大小】 ...</td>\n",
       "      <td>Decision on Taking Countermeasures Against U.S...</td>\n",
       "      <td>Full Text Chinese (MFA)</td>\n",
       "      <td>Full Text English (MFA)</td>\n",
       "      <td>NaN</td>\n",
       "      <td>NaN</td>\n",
       "      <td>NaN</td>\n",
       "      <td>2024</td>\n",
       "    </tr>\n",
       "    <tr>\n",
       "      <th>49</th>\n",
       "      <td>2024-10-08</td>\n",
       "      <td>Anti-dumping Measures on Imports of Brandy Ori...</td>\n",
       "      <td>Import Control</td>\n",
       "      <td>In accordance with Articles 28 and 29 of the A...</td>\n",
       "      <td>Conversion</td>\n",
       "      <td>Informal</td>\n",
       "      <td>Anti-dumping Regulations (Articles 28 and 29)</td>\n",
       "      <td>NaN</td>\n",
       "      <td>NaN</td>\n",
       "      <td>European Union (Europe); France (Europe)</td>\n",
       "      <td>...</td>\n",
       "      <td>Brandy</td>\n",
       "      <td>Investigation extended to April 2025\\n\\nAnnoun...</td>\n",
       "      <td>商务部公告2024年第42号 关于对原产于欧盟的进口相关白兰地实施临时反倾销措施的公告\\n【...</td>\n",
       "      <td>NaN</td>\n",
       "      <td>Full Text Chinese (MOFCOM, Nov 11)</td>\n",
       "      <td>Full Text Chinese (MOFCOM Oct 8)</td>\n",
       "      <td>Extension of Investigation (MOFCOM)</td>\n",
       "      <td>Reporting (Reuters)</td>\n",
       "      <td>NaN</td>\n",
       "      <td>2024</td>\n",
       "    </tr>\n",
       "    <tr>\n",
       "      <th>50</th>\n",
       "      <td>2024-10-10</td>\n",
       "      <td>Decision on taking countermeasures against U.S...</td>\n",
       "      <td>Targeted Sanction</td>\n",
       "      <td>For the three companies … Their movable and im...</td>\n",
       "      <td>Formal</td>\n",
       "      <td>Formal</td>\n",
       "      <td>Anti-Foreign Sanctions Law (Articles 3, 4, 5, ...</td>\n",
       "      <td>Steven Roger Rudder; James William Ickes II; D...</td>\n",
       "      <td>Edge Autonomy Operations LLC; Huntington Ingal...</td>\n",
       "      <td>United States (North America)</td>\n",
       "      <td>...</td>\n",
       "      <td>Ships, aerospace, defense systems</td>\n",
       "      <td>Several media reports on impact on Skydio. \\n\\...</td>\n",
       "      <td>关于对美国军工企业及高级管理人员采取反制措施的决定\\n2024-10-10 17:00\\n\\...</td>\n",
       "      <td>Decision on Taking Countermeasures Against U.S...</td>\n",
       "      <td>Full Text Chinese (MFA)</td>\n",
       "      <td>Full Text English (MFA)</td>\n",
       "      <td>Skydio Statement</td>\n",
       "      <td>NaN</td>\n",
       "      <td>NaN</td>\n",
       "      <td>2024</td>\n",
       "    </tr>\n",
       "    <tr>\n",
       "      <th>51</th>\n",
       "      <td>2024-12-03</td>\n",
       "      <td>Ministry of Commerce Notice 2024 No. 46: Notic...</td>\n",
       "      <td>Export Control</td>\n",
       "      <td>\\nThe export of dual-use items to U.S. militar...</td>\n",
       "      <td>Formal</td>\n",
       "      <td>Formal</td>\n",
       "      <td>Export Control Law</td>\n",
       "      <td>NaN</td>\n",
       "      <td>NaN</td>\n",
       "      <td>United States (North America)</td>\n",
       "      <td>...</td>\n",
       "      <td>Gallium, germanium, antimony, superhard materi...</td>\n",
       "      <td>1. First proper export restriction since 2010?...</td>\n",
       "      <td>商务部公告2024年第46号 关于加强相关两用物项对美国出口管制的公告\\n【发布单位】安全与...</td>\n",
       "      <td>Ministry of Commerce Notice 2024 No. 46: Notic...</td>\n",
       "      <td>Full Text Chinese (MOFCOM)</td>\n",
       "      <td>Reporting (NYT)</td>\n",
       "      <td>NaN</td>\n",
       "      <td>NaN</td>\n",
       "      <td>NaN</td>\n",
       "      <td>2024</td>\n",
       "    </tr>\n",
       "    <tr>\n",
       "      <th>52</th>\n",
       "      <td>2024-12-05</td>\n",
       "      <td>Decision on taking countermeasures against U.S...</td>\n",
       "      <td>Targeted Sanction</td>\n",
       "      <td>For the 13 companies … Their movable and immov...</td>\n",
       "      <td>Formal</td>\n",
       "      <td>Formal</td>\n",
       "      <td>Anti-Foreign Sanctions Law (Articles 3, 4, 5, ...</td>\n",
       "      <td>Barbara Borgonovi; Gerard Hueber; Charles Wood...</td>\n",
       "      <td>Teledyne Brown Engineering, Inc.; BRINC Drones...</td>\n",
       "      <td>United States (North America)</td>\n",
       "      <td>...</td>\n",
       "      <td>Aerospace, AI, drones, surveillance, naval</td>\n",
       "      <td>Very similar to other sanctions decisions on U...</td>\n",
       "      <td>\\n关于对美国军工企业及高级管理人员采取反制措施的决定\\n2024-12-05 15:00\\...</td>\n",
       "      <td>Decision on Taking Countermeasures Against U.S...</td>\n",
       "      <td>Full Text Chinese (MFA)</td>\n",
       "      <td>Full Text English (MFA)</td>\n",
       "      <td>NaN</td>\n",
       "      <td>NaN</td>\n",
       "      <td>NaN</td>\n",
       "      <td>2024</td>\n",
       "    </tr>\n",
       "    <tr>\n",
       "      <th>53</th>\n",
       "      <td>2024-12-21</td>\n",
       "      <td>Decision on taking countermeasures against Can...</td>\n",
       "      <td>Targeted Sanction</td>\n",
       "      <td>China has decided to take countermeasures agai...</td>\n",
       "      <td>Formal</td>\n",
       "      <td>Formal</td>\n",
       "      <td>Anti-Foreign Sanctions Law (Articles 3, 4, 5, ...</td>\n",
       "      <td>Clive Ansley; Geoffrey Aharon; Justine Bernatc...</td>\n",
       "      <td>Uyghur Rights Advocacy Project in Canada; Cana...</td>\n",
       "      <td>Canada (North America)</td>\n",
       "      <td>...</td>\n",
       "      <td>NaN</td>\n",
       "      <td>NaN</td>\n",
       "      <td>关于对加拿大机构及人员采取反制措施的决定 2024-12-21 16:50【(2024年12...</td>\n",
       "      <td>Decision on taking countermeasures against Can...</td>\n",
       "      <td>Full Text Chinese (MFA)</td>\n",
       "      <td>NaN</td>\n",
       "      <td>NaN</td>\n",
       "      <td>NaN</td>\n",
       "      <td>NaN</td>\n",
       "      <td>2024</td>\n",
       "    </tr>\n",
       "    <tr>\n",
       "      <th>54</th>\n",
       "      <td>2025-01-02</td>\n",
       "      <td>Ministry of Commerce Announcement No. 1 of 202...</td>\n",
       "      <td>Export Control</td>\n",
       "      <td>and take the following measures:\\n\\n1. The exp...</td>\n",
       "      <td>Formal</td>\n",
       "      <td>Formal</td>\n",
       "      <td>Export Control Law;\\nDual-Use Regulations (202...</td>\n",
       "      <td>NaN</td>\n",
       "      <td>General Dynamics; L3 Harris Technologies; Inte...</td>\n",
       "      <td>United States (North America)</td>\n",
       "      <td>...</td>\n",
       "      <td>Missile systems; military aircraft; surveillan...</td>\n",
       "      <td>First use of dual-use regulations and \"export ...</td>\n",
       "      <td>商务部公告2025年第1号 公布将28家美国实体列入出口管制管控名单\\n【发布单位】安全与管...</td>\n",
       "      <td>NaN</td>\n",
       "      <td>Full Text Chinese (MOFCOM)</td>\n",
       "      <td>Q&amp;A \"Export Control List\" (MOFCOM)</td>\n",
       "      <td>Analysis (Geopolitechs)</td>\n",
       "      <td>NaN</td>\n",
       "      <td>NaN</td>\n",
       "      <td>2025</td>\n",
       "    </tr>\n",
       "    <tr>\n",
       "      <th>55</th>\n",
       "      <td>2025-01-02</td>\n",
       "      <td>Announcement … on the Taking of Unreliable Ent...</td>\n",
       "      <td>Targeted Sanction</td>\n",
       "      <td>1. The above-mentioned enterprises are prohibi...</td>\n",
       "      <td>Formal</td>\n",
       "      <td>Formal</td>\n",
       "      <td>Unreliable Entity List\\n\\nForeign Trade Law;\\n...</td>\n",
       "      <td>NaN</td>\n",
       "      <td>Lockheed Martin Missiles and Fire Control; Loc...</td>\n",
       "      <td>United States (North America)</td>\n",
       "      <td>...</td>\n",
       "      <td>Missiles; military aircraft; aerospace R&amp;D; sy...</td>\n",
       "      <td>Suggests UEL is used for most severe violation...</td>\n",
       "      <td>不可靠实体清单工作机制关于对洛克希德·马丁导弹与火控公司等10家美国企业采取不可靠实体清单措...</td>\n",
       "      <td>NaN</td>\n",
       "      <td>Full Text Chinese (MOFCOM)</td>\n",
       "      <td>Q&amp;A on UEL (MOFCOM)</td>\n",
       "      <td>Analysis (Geopolitechs)</td>\n",
       "      <td>NaN</td>\n",
       "      <td>NaN</td>\n",
       "      <td>2025</td>\n",
       "    </tr>\n",
       "  </tbody>\n",
       "</table>\n",
       "<p>49 rows × 21 columns</p>\n",
       "</div>"
      ],
      "text/plain": [
       "   Start Date                                              Title  \\\n",
       "0  2019-12-02  Sanctions on NGOs in response to the US \"Hong ...   \n",
       "1  2020-01-01  Cessation of Licenses to Export Graphite to Sw...   \n",
       "2  2020-07-13  Sanctions in response to the US imposition of ...   \n",
       "3  2020-08-10  Sanctions in response to the US imposition of ...   \n",
       "4  2021-01-21  Foreign Ministry Spokesperson Announces Sancti...   \n",
       "5  2021-03-22  Foreign Ministry Spokesperson Announces Sancti...   \n",
       "6  2021-03-26  Foreign Ministry Spokesperson: China imposes s...   \n",
       "7  2021-03-27  Foreign Ministry Spokesperson\\nAnnounces Sanct...   \n",
       "8  2021-04-14    Icelandic pensioner placed on Chinese blacklist   \n",
       "9  2021-07-23  Foreign Ministry Spokesperson's Remarks on Chi...   \n",
       "10 2021-11-05  Punitive Measures Imposed on Staunch \"Taiwan I...   \n",
       "11 2021-12-21  Sanctions on Officials of the United States Co...   \n",
       "12 2022-08-01  Foreign Ministry Spokesperson Announces China'...   \n",
       "13 2022-08-03  Suspension of natural sand exports to Taiwan f...   \n",
       "14 2022-08-03  Suspension of the import of citrus fruits, fre...   \n",
       "15 2022-08-03  Taiwan Affairs Office Announces Sanctions on I...   \n",
       "16 2022-08-05  Foreign Ministry Spokesperson Announces China'...   \n",
       "17 2022-08-16  Taiwan Affairs Office Announces Sanctions on S...   \n",
       "18 2022-12-23  Decision on taking counter-sanctions against Y...   \n",
       "19 2023-02-01  Announcement... on the inclusion of Lockheed M...   \n",
       "20 2023-02-16  Inclusion of two US defence companies and asso...   \n",
       "21 2023-03-31                             Restrictions on Micron   \n",
       "22 2023-04-07  Decision on taking countermeasures against the...   \n",
       "23 2023-04-07  Taiwan Affairs Office Announces Sanctions on I...   \n",
       "24 2023-04-13  Decision on taking countermeasures against ant...   \n",
       "28 2023-08-24  China ban on Japanese seafood products after F...   \n",
       "29 2023-08-24  Boycott of Japanese beauty products after Fuku...   \n",
       "30 2023-09-15  Sanctions on Lockheed Martin and Northrop Grum...   \n",
       "32 2023-12-21  The State Council Tariff Commission's decision...   \n",
       "33 2023-12-26  Sanctions on US Firm Kharon and Two Researcher...   \n",
       "34 2024-01-07  Countermeasures on US Arms Sales to China’s Ta...   \n",
       "35 2024-04-11  Decision on taking countermeasures against Gen...   \n",
       "36 2024-04-19  Announcement of the Ministry of Commerce No. 1...   \n",
       "37 2024-05-20  Announcement of the Working Mechanism of the U...   \n",
       "38 2024-05-20  Announcement of the Working Mechanism of the U...   \n",
       "39 2024-05-21  Decision on taking countermeasures against for...   \n",
       "40 2024-05-22  Decision on taking countermeasures against U.S...   \n",
       "42 2024-05-31  The State Council Tariff Commission's decision...   \n",
       "43 2024-06-21  Decision to Take Countermeasures Against Lockh...   \n",
       "44 2024-07-12  Decision on taking countermeasures against U.S...   \n",
       "45 2024-07-31  Decision on taking countermeasures against U.S...   \n",
       "48 2024-09-18  Decision on taking countermeasures against U.S...   \n",
       "49 2024-10-08  Anti-dumping Measures on Imports of Brandy Ori...   \n",
       "50 2024-10-10  Decision on taking countermeasures against U.S...   \n",
       "51 2024-12-03  Ministry of Commerce Notice 2024 No. 46: Notic...   \n",
       "52 2024-12-05  Decision on taking countermeasures against U.S...   \n",
       "53 2024-12-21  Decision on taking countermeasures against Can...   \n",
       "54 2025-01-02  Ministry of Commerce Announcement No. 1 of 202...   \n",
       "55 2025-01-02  Announcement … on the Taking of Unreliable Ent...   \n",
       "\n",
       "                         Form of Restriction  \\\n",
       "0                          Targeted Sanction   \n",
       "1                             Export Control   \n",
       "2                          Targeted Sanction   \n",
       "3                          Targeted Sanction   \n",
       "4                          Targeted Sanction   \n",
       "5                          Targeted Sanction   \n",
       "6                          Targeted Sanction   \n",
       "7                          Targeted Sanction   \n",
       "8                          Targeted Sanction   \n",
       "9                          Targeted Sanction   \n",
       "10                         Targeted Sanction   \n",
       "11                         Targeted Sanction   \n",
       "12                         Targeted Sanction   \n",
       "13                            Export Control   \n",
       "14                        Import Restriction   \n",
       "15                         Targeted Sanction   \n",
       "16                         Targeted Sanction   \n",
       "17                         Targeted Sanction   \n",
       "18                         Targeted Sanction   \n",
       "19                         Targeted Sanction   \n",
       "20                         Targeted Sanction   \n",
       "21  Obstruction of Foreign Business in China   \n",
       "22                         Targeted Sanction   \n",
       "23                         Targeted Sanction   \n",
       "24                         Targeted Sanction   \n",
       "28                        Import Restriction   \n",
       "29                                   Boycott   \n",
       "30                         Targeted Sanction   \n",
       "32                            Import Control   \n",
       "33                         Targeted Sanction   \n",
       "34                         Targeted Sanction   \n",
       "35                         Targeted Sanction   \n",
       "36                            Import Control   \n",
       "37                         Targeted Sanction   \n",
       "38                         Targeted Sanction   \n",
       "39                         Targeted Sanction   \n",
       "40                         Targeted Sanction   \n",
       "42                            Import Control   \n",
       "43                         Targeted Sanction   \n",
       "44                         Targeted Sanction   \n",
       "45                         Targeted Sanction   \n",
       "48                         Targeted Sanction   \n",
       "49                            Import Control   \n",
       "50                         Targeted Sanction   \n",
       "51                            Export Control   \n",
       "52                         Targeted Sanction   \n",
       "53                         Targeted Sanction   \n",
       "54                            Export Control   \n",
       "55                         Targeted Sanction   \n",
       "\n",
       "                                   Restriction Quotes  \\\n",
       "0   the Chinese government has decided to suspend ...   \n",
       "1                                           Undefined   \n",
       "2   China has decided to impose corresponding sanc...   \n",
       "3   China has decided to impose sanctions on the f...   \n",
       "4   China has decided to sanction 28 persons who h...   \n",
       "5   Individuals concerned and their families are p...   \n",
       "6   China has decided to impose sanctions on nine ...   \n",
       "7   prohibiting the above-mentioned individuals fr...   \n",
       "8   An Icelandic man, who works as a lawyer and ha...   \n",
       "9   China has decided to take reciprocal counterme...   \n",
       "10  The mainland will punish the above-mentioned \"...   \n",
       "11  China has decided to take reciprocal counterme...   \n",
       "12  China decides to adopt sanctions on Vaiciukevi...   \n",
       "13  The Ministry of Commerce (MOC) has decided to ...   \n",
       "14  Since last year, mainland customs has repeated...   \n",
       "15  The mainland has decided to take disciplinary ...   \n",
       "16  In response to Pelosi's vile provocative behav...   \n",
       "17  The spokesperson said that in order to safegua...   \n",
       "18  China has decided to take the following counte...   \n",
       "19  \\n1. The above-mentioned enterprises are prohi...   \n",
       "20  To safeguard national sovereignty, security an...   \n",
       "21  In accordance with the Cybersecurity Law and o...   \n",
       "22  China has decided to take the following counte...   \n",
       "23  the mainland has decided to impose punitive me...   \n",
       "24  In accordance with Articles 3, 4, 6 and 15 of ...   \n",
       "28  the General Administration of Customs has deci...   \n",
       "29                                                NaN   \n",
       "30  Lockheed Martin Corporation, St. Louis, MO dir...   \n",
       "32  In accordance with the Cross-Strait Economic C...   \n",
       "33  In accordance with China’s Anti-Foreign Sancti...   \n",
       "34  In response to these gravely wrong actions tak...   \n",
       "35  China has decided to take the following counte...   \n",
       "36  Based on the investigation results and Article...   \n",
       "37  To safeguard national sovereignty, security an...   \n",
       "38  To safeguard national sovereignty, security an...   \n",
       "39  China has decided to take the following counte...   \n",
       "40  For the 12 companies as listed in the attached...   \n",
       "42  Starting from June 15, 2024, the application o...   \n",
       "43  China has decided to take countermeasures agai...   \n",
       "44  For the six companies ...\\nTheir movable and i...   \n",
       "45  China has decided to take the following counte...   \n",
       "48  China has decided to take the following counte...   \n",
       "49  In accordance with Articles 28 and 29 of the A...   \n",
       "50  For the three companies … Their movable and im...   \n",
       "51  \\nThe export of dual-use items to U.S. militar...   \n",
       "52  For the 13 companies … Their movable and immov...   \n",
       "53  China has decided to take countermeasures agai...   \n",
       "54  and take the following measures:\\n\\n1. The exp...   \n",
       "55  1. The above-mentioned enterprises are prohibi...   \n",
       "\n",
       "                   Mechanism Formality  \\\n",
       "0                     Formal    Formal   \n",
       "1   Bureaucratic Obstruction  Informal   \n",
       "2                     Formal    Formal   \n",
       "3                     Formal    Formal   \n",
       "4                     Formal    Formal   \n",
       "5                     Formal    Formal   \n",
       "6                     Formal    Formal   \n",
       "7                     Formal    Formal   \n",
       "8                     Formal    Formal   \n",
       "9                     Formal    Formal   \n",
       "10                    Formal    Formal   \n",
       "11                    Formal    Formal   \n",
       "12                    Formal    Formal   \n",
       "13                Conversion  Informal   \n",
       "14                Conversion  Informal   \n",
       "15                    Formal    Formal   \n",
       "16                    Formal    Formal   \n",
       "17                    Formal    Formal   \n",
       "18                    Formal    Formal   \n",
       "19                    Formal    Formal   \n",
       "20                    Formal    Formal   \n",
       "21                    Formal    Formal   \n",
       "22                    Formal    Formal   \n",
       "23                    Formal    Formal   \n",
       "24                    Formal    Formal   \n",
       "28                Conversion  Informal   \n",
       "29       Boycott Fomentation  Informal   \n",
       "30                    Formal    Formal   \n",
       "32                Conversion  Informal   \n",
       "33                    Formal    Formal   \n",
       "34                    Formal    Formal   \n",
       "35                    Formal    Formal   \n",
       "36                Conversion  Informal   \n",
       "37                    Formal    Formal   \n",
       "38                    Formal    Formal   \n",
       "39                    Formal    Formal   \n",
       "40                    Formal    Formal   \n",
       "42                Conversion  Informal   \n",
       "43                    Formal    Formal   \n",
       "44                    Formal    Formal   \n",
       "45                    Formal    Formal   \n",
       "48                    Formal    Formal   \n",
       "49                Conversion  Informal   \n",
       "50                    Formal    Formal   \n",
       "51                    Formal    Formal   \n",
       "52                    Formal    Formal   \n",
       "53                    Formal    Formal   \n",
       "54                    Formal    Formal   \n",
       "55                    Formal    Formal   \n",
       "\n",
       "                                          Legal Basis  \\\n",
       "0                                                 NaN   \n",
       "1                                                 NaN   \n",
       "2                                                 NaN   \n",
       "3                                                 NaN   \n",
       "4                                                 NaN   \n",
       "5                                                 NaN   \n",
       "6                                                 NaN   \n",
       "7                                                 NaN   \n",
       "8                                                 NaN   \n",
       "9                          Anti-Foreign Sanctions Law   \n",
       "10                                                NaN   \n",
       "11                         Anti-Foreign Sanctions Law   \n",
       "12                                                NaN   \n",
       "13                    \"relevant laws and regulations\"   \n",
       "14  \"in accordance with relevant mainland laws, re...   \n",
       "15                                                NaN   \n",
       "16             \"in accordance with the relevant laws\"   \n",
       "17                                                NaN   \n",
       "18   Anti-Foreign Sanctions Law (Articles 4, 5 and 6)   \n",
       "19  Unreliable Entity List\\n\\nForeign Trade Law;\\n...   \n",
       "20  Unreliable Entity List\\n\\nAnti-Foreign Sanctio...   \n",
       "21          National Security Law;\\nCybersecurity Law   \n",
       "22  Anti-Foreign Sanctions Law (Articles 4, 5, 6 a...   \n",
       "23                                                NaN   \n",
       "24                         Anti-Foreign Sanctions Law   \n",
       "28                                    Food Safety Law   \n",
       "29                                                NaN   \n",
       "30                         Anti-Foreign Sanctions Law   \n",
       "32  Cross-Strait Economic Cooperation Framework Ag...   \n",
       "33                         Anti-Foreign Sanctions Law   \n",
       "34                         Anti-Foreign Sanctions Law   \n",
       "35  Anti-Foreign Sanctions Law (Articles 3, 4, 5, ...   \n",
       "36                           Anti-Dumping Regulations   \n",
       "37  Unreliable Entity List (Article 2, Article 8 a...   \n",
       "38  Unreliable Entity List (Article 2, Article 8 a...   \n",
       "39  Anti-Foreign Sanctions Law (Articles 3, 4, 6, ...   \n",
       "40  Anti-Foreign Sanctions Law (Articles 3, 4, 5, ...   \n",
       "42  Cross-Strait Economic Cooperation Framework Ag...   \n",
       "43  Anti-Foreign Sanctions Law (Articles 3, 4, 5, ...   \n",
       "44  Anti-Foreign Sanctions Law (Articles 3, 4, 5, ...   \n",
       "45  Anti-Foreign Sanctions Law (Articles 3, 4, 5, ...   \n",
       "48  Anti-Foreign Sanctions Law (Articles 3, 4, 6, ...   \n",
       "49      Anti-dumping Regulations (Articles 28 and 29)   \n",
       "50  Anti-Foreign Sanctions Law (Articles 3, 4, 5, ...   \n",
       "51                                 Export Control Law   \n",
       "52  Anti-Foreign Sanctions Law (Articles 3, 4, 5, ...   \n",
       "53  Anti-Foreign Sanctions Law (Articles 3, 4, 5, ...   \n",
       "54  Export Control Law;\\nDual-Use Regulations (202...   \n",
       "55  Unreliable Entity List\\n\\nForeign Trade Law;\\n...   \n",
       "\n",
       "                                 Targeted Individuals  \\\n",
       "0                                                 NaN   \n",
       "1                                                 NaN   \n",
       "2   Sam Brownback; Marco Rubio; Ted Cruz; Chris Smith   \n",
       "3   Marco Rubio; Ted Cruz; Josh Hawley; Tom Cotton...   \n",
       "4   Michael R. Pompeo; Peter K. Navarro; Robert C....   \n",
       "5   Reinhard Butikofer; Michael Gahler; Raphaël Gl...   \n",
       "6   David Alton; Geoffrey Nice; Helena Kennedy; Ia...   \n",
       "7          Gayle Manchin; Tony Perkins; Michael Chong   \n",
       "8                                    Jónas Haraldsson   \n",
       "9   Wilbur Louis Ross; Carolyn Bartholomew; Jonath...   \n",
       "10  Su Tseng-chang (苏贞昌); You Si-kun (游锡堃); Joseph...   \n",
       "11  Nadine Maenza; Nury Turkel; Anurima Bhargava; ...   \n",
       "12                               Agnė Vaiciukevičiūtė   \n",
       "13                                                NaN   \n",
       "14                                                NaN   \n",
       "15                                                NaN   \n",
       "16                                       Nancy Pelosi   \n",
       "17  Hsiao Bi-khim (萧美琴); Koo Li-hsiung (顾立雄); Tsai...   \n",
       "18                             Yu Maochun; Todd Stein   \n",
       "19                                                NaN   \n",
       "20  James Donald Taiclet; Frank Andrew St. John; J...   \n",
       "21                                                NaN   \n",
       "22  Sarah May Stern; John P. Walters; John Heubusc...   \n",
       "23                                                NaN   \n",
       "24                                     Michael McCaul   \n",
       "28                                              Japan   \n",
       "29                                                NaN   \n",
       "30                                                NaN   \n",
       "32                                                NaN   \n",
       "33                          Edmund Xu; Nicole Morgret   \n",
       "34                                                NaN   \n",
       "35                                                NaN   \n",
       "36                                                NaN   \n",
       "37                                                NaN   \n",
       "38                                                NaN   \n",
       "39                                     Mike Gallagher   \n",
       "40  Kathy J. Warden; Matthew Bromberg; Benjamin R....   \n",
       "42                                                NaN   \n",
       "43  James Donald Taiclet; Frank Andrew St. John; J...   \n",
       "44  Wahid Nawabi; Kevin McDonnell; Brian William S...   \n",
       "45                                       Jim McGovern   \n",
       "48                                                NaN   \n",
       "49                                                NaN   \n",
       "50  Steven Roger Rudder; James William Ickes II; D...   \n",
       "51                                                NaN   \n",
       "52  Barbara Borgonovi; Gerard Hueber; Charles Wood...   \n",
       "53  Clive Ansley; Geoffrey Aharon; Justine Bernatc...   \n",
       "54                                                NaN   \n",
       "55                                                NaN   \n",
       "\n",
       "                                    Targeted Entities  \\\n",
       "0   National Endowment for Democracy; National Dem...   \n",
       "1                                                 NaN   \n",
       "2   United States Congressional-Executive Commissi...   \n",
       "3                                                 NaN   \n",
       "4                                                 NaN   \n",
       "5   Political and Security Committee of the Counci...   \n",
       "6   China Research Group; Conservative Party Human...   \n",
       "7   United States Commission on International Reli...   \n",
       "8                                                 NaN   \n",
       "9                        Hong Kong Democratic Council   \n",
       "10                                                NaN   \n",
       "11                                                NaN   \n",
       "12  Ministry of Transport and Communications of Li...   \n",
       "13                                                NaN   \n",
       "14                                                NaN   \n",
       "15  Taiwan Foundation for Democracy (台湾民主基金会); Tai...   \n",
       "16                                                NaN   \n",
       "17                                                NaN   \n",
       "18                                                NaN   \n",
       "19       Lockheed Martin; Raytheon Missiles & Defense   \n",
       "20  Lockheed Martin Corporation; Raytheon Missiles...   \n",
       "21                                             Micron   \n",
       "22            Hudson Institute; Ronald Reagan Library   \n",
       "23  Prospect Foundation； Asian Pacific League for ...   \n",
       "24                                                NaN   \n",
       "28                                                NaN   \n",
       "29                                     Shiseido; Kosé   \n",
       "30      Lockheed Martin Corporation; Northrop Grumman   \n",
       "32                                                NaN   \n",
       "33                                             Kharon   \n",
       "34  BAE Systems Land and Armament; Alliant Techsys...   \n",
       "35  General Atomics Aeronautical Systems; General ...   \n",
       "36  Formosa Chemicals & Fibre Corp. (台湾化学纤维股份有限公司)...   \n",
       "37  General Atomics Aeronautical Systems; General ...   \n",
       "38                   Boeing Defense, Space & Security   \n",
       "39                                                NaN   \n",
       "40  Lockheed Martin Missiles and Fire Control; Loc...   \n",
       "42                                                NaN   \n",
       "43  Lockheed Martin Missile System Integration Lab...   \n",
       "44  Anduril Industries; Maritime Tactical Systems;...   \n",
       "45                                                NaN   \n",
       "48  Sierra Nevada Corporation; Stick Rudder Enterp...   \n",
       "49                                                NaN   \n",
       "50  Edge Autonomy Operations LLC; Huntington Ingal...   \n",
       "51                                                NaN   \n",
       "52  Teledyne Brown Engineering, Inc.; BRINC Drones...   \n",
       "53  Uyghur Rights Advocacy Project in Canada; Cana...   \n",
       "54  General Dynamics; L3 Harris Technologies; Inte...   \n",
       "55  Lockheed Martin Missiles and Fire Control; Loc...   \n",
       "\n",
       "                               Nationality of Targets  ...  \\\n",
       "0                       United States (North America)  ...   \n",
       "1                                     Sweden (Europe)  ...   \n",
       "2                       United States (North America)  ...   \n",
       "3                       United States (North America)  ...   \n",
       "4                       United States (North America)  ...   \n",
       "5   Germany (Europe); France (Europe); Bulgaria (E...  ...   \n",
       "6                             United Kingdom (Europe)  ...   \n",
       "7   United States (North America); Canada (North A...  ...   \n",
       "8                                    Iceland (Europe)  ...   \n",
       "9                       United States (North America)  ...   \n",
       "10                                      Taiwan (Asia)  ...   \n",
       "11                      United States (North America)  ...   \n",
       "12                                 Lithuania (Europe)  ...   \n",
       "13                                      Taiwan (Asia)  ...   \n",
       "14                                      Taiwan (Asia)  ...   \n",
       "15                                      Taiwan (Asia)  ...   \n",
       "16                      United States (North America)  ...   \n",
       "17                                      Taiwan (Asia)  ...   \n",
       "18                      United States (North America)  ...   \n",
       "19                      United States (North America)  ...   \n",
       "20                      United States (North America)  ...   \n",
       "21                      United States (North America)  ...   \n",
       "22                      United States (North America)  ...   \n",
       "23                                      Taiwan (Asia)  ...   \n",
       "24                      United States (North America)  ...   \n",
       "28                                       Japan (Asia)  ...   \n",
       "29                                       Japan (Asia)  ...   \n",
       "30                      United States (North America)  ...   \n",
       "32                                      Taiwan (Asia)  ...   \n",
       "33                      United States (North America)  ...   \n",
       "34                      United States (North America)  ...   \n",
       "35                      United States (North America)  ...   \n",
       "36                                      Taiwan (Asia)  ...   \n",
       "37                      United States (North America)  ...   \n",
       "38                      United States (North America)  ...   \n",
       "39                      United States (North America)  ...   \n",
       "40                      United States (North America)  ...   \n",
       "42                                      Taiwan (Asia)  ...   \n",
       "43                      United States (North America)  ...   \n",
       "44                      United States (North America)  ...   \n",
       "45                      United States (North America)  ...   \n",
       "48                      United States (North America)  ...   \n",
       "49           European Union (Europe); France (Europe)  ...   \n",
       "50                      United States (North America)  ...   \n",
       "51                      United States (North America)  ...   \n",
       "52                      United States (North America)  ...   \n",
       "53                             Canada (North America)  ...   \n",
       "54                      United States (North America)  ...   \n",
       "55                      United States (North America)  ...   \n",
       "\n",
       "                          Targeted Product Categories  \\\n",
       "0                                                 NaN   \n",
       "1                                            Graphite   \n",
       "2                                                 NaN   \n",
       "3                                                 NaN   \n",
       "4                                                 NaN   \n",
       "5                                                 NaN   \n",
       "6                                                 NaN   \n",
       "7                                                 NaN   \n",
       "8                                                 NaN   \n",
       "9                                                 NaN   \n",
       "10                                                NaN   \n",
       "11                                                NaN   \n",
       "12  Lithuania's international road transport activ...   \n",
       "13                                               Sand   \n",
       "14  Citrus fruits, fresh white hairtail, frozen ho...   \n",
       "15                                                NaN   \n",
       "16                                                NaN   \n",
       "17                                                NaN   \n",
       "18                                                NaN   \n",
       "19                                                NaN   \n",
       "20                                                NaN   \n",
       "21                                                NaN   \n",
       "22                                                NaN   \n",
       "23                                                NaN   \n",
       "24                                                NaN   \n",
       "28                                   Seafood products   \n",
       "29                                    Beauty products   \n",
       "30                                                NaN   \n",
       "32  Propylene; butadiene; isoprene; mixed xylene i...   \n",
       "33                                                NaN   \n",
       "34                                                NaN   \n",
       "35                                                NaN   \n",
       "36                                      Polycarbonate   \n",
       "37                                                NaN   \n",
       "38                                                NaN   \n",
       "39                                                NaN   \n",
       "40  Missiles, missile defense, munitions, aerospac...   \n",
       "42                                                NaN   \n",
       "43                                                NaN   \n",
       "44       Aerospace, maritime systems, defense systems   \n",
       "45                                                NaN   \n",
       "48  Aerospace, defense transport and communication...   \n",
       "49                                             Brandy   \n",
       "50                  Ships, aerospace, defense systems   \n",
       "51  Gallium, germanium, antimony, superhard materi...   \n",
       "52         Aerospace, AI, drones, surveillance, naval   \n",
       "53                                                NaN   \n",
       "54  Missile systems; military aircraft; surveillan...   \n",
       "55  Missiles; military aircraft; aerospace R&D; sy...   \n",
       "\n",
       "                                              Comment  \\\n",
       "0                                                 NaN   \n",
       "1   The process of granting export licenses presum...   \n",
       "2   Overlap in targets with 2020-08-10 sanctions (...   \n",
       "3   Overlap in targets with 2020-07-13 sanctions (...   \n",
       "4   Only 10 out of 28 people are mentioned. The re...   \n",
       "5   Significant step (escalation) in China's forma...   \n",
       "6                                                 NaN   \n",
       "7   Imposed together with sanctions against the EU...   \n",
       "8   Likely for the Xinjiang March sanctions Icelan...   \n",
       "9                                                 NaN   \n",
       "10                                                NaN   \n",
       "11                                                NaN   \n",
       "12                                                NaN   \n",
       "13   Announcement made the day Pelosi visited Taiwan.   \n",
       "14   Announcement made the day Pelosi visited Taiwan.   \n",
       "15  Hints at extraterritoriality: \"The mainland ha...   \n",
       "16                                                NaN   \n",
       "17  Reiterates sanctions against Joseph Wu and two...   \n",
       "18                                                NaN   \n",
       "19  Is this a \"sanction\" or \"restriction on foreig...   \n",
       "20  Asks Chinese companies to carry out due dilige...   \n",
       "21  Investigation led to restriction of purchases ...   \n",
       "22                                                NaN   \n",
       "23                                                NaN   \n",
       "24                                                NaN   \n",
       "28  No evidence that the ban had something to do w...   \n",
       "29                     May be more companies targeted   \n",
       "30                                                NaN   \n",
       "32  Imposed ahead of Taiwanese elections. A second...   \n",
       "33                                                NaN   \n",
       "34                                                NaN   \n",
       "35                                                NaN   \n",
       "36  Investigation launch in later 2023 and results...   \n",
       "37  Step towards extraterritoriality.\\n\\nIn additi...   \n",
       "38                                                NaN   \n",
       "39                             Excludes art 5 of AFSL   \n",
       "40  Very similar in form to subsequent sanctions d...   \n",
       "42  In response to Lai's inauguration speech in Ma...   \n",
       "43                                                NaN   \n",
       "44  Very similar to other sanctions decisions on U...   \n",
       "45                                                NaN   \n",
       "48  Does not reference article 5 of the Anti-Forei...   \n",
       "49  Investigation extended to April 2025\\n\\nAnnoun...   \n",
       "50  Several media reports on impact on Skydio. \\n\\...   \n",
       "51  1. First proper export restriction since 2010?...   \n",
       "52  Very similar to other sanctions decisions on U...   \n",
       "53                                                NaN   \n",
       "54  First use of dual-use regulations and \"export ...   \n",
       "55  Suggests UEL is used for most severe violation...   \n",
       "\n",
       "                                    Full Text Chinese  \\\n",
       "0   日前，美方不顾中方坚决反对，执意将所谓“香港人权与民主法案”签署成法，这严重违反国际法和国际...   \n",
       "1                                                 NaN   \n",
       "2   　　环球时报记者：7月9日，美国国务院和财政部分别宣布根据美国内法对一家中国新疆政府机构和4...   \n",
       "3                                                 NaN   \n",
       "4   \\n外交部发言人宣布中方对蓬佩奥等人实施制裁\\n2021-01-21 01:01\\n\\n【中...   \n",
       "5   外交部发言人宣布中方对欧盟有关机构和人员实施制裁\\n2021-03-22 20:26\\n\\n...   \n",
       "6   外交部发言人宣布中方对英国有关人员和实体实施制裁\\n\\n日前，英方基于谎言和虚假信息，以所谓...   \n",
       "7   外交部发言人宣布对美国、加拿大有关人员和实体实施制裁\\n2021-03-27 21:36 来...   \n",
       "8                                                 NaN   \n",
       "9                                                 NaN   \n",
       "10  国台办：依法对苏贞昌、游锡堃、吴钊燮等极少数“台独”顽固分子实施惩戒\\n2021-11-05...   \n",
       "11                                                NaN   \n",
       "12  外交部发言人宣布中方针对立陶宛交通与通讯部副部长瓦伊丘凯维丘特实施制裁\\n2022-08-1...   \n",
       "13  商务部回应暂停天然砂对台湾地区出口\\n2022-08-03 17:02 来源：新华网\\n　　...   \n",
       "14  海关总署动植物检疫司 进出口食品安全局关于暂停台湾地区柑橘类水果和冰鲜白带鱼、冻竹荚鱼输入大...   \n",
       "15  国台办宣布对“台独”顽固分子关联机构予以惩戒\\n2022-08-03 09:06 来源：新华...   \n",
       "16  外交部发言人宣布中方对美国国会众议长佩洛西实施制裁\\n2022-08-05 16:15\\n\\...   \n",
       "17  中共中央台办发言人受权宣布对列入清单的一批“台独”顽固分子等人员实施制裁\\n2022-08-...   \n",
       "18  关于对余茂春、托德·斯坦恩采取反制裁措施的决定\\n2022-12-23 08:00\\n\\n【...   \n",
       "19  不可靠实体清单工作机制关于将洛克希德·马丁公司、雷神导弹与防务公司列入不可靠实体清单的公告\\...   \n",
       "20  商务部新闻发言人就不可靠实体清单实施有关问题答记者问\\n问：2月16日发布的不可靠实体清单公...   \n",
       "21  为保障关键信息基础设施供应链安全，防范产品问题隐患造成网络安全风险，维护国家安全，依据《中华...   \n",
       "22  关于对美国哈德逊研究所、里根图书馆及其负责人采取反制措施的决定\\n2023-04-07 10...   \n",
       "23  国台办宣布对宣扬“台独”的有关机构予以惩戒\\n2023-04-07 09:11 来源：新华网...   \n",
       "24  关于对美国反华议员迈克·麦考尔采取反制措施的决定\\n2023-04-13 17:36\\n\\n...   \n",
       "28  海关总署公告\\n2023年第103号\\n\\n为全面防范日本福岛核污染水排海对食品安全造成的放...   \n",
       "29                                                NaN   \n",
       "30                                                NaN   \n",
       "32  国务院关税税则委员会关于中止《海峡两岸经济合作框架协议》\\n部分产品关税减让的公告\\n发布日...   \n",
       "33                                                NaN   \n",
       "34                                                NaN   \n",
       "35  关于对美国通用原子航空系统公司、通用动力陆地系统公司采取反制措施的决定\\n2024-04-1...   \n",
       "36  商务部公告2024年第13号 关于原产于台湾地区的进口聚碳酸酯反倾销调查最终裁定的公告\\n【...   \n",
       "37  不可靠实体清单工作机制关于对通用原子航空系统公司等三家美国企业采取不可靠实体清单措施的公告\\...   \n",
       "38  不可靠实体清单工作机制关于将波音防务、空间与安全集团列入不可靠实体清单的公告\\n【发布单位】...   \n",
       "39  关于对美国国会前议员加拉格尔采取反制措施的决定\\n2024-05-21 16:30\\n\\n【...   \n",
       "40  关于对美国军工企业及高级管理人员采取反制措施的决定\\n2024-05-22 17:00\\n\\...   \n",
       "42  国务院关税税则委员会关于中止《海峡两岸经济合作框架协议》\\n部分产品（第二批）关税减让的公告...   \n",
       "43  关于对洛克希德·马丁公司实体和高级管理人员采取反制措施的决定\\n2024-06-21 17:...   \n",
       "44  关于对美国军工企业及高级管理人员采取反制措施的决定\\n2024-07-12 18:10\\n\\...   \n",
       "45  关于对美国国会议员麦戈文采取反制措施的决定\\n2024-07-31 18:21\\n\\n【中大...   \n",
       "48  关于对美国军工企业采取反制措施的决定\\n2024-09-18 14:43\\n\\n【中大小】 ...   \n",
       "49  商务部公告2024年第42号 关于对原产于欧盟的进口相关白兰地实施临时反倾销措施的公告\\n【...   \n",
       "50  关于对美国军工企业及高级管理人员采取反制措施的决定\\n2024-10-10 17:00\\n\\...   \n",
       "51  商务部公告2024年第46号 关于加强相关两用物项对美国出口管制的公告\\n【发布单位】安全与...   \n",
       "52  \\n关于对美国军工企业及高级管理人员采取反制措施的决定\\n2024-12-05 15:00\\...   \n",
       "53  关于对加拿大机构及人员采取反制措施的决定 2024-12-21 16:50【(2024年12...   \n",
       "54  商务部公告2025年第1号 公布将28家美国实体列入出口管制管控名单\\n【发布单位】安全与管...   \n",
       "55  不可靠实体清单工作机制关于对洛克希德·马丁导弹与火控公司等10家美国企业采取不可靠实体清单措...   \n",
       "\n",
       "                                    Full Text English  \\\n",
       "0                                                 NaN   \n",
       "1                                                 NaN   \n",
       "2                                                 NaN   \n",
       "3   CCTV: On August 7, the US State Department and...   \n",
       "4   Foreign Ministry Spokesperson Announces Sancti...   \n",
       "5   Foreign Ministry Spokesperson Announces Sancti...   \n",
       "6                                                 NaN   \n",
       "7   Foreign Ministry Spokesperson Announces Sancti...   \n",
       "8                                                 NaN   \n",
       "9   Foreign Ministry Spokesperson's Remarks on Chi...   \n",
       "10                                                NaN   \n",
       "11  CCTV: On December 10, the US Department of Sta...   \n",
       "12  Foreign Ministry Spokesperson Announces China’...   \n",
       "13                                                NaN   \n",
       "14                                                NaN   \n",
       "15                                                NaN   \n",
       "16                                                NaN   \n",
       "17                                                NaN   \n",
       "18                                                NaN   \n",
       "19                                                NaN   \n",
       "20                                                NaN   \n",
       "21                                                NaN   \n",
       "22                                                NaN   \n",
       "23                                                NaN   \n",
       "24                                                NaN   \n",
       "28                                                NaN   \n",
       "29                                                NaN   \n",
       "30  China Daily: Lately the US has provided advanc...   \n",
       "32                                                NaN   \n",
       "33  Xinhua News Agency: The US issued an annual hu...   \n",
       "34  Foreign Ministry Spokesperson’s Remarks on Cou...   \n",
       "35                                                NaN   \n",
       "36                                                NaN   \n",
       "37                                                NaN   \n",
       "38                                                NaN   \n",
       "39                                                NaN   \n",
       "40  Decision on Taking Countermeasures Against\\nU....   \n",
       "42                                                NaN   \n",
       "43                                                NaN   \n",
       "44  Decision on Taking Countermeasures Against U.S...   \n",
       "45                                                NaN   \n",
       "48  Decision on Taking Countermeasures Against U.S...   \n",
       "49                                                NaN   \n",
       "50  Decision on Taking Countermeasures Against U.S...   \n",
       "51  Ministry of Commerce Notice 2024 No. 46: Notic...   \n",
       "52  Decision on Taking Countermeasures Against U.S...   \n",
       "53  Decision on taking countermeasures against Can...   \n",
       "54                                                NaN   \n",
       "55                                                NaN   \n",
       "\n",
       "                                           Link  \\\n",
       "0                       Full Text Chinese (MFA)   \n",
       "1                           European Commission   \n",
       "2                       Full Text Chinese (MFA)   \n",
       "3                       Full Text English (MFA)   \n",
       "4                       Full Text English (MFA)   \n",
       "5                       Full Text Chinese (MFA)   \n",
       "6                       Full Text Chinese (MFA)   \n",
       "7                       Full Text Chinese (MFA)   \n",
       "8                         Reporting (Icelandic)   \n",
       "9                       Full Text English (MFA)   \n",
       "10    Full Text Chinese (Taiwan Affairs Office)   \n",
       "11                      Full Text English (MFA)   \n",
       "12                      Full Text Chinese (MFA)   \n",
       "13                   Full Text Chinese (MOFCOM)   \n",
       "14                  Full Text Chinese (Customs)   \n",
       "15    Full Text Chinese (Taiwan Affairs Office)   \n",
       "16                      Full Text Chinese (MFA)   \n",
       "17    Full Text Chinese (Taiwan Affairs Office)   \n",
       "18                      Full Text Chinese (MFA)   \n",
       "19                   Full Text Chinese (MOFCOM)   \n",
       "20                   Full Text Chinese (MOFCOM)   \n",
       "21  Full Text Chinese Investgation Launch (CAC)   \n",
       "22                      Full Text Chinese (MFA)   \n",
       "23    Full Text Chinese (Taiwan Affairs Office)   \n",
       "24                      Full Text Chinese (MFA)   \n",
       "28                  Full Text Chinese (Customs)   \n",
       "29                               Reporting (FT)   \n",
       "30                      Full Text Chinese (MFA)   \n",
       "32      Full Text Chinese (Ministry of Finance)   \n",
       "33                      Full Text Chinese (MFA)   \n",
       "34                      Full Text Chinese (MFA)   \n",
       "35                      Full Text Chinese (MFA)   \n",
       "36                   Full Text Chinese (MOFCOM)   \n",
       "37                   Full Text Chinese (MOFCOM)   \n",
       "38                   Full Text Chinese (MOFCOM)   \n",
       "39                      Full Text Chinese (MFA)   \n",
       "40                      Full Text Chinese (MFA)   \n",
       "42      Full Text Chinese (Ministry of Finance)   \n",
       "43                      Full Text Chinese (MFA)   \n",
       "44                      Full Text Chinese (MFA)   \n",
       "45                      Full Text Chinese (MFA)   \n",
       "48                      Full Text Chinese (MFA)   \n",
       "49           Full Text Chinese (MOFCOM, Nov 11)   \n",
       "50                      Full Text Chinese (MFA)   \n",
       "51                   Full Text Chinese (MOFCOM)   \n",
       "52                      Full Text Chinese (MFA)   \n",
       "53                      Full Text Chinese (MFA)   \n",
       "54                   Full Text Chinese (MOFCOM)   \n",
       "55                   Full Text Chinese (MOFCOM)   \n",
       "\n",
       "                                          Link2  \\\n",
       "0                                           NaN   \n",
       "1         Investigation by Swedish Public Radio   \n",
       "2                                           NaN   \n",
       "3                                           NaN   \n",
       "4                       Full Text Chinese (MFA)   \n",
       "5                       Full Text English (MFA)   \n",
       "6                                           NaN   \n",
       "7                       Full Text English (MFA)   \n",
       "8                         Reporting (Icelandic)   \n",
       "9                                           NaN   \n",
       "10                                          NaN   \n",
       "11                                          NaN   \n",
       "12                                          NaN   \n",
       "13                                          NaN   \n",
       "14                                          NaN   \n",
       "15                                          NaN   \n",
       "16                                          NaN   \n",
       "17                                          NaN   \n",
       "18                                          NaN   \n",
       "19                                          NaN   \n",
       "20                                          NaN   \n",
       "21  Full Text Chinese Investgation Result (CAC)   \n",
       "22                                          NaN   \n",
       "23                                          NaN   \n",
       "24                                          NaN   \n",
       "28                      Full Text English (MFA)   \n",
       "29                                          NaN   \n",
       "30                                          NaN   \n",
       "32                       Investigation (MOFCOM)   \n",
       "33                                          NaN   \n",
       "34                                          NaN   \n",
       "35                                          NaN   \n",
       "36                                          NaN   \n",
       "37                                          NaN   \n",
       "38                                          NaN   \n",
       "39                                          NaN   \n",
       "40                      Full Text English (MFA)   \n",
       "42                       Investigation (MOFCOM)   \n",
       "43                                          NaN   \n",
       "44                      Full Text English (MFA)   \n",
       "45                                          NaN   \n",
       "48                      Full Text English (MFA)   \n",
       "49             Full Text Chinese (MOFCOM Oct 8)   \n",
       "50                      Full Text English (MFA)   \n",
       "51                              Reporting (NYT)   \n",
       "52                      Full Text English (MFA)   \n",
       "53                                          NaN   \n",
       "54           Q&A \"Export Control List\" (MOFCOM)   \n",
       "55                          Q&A on UEL (MOFCOM)   \n",
       "\n",
       "                                  Link3               Link 4 Link 5  Year  \n",
       "0                                   NaN                  NaN    NaN  2019  \n",
       "1                                   NaN                  NaN    NaN  2020  \n",
       "2                                   NaN                  NaN    NaN  2020  \n",
       "3                                   NaN                  NaN    NaN  2020  \n",
       "4                                   NaN                  NaN    NaN  2021  \n",
       "5                                   NaN                  NaN    NaN  2021  \n",
       "6                                   NaN                  NaN    NaN  2021  \n",
       "7                                   NaN                  NaN    NaN  2021  \n",
       "8                                   NaN                  NaN    NaN  2021  \n",
       "9                                   NaN                  NaN    NaN  2021  \n",
       "10                                  NaN                  NaN    NaN  2021  \n",
       "11                                  NaN                  NaN    NaN  2021  \n",
       "12                                  NaN                  NaN    NaN  2022  \n",
       "13                                  NaN                  NaN    NaN  2022  \n",
       "14                                  NaN                  NaN    NaN  2022  \n",
       "15                                  NaN                  NaN    NaN  2022  \n",
       "16                                  NaN                  NaN    NaN  2022  \n",
       "17                                  NaN                  NaN    NaN  2022  \n",
       "18                                  NaN                  NaN    NaN  2022  \n",
       "19                                  NaN                  NaN    NaN  2023  \n",
       "20                                  NaN                  NaN    NaN  2023  \n",
       "21                                  NaN                  NaN    NaN  2023  \n",
       "22                                  NaN                  NaN    NaN  2023  \n",
       "23                                  NaN                  NaN    NaN  2023  \n",
       "24                                  NaN                  NaN    NaN  2023  \n",
       "28           Analysis (The Interpreter)                  NaN    NaN  2023  \n",
       "29                                  NaN                  NaN    NaN  2023  \n",
       "30                                  NaN                  NaN    NaN  2023  \n",
       "32                                  NaN                  NaN    NaN  2023  \n",
       "33                                  NaN                  NaN    NaN  2023  \n",
       "34                                  NaN                  NaN    NaN  2024  \n",
       "35                                  NaN                  NaN    NaN  2024  \n",
       "36                                  NaN                  NaN    NaN  2024  \n",
       "37                                  NaN                  NaN    NaN  2024  \n",
       "38                                  NaN                  NaN    NaN  2024  \n",
       "39                                  NaN                  NaN    NaN  2024  \n",
       "40                                  NaN                  NaN    NaN  2024  \n",
       "42                  Reporting (Reuters)                  NaN    NaN  2024  \n",
       "43                                  NaN                  NaN    NaN  2024  \n",
       "44                                  NaN                  NaN    NaN  2024  \n",
       "45                                  NaN                  NaN    NaN  2024  \n",
       "48                                  NaN                  NaN    NaN  2024  \n",
       "49  Extension of Investigation (MOFCOM)  Reporting (Reuters)    NaN  2024  \n",
       "50                     Skydio Statement                  NaN    NaN  2024  \n",
       "51                                  NaN                  NaN    NaN  2024  \n",
       "52                                  NaN                  NaN    NaN  2024  \n",
       "53                                  NaN                  NaN    NaN  2024  \n",
       "54              Analysis (Geopolitechs)                  NaN    NaN  2025  \n",
       "55              Analysis (Geopolitechs)                  NaN    NaN  2025  \n",
       "\n",
       "[49 rows x 21 columns]"
      ]
     },
     "execution_count": 6,
     "metadata": {},
     "output_type": "execute_result"
    }
   ],
   "source": [
    "df_national = df[~df['Nationality of Targets'].isnull()]\n",
    "df_national['Year'] = df_national['Start Date'].dt.year.astype(int)\n",
    "df_national"
   ]
  },
  {
   "cell_type": "code",
   "execution_count": 7,
   "metadata": {},
   "outputs": [
    {
     "data": {
      "text/html": [
       "<div>\n",
       "<style scoped>\n",
       "    .dataframe tbody tr th:only-of-type {\n",
       "        vertical-align: middle;\n",
       "    }\n",
       "\n",
       "    .dataframe tbody tr th {\n",
       "        vertical-align: top;\n",
       "    }\n",
       "\n",
       "    .dataframe thead th {\n",
       "        text-align: right;\n",
       "    }\n",
       "</style>\n",
       "<table border=\"1\" class=\"dataframe\">\n",
       "  <thead>\n",
       "    <tr style=\"text-align: right;\">\n",
       "      <th></th>\n",
       "      <th>Nationality of Targets</th>\n",
       "      <th>Continent</th>\n",
       "      <th>Country</th>\n",
       "    </tr>\n",
       "  </thead>\n",
       "  <tbody>\n",
       "    <tr>\n",
       "      <th>0</th>\n",
       "      <td>United States (North America)</td>\n",
       "      <td>North America</td>\n",
       "      <td>United States</td>\n",
       "    </tr>\n",
       "    <tr>\n",
       "      <th>1</th>\n",
       "      <td>Sweden (Europe)</td>\n",
       "      <td>Europe</td>\n",
       "      <td>Sweden</td>\n",
       "    </tr>\n",
       "    <tr>\n",
       "      <th>2</th>\n",
       "      <td>United States (North America)</td>\n",
       "      <td>North America</td>\n",
       "      <td>United States</td>\n",
       "    </tr>\n",
       "    <tr>\n",
       "      <th>3</th>\n",
       "      <td>United States (North America)</td>\n",
       "      <td>North America</td>\n",
       "      <td>United States</td>\n",
       "    </tr>\n",
       "    <tr>\n",
       "      <th>4</th>\n",
       "      <td>United States (North America)</td>\n",
       "      <td>North America</td>\n",
       "      <td>United States</td>\n",
       "    </tr>\n",
       "    <tr>\n",
       "      <th>5</th>\n",
       "      <td>Germany (Europe)</td>\n",
       "      <td>Europe</td>\n",
       "      <td>Germany</td>\n",
       "    </tr>\n",
       "    <tr>\n",
       "      <th>5</th>\n",
       "      <td>France (Europe)</td>\n",
       "      <td>Europe</td>\n",
       "      <td>France</td>\n",
       "    </tr>\n",
       "    <tr>\n",
       "      <th>5</th>\n",
       "      <td>Bulgaria (Europe)</td>\n",
       "      <td>Europe</td>\n",
       "      <td>Bulgaria</td>\n",
       "    </tr>\n",
       "    <tr>\n",
       "      <th>5</th>\n",
       "      <td>Slovakia (Europe)</td>\n",
       "      <td>Europe</td>\n",
       "      <td>Slovakia</td>\n",
       "    </tr>\n",
       "    <tr>\n",
       "      <th>5</th>\n",
       "      <td>Netherlands (Europe)</td>\n",
       "      <td>Europe</td>\n",
       "      <td>Netherlands</td>\n",
       "    </tr>\n",
       "    <tr>\n",
       "      <th>5</th>\n",
       "      <td>Belgium (Europe)</td>\n",
       "      <td>Europe</td>\n",
       "      <td>Belgium</td>\n",
       "    </tr>\n",
       "    <tr>\n",
       "      <th>5</th>\n",
       "      <td>Lithuania (Europe)</td>\n",
       "      <td>Europe</td>\n",
       "      <td>Lithuania</td>\n",
       "    </tr>\n",
       "    <tr>\n",
       "      <th>5</th>\n",
       "      <td>Sweden (Europe)</td>\n",
       "      <td>Europe</td>\n",
       "      <td>Sweden</td>\n",
       "    </tr>\n",
       "    <tr>\n",
       "      <th>5</th>\n",
       "      <td>European Union (Europe)</td>\n",
       "      <td>Europe</td>\n",
       "      <td>European Union</td>\n",
       "    </tr>\n",
       "    <tr>\n",
       "      <th>5</th>\n",
       "      <td>Denmark (Europe)</td>\n",
       "      <td>Europe</td>\n",
       "      <td>Denmark</td>\n",
       "    </tr>\n",
       "    <tr>\n",
       "      <th>6</th>\n",
       "      <td>United Kingdom (Europe)</td>\n",
       "      <td>Europe</td>\n",
       "      <td>United Kingdom</td>\n",
       "    </tr>\n",
       "    <tr>\n",
       "      <th>7</th>\n",
       "      <td>United States (North America)</td>\n",
       "      <td>North America</td>\n",
       "      <td>United States</td>\n",
       "    </tr>\n",
       "    <tr>\n",
       "      <th>7</th>\n",
       "      <td>Canada (North America)</td>\n",
       "      <td>North America</td>\n",
       "      <td>Canada</td>\n",
       "    </tr>\n",
       "    <tr>\n",
       "      <th>8</th>\n",
       "      <td>Iceland (Europe)</td>\n",
       "      <td>Europe</td>\n",
       "      <td>Iceland</td>\n",
       "    </tr>\n",
       "    <tr>\n",
       "      <th>9</th>\n",
       "      <td>United States (North America)</td>\n",
       "      <td>North America</td>\n",
       "      <td>United States</td>\n",
       "    </tr>\n",
       "    <tr>\n",
       "      <th>10</th>\n",
       "      <td>Taiwan (Asia)</td>\n",
       "      <td>Asia</td>\n",
       "      <td>Taiwan</td>\n",
       "    </tr>\n",
       "    <tr>\n",
       "      <th>11</th>\n",
       "      <td>United States (North America)</td>\n",
       "      <td>North America</td>\n",
       "      <td>United States</td>\n",
       "    </tr>\n",
       "    <tr>\n",
       "      <th>12</th>\n",
       "      <td>Lithuania (Europe)</td>\n",
       "      <td>Europe</td>\n",
       "      <td>Lithuania</td>\n",
       "    </tr>\n",
       "    <tr>\n",
       "      <th>13</th>\n",
       "      <td>Taiwan (Asia)</td>\n",
       "      <td>Asia</td>\n",
       "      <td>Taiwan</td>\n",
       "    </tr>\n",
       "    <tr>\n",
       "      <th>14</th>\n",
       "      <td>Taiwan (Asia)</td>\n",
       "      <td>Asia</td>\n",
       "      <td>Taiwan</td>\n",
       "    </tr>\n",
       "    <tr>\n",
       "      <th>15</th>\n",
       "      <td>Taiwan (Asia)</td>\n",
       "      <td>Asia</td>\n",
       "      <td>Taiwan</td>\n",
       "    </tr>\n",
       "    <tr>\n",
       "      <th>16</th>\n",
       "      <td>United States (North America)</td>\n",
       "      <td>North America</td>\n",
       "      <td>United States</td>\n",
       "    </tr>\n",
       "    <tr>\n",
       "      <th>17</th>\n",
       "      <td>Taiwan (Asia)</td>\n",
       "      <td>Asia</td>\n",
       "      <td>Taiwan</td>\n",
       "    </tr>\n",
       "    <tr>\n",
       "      <th>18</th>\n",
       "      <td>United States (North America)</td>\n",
       "      <td>North America</td>\n",
       "      <td>United States</td>\n",
       "    </tr>\n",
       "    <tr>\n",
       "      <th>19</th>\n",
       "      <td>United States (North America)</td>\n",
       "      <td>North America</td>\n",
       "      <td>United States</td>\n",
       "    </tr>\n",
       "    <tr>\n",
       "      <th>20</th>\n",
       "      <td>United States (North America)</td>\n",
       "      <td>North America</td>\n",
       "      <td>United States</td>\n",
       "    </tr>\n",
       "    <tr>\n",
       "      <th>21</th>\n",
       "      <td>United States (North America)</td>\n",
       "      <td>North America</td>\n",
       "      <td>United States</td>\n",
       "    </tr>\n",
       "    <tr>\n",
       "      <th>22</th>\n",
       "      <td>United States (North America)</td>\n",
       "      <td>North America</td>\n",
       "      <td>United States</td>\n",
       "    </tr>\n",
       "    <tr>\n",
       "      <th>23</th>\n",
       "      <td>Taiwan (Asia)</td>\n",
       "      <td>Asia</td>\n",
       "      <td>Taiwan</td>\n",
       "    </tr>\n",
       "    <tr>\n",
       "      <th>24</th>\n",
       "      <td>United States (North America)</td>\n",
       "      <td>North America</td>\n",
       "      <td>United States</td>\n",
       "    </tr>\n",
       "    <tr>\n",
       "      <th>28</th>\n",
       "      <td>Japan (Asia)</td>\n",
       "      <td>Asia</td>\n",
       "      <td>Japan</td>\n",
       "    </tr>\n",
       "    <tr>\n",
       "      <th>29</th>\n",
       "      <td>Japan (Asia)</td>\n",
       "      <td>Asia</td>\n",
       "      <td>Japan</td>\n",
       "    </tr>\n",
       "    <tr>\n",
       "      <th>30</th>\n",
       "      <td>United States (North America)</td>\n",
       "      <td>North America</td>\n",
       "      <td>United States</td>\n",
       "    </tr>\n",
       "    <tr>\n",
       "      <th>32</th>\n",
       "      <td>Taiwan (Asia)</td>\n",
       "      <td>Asia</td>\n",
       "      <td>Taiwan</td>\n",
       "    </tr>\n",
       "    <tr>\n",
       "      <th>33</th>\n",
       "      <td>United States (North America)</td>\n",
       "      <td>North America</td>\n",
       "      <td>United States</td>\n",
       "    </tr>\n",
       "    <tr>\n",
       "      <th>34</th>\n",
       "      <td>United States (North America)</td>\n",
       "      <td>North America</td>\n",
       "      <td>United States</td>\n",
       "    </tr>\n",
       "    <tr>\n",
       "      <th>35</th>\n",
       "      <td>United States (North America)</td>\n",
       "      <td>North America</td>\n",
       "      <td>United States</td>\n",
       "    </tr>\n",
       "    <tr>\n",
       "      <th>36</th>\n",
       "      <td>Taiwan (Asia)</td>\n",
       "      <td>Asia</td>\n",
       "      <td>Taiwan</td>\n",
       "    </tr>\n",
       "    <tr>\n",
       "      <th>37</th>\n",
       "      <td>United States (North America)</td>\n",
       "      <td>North America</td>\n",
       "      <td>United States</td>\n",
       "    </tr>\n",
       "    <tr>\n",
       "      <th>38</th>\n",
       "      <td>United States (North America)</td>\n",
       "      <td>North America</td>\n",
       "      <td>United States</td>\n",
       "    </tr>\n",
       "    <tr>\n",
       "      <th>39</th>\n",
       "      <td>United States (North America)</td>\n",
       "      <td>North America</td>\n",
       "      <td>United States</td>\n",
       "    </tr>\n",
       "    <tr>\n",
       "      <th>40</th>\n",
       "      <td>United States (North America)</td>\n",
       "      <td>North America</td>\n",
       "      <td>United States</td>\n",
       "    </tr>\n",
       "    <tr>\n",
       "      <th>42</th>\n",
       "      <td>Taiwan (Asia)</td>\n",
       "      <td>Asia</td>\n",
       "      <td>Taiwan</td>\n",
       "    </tr>\n",
       "    <tr>\n",
       "      <th>43</th>\n",
       "      <td>United States (North America)</td>\n",
       "      <td>North America</td>\n",
       "      <td>United States</td>\n",
       "    </tr>\n",
       "    <tr>\n",
       "      <th>44</th>\n",
       "      <td>United States (North America)</td>\n",
       "      <td>North America</td>\n",
       "      <td>United States</td>\n",
       "    </tr>\n",
       "    <tr>\n",
       "      <th>45</th>\n",
       "      <td>United States (North America)</td>\n",
       "      <td>North America</td>\n",
       "      <td>United States</td>\n",
       "    </tr>\n",
       "    <tr>\n",
       "      <th>48</th>\n",
       "      <td>United States (North America)</td>\n",
       "      <td>North America</td>\n",
       "      <td>United States</td>\n",
       "    </tr>\n",
       "    <tr>\n",
       "      <th>49</th>\n",
       "      <td>European Union (Europe)</td>\n",
       "      <td>Europe</td>\n",
       "      <td>European Union</td>\n",
       "    </tr>\n",
       "    <tr>\n",
       "      <th>49</th>\n",
       "      <td>France (Europe)</td>\n",
       "      <td>Europe</td>\n",
       "      <td>France</td>\n",
       "    </tr>\n",
       "    <tr>\n",
       "      <th>50</th>\n",
       "      <td>United States (North America)</td>\n",
       "      <td>North America</td>\n",
       "      <td>United States</td>\n",
       "    </tr>\n",
       "    <tr>\n",
       "      <th>51</th>\n",
       "      <td>United States (North America)</td>\n",
       "      <td>North America</td>\n",
       "      <td>United States</td>\n",
       "    </tr>\n",
       "    <tr>\n",
       "      <th>52</th>\n",
       "      <td>United States (North America)</td>\n",
       "      <td>North America</td>\n",
       "      <td>United States</td>\n",
       "    </tr>\n",
       "    <tr>\n",
       "      <th>53</th>\n",
       "      <td>Canada (North America)</td>\n",
       "      <td>North America</td>\n",
       "      <td>Canada</td>\n",
       "    </tr>\n",
       "    <tr>\n",
       "      <th>54</th>\n",
       "      <td>United States (North America)</td>\n",
       "      <td>North America</td>\n",
       "      <td>United States</td>\n",
       "    </tr>\n",
       "    <tr>\n",
       "      <th>55</th>\n",
       "      <td>United States (North America)</td>\n",
       "      <td>North America</td>\n",
       "      <td>United States</td>\n",
       "    </tr>\n",
       "  </tbody>\n",
       "</table>\n",
       "</div>"
      ],
      "text/plain": [
       "           Nationality of Targets      Continent         Country\n",
       "0   United States (North America)  North America   United States\n",
       "1                 Sweden (Europe)         Europe          Sweden\n",
       "2   United States (North America)  North America   United States\n",
       "3   United States (North America)  North America   United States\n",
       "4   United States (North America)  North America   United States\n",
       "5                Germany (Europe)         Europe         Germany\n",
       "5                 France (Europe)         Europe          France\n",
       "5               Bulgaria (Europe)         Europe        Bulgaria\n",
       "5               Slovakia (Europe)         Europe        Slovakia\n",
       "5            Netherlands (Europe)         Europe     Netherlands\n",
       "5                Belgium (Europe)         Europe         Belgium\n",
       "5              Lithuania (Europe)         Europe       Lithuania\n",
       "5                 Sweden (Europe)         Europe          Sweden\n",
       "5         European Union (Europe)         Europe  European Union\n",
       "5                Denmark (Europe)         Europe         Denmark\n",
       "6         United Kingdom (Europe)         Europe  United Kingdom\n",
       "7   United States (North America)  North America   United States\n",
       "7          Canada (North America)  North America          Canada\n",
       "8                Iceland (Europe)         Europe         Iceland\n",
       "9   United States (North America)  North America   United States\n",
       "10                  Taiwan (Asia)           Asia          Taiwan\n",
       "11  United States (North America)  North America   United States\n",
       "12             Lithuania (Europe)         Europe       Lithuania\n",
       "13                  Taiwan (Asia)           Asia          Taiwan\n",
       "14                  Taiwan (Asia)           Asia          Taiwan\n",
       "15                  Taiwan (Asia)           Asia          Taiwan\n",
       "16  United States (North America)  North America   United States\n",
       "17                  Taiwan (Asia)           Asia          Taiwan\n",
       "18  United States (North America)  North America   United States\n",
       "19  United States (North America)  North America   United States\n",
       "20  United States (North America)  North America   United States\n",
       "21  United States (North America)  North America   United States\n",
       "22  United States (North America)  North America   United States\n",
       "23                  Taiwan (Asia)           Asia          Taiwan\n",
       "24  United States (North America)  North America   United States\n",
       "28                   Japan (Asia)           Asia           Japan\n",
       "29                   Japan (Asia)           Asia           Japan\n",
       "30  United States (North America)  North America   United States\n",
       "32                  Taiwan (Asia)           Asia          Taiwan\n",
       "33  United States (North America)  North America   United States\n",
       "34  United States (North America)  North America   United States\n",
       "35  United States (North America)  North America   United States\n",
       "36                  Taiwan (Asia)           Asia          Taiwan\n",
       "37  United States (North America)  North America   United States\n",
       "38  United States (North America)  North America   United States\n",
       "39  United States (North America)  North America   United States\n",
       "40  United States (North America)  North America   United States\n",
       "42                  Taiwan (Asia)           Asia          Taiwan\n",
       "43  United States (North America)  North America   United States\n",
       "44  United States (North America)  North America   United States\n",
       "45  United States (North America)  North America   United States\n",
       "48  United States (North America)  North America   United States\n",
       "49        European Union (Europe)         Europe  European Union\n",
       "49                France (Europe)         Europe          France\n",
       "50  United States (North America)  North America   United States\n",
       "51  United States (North America)  North America   United States\n",
       "52  United States (North America)  North America   United States\n",
       "53         Canada (North America)  North America          Canada\n",
       "54  United States (North America)  North America   United States\n",
       "55  United States (North America)  North America   United States"
      ]
     },
     "execution_count": 7,
     "metadata": {},
     "output_type": "execute_result"
    }
   ],
   "source": [
    "hierarchy = pd.DataFrame(df_national['Nationality of Targets'].str.split('; ').explode())\n",
    "hierarchy['Continent'] = hierarchy['Nationality of Targets'].str.extract(r'\\((.*)\\)')[0]\n",
    "hierarchy['Country'] = hierarchy['Nationality of Targets'].str.extract(r'(.*) \\(')[0]\n",
    "hierarchy"
   ]
  },
  {
   "cell_type": "code",
   "execution_count": 5,
   "metadata": {},
   "outputs": [],
   "source": [
    "sunburst = hierarchy.groupby(['Continent', 'Country']).size().reset_index(name='Count').sort_values(by='Count', ascending=False).reset_index(drop=True)\n",
    "sunburst['Percentage'] = sunburst['Count'] / sunburst['Count'].sum() * 100"
   ]
  },
  {
   "cell_type": "code",
   "execution_count": 27,
   "metadata": {},
   "outputs": [
    {
     "data": {
      "application/vnd.plotly.v1+json": {
       "config": {
        "plotlyServerURL": "https://plot.ly"
       },
       "data": [
        {
         "branchvalues": "total",
         "customdata": [
          [
           2.7027027027027026
          ],
          [
           2.7027027027027026
          ],
          [
           5.405405405405405
          ],
          [
           2.7027027027027026
          ],
          [
           10.81081081081081
          ],
          [
           5.405405405405405
          ],
          [
           2.7027027027027026
          ],
          [
           5.405405405405405
          ],
          [
           5.405405405405405
          ],
          [
           5.405405405405405
          ],
          [
           2.7027027027027026
          ],
          [
           2.7027027027027026
          ],
          [
           2.7027027027027026
          ],
          [
           5.405405405405405
          ],
          [
           5.405405405405405
          ],
          [
           32.432432432432435
          ],
          [
           "(?)"
          ],
          [
           "(?)"
          ],
          [
           "(?)"
          ]
         ],
         "domain": {
          "x": [
           0,
           1
          ],
          "y": [
           0,
           1
          ]
         },
         "hovertemplate": "labels=%{label}<br>Count=%{value}<br>parent=%{parent}<br>id=%{id}<br>Percentage=%{customdata[0]}<extra></extra>",
         "ids": [
          "Europe/Belgium",
          "Europe/Bulgaria",
          "North America/Canada",
          "Europe/Denmark",
          "Europe/European Union",
          "Europe/France",
          "Europe/Germany",
          "Asia/Japan",
          "Europe/Lithuania",
          "Asia/Mongolia",
          "Europe/Netherlands",
          "Asia/North Korea",
          "Europe/Slovakia",
          "Europe/Sweden",
          "Asia/Taiwan",
          "North America/United States",
          "Asia",
          "Europe",
          "North America"
         ],
         "labels": [
          "Belgium",
          "Bulgaria",
          "Canada",
          "Denmark",
          "European Union",
          "France",
          "Germany",
          "Japan",
          "Lithuania",
          "Mongolia",
          "Netherlands",
          "North Korea",
          "Slovakia",
          "Sweden",
          "Taiwan",
          "United States",
          "Asia",
          "Europe",
          "North America"
         ],
         "name": "",
         "parents": [
          "Europe",
          "Europe",
          "North America",
          "Europe",
          "Europe",
          "Europe",
          "Europe",
          "Asia",
          "Europe",
          "Asia",
          "Europe",
          "Asia",
          "Europe",
          "Europe",
          "Asia",
          "North America",
          "",
          "",
          ""
         ],
         "type": "sunburst",
         "values": [
          1,
          1,
          2,
          1,
          4,
          2,
          1,
          2,
          2,
          2,
          1,
          1,
          1,
          2,
          2,
          12,
          7,
          16,
          14
         ]
        }
       ],
       "layout": {
        "legend": {
         "tracegroupgap": 0
        },
        "margin": {
         "t": 60
        },
        "template": {
         "data": {
          "bar": [
           {
            "error_x": {
             "color": "#2a3f5f"
            },
            "error_y": {
             "color": "#2a3f5f"
            },
            "marker": {
             "line": {
              "color": "#E5ECF6",
              "width": 0.5
             },
             "pattern": {
              "fillmode": "overlay",
              "size": 10,
              "solidity": 0.2
             }
            },
            "type": "bar"
           }
          ],
          "barpolar": [
           {
            "marker": {
             "line": {
              "color": "#E5ECF6",
              "width": 0.5
             },
             "pattern": {
              "fillmode": "overlay",
              "size": 10,
              "solidity": 0.2
             }
            },
            "type": "barpolar"
           }
          ],
          "carpet": [
           {
            "aaxis": {
             "endlinecolor": "#2a3f5f",
             "gridcolor": "white",
             "linecolor": "white",
             "minorgridcolor": "white",
             "startlinecolor": "#2a3f5f"
            },
            "baxis": {
             "endlinecolor": "#2a3f5f",
             "gridcolor": "white",
             "linecolor": "white",
             "minorgridcolor": "white",
             "startlinecolor": "#2a3f5f"
            },
            "type": "carpet"
           }
          ],
          "choropleth": [
           {
            "colorbar": {
             "outlinewidth": 0,
             "ticks": ""
            },
            "type": "choropleth"
           }
          ],
          "contour": [
           {
            "colorbar": {
             "outlinewidth": 0,
             "ticks": ""
            },
            "colorscale": [
             [
              0,
              "#0d0887"
             ],
             [
              0.1111111111111111,
              "#46039f"
             ],
             [
              0.2222222222222222,
              "#7201a8"
             ],
             [
              0.3333333333333333,
              "#9c179e"
             ],
             [
              0.4444444444444444,
              "#bd3786"
             ],
             [
              0.5555555555555556,
              "#d8576b"
             ],
             [
              0.6666666666666666,
              "#ed7953"
             ],
             [
              0.7777777777777778,
              "#fb9f3a"
             ],
             [
              0.8888888888888888,
              "#fdca26"
             ],
             [
              1,
              "#f0f921"
             ]
            ],
            "type": "contour"
           }
          ],
          "contourcarpet": [
           {
            "colorbar": {
             "outlinewidth": 0,
             "ticks": ""
            },
            "type": "contourcarpet"
           }
          ],
          "heatmap": [
           {
            "colorbar": {
             "outlinewidth": 0,
             "ticks": ""
            },
            "colorscale": [
             [
              0,
              "#0d0887"
             ],
             [
              0.1111111111111111,
              "#46039f"
             ],
             [
              0.2222222222222222,
              "#7201a8"
             ],
             [
              0.3333333333333333,
              "#9c179e"
             ],
             [
              0.4444444444444444,
              "#bd3786"
             ],
             [
              0.5555555555555556,
              "#d8576b"
             ],
             [
              0.6666666666666666,
              "#ed7953"
             ],
             [
              0.7777777777777778,
              "#fb9f3a"
             ],
             [
              0.8888888888888888,
              "#fdca26"
             ],
             [
              1,
              "#f0f921"
             ]
            ],
            "type": "heatmap"
           }
          ],
          "heatmapgl": [
           {
            "colorbar": {
             "outlinewidth": 0,
             "ticks": ""
            },
            "colorscale": [
             [
              0,
              "#0d0887"
             ],
             [
              0.1111111111111111,
              "#46039f"
             ],
             [
              0.2222222222222222,
              "#7201a8"
             ],
             [
              0.3333333333333333,
              "#9c179e"
             ],
             [
              0.4444444444444444,
              "#bd3786"
             ],
             [
              0.5555555555555556,
              "#d8576b"
             ],
             [
              0.6666666666666666,
              "#ed7953"
             ],
             [
              0.7777777777777778,
              "#fb9f3a"
             ],
             [
              0.8888888888888888,
              "#fdca26"
             ],
             [
              1,
              "#f0f921"
             ]
            ],
            "type": "heatmapgl"
           }
          ],
          "histogram": [
           {
            "marker": {
             "pattern": {
              "fillmode": "overlay",
              "size": 10,
              "solidity": 0.2
             }
            },
            "type": "histogram"
           }
          ],
          "histogram2d": [
           {
            "colorbar": {
             "outlinewidth": 0,
             "ticks": ""
            },
            "colorscale": [
             [
              0,
              "#0d0887"
             ],
             [
              0.1111111111111111,
              "#46039f"
             ],
             [
              0.2222222222222222,
              "#7201a8"
             ],
             [
              0.3333333333333333,
              "#9c179e"
             ],
             [
              0.4444444444444444,
              "#bd3786"
             ],
             [
              0.5555555555555556,
              "#d8576b"
             ],
             [
              0.6666666666666666,
              "#ed7953"
             ],
             [
              0.7777777777777778,
              "#fb9f3a"
             ],
             [
              0.8888888888888888,
              "#fdca26"
             ],
             [
              1,
              "#f0f921"
             ]
            ],
            "type": "histogram2d"
           }
          ],
          "histogram2dcontour": [
           {
            "colorbar": {
             "outlinewidth": 0,
             "ticks": ""
            },
            "colorscale": [
             [
              0,
              "#0d0887"
             ],
             [
              0.1111111111111111,
              "#46039f"
             ],
             [
              0.2222222222222222,
              "#7201a8"
             ],
             [
              0.3333333333333333,
              "#9c179e"
             ],
             [
              0.4444444444444444,
              "#bd3786"
             ],
             [
              0.5555555555555556,
              "#d8576b"
             ],
             [
              0.6666666666666666,
              "#ed7953"
             ],
             [
              0.7777777777777778,
              "#fb9f3a"
             ],
             [
              0.8888888888888888,
              "#fdca26"
             ],
             [
              1,
              "#f0f921"
             ]
            ],
            "type": "histogram2dcontour"
           }
          ],
          "mesh3d": [
           {
            "colorbar": {
             "outlinewidth": 0,
             "ticks": ""
            },
            "type": "mesh3d"
           }
          ],
          "parcoords": [
           {
            "line": {
             "colorbar": {
              "outlinewidth": 0,
              "ticks": ""
             }
            },
            "type": "parcoords"
           }
          ],
          "pie": [
           {
            "automargin": true,
            "type": "pie"
           }
          ],
          "scatter": [
           {
            "fillpattern": {
             "fillmode": "overlay",
             "size": 10,
             "solidity": 0.2
            },
            "type": "scatter"
           }
          ],
          "scatter3d": [
           {
            "line": {
             "colorbar": {
              "outlinewidth": 0,
              "ticks": ""
             }
            },
            "marker": {
             "colorbar": {
              "outlinewidth": 0,
              "ticks": ""
             }
            },
            "type": "scatter3d"
           }
          ],
          "scattercarpet": [
           {
            "marker": {
             "colorbar": {
              "outlinewidth": 0,
              "ticks": ""
             }
            },
            "type": "scattercarpet"
           }
          ],
          "scattergeo": [
           {
            "marker": {
             "colorbar": {
              "outlinewidth": 0,
              "ticks": ""
             }
            },
            "type": "scattergeo"
           }
          ],
          "scattergl": [
           {
            "marker": {
             "colorbar": {
              "outlinewidth": 0,
              "ticks": ""
             }
            },
            "type": "scattergl"
           }
          ],
          "scattermapbox": [
           {
            "marker": {
             "colorbar": {
              "outlinewidth": 0,
              "ticks": ""
             }
            },
            "type": "scattermapbox"
           }
          ],
          "scatterpolar": [
           {
            "marker": {
             "colorbar": {
              "outlinewidth": 0,
              "ticks": ""
             }
            },
            "type": "scatterpolar"
           }
          ],
          "scatterpolargl": [
           {
            "marker": {
             "colorbar": {
              "outlinewidth": 0,
              "ticks": ""
             }
            },
            "type": "scatterpolargl"
           }
          ],
          "scatterternary": [
           {
            "marker": {
             "colorbar": {
              "outlinewidth": 0,
              "ticks": ""
             }
            },
            "type": "scatterternary"
           }
          ],
          "surface": [
           {
            "colorbar": {
             "outlinewidth": 0,
             "ticks": ""
            },
            "colorscale": [
             [
              0,
              "#0d0887"
             ],
             [
              0.1111111111111111,
              "#46039f"
             ],
             [
              0.2222222222222222,
              "#7201a8"
             ],
             [
              0.3333333333333333,
              "#9c179e"
             ],
             [
              0.4444444444444444,
              "#bd3786"
             ],
             [
              0.5555555555555556,
              "#d8576b"
             ],
             [
              0.6666666666666666,
              "#ed7953"
             ],
             [
              0.7777777777777778,
              "#fb9f3a"
             ],
             [
              0.8888888888888888,
              "#fdca26"
             ],
             [
              1,
              "#f0f921"
             ]
            ],
            "type": "surface"
           }
          ],
          "table": [
           {
            "cells": {
             "fill": {
              "color": "#EBF0F8"
             },
             "line": {
              "color": "white"
             }
            },
            "header": {
             "fill": {
              "color": "#C8D4E3"
             },
             "line": {
              "color": "white"
             }
            },
            "type": "table"
           }
          ]
         },
         "layout": {
          "annotationdefaults": {
           "arrowcolor": "#2a3f5f",
           "arrowhead": 0,
           "arrowwidth": 1
          },
          "autotypenumbers": "strict",
          "coloraxis": {
           "colorbar": {
            "outlinewidth": 0,
            "ticks": ""
           }
          },
          "colorscale": {
           "diverging": [
            [
             0,
             "#8e0152"
            ],
            [
             0.1,
             "#c51b7d"
            ],
            [
             0.2,
             "#de77ae"
            ],
            [
             0.3,
             "#f1b6da"
            ],
            [
             0.4,
             "#fde0ef"
            ],
            [
             0.5,
             "#f7f7f7"
            ],
            [
             0.6,
             "#e6f5d0"
            ],
            [
             0.7,
             "#b8e186"
            ],
            [
             0.8,
             "#7fbc41"
            ],
            [
             0.9,
             "#4d9221"
            ],
            [
             1,
             "#276419"
            ]
           ],
           "sequential": [
            [
             0,
             "#0d0887"
            ],
            [
             0.1111111111111111,
             "#46039f"
            ],
            [
             0.2222222222222222,
             "#7201a8"
            ],
            [
             0.3333333333333333,
             "#9c179e"
            ],
            [
             0.4444444444444444,
             "#bd3786"
            ],
            [
             0.5555555555555556,
             "#d8576b"
            ],
            [
             0.6666666666666666,
             "#ed7953"
            ],
            [
             0.7777777777777778,
             "#fb9f3a"
            ],
            [
             0.8888888888888888,
             "#fdca26"
            ],
            [
             1,
             "#f0f921"
            ]
           ],
           "sequentialminus": [
            [
             0,
             "#0d0887"
            ],
            [
             0.1111111111111111,
             "#46039f"
            ],
            [
             0.2222222222222222,
             "#7201a8"
            ],
            [
             0.3333333333333333,
             "#9c179e"
            ],
            [
             0.4444444444444444,
             "#bd3786"
            ],
            [
             0.5555555555555556,
             "#d8576b"
            ],
            [
             0.6666666666666666,
             "#ed7953"
            ],
            [
             0.7777777777777778,
             "#fb9f3a"
            ],
            [
             0.8888888888888888,
             "#fdca26"
            ],
            [
             1,
             "#f0f921"
            ]
           ]
          },
          "colorway": [
           "#636efa",
           "#EF553B",
           "#00cc96",
           "#ab63fa",
           "#FFA15A",
           "#19d3f3",
           "#FF6692",
           "#B6E880",
           "#FF97FF",
           "#FECB52"
          ],
          "font": {
           "color": "#2a3f5f"
          },
          "geo": {
           "bgcolor": "white",
           "lakecolor": "white",
           "landcolor": "#E5ECF6",
           "showlakes": true,
           "showland": true,
           "subunitcolor": "white"
          },
          "hoverlabel": {
           "align": "left"
          },
          "hovermode": "closest",
          "mapbox": {
           "style": "light"
          },
          "paper_bgcolor": "white",
          "plot_bgcolor": "#E5ECF6",
          "polar": {
           "angularaxis": {
            "gridcolor": "white",
            "linecolor": "white",
            "ticks": ""
           },
           "bgcolor": "#E5ECF6",
           "radialaxis": {
            "gridcolor": "white",
            "linecolor": "white",
            "ticks": ""
           }
          },
          "scene": {
           "xaxis": {
            "backgroundcolor": "#E5ECF6",
            "gridcolor": "white",
            "gridwidth": 2,
            "linecolor": "white",
            "showbackground": true,
            "ticks": "",
            "zerolinecolor": "white"
           },
           "yaxis": {
            "backgroundcolor": "#E5ECF6",
            "gridcolor": "white",
            "gridwidth": 2,
            "linecolor": "white",
            "showbackground": true,
            "ticks": "",
            "zerolinecolor": "white"
           },
           "zaxis": {
            "backgroundcolor": "#E5ECF6",
            "gridcolor": "white",
            "gridwidth": 2,
            "linecolor": "white",
            "showbackground": true,
            "ticks": "",
            "zerolinecolor": "white"
           }
          },
          "shapedefaults": {
           "line": {
            "color": "#2a3f5f"
           }
          },
          "ternary": {
           "aaxis": {
            "gridcolor": "white",
            "linecolor": "white",
            "ticks": ""
           },
           "baxis": {
            "gridcolor": "white",
            "linecolor": "white",
            "ticks": ""
           },
           "bgcolor": "#E5ECF6",
           "caxis": {
            "gridcolor": "white",
            "linecolor": "white",
            "ticks": ""
           }
          },
          "title": {
           "x": 0.05
          },
          "xaxis": {
           "automargin": true,
           "gridcolor": "white",
           "linecolor": "white",
           "ticks": "",
           "title": {
            "standoff": 15
           },
           "zerolinecolor": "white",
           "zerolinewidth": 2
          },
          "yaxis": {
           "automargin": true,
           "gridcolor": "white",
           "linecolor": "white",
           "ticks": "",
           "title": {
            "standoff": 15
           },
           "zerolinecolor": "white",
           "zerolinewidth": 2
          }
         }
        }
       }
      }
     },
     "metadata": {},
     "output_type": "display_data"
    }
   ],
   "source": [
    "import plotly.express as px\n",
    "\n",
    "fig = px.sunburst(sunburst, path=['Continent', 'Country'], values='Count', hover_data=['Percentage'])\n",
    "fig.show()"
   ]
  },
  {
   "cell_type": "code",
   "execution_count": 28,
   "metadata": {},
   "outputs": [
    {
     "data": {
      "application/vnd.plotly.v1+json": {
       "config": {
        "plotlyServerURL": "https://plot.ly"
       },
       "data": [
        {
         "branchvalues": "total",
         "customdata": [
          [
           2.7027027027027026
          ],
          [
           2.7027027027027026
          ],
          [
           5.405405405405405
          ],
          [
           2.7027027027027026
          ],
          [
           10.81081081081081
          ],
          [
           5.405405405405405
          ],
          [
           2.7027027027027026
          ],
          [
           5.405405405405405
          ],
          [
           5.405405405405405
          ],
          [
           5.405405405405405
          ],
          [
           2.7027027027027026
          ],
          [
           2.7027027027027026
          ],
          [
           2.7027027027027026
          ],
          [
           5.405405405405405
          ],
          [
           5.405405405405405
          ],
          [
           32.432432432432435
          ],
          [
           "(?)"
          ],
          [
           "(?)"
          ],
          [
           "(?)"
          ]
         ],
         "domain": {
          "x": [
           0,
           1
          ],
          "y": [
           0,
           1
          ]
         },
         "hovertemplate": "labels=%{label}<br>Count=%{value}<br>parent=%{parent}<br>id=%{id}<br>Percentage=%{customdata[0]}<extra></extra>",
         "ids": [
          "Europe/Belgium",
          "Europe/Bulgaria",
          "North America/Canada",
          "Europe/Denmark",
          "Europe/European Union",
          "Europe/France",
          "Europe/Germany",
          "Asia/Japan",
          "Europe/Lithuania",
          "Asia/Mongolia",
          "Europe/Netherlands",
          "Asia/North Korea",
          "Europe/Slovakia",
          "Europe/Sweden",
          "Asia/Taiwan",
          "North America/United States",
          "Asia",
          "Europe",
          "North America"
         ],
         "labels": [
          "Belgium",
          "Bulgaria",
          "Canada",
          "Denmark",
          "European Union",
          "France",
          "Germany",
          "Japan",
          "Lithuania",
          "Mongolia",
          "Netherlands",
          "North Korea",
          "Slovakia",
          "Sweden",
          "Taiwan",
          "United States",
          "Asia",
          "Europe",
          "North America"
         ],
         "name": "",
         "parents": [
          "Europe",
          "Europe",
          "North America",
          "Europe",
          "Europe",
          "Europe",
          "Europe",
          "Asia",
          "Europe",
          "Asia",
          "Europe",
          "Asia",
          "Europe",
          "Europe",
          "Asia",
          "North America",
          "",
          "",
          ""
         ],
         "type": "treemap",
         "values": [
          1,
          1,
          2,
          1,
          4,
          2,
          1,
          2,
          2,
          2,
          1,
          1,
          1,
          2,
          2,
          12,
          7,
          16,
          14
         ]
        }
       ],
       "layout": {
        "legend": {
         "tracegroupgap": 0
        },
        "margin": {
         "t": 60
        },
        "template": {
         "data": {
          "bar": [
           {
            "error_x": {
             "color": "#2a3f5f"
            },
            "error_y": {
             "color": "#2a3f5f"
            },
            "marker": {
             "line": {
              "color": "#E5ECF6",
              "width": 0.5
             },
             "pattern": {
              "fillmode": "overlay",
              "size": 10,
              "solidity": 0.2
             }
            },
            "type": "bar"
           }
          ],
          "barpolar": [
           {
            "marker": {
             "line": {
              "color": "#E5ECF6",
              "width": 0.5
             },
             "pattern": {
              "fillmode": "overlay",
              "size": 10,
              "solidity": 0.2
             }
            },
            "type": "barpolar"
           }
          ],
          "carpet": [
           {
            "aaxis": {
             "endlinecolor": "#2a3f5f",
             "gridcolor": "white",
             "linecolor": "white",
             "minorgridcolor": "white",
             "startlinecolor": "#2a3f5f"
            },
            "baxis": {
             "endlinecolor": "#2a3f5f",
             "gridcolor": "white",
             "linecolor": "white",
             "minorgridcolor": "white",
             "startlinecolor": "#2a3f5f"
            },
            "type": "carpet"
           }
          ],
          "choropleth": [
           {
            "colorbar": {
             "outlinewidth": 0,
             "ticks": ""
            },
            "type": "choropleth"
           }
          ],
          "contour": [
           {
            "colorbar": {
             "outlinewidth": 0,
             "ticks": ""
            },
            "colorscale": [
             [
              0,
              "#0d0887"
             ],
             [
              0.1111111111111111,
              "#46039f"
             ],
             [
              0.2222222222222222,
              "#7201a8"
             ],
             [
              0.3333333333333333,
              "#9c179e"
             ],
             [
              0.4444444444444444,
              "#bd3786"
             ],
             [
              0.5555555555555556,
              "#d8576b"
             ],
             [
              0.6666666666666666,
              "#ed7953"
             ],
             [
              0.7777777777777778,
              "#fb9f3a"
             ],
             [
              0.8888888888888888,
              "#fdca26"
             ],
             [
              1,
              "#f0f921"
             ]
            ],
            "type": "contour"
           }
          ],
          "contourcarpet": [
           {
            "colorbar": {
             "outlinewidth": 0,
             "ticks": ""
            },
            "type": "contourcarpet"
           }
          ],
          "heatmap": [
           {
            "colorbar": {
             "outlinewidth": 0,
             "ticks": ""
            },
            "colorscale": [
             [
              0,
              "#0d0887"
             ],
             [
              0.1111111111111111,
              "#46039f"
             ],
             [
              0.2222222222222222,
              "#7201a8"
             ],
             [
              0.3333333333333333,
              "#9c179e"
             ],
             [
              0.4444444444444444,
              "#bd3786"
             ],
             [
              0.5555555555555556,
              "#d8576b"
             ],
             [
              0.6666666666666666,
              "#ed7953"
             ],
             [
              0.7777777777777778,
              "#fb9f3a"
             ],
             [
              0.8888888888888888,
              "#fdca26"
             ],
             [
              1,
              "#f0f921"
             ]
            ],
            "type": "heatmap"
           }
          ],
          "heatmapgl": [
           {
            "colorbar": {
             "outlinewidth": 0,
             "ticks": ""
            },
            "colorscale": [
             [
              0,
              "#0d0887"
             ],
             [
              0.1111111111111111,
              "#46039f"
             ],
             [
              0.2222222222222222,
              "#7201a8"
             ],
             [
              0.3333333333333333,
              "#9c179e"
             ],
             [
              0.4444444444444444,
              "#bd3786"
             ],
             [
              0.5555555555555556,
              "#d8576b"
             ],
             [
              0.6666666666666666,
              "#ed7953"
             ],
             [
              0.7777777777777778,
              "#fb9f3a"
             ],
             [
              0.8888888888888888,
              "#fdca26"
             ],
             [
              1,
              "#f0f921"
             ]
            ],
            "type": "heatmapgl"
           }
          ],
          "histogram": [
           {
            "marker": {
             "pattern": {
              "fillmode": "overlay",
              "size": 10,
              "solidity": 0.2
             }
            },
            "type": "histogram"
           }
          ],
          "histogram2d": [
           {
            "colorbar": {
             "outlinewidth": 0,
             "ticks": ""
            },
            "colorscale": [
             [
              0,
              "#0d0887"
             ],
             [
              0.1111111111111111,
              "#46039f"
             ],
             [
              0.2222222222222222,
              "#7201a8"
             ],
             [
              0.3333333333333333,
              "#9c179e"
             ],
             [
              0.4444444444444444,
              "#bd3786"
             ],
             [
              0.5555555555555556,
              "#d8576b"
             ],
             [
              0.6666666666666666,
              "#ed7953"
             ],
             [
              0.7777777777777778,
              "#fb9f3a"
             ],
             [
              0.8888888888888888,
              "#fdca26"
             ],
             [
              1,
              "#f0f921"
             ]
            ],
            "type": "histogram2d"
           }
          ],
          "histogram2dcontour": [
           {
            "colorbar": {
             "outlinewidth": 0,
             "ticks": ""
            },
            "colorscale": [
             [
              0,
              "#0d0887"
             ],
             [
              0.1111111111111111,
              "#46039f"
             ],
             [
              0.2222222222222222,
              "#7201a8"
             ],
             [
              0.3333333333333333,
              "#9c179e"
             ],
             [
              0.4444444444444444,
              "#bd3786"
             ],
             [
              0.5555555555555556,
              "#d8576b"
             ],
             [
              0.6666666666666666,
              "#ed7953"
             ],
             [
              0.7777777777777778,
              "#fb9f3a"
             ],
             [
              0.8888888888888888,
              "#fdca26"
             ],
             [
              1,
              "#f0f921"
             ]
            ],
            "type": "histogram2dcontour"
           }
          ],
          "mesh3d": [
           {
            "colorbar": {
             "outlinewidth": 0,
             "ticks": ""
            },
            "type": "mesh3d"
           }
          ],
          "parcoords": [
           {
            "line": {
             "colorbar": {
              "outlinewidth": 0,
              "ticks": ""
             }
            },
            "type": "parcoords"
           }
          ],
          "pie": [
           {
            "automargin": true,
            "type": "pie"
           }
          ],
          "scatter": [
           {
            "fillpattern": {
             "fillmode": "overlay",
             "size": 10,
             "solidity": 0.2
            },
            "type": "scatter"
           }
          ],
          "scatter3d": [
           {
            "line": {
             "colorbar": {
              "outlinewidth": 0,
              "ticks": ""
             }
            },
            "marker": {
             "colorbar": {
              "outlinewidth": 0,
              "ticks": ""
             }
            },
            "type": "scatter3d"
           }
          ],
          "scattercarpet": [
           {
            "marker": {
             "colorbar": {
              "outlinewidth": 0,
              "ticks": ""
             }
            },
            "type": "scattercarpet"
           }
          ],
          "scattergeo": [
           {
            "marker": {
             "colorbar": {
              "outlinewidth": 0,
              "ticks": ""
             }
            },
            "type": "scattergeo"
           }
          ],
          "scattergl": [
           {
            "marker": {
             "colorbar": {
              "outlinewidth": 0,
              "ticks": ""
             }
            },
            "type": "scattergl"
           }
          ],
          "scattermapbox": [
           {
            "marker": {
             "colorbar": {
              "outlinewidth": 0,
              "ticks": ""
             }
            },
            "type": "scattermapbox"
           }
          ],
          "scatterpolar": [
           {
            "marker": {
             "colorbar": {
              "outlinewidth": 0,
              "ticks": ""
             }
            },
            "type": "scatterpolar"
           }
          ],
          "scatterpolargl": [
           {
            "marker": {
             "colorbar": {
              "outlinewidth": 0,
              "ticks": ""
             }
            },
            "type": "scatterpolargl"
           }
          ],
          "scatterternary": [
           {
            "marker": {
             "colorbar": {
              "outlinewidth": 0,
              "ticks": ""
             }
            },
            "type": "scatterternary"
           }
          ],
          "surface": [
           {
            "colorbar": {
             "outlinewidth": 0,
             "ticks": ""
            },
            "colorscale": [
             [
              0,
              "#0d0887"
             ],
             [
              0.1111111111111111,
              "#46039f"
             ],
             [
              0.2222222222222222,
              "#7201a8"
             ],
             [
              0.3333333333333333,
              "#9c179e"
             ],
             [
              0.4444444444444444,
              "#bd3786"
             ],
             [
              0.5555555555555556,
              "#d8576b"
             ],
             [
              0.6666666666666666,
              "#ed7953"
             ],
             [
              0.7777777777777778,
              "#fb9f3a"
             ],
             [
              0.8888888888888888,
              "#fdca26"
             ],
             [
              1,
              "#f0f921"
             ]
            ],
            "type": "surface"
           }
          ],
          "table": [
           {
            "cells": {
             "fill": {
              "color": "#EBF0F8"
             },
             "line": {
              "color": "white"
             }
            },
            "header": {
             "fill": {
              "color": "#C8D4E3"
             },
             "line": {
              "color": "white"
             }
            },
            "type": "table"
           }
          ]
         },
         "layout": {
          "annotationdefaults": {
           "arrowcolor": "#2a3f5f",
           "arrowhead": 0,
           "arrowwidth": 1
          },
          "autotypenumbers": "strict",
          "coloraxis": {
           "colorbar": {
            "outlinewidth": 0,
            "ticks": ""
           }
          },
          "colorscale": {
           "diverging": [
            [
             0,
             "#8e0152"
            ],
            [
             0.1,
             "#c51b7d"
            ],
            [
             0.2,
             "#de77ae"
            ],
            [
             0.3,
             "#f1b6da"
            ],
            [
             0.4,
             "#fde0ef"
            ],
            [
             0.5,
             "#f7f7f7"
            ],
            [
             0.6,
             "#e6f5d0"
            ],
            [
             0.7,
             "#b8e186"
            ],
            [
             0.8,
             "#7fbc41"
            ],
            [
             0.9,
             "#4d9221"
            ],
            [
             1,
             "#276419"
            ]
           ],
           "sequential": [
            [
             0,
             "#0d0887"
            ],
            [
             0.1111111111111111,
             "#46039f"
            ],
            [
             0.2222222222222222,
             "#7201a8"
            ],
            [
             0.3333333333333333,
             "#9c179e"
            ],
            [
             0.4444444444444444,
             "#bd3786"
            ],
            [
             0.5555555555555556,
             "#d8576b"
            ],
            [
             0.6666666666666666,
             "#ed7953"
            ],
            [
             0.7777777777777778,
             "#fb9f3a"
            ],
            [
             0.8888888888888888,
             "#fdca26"
            ],
            [
             1,
             "#f0f921"
            ]
           ],
           "sequentialminus": [
            [
             0,
             "#0d0887"
            ],
            [
             0.1111111111111111,
             "#46039f"
            ],
            [
             0.2222222222222222,
             "#7201a8"
            ],
            [
             0.3333333333333333,
             "#9c179e"
            ],
            [
             0.4444444444444444,
             "#bd3786"
            ],
            [
             0.5555555555555556,
             "#d8576b"
            ],
            [
             0.6666666666666666,
             "#ed7953"
            ],
            [
             0.7777777777777778,
             "#fb9f3a"
            ],
            [
             0.8888888888888888,
             "#fdca26"
            ],
            [
             1,
             "#f0f921"
            ]
           ]
          },
          "colorway": [
           "#636efa",
           "#EF553B",
           "#00cc96",
           "#ab63fa",
           "#FFA15A",
           "#19d3f3",
           "#FF6692",
           "#B6E880",
           "#FF97FF",
           "#FECB52"
          ],
          "font": {
           "color": "#2a3f5f"
          },
          "geo": {
           "bgcolor": "white",
           "lakecolor": "white",
           "landcolor": "#E5ECF6",
           "showlakes": true,
           "showland": true,
           "subunitcolor": "white"
          },
          "hoverlabel": {
           "align": "left"
          },
          "hovermode": "closest",
          "mapbox": {
           "style": "light"
          },
          "paper_bgcolor": "white",
          "plot_bgcolor": "#E5ECF6",
          "polar": {
           "angularaxis": {
            "gridcolor": "white",
            "linecolor": "white",
            "ticks": ""
           },
           "bgcolor": "#E5ECF6",
           "radialaxis": {
            "gridcolor": "white",
            "linecolor": "white",
            "ticks": ""
           }
          },
          "scene": {
           "xaxis": {
            "backgroundcolor": "#E5ECF6",
            "gridcolor": "white",
            "gridwidth": 2,
            "linecolor": "white",
            "showbackground": true,
            "ticks": "",
            "zerolinecolor": "white"
           },
           "yaxis": {
            "backgroundcolor": "#E5ECF6",
            "gridcolor": "white",
            "gridwidth": 2,
            "linecolor": "white",
            "showbackground": true,
            "ticks": "",
            "zerolinecolor": "white"
           },
           "zaxis": {
            "backgroundcolor": "#E5ECF6",
            "gridcolor": "white",
            "gridwidth": 2,
            "linecolor": "white",
            "showbackground": true,
            "ticks": "",
            "zerolinecolor": "white"
           }
          },
          "shapedefaults": {
           "line": {
            "color": "#2a3f5f"
           }
          },
          "ternary": {
           "aaxis": {
            "gridcolor": "white",
            "linecolor": "white",
            "ticks": ""
           },
           "baxis": {
            "gridcolor": "white",
            "linecolor": "white",
            "ticks": ""
           },
           "bgcolor": "#E5ECF6",
           "caxis": {
            "gridcolor": "white",
            "linecolor": "white",
            "ticks": ""
           }
          },
          "title": {
           "x": 0.05
          },
          "xaxis": {
           "automargin": true,
           "gridcolor": "white",
           "linecolor": "white",
           "ticks": "",
           "title": {
            "standoff": 15
           },
           "zerolinecolor": "white",
           "zerolinewidth": 2
          },
          "yaxis": {
           "automargin": true,
           "gridcolor": "white",
           "linecolor": "white",
           "ticks": "",
           "title": {
            "standoff": 15
           },
           "zerolinecolor": "white",
           "zerolinewidth": 2
          }
         }
        }
       }
      }
     },
     "metadata": {},
     "output_type": "display_data"
    }
   ],
   "source": [
    "fig = px.treemap(sunburst, path=['Continent', 'Country'], values='Count', hover_data=['Percentage'])\n",
    "fig.show()"
   ]
  },
  {
   "cell_type": "markdown",
   "metadata": {},
   "source": [
    "# Form of restriction"
   ]
  },
  {
   "cell_type": "code",
   "execution_count": 52,
   "metadata": {},
   "outputs": [
    {
     "data": {
      "text/html": [
       "<div>\n",
       "<style scoped>\n",
       "    .dataframe tbody tr th:only-of-type {\n",
       "        vertical-align: middle;\n",
       "    }\n",
       "\n",
       "    .dataframe tbody tr th {\n",
       "        vertical-align: top;\n",
       "    }\n",
       "\n",
       "    .dataframe thead th {\n",
       "        text-align: right;\n",
       "    }\n",
       "</style>\n",
       "<table border=\"1\" class=\"dataframe\">\n",
       "  <thead>\n",
       "    <tr style=\"text-align: right;\">\n",
       "      <th></th>\n",
       "      <th>Start Date</th>\n",
       "      <th>Form of Restriction</th>\n",
       "      <th>Title</th>\n",
       "    </tr>\n",
       "  </thead>\n",
       "  <tbody>\n",
       "    <tr>\n",
       "      <th>0</th>\n",
       "      <td>2000-10-19</td>\n",
       "      <td>Sanction</td>\n",
       "      <td>1</td>\n",
       "    </tr>\n",
       "    <tr>\n",
       "      <th>1</th>\n",
       "      <td>2002-11-07</td>\n",
       "      <td>Sanction</td>\n",
       "      <td>1</td>\n",
       "    </tr>\n",
       "    <tr>\n",
       "      <th>2</th>\n",
       "      <td>2003-04-01</td>\n",
       "      <td>Sanction</td>\n",
       "      <td>1</td>\n",
       "    </tr>\n",
       "    <tr>\n",
       "      <th>3</th>\n",
       "      <td>2006-08-23</td>\n",
       "      <td>Sanction</td>\n",
       "      <td>1</td>\n",
       "    </tr>\n",
       "    <tr>\n",
       "      <th>4</th>\n",
       "      <td>2020-01-01</td>\n",
       "      <td>Export Control</td>\n",
       "      <td>1</td>\n",
       "    </tr>\n",
       "    <tr>\n",
       "      <th>5</th>\n",
       "      <td>2021-03-22</td>\n",
       "      <td>Targeted Sanction</td>\n",
       "      <td>1</td>\n",
       "    </tr>\n",
       "    <tr>\n",
       "      <th>6</th>\n",
       "      <td>2021-03-27</td>\n",
       "      <td>Targeted Sanction</td>\n",
       "      <td>1</td>\n",
       "    </tr>\n",
       "    <tr>\n",
       "      <th>7</th>\n",
       "      <td>2022-08-01</td>\n",
       "      <td>Targeted Sanction</td>\n",
       "      <td>1</td>\n",
       "    </tr>\n",
       "    <tr>\n",
       "      <th>8</th>\n",
       "      <td>2022-08-03</td>\n",
       "      <td>Export Control</td>\n",
       "      <td>1</td>\n",
       "    </tr>\n",
       "    <tr>\n",
       "      <th>9</th>\n",
       "      <td>2022-08-03</td>\n",
       "      <td>Import Restriction</td>\n",
       "      <td>1</td>\n",
       "    </tr>\n",
       "    <tr>\n",
       "      <th>10</th>\n",
       "      <td>2022-08-05</td>\n",
       "      <td>Targeted Sanction</td>\n",
       "      <td>1</td>\n",
       "    </tr>\n",
       "    <tr>\n",
       "      <th>11</th>\n",
       "      <td>2023-02-01</td>\n",
       "      <td>Targeted Sanction</td>\n",
       "      <td>1</td>\n",
       "    </tr>\n",
       "    <tr>\n",
       "      <th>12</th>\n",
       "      <td>2023-03-31</td>\n",
       "      <td>Obstruction of Foreign Business in China</td>\n",
       "      <td>1</td>\n",
       "    </tr>\n",
       "    <tr>\n",
       "      <th>13</th>\n",
       "      <td>2023-04-13</td>\n",
       "      <td>Targeted Sanction</td>\n",
       "      <td>1</td>\n",
       "    </tr>\n",
       "    <tr>\n",
       "      <th>14</th>\n",
       "      <td>2023-07-03</td>\n",
       "      <td>Export Control</td>\n",
       "      <td>1</td>\n",
       "    </tr>\n",
       "    <tr>\n",
       "      <th>15</th>\n",
       "      <td>2023-08-24</td>\n",
       "      <td>Boycott</td>\n",
       "      <td>1</td>\n",
       "    </tr>\n",
       "    <tr>\n",
       "      <th>16</th>\n",
       "      <td>2023-08-24</td>\n",
       "      <td>Import Restriction</td>\n",
       "      <td>1</td>\n",
       "    </tr>\n",
       "    <tr>\n",
       "      <th>17</th>\n",
       "      <td>2023-08-31</td>\n",
       "      <td>Targeted Sanction</td>\n",
       "      <td>1</td>\n",
       "    </tr>\n",
       "    <tr>\n",
       "      <th>18</th>\n",
       "      <td>2023-10-20</td>\n",
       "      <td>Export Control</td>\n",
       "      <td>1</td>\n",
       "    </tr>\n",
       "    <tr>\n",
       "      <th>19</th>\n",
       "      <td>2024-05-22</td>\n",
       "      <td>Targeted Sanction</td>\n",
       "      <td>1</td>\n",
       "    </tr>\n",
       "    <tr>\n",
       "      <th>20</th>\n",
       "      <td>2024-06-17</td>\n",
       "      <td>Sanction</td>\n",
       "      <td>1</td>\n",
       "    </tr>\n",
       "    <tr>\n",
       "      <th>21</th>\n",
       "      <td>2024-07-12</td>\n",
       "      <td>Targeted Sanction</td>\n",
       "      <td>1</td>\n",
       "    </tr>\n",
       "    <tr>\n",
       "      <th>22</th>\n",
       "      <td>2024-08-15</td>\n",
       "      <td>Export Control</td>\n",
       "      <td>1</td>\n",
       "    </tr>\n",
       "    <tr>\n",
       "      <th>23</th>\n",
       "      <td>2024-08-21</td>\n",
       "      <td>Sanction</td>\n",
       "      <td>1</td>\n",
       "    </tr>\n",
       "    <tr>\n",
       "      <th>24</th>\n",
       "      <td>2024-09-04</td>\n",
       "      <td>Sanction</td>\n",
       "      <td>1</td>\n",
       "    </tr>\n",
       "    <tr>\n",
       "      <th>25</th>\n",
       "      <td>2024-09-18</td>\n",
       "      <td>Targeted Sanction</td>\n",
       "      <td>1</td>\n",
       "    </tr>\n",
       "    <tr>\n",
       "      <th>26</th>\n",
       "      <td>2024-10-08</td>\n",
       "      <td>Sanction</td>\n",
       "      <td>1</td>\n",
       "    </tr>\n",
       "    <tr>\n",
       "      <th>27</th>\n",
       "      <td>2024-10-10</td>\n",
       "      <td>Targeted Sanction</td>\n",
       "      <td>1</td>\n",
       "    </tr>\n",
       "    <tr>\n",
       "      <th>28</th>\n",
       "      <td>2024-12-03</td>\n",
       "      <td>Export Control</td>\n",
       "      <td>1</td>\n",
       "    </tr>\n",
       "    <tr>\n",
       "      <th>29</th>\n",
       "      <td>2024-12-05</td>\n",
       "      <td>Targeted Sanction</td>\n",
       "      <td>1</td>\n",
       "    </tr>\n",
       "    <tr>\n",
       "      <th>30</th>\n",
       "      <td>2024-12-10</td>\n",
       "      <td>Obstruction of Foreign Business in China</td>\n",
       "      <td>1</td>\n",
       "    </tr>\n",
       "  </tbody>\n",
       "</table>\n",
       "</div>"
      ],
      "text/plain": [
       "   Start Date                       Form of Restriction  Title\n",
       "0  2000-10-19                                  Sanction      1\n",
       "1  2002-11-07                                  Sanction      1\n",
       "2  2003-04-01                                  Sanction      1\n",
       "3  2006-08-23                                  Sanction      1\n",
       "4  2020-01-01                            Export Control      1\n",
       "5  2021-03-22                         Targeted Sanction      1\n",
       "6  2021-03-27                         Targeted Sanction      1\n",
       "7  2022-08-01                         Targeted Sanction      1\n",
       "8  2022-08-03                            Export Control      1\n",
       "9  2022-08-03                        Import Restriction      1\n",
       "10 2022-08-05                         Targeted Sanction      1\n",
       "11 2023-02-01                         Targeted Sanction      1\n",
       "12 2023-03-31  Obstruction of Foreign Business in China      1\n",
       "13 2023-04-13                         Targeted Sanction      1\n",
       "14 2023-07-03                            Export Control      1\n",
       "15 2023-08-24                                   Boycott      1\n",
       "16 2023-08-24                        Import Restriction      1\n",
       "17 2023-08-31                         Targeted Sanction      1\n",
       "18 2023-10-20                            Export Control      1\n",
       "19 2024-05-22                         Targeted Sanction      1\n",
       "20 2024-06-17                                  Sanction      1\n",
       "21 2024-07-12                         Targeted Sanction      1\n",
       "22 2024-08-15                            Export Control      1\n",
       "23 2024-08-21                                  Sanction      1\n",
       "24 2024-09-04                                  Sanction      1\n",
       "25 2024-09-18                         Targeted Sanction      1\n",
       "26 2024-10-08                                  Sanction      1\n",
       "27 2024-10-10                         Targeted Sanction      1\n",
       "28 2024-12-03                            Export Control      1\n",
       "29 2024-12-05                         Targeted Sanction      1\n",
       "30 2024-12-10  Obstruction of Foreign Business in China      1"
      ]
     },
     "execution_count": 52,
     "metadata": {},
     "output_type": "execute_result"
    }
   ],
   "source": [
    "df_for = df.groupby(['Start Date', 'Form of Restriction']).count()['Title'].reset_index()\n",
    "df_for"
   ]
  },
  {
   "cell_type": "code",
   "execution_count": 62,
   "metadata": {},
   "outputs": [
    {
     "data": {
      "text/html": [
       "<div>\n",
       "<style scoped>\n",
       "    .dataframe tbody tr th:only-of-type {\n",
       "        vertical-align: middle;\n",
       "    }\n",
       "\n",
       "    .dataframe tbody tr th {\n",
       "        vertical-align: top;\n",
       "    }\n",
       "\n",
       "    .dataframe thead th {\n",
       "        text-align: right;\n",
       "    }\n",
       "</style>\n",
       "<table border=\"1\" class=\"dataframe\">\n",
       "  <thead>\n",
       "    <tr style=\"text-align: right;\">\n",
       "      <th></th>\n",
       "      <th>Year</th>\n",
       "      <th>Form of Restriction</th>\n",
       "      <th>Title</th>\n",
       "    </tr>\n",
       "  </thead>\n",
       "  <tbody>\n",
       "    <tr>\n",
       "      <th>0</th>\n",
       "      <td>2000</td>\n",
       "      <td>Sanction</td>\n",
       "      <td>1</td>\n",
       "    </tr>\n",
       "    <tr>\n",
       "      <th>1</th>\n",
       "      <td>2002</td>\n",
       "      <td>Sanction</td>\n",
       "      <td>1</td>\n",
       "    </tr>\n",
       "    <tr>\n",
       "      <th>2</th>\n",
       "      <td>2003</td>\n",
       "      <td>Sanction</td>\n",
       "      <td>1</td>\n",
       "    </tr>\n",
       "    <tr>\n",
       "      <th>3</th>\n",
       "      <td>2006</td>\n",
       "      <td>Sanction</td>\n",
       "      <td>1</td>\n",
       "    </tr>\n",
       "    <tr>\n",
       "      <th>4</th>\n",
       "      <td>2020</td>\n",
       "      <td>Export Control</td>\n",
       "      <td>1</td>\n",
       "    </tr>\n",
       "    <tr>\n",
       "      <th>5</th>\n",
       "      <td>2021</td>\n",
       "      <td>Targeted Sanction</td>\n",
       "      <td>2</td>\n",
       "    </tr>\n",
       "    <tr>\n",
       "      <th>6</th>\n",
       "      <td>2022</td>\n",
       "      <td>Export Control</td>\n",
       "      <td>1</td>\n",
       "    </tr>\n",
       "    <tr>\n",
       "      <th>7</th>\n",
       "      <td>2022</td>\n",
       "      <td>Import Restriction</td>\n",
       "      <td>1</td>\n",
       "    </tr>\n",
       "    <tr>\n",
       "      <th>8</th>\n",
       "      <td>2022</td>\n",
       "      <td>Targeted Sanction</td>\n",
       "      <td>2</td>\n",
       "    </tr>\n",
       "    <tr>\n",
       "      <th>9</th>\n",
       "      <td>2023</td>\n",
       "      <td>Boycott</td>\n",
       "      <td>1</td>\n",
       "    </tr>\n",
       "    <tr>\n",
       "      <th>10</th>\n",
       "      <td>2023</td>\n",
       "      <td>Export Control</td>\n",
       "      <td>2</td>\n",
       "    </tr>\n",
       "    <tr>\n",
       "      <th>11</th>\n",
       "      <td>2023</td>\n",
       "      <td>Import Restriction</td>\n",
       "      <td>1</td>\n",
       "    </tr>\n",
       "    <tr>\n",
       "      <th>12</th>\n",
       "      <td>2023</td>\n",
       "      <td>Obstruction of Foreign Business in China</td>\n",
       "      <td>1</td>\n",
       "    </tr>\n",
       "    <tr>\n",
       "      <th>13</th>\n",
       "      <td>2023</td>\n",
       "      <td>Targeted Sanction</td>\n",
       "      <td>3</td>\n",
       "    </tr>\n",
       "    <tr>\n",
       "      <th>14</th>\n",
       "      <td>2024</td>\n",
       "      <td>Export Control</td>\n",
       "      <td>2</td>\n",
       "    </tr>\n",
       "    <tr>\n",
       "      <th>15</th>\n",
       "      <td>2024</td>\n",
       "      <td>Obstruction of Foreign Business in China</td>\n",
       "      <td>1</td>\n",
       "    </tr>\n",
       "    <tr>\n",
       "      <th>16</th>\n",
       "      <td>2024</td>\n",
       "      <td>Sanction</td>\n",
       "      <td>4</td>\n",
       "    </tr>\n",
       "    <tr>\n",
       "      <th>17</th>\n",
       "      <td>2024</td>\n",
       "      <td>Targeted Sanction</td>\n",
       "      <td>5</td>\n",
       "    </tr>\n",
       "  </tbody>\n",
       "</table>\n",
       "</div>"
      ],
      "text/plain": [
       "    Year                       Form of Restriction  Title\n",
       "0   2000                                  Sanction      1\n",
       "1   2002                                  Sanction      1\n",
       "2   2003                                  Sanction      1\n",
       "3   2006                                  Sanction      1\n",
       "4   2020                            Export Control      1\n",
       "5   2021                         Targeted Sanction      2\n",
       "6   2022                            Export Control      1\n",
       "7   2022                        Import Restriction      1\n",
       "8   2022                         Targeted Sanction      2\n",
       "9   2023                                   Boycott      1\n",
       "10  2023                            Export Control      2\n",
       "11  2023                        Import Restriction      1\n",
       "12  2023  Obstruction of Foreign Business in China      1\n",
       "13  2023                         Targeted Sanction      3\n",
       "14  2024                            Export Control      2\n",
       "15  2024  Obstruction of Foreign Business in China      1\n",
       "16  2024                                  Sanction      4\n",
       "17  2024                         Targeted Sanction      5"
      ]
     },
     "execution_count": 62,
     "metadata": {},
     "output_type": "execute_result"
    }
   ],
   "source": [
    "df_for['Year'] = df_for['Start Date'].dt.year\n",
    "df_for = df_for.groupby(['Year', 'Form of Restriction']).count()['Title'].reset_index()\n",
    "df_for"
   ]
  },
  {
   "cell_type": "code",
   "execution_count": 64,
   "metadata": {},
   "outputs": [
    {
     "data": {
      "application/vnd.plotly.v1+json": {
       "config": {
        "plotlyServerURL": "https://plot.ly"
       },
       "data": [
        {
         "alignmentgroup": "True",
         "hovertemplate": "Form of Restriction=Sanction<br>Year=%{x}<br>Count=%{y}<extra></extra>",
         "legendgroup": "Sanction",
         "marker": {
          "color": "#636efa",
          "pattern": {
           "shape": ""
          }
         },
         "name": "Sanction",
         "offsetgroup": "Sanction",
         "orientation": "v",
         "showlegend": true,
         "textposition": "auto",
         "type": "bar",
         "x": [
          2000,
          2002,
          2003,
          2006,
          2024
         ],
         "xaxis": "x",
         "y": [
          1,
          1,
          1,
          1,
          4
         ],
         "yaxis": "y"
        },
        {
         "alignmentgroup": "True",
         "hovertemplate": "Form of Restriction=Export Control<br>Year=%{x}<br>Count=%{y}<extra></extra>",
         "legendgroup": "Export Control",
         "marker": {
          "color": "#EF553B",
          "pattern": {
           "shape": ""
          }
         },
         "name": "Export Control",
         "offsetgroup": "Export Control",
         "orientation": "v",
         "showlegend": true,
         "textposition": "auto",
         "type": "bar",
         "x": [
          2020,
          2022,
          2023,
          2024
         ],
         "xaxis": "x",
         "y": [
          1,
          1,
          2,
          2
         ],
         "yaxis": "y"
        },
        {
         "alignmentgroup": "True",
         "hovertemplate": "Form of Restriction=Targeted Sanction<br>Year=%{x}<br>Count=%{y}<extra></extra>",
         "legendgroup": "Targeted Sanction",
         "marker": {
          "color": "#00cc96",
          "pattern": {
           "shape": ""
          }
         },
         "name": "Targeted Sanction",
         "offsetgroup": "Targeted Sanction",
         "orientation": "v",
         "showlegend": true,
         "textposition": "auto",
         "type": "bar",
         "x": [
          2021,
          2022,
          2023,
          2024
         ],
         "xaxis": "x",
         "y": [
          2,
          2,
          3,
          5
         ],
         "yaxis": "y"
        },
        {
         "alignmentgroup": "True",
         "hovertemplate": "Form of Restriction=Import Restriction<br>Year=%{x}<br>Count=%{y}<extra></extra>",
         "legendgroup": "Import Restriction",
         "marker": {
          "color": "#ab63fa",
          "pattern": {
           "shape": ""
          }
         },
         "name": "Import Restriction",
         "offsetgroup": "Import Restriction",
         "orientation": "v",
         "showlegend": true,
         "textposition": "auto",
         "type": "bar",
         "x": [
          2022,
          2023
         ],
         "xaxis": "x",
         "y": [
          1,
          1
         ],
         "yaxis": "y"
        },
        {
         "alignmentgroup": "True",
         "hovertemplate": "Form of Restriction=Boycott<br>Year=%{x}<br>Count=%{y}<extra></extra>",
         "legendgroup": "Boycott",
         "marker": {
          "color": "#FFA15A",
          "pattern": {
           "shape": ""
          }
         },
         "name": "Boycott",
         "offsetgroup": "Boycott",
         "orientation": "v",
         "showlegend": true,
         "textposition": "auto",
         "type": "bar",
         "x": [
          2023
         ],
         "xaxis": "x",
         "y": [
          1
         ],
         "yaxis": "y"
        },
        {
         "alignmentgroup": "True",
         "hovertemplate": "Form of Restriction=Obstruction of Foreign Business in China<br>Year=%{x}<br>Count=%{y}<extra></extra>",
         "legendgroup": "Obstruction of Foreign Business in China",
         "marker": {
          "color": "#19d3f3",
          "pattern": {
           "shape": ""
          }
         },
         "name": "Obstruction of Foreign Business in China",
         "offsetgroup": "Obstruction of Foreign Business in China",
         "orientation": "v",
         "showlegend": true,
         "textposition": "auto",
         "type": "bar",
         "x": [
          2023,
          2024
         ],
         "xaxis": "x",
         "y": [
          1,
          1
         ],
         "yaxis": "y"
        }
       ],
       "layout": {
        "barmode": "relative",
        "legend": {
         "title": {
          "text": "Form of Restriction"
         },
         "tracegroupgap": 0
        },
        "template": {
         "data": {
          "bar": [
           {
            "error_x": {
             "color": "#2a3f5f"
            },
            "error_y": {
             "color": "#2a3f5f"
            },
            "marker": {
             "line": {
              "color": "#E5ECF6",
              "width": 0.5
             },
             "pattern": {
              "fillmode": "overlay",
              "size": 10,
              "solidity": 0.2
             }
            },
            "type": "bar"
           }
          ],
          "barpolar": [
           {
            "marker": {
             "line": {
              "color": "#E5ECF6",
              "width": 0.5
             },
             "pattern": {
              "fillmode": "overlay",
              "size": 10,
              "solidity": 0.2
             }
            },
            "type": "barpolar"
           }
          ],
          "carpet": [
           {
            "aaxis": {
             "endlinecolor": "#2a3f5f",
             "gridcolor": "white",
             "linecolor": "white",
             "minorgridcolor": "white",
             "startlinecolor": "#2a3f5f"
            },
            "baxis": {
             "endlinecolor": "#2a3f5f",
             "gridcolor": "white",
             "linecolor": "white",
             "minorgridcolor": "white",
             "startlinecolor": "#2a3f5f"
            },
            "type": "carpet"
           }
          ],
          "choropleth": [
           {
            "colorbar": {
             "outlinewidth": 0,
             "ticks": ""
            },
            "type": "choropleth"
           }
          ],
          "contour": [
           {
            "colorbar": {
             "outlinewidth": 0,
             "ticks": ""
            },
            "colorscale": [
             [
              0,
              "#0d0887"
             ],
             [
              0.1111111111111111,
              "#46039f"
             ],
             [
              0.2222222222222222,
              "#7201a8"
             ],
             [
              0.3333333333333333,
              "#9c179e"
             ],
             [
              0.4444444444444444,
              "#bd3786"
             ],
             [
              0.5555555555555556,
              "#d8576b"
             ],
             [
              0.6666666666666666,
              "#ed7953"
             ],
             [
              0.7777777777777778,
              "#fb9f3a"
             ],
             [
              0.8888888888888888,
              "#fdca26"
             ],
             [
              1,
              "#f0f921"
             ]
            ],
            "type": "contour"
           }
          ],
          "contourcarpet": [
           {
            "colorbar": {
             "outlinewidth": 0,
             "ticks": ""
            },
            "type": "contourcarpet"
           }
          ],
          "heatmap": [
           {
            "colorbar": {
             "outlinewidth": 0,
             "ticks": ""
            },
            "colorscale": [
             [
              0,
              "#0d0887"
             ],
             [
              0.1111111111111111,
              "#46039f"
             ],
             [
              0.2222222222222222,
              "#7201a8"
             ],
             [
              0.3333333333333333,
              "#9c179e"
             ],
             [
              0.4444444444444444,
              "#bd3786"
             ],
             [
              0.5555555555555556,
              "#d8576b"
             ],
             [
              0.6666666666666666,
              "#ed7953"
             ],
             [
              0.7777777777777778,
              "#fb9f3a"
             ],
             [
              0.8888888888888888,
              "#fdca26"
             ],
             [
              1,
              "#f0f921"
             ]
            ],
            "type": "heatmap"
           }
          ],
          "heatmapgl": [
           {
            "colorbar": {
             "outlinewidth": 0,
             "ticks": ""
            },
            "colorscale": [
             [
              0,
              "#0d0887"
             ],
             [
              0.1111111111111111,
              "#46039f"
             ],
             [
              0.2222222222222222,
              "#7201a8"
             ],
             [
              0.3333333333333333,
              "#9c179e"
             ],
             [
              0.4444444444444444,
              "#bd3786"
             ],
             [
              0.5555555555555556,
              "#d8576b"
             ],
             [
              0.6666666666666666,
              "#ed7953"
             ],
             [
              0.7777777777777778,
              "#fb9f3a"
             ],
             [
              0.8888888888888888,
              "#fdca26"
             ],
             [
              1,
              "#f0f921"
             ]
            ],
            "type": "heatmapgl"
           }
          ],
          "histogram": [
           {
            "marker": {
             "pattern": {
              "fillmode": "overlay",
              "size": 10,
              "solidity": 0.2
             }
            },
            "type": "histogram"
           }
          ],
          "histogram2d": [
           {
            "colorbar": {
             "outlinewidth": 0,
             "ticks": ""
            },
            "colorscale": [
             [
              0,
              "#0d0887"
             ],
             [
              0.1111111111111111,
              "#46039f"
             ],
             [
              0.2222222222222222,
              "#7201a8"
             ],
             [
              0.3333333333333333,
              "#9c179e"
             ],
             [
              0.4444444444444444,
              "#bd3786"
             ],
             [
              0.5555555555555556,
              "#d8576b"
             ],
             [
              0.6666666666666666,
              "#ed7953"
             ],
             [
              0.7777777777777778,
              "#fb9f3a"
             ],
             [
              0.8888888888888888,
              "#fdca26"
             ],
             [
              1,
              "#f0f921"
             ]
            ],
            "type": "histogram2d"
           }
          ],
          "histogram2dcontour": [
           {
            "colorbar": {
             "outlinewidth": 0,
             "ticks": ""
            },
            "colorscale": [
             [
              0,
              "#0d0887"
             ],
             [
              0.1111111111111111,
              "#46039f"
             ],
             [
              0.2222222222222222,
              "#7201a8"
             ],
             [
              0.3333333333333333,
              "#9c179e"
             ],
             [
              0.4444444444444444,
              "#bd3786"
             ],
             [
              0.5555555555555556,
              "#d8576b"
             ],
             [
              0.6666666666666666,
              "#ed7953"
             ],
             [
              0.7777777777777778,
              "#fb9f3a"
             ],
             [
              0.8888888888888888,
              "#fdca26"
             ],
             [
              1,
              "#f0f921"
             ]
            ],
            "type": "histogram2dcontour"
           }
          ],
          "mesh3d": [
           {
            "colorbar": {
             "outlinewidth": 0,
             "ticks": ""
            },
            "type": "mesh3d"
           }
          ],
          "parcoords": [
           {
            "line": {
             "colorbar": {
              "outlinewidth": 0,
              "ticks": ""
             }
            },
            "type": "parcoords"
           }
          ],
          "pie": [
           {
            "automargin": true,
            "type": "pie"
           }
          ],
          "scatter": [
           {
            "fillpattern": {
             "fillmode": "overlay",
             "size": 10,
             "solidity": 0.2
            },
            "type": "scatter"
           }
          ],
          "scatter3d": [
           {
            "line": {
             "colorbar": {
              "outlinewidth": 0,
              "ticks": ""
             }
            },
            "marker": {
             "colorbar": {
              "outlinewidth": 0,
              "ticks": ""
             }
            },
            "type": "scatter3d"
           }
          ],
          "scattercarpet": [
           {
            "marker": {
             "colorbar": {
              "outlinewidth": 0,
              "ticks": ""
             }
            },
            "type": "scattercarpet"
           }
          ],
          "scattergeo": [
           {
            "marker": {
             "colorbar": {
              "outlinewidth": 0,
              "ticks": ""
             }
            },
            "type": "scattergeo"
           }
          ],
          "scattergl": [
           {
            "marker": {
             "colorbar": {
              "outlinewidth": 0,
              "ticks": ""
             }
            },
            "type": "scattergl"
           }
          ],
          "scattermapbox": [
           {
            "marker": {
             "colorbar": {
              "outlinewidth": 0,
              "ticks": ""
             }
            },
            "type": "scattermapbox"
           }
          ],
          "scatterpolar": [
           {
            "marker": {
             "colorbar": {
              "outlinewidth": 0,
              "ticks": ""
             }
            },
            "type": "scatterpolar"
           }
          ],
          "scatterpolargl": [
           {
            "marker": {
             "colorbar": {
              "outlinewidth": 0,
              "ticks": ""
             }
            },
            "type": "scatterpolargl"
           }
          ],
          "scatterternary": [
           {
            "marker": {
             "colorbar": {
              "outlinewidth": 0,
              "ticks": ""
             }
            },
            "type": "scatterternary"
           }
          ],
          "surface": [
           {
            "colorbar": {
             "outlinewidth": 0,
             "ticks": ""
            },
            "colorscale": [
             [
              0,
              "#0d0887"
             ],
             [
              0.1111111111111111,
              "#46039f"
             ],
             [
              0.2222222222222222,
              "#7201a8"
             ],
             [
              0.3333333333333333,
              "#9c179e"
             ],
             [
              0.4444444444444444,
              "#bd3786"
             ],
             [
              0.5555555555555556,
              "#d8576b"
             ],
             [
              0.6666666666666666,
              "#ed7953"
             ],
             [
              0.7777777777777778,
              "#fb9f3a"
             ],
             [
              0.8888888888888888,
              "#fdca26"
             ],
             [
              1,
              "#f0f921"
             ]
            ],
            "type": "surface"
           }
          ],
          "table": [
           {
            "cells": {
             "fill": {
              "color": "#EBF0F8"
             },
             "line": {
              "color": "white"
             }
            },
            "header": {
             "fill": {
              "color": "#C8D4E3"
             },
             "line": {
              "color": "white"
             }
            },
            "type": "table"
           }
          ]
         },
         "layout": {
          "annotationdefaults": {
           "arrowcolor": "#2a3f5f",
           "arrowhead": 0,
           "arrowwidth": 1
          },
          "autotypenumbers": "strict",
          "coloraxis": {
           "colorbar": {
            "outlinewidth": 0,
            "ticks": ""
           }
          },
          "colorscale": {
           "diverging": [
            [
             0,
             "#8e0152"
            ],
            [
             0.1,
             "#c51b7d"
            ],
            [
             0.2,
             "#de77ae"
            ],
            [
             0.3,
             "#f1b6da"
            ],
            [
             0.4,
             "#fde0ef"
            ],
            [
             0.5,
             "#f7f7f7"
            ],
            [
             0.6,
             "#e6f5d0"
            ],
            [
             0.7,
             "#b8e186"
            ],
            [
             0.8,
             "#7fbc41"
            ],
            [
             0.9,
             "#4d9221"
            ],
            [
             1,
             "#276419"
            ]
           ],
           "sequential": [
            [
             0,
             "#0d0887"
            ],
            [
             0.1111111111111111,
             "#46039f"
            ],
            [
             0.2222222222222222,
             "#7201a8"
            ],
            [
             0.3333333333333333,
             "#9c179e"
            ],
            [
             0.4444444444444444,
             "#bd3786"
            ],
            [
             0.5555555555555556,
             "#d8576b"
            ],
            [
             0.6666666666666666,
             "#ed7953"
            ],
            [
             0.7777777777777778,
             "#fb9f3a"
            ],
            [
             0.8888888888888888,
             "#fdca26"
            ],
            [
             1,
             "#f0f921"
            ]
           ],
           "sequentialminus": [
            [
             0,
             "#0d0887"
            ],
            [
             0.1111111111111111,
             "#46039f"
            ],
            [
             0.2222222222222222,
             "#7201a8"
            ],
            [
             0.3333333333333333,
             "#9c179e"
            ],
            [
             0.4444444444444444,
             "#bd3786"
            ],
            [
             0.5555555555555556,
             "#d8576b"
            ],
            [
             0.6666666666666666,
             "#ed7953"
            ],
            [
             0.7777777777777778,
             "#fb9f3a"
            ],
            [
             0.8888888888888888,
             "#fdca26"
            ],
            [
             1,
             "#f0f921"
            ]
           ]
          },
          "colorway": [
           "#636efa",
           "#EF553B",
           "#00cc96",
           "#ab63fa",
           "#FFA15A",
           "#19d3f3",
           "#FF6692",
           "#B6E880",
           "#FF97FF",
           "#FECB52"
          ],
          "font": {
           "color": "#2a3f5f"
          },
          "geo": {
           "bgcolor": "white",
           "lakecolor": "white",
           "landcolor": "#E5ECF6",
           "showlakes": true,
           "showland": true,
           "subunitcolor": "white"
          },
          "hoverlabel": {
           "align": "left"
          },
          "hovermode": "closest",
          "mapbox": {
           "style": "light"
          },
          "paper_bgcolor": "white",
          "plot_bgcolor": "#E5ECF6",
          "polar": {
           "angularaxis": {
            "gridcolor": "white",
            "linecolor": "white",
            "ticks": ""
           },
           "bgcolor": "#E5ECF6",
           "radialaxis": {
            "gridcolor": "white",
            "linecolor": "white",
            "ticks": ""
           }
          },
          "scene": {
           "xaxis": {
            "backgroundcolor": "#E5ECF6",
            "gridcolor": "white",
            "gridwidth": 2,
            "linecolor": "white",
            "showbackground": true,
            "ticks": "",
            "zerolinecolor": "white"
           },
           "yaxis": {
            "backgroundcolor": "#E5ECF6",
            "gridcolor": "white",
            "gridwidth": 2,
            "linecolor": "white",
            "showbackground": true,
            "ticks": "",
            "zerolinecolor": "white"
           },
           "zaxis": {
            "backgroundcolor": "#E5ECF6",
            "gridcolor": "white",
            "gridwidth": 2,
            "linecolor": "white",
            "showbackground": true,
            "ticks": "",
            "zerolinecolor": "white"
           }
          },
          "shapedefaults": {
           "line": {
            "color": "#2a3f5f"
           }
          },
          "ternary": {
           "aaxis": {
            "gridcolor": "white",
            "linecolor": "white",
            "ticks": ""
           },
           "baxis": {
            "gridcolor": "white",
            "linecolor": "white",
            "ticks": ""
           },
           "bgcolor": "#E5ECF6",
           "caxis": {
            "gridcolor": "white",
            "linecolor": "white",
            "ticks": ""
           }
          },
          "title": {
           "x": 0.05
          },
          "xaxis": {
           "automargin": true,
           "gridcolor": "white",
           "linecolor": "white",
           "ticks": "",
           "title": {
            "standoff": 15
           },
           "zerolinecolor": "white",
           "zerolinewidth": 2
          },
          "yaxis": {
           "automargin": true,
           "gridcolor": "white",
           "linecolor": "white",
           "ticks": "",
           "title": {
            "standoff": 15
           },
           "zerolinecolor": "white",
           "zerolinewidth": 2
          }
         }
        },
        "title": {
         "text": "Form of Restriction over Time"
        },
        "xaxis": {
         "anchor": "y",
         "domain": [
          0,
          1
         ],
         "title": {
          "text": "Year"
         }
        },
        "yaxis": {
         "anchor": "x",
         "domain": [
          0,
          1
         ],
         "title": {
          "text": "Count"
         }
        }
       }
      }
     },
     "metadata": {},
     "output_type": "display_data"
    }
   ],
   "source": [
    "fig = px.bar(df_for, x=\"Year\", y=\"Title\", color=\"Form of Restriction\", title=\"Form of Restriction over Time\", labels={'Title': 'Count'})\n",
    "fig.show() # weird because time scale + little data - switched to year"
   ]
  },
  {
   "cell_type": "markdown",
   "metadata": {},
   "source": [
    "# Tab 2"
   ]
  },
  {
   "cell_type": "code",
   "execution_count": 9,
   "metadata": {},
   "outputs": [
    {
     "data": {
      "text/plain": [
       "<pandas.core.groupby.generic.SeriesGroupBy object at 0x137995850>"
      ]
     },
     "execution_count": 9,
     "metadata": {},
     "output_type": "execute_result"
    }
   ],
   "source": [
    "df['Year'] = df['Start Date'].dt.year\n",
    "# df['Formaility'] = df['Formality'].apply(lambda x: 'Informal' if x == 0 else 'Formal')\n",
    "df.groupby('Formality')['Title']# .count()['Title'].reset_index()"
   ]
  },
  {
   "cell_type": "code",
   "execution_count": 10,
   "metadata": {},
   "outputs": [
    {
     "data": {
      "text/html": [
       "<div>\n",
       "<style scoped>\n",
       "    .dataframe tbody tr th:only-of-type {\n",
       "        vertical-align: middle;\n",
       "    }\n",
       "\n",
       "    .dataframe tbody tr th {\n",
       "        vertical-align: top;\n",
       "    }\n",
       "\n",
       "    .dataframe thead th {\n",
       "        text-align: right;\n",
       "    }\n",
       "</style>\n",
       "<table border=\"1\" class=\"dataframe\">\n",
       "  <thead>\n",
       "    <tr style=\"text-align: right;\">\n",
       "      <th></th>\n",
       "      <th>Year</th>\n",
       "      <th>Formality</th>\n",
       "      <th>Title</th>\n",
       "    </tr>\n",
       "  </thead>\n",
       "  <tbody>\n",
       "    <tr>\n",
       "      <th>0</th>\n",
       "      <td>2019</td>\n",
       "      <td>Formal</td>\n",
       "      <td>1</td>\n",
       "    </tr>\n",
       "    <tr>\n",
       "      <th>1</th>\n",
       "      <td>2020</td>\n",
       "      <td>Formal</td>\n",
       "      <td>2</td>\n",
       "    </tr>\n",
       "    <tr>\n",
       "      <th>2</th>\n",
       "      <td>2020</td>\n",
       "      <td>Informal</td>\n",
       "      <td>1</td>\n",
       "    </tr>\n",
       "    <tr>\n",
       "      <th>3</th>\n",
       "      <td>2021</td>\n",
       "      <td>Formal</td>\n",
       "      <td>8</td>\n",
       "    </tr>\n",
       "    <tr>\n",
       "      <th>4</th>\n",
       "      <td>2022</td>\n",
       "      <td>Formal</td>\n",
       "      <td>5</td>\n",
       "    </tr>\n",
       "    <tr>\n",
       "      <th>5</th>\n",
       "      <td>2022</td>\n",
       "      <td>Informal</td>\n",
       "      <td>2</td>\n",
       "    </tr>\n",
       "    <tr>\n",
       "      <th>6</th>\n",
       "      <td>2023</td>\n",
       "      <td>Formal</td>\n",
       "      <td>12</td>\n",
       "    </tr>\n",
       "    <tr>\n",
       "      <th>7</th>\n",
       "      <td>2023</td>\n",
       "      <td>Informal</td>\n",
       "      <td>3</td>\n",
       "    </tr>\n",
       "    <tr>\n",
       "      <th>8</th>\n",
       "      <td>2024</td>\n",
       "      <td>Formal</td>\n",
       "      <td>17</td>\n",
       "    </tr>\n",
       "    <tr>\n",
       "      <th>9</th>\n",
       "      <td>2024</td>\n",
       "      <td>Informal</td>\n",
       "      <td>3</td>\n",
       "    </tr>\n",
       "    <tr>\n",
       "      <th>10</th>\n",
       "      <td>2025</td>\n",
       "      <td>Formal</td>\n",
       "      <td>2</td>\n",
       "    </tr>\n",
       "  </tbody>\n",
       "</table>\n",
       "</div>"
      ],
      "text/plain": [
       "    Year Formality  Title\n",
       "0   2019    Formal      1\n",
       "1   2020    Formal      2\n",
       "2   2020  Informal      1\n",
       "3   2021    Formal      8\n",
       "4   2022    Formal      5\n",
       "5   2022  Informal      2\n",
       "6   2023    Formal     12\n",
       "7   2023  Informal      3\n",
       "8   2024    Formal     17\n",
       "9   2024  Informal      3\n",
       "10  2025    Formal      2"
      ]
     },
     "execution_count": 10,
     "metadata": {},
     "output_type": "execute_result"
    }
   ],
   "source": [
    "df_formality = df.groupby(['Year', 'Formality']).count()['Title'].reset_index()\n",
    "df_formality"
   ]
  },
  {
   "cell_type": "code",
   "execution_count": 13,
   "metadata": {},
   "outputs": [
    {
     "data": {
      "application/vnd.plotly.v1+json": {
       "config": {
        "plotlyServerURL": "https://plot.ly"
       },
       "data": [
        {
         "hovertemplate": "Formality=Formal<br>Year=%{x}<br>Count=%{y}<extra></extra>",
         "legendgroup": "Formal",
         "line": {
          "color": "#636efa",
          "dash": "solid"
         },
         "marker": {
          "symbol": "circle"
         },
         "mode": "lines",
         "name": "Formal",
         "orientation": "v",
         "showlegend": true,
         "type": "scatter",
         "x": [
          2019,
          2020,
          2021,
          2022,
          2023,
          2024,
          2025
         ],
         "xaxis": "x",
         "y": [
          1,
          2,
          8,
          5,
          12,
          17,
          2
         ],
         "yaxis": "y"
        },
        {
         "hovertemplate": "Formality=Informal<br>Year=%{x}<br>Count=%{y}<extra></extra>",
         "legendgroup": "Informal",
         "line": {
          "color": "#EF553B",
          "dash": "solid"
         },
         "marker": {
          "symbol": "circle"
         },
         "mode": "lines",
         "name": "Informal",
         "orientation": "v",
         "showlegend": true,
         "type": "scatter",
         "x": [
          2020,
          2022,
          2023,
          2024
         ],
         "xaxis": "x",
         "y": [
          1,
          2,
          3,
          3
         ],
         "yaxis": "y"
        }
       ],
       "layout": {
        "legend": {
         "title": {
          "text": "Formality"
         },
         "tracegroupgap": 0
        },
        "template": {
         "data": {
          "bar": [
           {
            "error_x": {
             "color": "#2a3f5f"
            },
            "error_y": {
             "color": "#2a3f5f"
            },
            "marker": {
             "line": {
              "color": "#E5ECF6",
              "width": 0.5
             },
             "pattern": {
              "fillmode": "overlay",
              "size": 10,
              "solidity": 0.2
             }
            },
            "type": "bar"
           }
          ],
          "barpolar": [
           {
            "marker": {
             "line": {
              "color": "#E5ECF6",
              "width": 0.5
             },
             "pattern": {
              "fillmode": "overlay",
              "size": 10,
              "solidity": 0.2
             }
            },
            "type": "barpolar"
           }
          ],
          "carpet": [
           {
            "aaxis": {
             "endlinecolor": "#2a3f5f",
             "gridcolor": "white",
             "linecolor": "white",
             "minorgridcolor": "white",
             "startlinecolor": "#2a3f5f"
            },
            "baxis": {
             "endlinecolor": "#2a3f5f",
             "gridcolor": "white",
             "linecolor": "white",
             "minorgridcolor": "white",
             "startlinecolor": "#2a3f5f"
            },
            "type": "carpet"
           }
          ],
          "choropleth": [
           {
            "colorbar": {
             "outlinewidth": 0,
             "ticks": ""
            },
            "type": "choropleth"
           }
          ],
          "contour": [
           {
            "colorbar": {
             "outlinewidth": 0,
             "ticks": ""
            },
            "colorscale": [
             [
              0,
              "#0d0887"
             ],
             [
              0.1111111111111111,
              "#46039f"
             ],
             [
              0.2222222222222222,
              "#7201a8"
             ],
             [
              0.3333333333333333,
              "#9c179e"
             ],
             [
              0.4444444444444444,
              "#bd3786"
             ],
             [
              0.5555555555555556,
              "#d8576b"
             ],
             [
              0.6666666666666666,
              "#ed7953"
             ],
             [
              0.7777777777777778,
              "#fb9f3a"
             ],
             [
              0.8888888888888888,
              "#fdca26"
             ],
             [
              1,
              "#f0f921"
             ]
            ],
            "type": "contour"
           }
          ],
          "contourcarpet": [
           {
            "colorbar": {
             "outlinewidth": 0,
             "ticks": ""
            },
            "type": "contourcarpet"
           }
          ],
          "heatmap": [
           {
            "colorbar": {
             "outlinewidth": 0,
             "ticks": ""
            },
            "colorscale": [
             [
              0,
              "#0d0887"
             ],
             [
              0.1111111111111111,
              "#46039f"
             ],
             [
              0.2222222222222222,
              "#7201a8"
             ],
             [
              0.3333333333333333,
              "#9c179e"
             ],
             [
              0.4444444444444444,
              "#bd3786"
             ],
             [
              0.5555555555555556,
              "#d8576b"
             ],
             [
              0.6666666666666666,
              "#ed7953"
             ],
             [
              0.7777777777777778,
              "#fb9f3a"
             ],
             [
              0.8888888888888888,
              "#fdca26"
             ],
             [
              1,
              "#f0f921"
             ]
            ],
            "type": "heatmap"
           }
          ],
          "heatmapgl": [
           {
            "colorbar": {
             "outlinewidth": 0,
             "ticks": ""
            },
            "colorscale": [
             [
              0,
              "#0d0887"
             ],
             [
              0.1111111111111111,
              "#46039f"
             ],
             [
              0.2222222222222222,
              "#7201a8"
             ],
             [
              0.3333333333333333,
              "#9c179e"
             ],
             [
              0.4444444444444444,
              "#bd3786"
             ],
             [
              0.5555555555555556,
              "#d8576b"
             ],
             [
              0.6666666666666666,
              "#ed7953"
             ],
             [
              0.7777777777777778,
              "#fb9f3a"
             ],
             [
              0.8888888888888888,
              "#fdca26"
             ],
             [
              1,
              "#f0f921"
             ]
            ],
            "type": "heatmapgl"
           }
          ],
          "histogram": [
           {
            "marker": {
             "pattern": {
              "fillmode": "overlay",
              "size": 10,
              "solidity": 0.2
             }
            },
            "type": "histogram"
           }
          ],
          "histogram2d": [
           {
            "colorbar": {
             "outlinewidth": 0,
             "ticks": ""
            },
            "colorscale": [
             [
              0,
              "#0d0887"
             ],
             [
              0.1111111111111111,
              "#46039f"
             ],
             [
              0.2222222222222222,
              "#7201a8"
             ],
             [
              0.3333333333333333,
              "#9c179e"
             ],
             [
              0.4444444444444444,
              "#bd3786"
             ],
             [
              0.5555555555555556,
              "#d8576b"
             ],
             [
              0.6666666666666666,
              "#ed7953"
             ],
             [
              0.7777777777777778,
              "#fb9f3a"
             ],
             [
              0.8888888888888888,
              "#fdca26"
             ],
             [
              1,
              "#f0f921"
             ]
            ],
            "type": "histogram2d"
           }
          ],
          "histogram2dcontour": [
           {
            "colorbar": {
             "outlinewidth": 0,
             "ticks": ""
            },
            "colorscale": [
             [
              0,
              "#0d0887"
             ],
             [
              0.1111111111111111,
              "#46039f"
             ],
             [
              0.2222222222222222,
              "#7201a8"
             ],
             [
              0.3333333333333333,
              "#9c179e"
             ],
             [
              0.4444444444444444,
              "#bd3786"
             ],
             [
              0.5555555555555556,
              "#d8576b"
             ],
             [
              0.6666666666666666,
              "#ed7953"
             ],
             [
              0.7777777777777778,
              "#fb9f3a"
             ],
             [
              0.8888888888888888,
              "#fdca26"
             ],
             [
              1,
              "#f0f921"
             ]
            ],
            "type": "histogram2dcontour"
           }
          ],
          "mesh3d": [
           {
            "colorbar": {
             "outlinewidth": 0,
             "ticks": ""
            },
            "type": "mesh3d"
           }
          ],
          "parcoords": [
           {
            "line": {
             "colorbar": {
              "outlinewidth": 0,
              "ticks": ""
             }
            },
            "type": "parcoords"
           }
          ],
          "pie": [
           {
            "automargin": true,
            "type": "pie"
           }
          ],
          "scatter": [
           {
            "fillpattern": {
             "fillmode": "overlay",
             "size": 10,
             "solidity": 0.2
            },
            "type": "scatter"
           }
          ],
          "scatter3d": [
           {
            "line": {
             "colorbar": {
              "outlinewidth": 0,
              "ticks": ""
             }
            },
            "marker": {
             "colorbar": {
              "outlinewidth": 0,
              "ticks": ""
             }
            },
            "type": "scatter3d"
           }
          ],
          "scattercarpet": [
           {
            "marker": {
             "colorbar": {
              "outlinewidth": 0,
              "ticks": ""
             }
            },
            "type": "scattercarpet"
           }
          ],
          "scattergeo": [
           {
            "marker": {
             "colorbar": {
              "outlinewidth": 0,
              "ticks": ""
             }
            },
            "type": "scattergeo"
           }
          ],
          "scattergl": [
           {
            "marker": {
             "colorbar": {
              "outlinewidth": 0,
              "ticks": ""
             }
            },
            "type": "scattergl"
           }
          ],
          "scattermapbox": [
           {
            "marker": {
             "colorbar": {
              "outlinewidth": 0,
              "ticks": ""
             }
            },
            "type": "scattermapbox"
           }
          ],
          "scatterpolar": [
           {
            "marker": {
             "colorbar": {
              "outlinewidth": 0,
              "ticks": ""
             }
            },
            "type": "scatterpolar"
           }
          ],
          "scatterpolargl": [
           {
            "marker": {
             "colorbar": {
              "outlinewidth": 0,
              "ticks": ""
             }
            },
            "type": "scatterpolargl"
           }
          ],
          "scatterternary": [
           {
            "marker": {
             "colorbar": {
              "outlinewidth": 0,
              "ticks": ""
             }
            },
            "type": "scatterternary"
           }
          ],
          "surface": [
           {
            "colorbar": {
             "outlinewidth": 0,
             "ticks": ""
            },
            "colorscale": [
             [
              0,
              "#0d0887"
             ],
             [
              0.1111111111111111,
              "#46039f"
             ],
             [
              0.2222222222222222,
              "#7201a8"
             ],
             [
              0.3333333333333333,
              "#9c179e"
             ],
             [
              0.4444444444444444,
              "#bd3786"
             ],
             [
              0.5555555555555556,
              "#d8576b"
             ],
             [
              0.6666666666666666,
              "#ed7953"
             ],
             [
              0.7777777777777778,
              "#fb9f3a"
             ],
             [
              0.8888888888888888,
              "#fdca26"
             ],
             [
              1,
              "#f0f921"
             ]
            ],
            "type": "surface"
           }
          ],
          "table": [
           {
            "cells": {
             "fill": {
              "color": "#EBF0F8"
             },
             "line": {
              "color": "white"
             }
            },
            "header": {
             "fill": {
              "color": "#C8D4E3"
             },
             "line": {
              "color": "white"
             }
            },
            "type": "table"
           }
          ]
         },
         "layout": {
          "annotationdefaults": {
           "arrowcolor": "#2a3f5f",
           "arrowhead": 0,
           "arrowwidth": 1
          },
          "autotypenumbers": "strict",
          "coloraxis": {
           "colorbar": {
            "outlinewidth": 0,
            "ticks": ""
           }
          },
          "colorscale": {
           "diverging": [
            [
             0,
             "#8e0152"
            ],
            [
             0.1,
             "#c51b7d"
            ],
            [
             0.2,
             "#de77ae"
            ],
            [
             0.3,
             "#f1b6da"
            ],
            [
             0.4,
             "#fde0ef"
            ],
            [
             0.5,
             "#f7f7f7"
            ],
            [
             0.6,
             "#e6f5d0"
            ],
            [
             0.7,
             "#b8e186"
            ],
            [
             0.8,
             "#7fbc41"
            ],
            [
             0.9,
             "#4d9221"
            ],
            [
             1,
             "#276419"
            ]
           ],
           "sequential": [
            [
             0,
             "#0d0887"
            ],
            [
             0.1111111111111111,
             "#46039f"
            ],
            [
             0.2222222222222222,
             "#7201a8"
            ],
            [
             0.3333333333333333,
             "#9c179e"
            ],
            [
             0.4444444444444444,
             "#bd3786"
            ],
            [
             0.5555555555555556,
             "#d8576b"
            ],
            [
             0.6666666666666666,
             "#ed7953"
            ],
            [
             0.7777777777777778,
             "#fb9f3a"
            ],
            [
             0.8888888888888888,
             "#fdca26"
            ],
            [
             1,
             "#f0f921"
            ]
           ],
           "sequentialminus": [
            [
             0,
             "#0d0887"
            ],
            [
             0.1111111111111111,
             "#46039f"
            ],
            [
             0.2222222222222222,
             "#7201a8"
            ],
            [
             0.3333333333333333,
             "#9c179e"
            ],
            [
             0.4444444444444444,
             "#bd3786"
            ],
            [
             0.5555555555555556,
             "#d8576b"
            ],
            [
             0.6666666666666666,
             "#ed7953"
            ],
            [
             0.7777777777777778,
             "#fb9f3a"
            ],
            [
             0.8888888888888888,
             "#fdca26"
            ],
            [
             1,
             "#f0f921"
            ]
           ]
          },
          "colorway": [
           "#636efa",
           "#EF553B",
           "#00cc96",
           "#ab63fa",
           "#FFA15A",
           "#19d3f3",
           "#FF6692",
           "#B6E880",
           "#FF97FF",
           "#FECB52"
          ],
          "font": {
           "color": "#2a3f5f"
          },
          "geo": {
           "bgcolor": "white",
           "lakecolor": "white",
           "landcolor": "#E5ECF6",
           "showlakes": true,
           "showland": true,
           "subunitcolor": "white"
          },
          "hoverlabel": {
           "align": "left"
          },
          "hovermode": "closest",
          "mapbox": {
           "style": "light"
          },
          "paper_bgcolor": "white",
          "plot_bgcolor": "#E5ECF6",
          "polar": {
           "angularaxis": {
            "gridcolor": "white",
            "linecolor": "white",
            "ticks": ""
           },
           "bgcolor": "#E5ECF6",
           "radialaxis": {
            "gridcolor": "white",
            "linecolor": "white",
            "ticks": ""
           }
          },
          "scene": {
           "xaxis": {
            "backgroundcolor": "#E5ECF6",
            "gridcolor": "white",
            "gridwidth": 2,
            "linecolor": "white",
            "showbackground": true,
            "ticks": "",
            "zerolinecolor": "white"
           },
           "yaxis": {
            "backgroundcolor": "#E5ECF6",
            "gridcolor": "white",
            "gridwidth": 2,
            "linecolor": "white",
            "showbackground": true,
            "ticks": "",
            "zerolinecolor": "white"
           },
           "zaxis": {
            "backgroundcolor": "#E5ECF6",
            "gridcolor": "white",
            "gridwidth": 2,
            "linecolor": "white",
            "showbackground": true,
            "ticks": "",
            "zerolinecolor": "white"
           }
          },
          "shapedefaults": {
           "line": {
            "color": "#2a3f5f"
           }
          },
          "ternary": {
           "aaxis": {
            "gridcolor": "white",
            "linecolor": "white",
            "ticks": ""
           },
           "baxis": {
            "gridcolor": "white",
            "linecolor": "white",
            "ticks": ""
           },
           "bgcolor": "#E5ECF6",
           "caxis": {
            "gridcolor": "white",
            "linecolor": "white",
            "ticks": ""
           }
          },
          "title": {
           "x": 0.05
          },
          "xaxis": {
           "automargin": true,
           "gridcolor": "white",
           "linecolor": "white",
           "ticks": "",
           "title": {
            "standoff": 15
           },
           "zerolinecolor": "white",
           "zerolinewidth": 2
          },
          "yaxis": {
           "automargin": true,
           "gridcolor": "white",
           "linecolor": "white",
           "ticks": "",
           "title": {
            "standoff": 15
           },
           "zerolinecolor": "white",
           "zerolinewidth": 2
          }
         }
        },
        "title": {
         "text": "Formality over Time"
        },
        "xaxis": {
         "anchor": "y",
         "domain": [
          0,
          1
         ],
         "title": {
          "text": "Year"
         }
        },
        "yaxis": {
         "anchor": "x",
         "domain": [
          0,
          1
         ],
         "title": {
          "text": "Count"
         }
        }
       }
      }
     },
     "metadata": {},
     "output_type": "display_data"
    }
   ],
   "source": [
    "import plotly.express as px\n",
    "fig = px.line(df_formality, x=\"Year\", y=\"Title\", color=\"Formality\", title=\"Formality over Time\", labels={'Title': 'Count'})\n",
    "fig.show()"
   ]
  },
  {
   "cell_type": "code",
   "execution_count": 71,
   "metadata": {},
   "outputs": [
    {
     "data": {
      "application/vnd.plotly.v1+json": {
       "config": {
        "plotlyServerURL": "https://plot.ly"
       },
       "data": [
        {
         "hovertemplate": "Formaility=Informal<br>Year=%{x}<br>Count=%{y}<extra></extra>",
         "legendgroup": "Informal",
         "line": {
          "color": "#636efa",
          "dash": "solid"
         },
         "marker": {
          "symbol": "circle"
         },
         "mode": "lines",
         "name": "Informal",
         "orientation": "v",
         "showlegend": true,
         "type": "scatter",
         "x": [
          2000,
          2002,
          2003,
          2006,
          2020,
          2022,
          2023,
          2024
         ],
         "xaxis": "x",
         "y": [
          1,
          2,
          3,
          4,
          5,
          7,
          9,
          14
         ],
         "yaxis": "y"
        },
        {
         "hovertemplate": "Formaility=Formal<br>Year=%{x}<br>Count=%{y}<extra></extra>",
         "legendgroup": "Formal",
         "line": {
          "color": "#EF553B",
          "dash": "solid"
         },
         "marker": {
          "symbol": "circle"
         },
         "mode": "lines",
         "name": "Formal",
         "orientation": "v",
         "showlegend": true,
         "type": "scatter",
         "x": [
          2021,
          2022,
          2023,
          2024
         ],
         "xaxis": "x",
         "y": [
          2,
          4,
          10,
          17
         ],
         "yaxis": "y"
        }
       ],
       "layout": {
        "legend": {
         "title": {
          "text": "Formaility"
         },
         "tracegroupgap": 0
        },
        "template": {
         "data": {
          "bar": [
           {
            "error_x": {
             "color": "#2a3f5f"
            },
            "error_y": {
             "color": "#2a3f5f"
            },
            "marker": {
             "line": {
              "color": "#E5ECF6",
              "width": 0.5
             },
             "pattern": {
              "fillmode": "overlay",
              "size": 10,
              "solidity": 0.2
             }
            },
            "type": "bar"
           }
          ],
          "barpolar": [
           {
            "marker": {
             "line": {
              "color": "#E5ECF6",
              "width": 0.5
             },
             "pattern": {
              "fillmode": "overlay",
              "size": 10,
              "solidity": 0.2
             }
            },
            "type": "barpolar"
           }
          ],
          "carpet": [
           {
            "aaxis": {
             "endlinecolor": "#2a3f5f",
             "gridcolor": "white",
             "linecolor": "white",
             "minorgridcolor": "white",
             "startlinecolor": "#2a3f5f"
            },
            "baxis": {
             "endlinecolor": "#2a3f5f",
             "gridcolor": "white",
             "linecolor": "white",
             "minorgridcolor": "white",
             "startlinecolor": "#2a3f5f"
            },
            "type": "carpet"
           }
          ],
          "choropleth": [
           {
            "colorbar": {
             "outlinewidth": 0,
             "ticks": ""
            },
            "type": "choropleth"
           }
          ],
          "contour": [
           {
            "colorbar": {
             "outlinewidth": 0,
             "ticks": ""
            },
            "colorscale": [
             [
              0,
              "#0d0887"
             ],
             [
              0.1111111111111111,
              "#46039f"
             ],
             [
              0.2222222222222222,
              "#7201a8"
             ],
             [
              0.3333333333333333,
              "#9c179e"
             ],
             [
              0.4444444444444444,
              "#bd3786"
             ],
             [
              0.5555555555555556,
              "#d8576b"
             ],
             [
              0.6666666666666666,
              "#ed7953"
             ],
             [
              0.7777777777777778,
              "#fb9f3a"
             ],
             [
              0.8888888888888888,
              "#fdca26"
             ],
             [
              1,
              "#f0f921"
             ]
            ],
            "type": "contour"
           }
          ],
          "contourcarpet": [
           {
            "colorbar": {
             "outlinewidth": 0,
             "ticks": ""
            },
            "type": "contourcarpet"
           }
          ],
          "heatmap": [
           {
            "colorbar": {
             "outlinewidth": 0,
             "ticks": ""
            },
            "colorscale": [
             [
              0,
              "#0d0887"
             ],
             [
              0.1111111111111111,
              "#46039f"
             ],
             [
              0.2222222222222222,
              "#7201a8"
             ],
             [
              0.3333333333333333,
              "#9c179e"
             ],
             [
              0.4444444444444444,
              "#bd3786"
             ],
             [
              0.5555555555555556,
              "#d8576b"
             ],
             [
              0.6666666666666666,
              "#ed7953"
             ],
             [
              0.7777777777777778,
              "#fb9f3a"
             ],
             [
              0.8888888888888888,
              "#fdca26"
             ],
             [
              1,
              "#f0f921"
             ]
            ],
            "type": "heatmap"
           }
          ],
          "heatmapgl": [
           {
            "colorbar": {
             "outlinewidth": 0,
             "ticks": ""
            },
            "colorscale": [
             [
              0,
              "#0d0887"
             ],
             [
              0.1111111111111111,
              "#46039f"
             ],
             [
              0.2222222222222222,
              "#7201a8"
             ],
             [
              0.3333333333333333,
              "#9c179e"
             ],
             [
              0.4444444444444444,
              "#bd3786"
             ],
             [
              0.5555555555555556,
              "#d8576b"
             ],
             [
              0.6666666666666666,
              "#ed7953"
             ],
             [
              0.7777777777777778,
              "#fb9f3a"
             ],
             [
              0.8888888888888888,
              "#fdca26"
             ],
             [
              1,
              "#f0f921"
             ]
            ],
            "type": "heatmapgl"
           }
          ],
          "histogram": [
           {
            "marker": {
             "pattern": {
              "fillmode": "overlay",
              "size": 10,
              "solidity": 0.2
             }
            },
            "type": "histogram"
           }
          ],
          "histogram2d": [
           {
            "colorbar": {
             "outlinewidth": 0,
             "ticks": ""
            },
            "colorscale": [
             [
              0,
              "#0d0887"
             ],
             [
              0.1111111111111111,
              "#46039f"
             ],
             [
              0.2222222222222222,
              "#7201a8"
             ],
             [
              0.3333333333333333,
              "#9c179e"
             ],
             [
              0.4444444444444444,
              "#bd3786"
             ],
             [
              0.5555555555555556,
              "#d8576b"
             ],
             [
              0.6666666666666666,
              "#ed7953"
             ],
             [
              0.7777777777777778,
              "#fb9f3a"
             ],
             [
              0.8888888888888888,
              "#fdca26"
             ],
             [
              1,
              "#f0f921"
             ]
            ],
            "type": "histogram2d"
           }
          ],
          "histogram2dcontour": [
           {
            "colorbar": {
             "outlinewidth": 0,
             "ticks": ""
            },
            "colorscale": [
             [
              0,
              "#0d0887"
             ],
             [
              0.1111111111111111,
              "#46039f"
             ],
             [
              0.2222222222222222,
              "#7201a8"
             ],
             [
              0.3333333333333333,
              "#9c179e"
             ],
             [
              0.4444444444444444,
              "#bd3786"
             ],
             [
              0.5555555555555556,
              "#d8576b"
             ],
             [
              0.6666666666666666,
              "#ed7953"
             ],
             [
              0.7777777777777778,
              "#fb9f3a"
             ],
             [
              0.8888888888888888,
              "#fdca26"
             ],
             [
              1,
              "#f0f921"
             ]
            ],
            "type": "histogram2dcontour"
           }
          ],
          "mesh3d": [
           {
            "colorbar": {
             "outlinewidth": 0,
             "ticks": ""
            },
            "type": "mesh3d"
           }
          ],
          "parcoords": [
           {
            "line": {
             "colorbar": {
              "outlinewidth": 0,
              "ticks": ""
             }
            },
            "type": "parcoords"
           }
          ],
          "pie": [
           {
            "automargin": true,
            "type": "pie"
           }
          ],
          "scatter": [
           {
            "fillpattern": {
             "fillmode": "overlay",
             "size": 10,
             "solidity": 0.2
            },
            "type": "scatter"
           }
          ],
          "scatter3d": [
           {
            "line": {
             "colorbar": {
              "outlinewidth": 0,
              "ticks": ""
             }
            },
            "marker": {
             "colorbar": {
              "outlinewidth": 0,
              "ticks": ""
             }
            },
            "type": "scatter3d"
           }
          ],
          "scattercarpet": [
           {
            "marker": {
             "colorbar": {
              "outlinewidth": 0,
              "ticks": ""
             }
            },
            "type": "scattercarpet"
           }
          ],
          "scattergeo": [
           {
            "marker": {
             "colorbar": {
              "outlinewidth": 0,
              "ticks": ""
             }
            },
            "type": "scattergeo"
           }
          ],
          "scattergl": [
           {
            "marker": {
             "colorbar": {
              "outlinewidth": 0,
              "ticks": ""
             }
            },
            "type": "scattergl"
           }
          ],
          "scattermapbox": [
           {
            "marker": {
             "colorbar": {
              "outlinewidth": 0,
              "ticks": ""
             }
            },
            "type": "scattermapbox"
           }
          ],
          "scatterpolar": [
           {
            "marker": {
             "colorbar": {
              "outlinewidth": 0,
              "ticks": ""
             }
            },
            "type": "scatterpolar"
           }
          ],
          "scatterpolargl": [
           {
            "marker": {
             "colorbar": {
              "outlinewidth": 0,
              "ticks": ""
             }
            },
            "type": "scatterpolargl"
           }
          ],
          "scatterternary": [
           {
            "marker": {
             "colorbar": {
              "outlinewidth": 0,
              "ticks": ""
             }
            },
            "type": "scatterternary"
           }
          ],
          "surface": [
           {
            "colorbar": {
             "outlinewidth": 0,
             "ticks": ""
            },
            "colorscale": [
             [
              0,
              "#0d0887"
             ],
             [
              0.1111111111111111,
              "#46039f"
             ],
             [
              0.2222222222222222,
              "#7201a8"
             ],
             [
              0.3333333333333333,
              "#9c179e"
             ],
             [
              0.4444444444444444,
              "#bd3786"
             ],
             [
              0.5555555555555556,
              "#d8576b"
             ],
             [
              0.6666666666666666,
              "#ed7953"
             ],
             [
              0.7777777777777778,
              "#fb9f3a"
             ],
             [
              0.8888888888888888,
              "#fdca26"
             ],
             [
              1,
              "#f0f921"
             ]
            ],
            "type": "surface"
           }
          ],
          "table": [
           {
            "cells": {
             "fill": {
              "color": "#EBF0F8"
             },
             "line": {
              "color": "white"
             }
            },
            "header": {
             "fill": {
              "color": "#C8D4E3"
             },
             "line": {
              "color": "white"
             }
            },
            "type": "table"
           }
          ]
         },
         "layout": {
          "annotationdefaults": {
           "arrowcolor": "#2a3f5f",
           "arrowhead": 0,
           "arrowwidth": 1
          },
          "autotypenumbers": "strict",
          "coloraxis": {
           "colorbar": {
            "outlinewidth": 0,
            "ticks": ""
           }
          },
          "colorscale": {
           "diverging": [
            [
             0,
             "#8e0152"
            ],
            [
             0.1,
             "#c51b7d"
            ],
            [
             0.2,
             "#de77ae"
            ],
            [
             0.3,
             "#f1b6da"
            ],
            [
             0.4,
             "#fde0ef"
            ],
            [
             0.5,
             "#f7f7f7"
            ],
            [
             0.6,
             "#e6f5d0"
            ],
            [
             0.7,
             "#b8e186"
            ],
            [
             0.8,
             "#7fbc41"
            ],
            [
             0.9,
             "#4d9221"
            ],
            [
             1,
             "#276419"
            ]
           ],
           "sequential": [
            [
             0,
             "#0d0887"
            ],
            [
             0.1111111111111111,
             "#46039f"
            ],
            [
             0.2222222222222222,
             "#7201a8"
            ],
            [
             0.3333333333333333,
             "#9c179e"
            ],
            [
             0.4444444444444444,
             "#bd3786"
            ],
            [
             0.5555555555555556,
             "#d8576b"
            ],
            [
             0.6666666666666666,
             "#ed7953"
            ],
            [
             0.7777777777777778,
             "#fb9f3a"
            ],
            [
             0.8888888888888888,
             "#fdca26"
            ],
            [
             1,
             "#f0f921"
            ]
           ],
           "sequentialminus": [
            [
             0,
             "#0d0887"
            ],
            [
             0.1111111111111111,
             "#46039f"
            ],
            [
             0.2222222222222222,
             "#7201a8"
            ],
            [
             0.3333333333333333,
             "#9c179e"
            ],
            [
             0.4444444444444444,
             "#bd3786"
            ],
            [
             0.5555555555555556,
             "#d8576b"
            ],
            [
             0.6666666666666666,
             "#ed7953"
            ],
            [
             0.7777777777777778,
             "#fb9f3a"
            ],
            [
             0.8888888888888888,
             "#fdca26"
            ],
            [
             1,
             "#f0f921"
            ]
           ]
          },
          "colorway": [
           "#636efa",
           "#EF553B",
           "#00cc96",
           "#ab63fa",
           "#FFA15A",
           "#19d3f3",
           "#FF6692",
           "#B6E880",
           "#FF97FF",
           "#FECB52"
          ],
          "font": {
           "color": "#2a3f5f"
          },
          "geo": {
           "bgcolor": "white",
           "lakecolor": "white",
           "landcolor": "#E5ECF6",
           "showlakes": true,
           "showland": true,
           "subunitcolor": "white"
          },
          "hoverlabel": {
           "align": "left"
          },
          "hovermode": "closest",
          "mapbox": {
           "style": "light"
          },
          "paper_bgcolor": "white",
          "plot_bgcolor": "#E5ECF6",
          "polar": {
           "angularaxis": {
            "gridcolor": "white",
            "linecolor": "white",
            "ticks": ""
           },
           "bgcolor": "#E5ECF6",
           "radialaxis": {
            "gridcolor": "white",
            "linecolor": "white",
            "ticks": ""
           }
          },
          "scene": {
           "xaxis": {
            "backgroundcolor": "#E5ECF6",
            "gridcolor": "white",
            "gridwidth": 2,
            "linecolor": "white",
            "showbackground": true,
            "ticks": "",
            "zerolinecolor": "white"
           },
           "yaxis": {
            "backgroundcolor": "#E5ECF6",
            "gridcolor": "white",
            "gridwidth": 2,
            "linecolor": "white",
            "showbackground": true,
            "ticks": "",
            "zerolinecolor": "white"
           },
           "zaxis": {
            "backgroundcolor": "#E5ECF6",
            "gridcolor": "white",
            "gridwidth": 2,
            "linecolor": "white",
            "showbackground": true,
            "ticks": "",
            "zerolinecolor": "white"
           }
          },
          "shapedefaults": {
           "line": {
            "color": "#2a3f5f"
           }
          },
          "ternary": {
           "aaxis": {
            "gridcolor": "white",
            "linecolor": "white",
            "ticks": ""
           },
           "baxis": {
            "gridcolor": "white",
            "linecolor": "white",
            "ticks": ""
           },
           "bgcolor": "#E5ECF6",
           "caxis": {
            "gridcolor": "white",
            "linecolor": "white",
            "ticks": ""
           }
          },
          "title": {
           "x": 0.05
          },
          "xaxis": {
           "automargin": true,
           "gridcolor": "white",
           "linecolor": "white",
           "ticks": "",
           "title": {
            "standoff": 15
           },
           "zerolinecolor": "white",
           "zerolinewidth": 2
          },
          "yaxis": {
           "automargin": true,
           "gridcolor": "white",
           "linecolor": "white",
           "ticks": "",
           "title": {
            "standoff": 15
           },
           "zerolinecolor": "white",
           "zerolinewidth": 2
          }
         }
        },
        "title": {
         "text": "Formality over Time"
        },
        "xaxis": {
         "anchor": "y",
         "domain": [
          0,
          1
         ],
         "title": {
          "text": "Year"
         }
        },
        "yaxis": {
         "anchor": "x",
         "domain": [
          0,
          1
         ],
         "title": {
          "text": "Count"
         }
        }
       }
      }
     },
     "metadata": {},
     "output_type": "display_data"
    }
   ],
   "source": [
    "df_formality = df.groupby(['Year', 'Formaility']).count()['Title'].reset_index()\n",
    "df_formality['Title'] = df_formality.groupby('Formaility')['Title'].cumsum()\n",
    "\n",
    "fig = px.line(df_formality, x=\"Year\", y=\"Title\", color=\"Formaility\", title=\"Formality over Time\", labels={'Title': 'Count'})\n",
    "fig.show()"
   ]
  },
  {
   "cell_type": "code",
   "execution_count": 97,
   "metadata": {},
   "outputs": [
    {
     "data": {
      "text/plain": [
       "0     2000\n",
       "1     2002\n",
       "2     2003\n",
       "3     2006\n",
       "4     2020\n",
       "5     2021\n",
       "6     2022\n",
       "7     2022\n",
       "8     2023\n",
       "9     2023\n",
       "10    2024\n",
       "11    2024\n",
       "Name: Year, dtype: int32"
      ]
     },
     "execution_count": 97,
     "metadata": {},
     "output_type": "execute_result"
    }
   ],
   "source": [
    "df_formality.Year"
   ]
  },
  {
   "cell_type": "markdown",
   "metadata": {},
   "source": [
    "# Tab 3"
   ]
  },
  {
   "cell_type": "code",
   "execution_count": null,
   "metadata": {},
   "outputs": [
    {
     "name": "stderr",
     "output_type": "stream",
     "text": [
      "/var/folders/l_/b5wczsf55z9dmf_dzr3vw6ph0000gr/T/ipykernel_41398/615155125.py:2: SettingWithCopyWarning:\n",
      "\n",
      "\n",
      "A value is trying to be set on a copy of a slice from a DataFrame.\n",
      "Try using .loc[row_indexer,col_indexer] = value instead\n",
      "\n",
      "See the caveats in the documentation: https://pandas.pydata.org/pandas-docs/stable/user_guide/indexing.html#returning-a-view-versus-a-copy\n",
      "\n"
     ]
    }
   ],
   "source": [
    "df_ind = df[~df['Targeted Individuals'].isnull()]\n",
    "df_ind['Targeted Individuals'] = df_ind['Targeted Individuals'].str.split('; ')\n",
    "df_ind = df_ind.explode('Targeted Individuals')"
   ]
  },
  {
   "cell_type": "code",
   "execution_count": null,
   "metadata": {},
   "outputs": [
    {
     "data": {
      "application/vnd.plotly.v1+json": {
       "config": {
        "plotlyServerURL": "https://plot.ly"
       },
       "data": [
        {
         "hovertemplate": "Year=%{x}<br>Count=%{y}<extra></extra>",
         "legendgroup": "",
         "line": {
          "color": "#636efa",
          "dash": "solid"
         },
         "marker": {
          "symbol": "circle"
         },
         "mode": "lines",
         "name": "",
         "orientation": "v",
         "showlegend": false,
         "type": "scatter",
         "x": [
          2021,
          2021,
          2021,
          2021,
          2021,
          2021,
          2021,
          2021,
          2021,
          2021,
          2021,
          2021,
          2021,
          2022,
          2022,
          2022,
          2022,
          2022,
          2022,
          2022,
          2022,
          2023,
          2023,
          2024,
          2024,
          2024,
          2024,
          2024,
          2024,
          2024,
          2024,
          2024,
          2024,
          2024,
          2024,
          2024,
          2024,
          2024,
          2024,
          2024,
          2024,
          2024,
          2024,
          2024,
          2024,
          2024,
          2024,
          2024,
          2024,
          2024,
          2024,
          2024,
          2024,
          2024
         ],
         "xaxis": "x",
         "y": [
          1,
          2,
          3,
          4,
          5,
          6,
          7,
          8,
          9,
          10,
          11,
          12,
          13,
          14,
          15,
          16,
          17,
          18,
          19,
          20,
          21,
          22,
          23,
          24,
          25,
          26,
          27,
          28,
          29,
          30,
          31,
          32,
          33,
          34,
          35,
          36,
          37,
          38,
          39,
          40,
          41,
          42,
          43,
          44,
          45,
          46,
          47,
          48,
          49,
          50,
          51,
          52,
          53,
          54
         ],
         "yaxis": "y"
        }
       ],
       "layout": {
        "legend": {
         "tracegroupgap": 0
        },
        "template": {
         "data": {
          "bar": [
           {
            "error_x": {
             "color": "#2a3f5f"
            },
            "error_y": {
             "color": "#2a3f5f"
            },
            "marker": {
             "line": {
              "color": "#E5ECF6",
              "width": 0.5
             },
             "pattern": {
              "fillmode": "overlay",
              "size": 10,
              "solidity": 0.2
             }
            },
            "type": "bar"
           }
          ],
          "barpolar": [
           {
            "marker": {
             "line": {
              "color": "#E5ECF6",
              "width": 0.5
             },
             "pattern": {
              "fillmode": "overlay",
              "size": 10,
              "solidity": 0.2
             }
            },
            "type": "barpolar"
           }
          ],
          "carpet": [
           {
            "aaxis": {
             "endlinecolor": "#2a3f5f",
             "gridcolor": "white",
             "linecolor": "white",
             "minorgridcolor": "white",
             "startlinecolor": "#2a3f5f"
            },
            "baxis": {
             "endlinecolor": "#2a3f5f",
             "gridcolor": "white",
             "linecolor": "white",
             "minorgridcolor": "white",
             "startlinecolor": "#2a3f5f"
            },
            "type": "carpet"
           }
          ],
          "choropleth": [
           {
            "colorbar": {
             "outlinewidth": 0,
             "ticks": ""
            },
            "type": "choropleth"
           }
          ],
          "contour": [
           {
            "colorbar": {
             "outlinewidth": 0,
             "ticks": ""
            },
            "colorscale": [
             [
              0,
              "#0d0887"
             ],
             [
              0.1111111111111111,
              "#46039f"
             ],
             [
              0.2222222222222222,
              "#7201a8"
             ],
             [
              0.3333333333333333,
              "#9c179e"
             ],
             [
              0.4444444444444444,
              "#bd3786"
             ],
             [
              0.5555555555555556,
              "#d8576b"
             ],
             [
              0.6666666666666666,
              "#ed7953"
             ],
             [
              0.7777777777777778,
              "#fb9f3a"
             ],
             [
              0.8888888888888888,
              "#fdca26"
             ],
             [
              1,
              "#f0f921"
             ]
            ],
            "type": "contour"
           }
          ],
          "contourcarpet": [
           {
            "colorbar": {
             "outlinewidth": 0,
             "ticks": ""
            },
            "type": "contourcarpet"
           }
          ],
          "heatmap": [
           {
            "colorbar": {
             "outlinewidth": 0,
             "ticks": ""
            },
            "colorscale": [
             [
              0,
              "#0d0887"
             ],
             [
              0.1111111111111111,
              "#46039f"
             ],
             [
              0.2222222222222222,
              "#7201a8"
             ],
             [
              0.3333333333333333,
              "#9c179e"
             ],
             [
              0.4444444444444444,
              "#bd3786"
             ],
             [
              0.5555555555555556,
              "#d8576b"
             ],
             [
              0.6666666666666666,
              "#ed7953"
             ],
             [
              0.7777777777777778,
              "#fb9f3a"
             ],
             [
              0.8888888888888888,
              "#fdca26"
             ],
             [
              1,
              "#f0f921"
             ]
            ],
            "type": "heatmap"
           }
          ],
          "heatmapgl": [
           {
            "colorbar": {
             "outlinewidth": 0,
             "ticks": ""
            },
            "colorscale": [
             [
              0,
              "#0d0887"
             ],
             [
              0.1111111111111111,
              "#46039f"
             ],
             [
              0.2222222222222222,
              "#7201a8"
             ],
             [
              0.3333333333333333,
              "#9c179e"
             ],
             [
              0.4444444444444444,
              "#bd3786"
             ],
             [
              0.5555555555555556,
              "#d8576b"
             ],
             [
              0.6666666666666666,
              "#ed7953"
             ],
             [
              0.7777777777777778,
              "#fb9f3a"
             ],
             [
              0.8888888888888888,
              "#fdca26"
             ],
             [
              1,
              "#f0f921"
             ]
            ],
            "type": "heatmapgl"
           }
          ],
          "histogram": [
           {
            "marker": {
             "pattern": {
              "fillmode": "overlay",
              "size": 10,
              "solidity": 0.2
             }
            },
            "type": "histogram"
           }
          ],
          "histogram2d": [
           {
            "colorbar": {
             "outlinewidth": 0,
             "ticks": ""
            },
            "colorscale": [
             [
              0,
              "#0d0887"
             ],
             [
              0.1111111111111111,
              "#46039f"
             ],
             [
              0.2222222222222222,
              "#7201a8"
             ],
             [
              0.3333333333333333,
              "#9c179e"
             ],
             [
              0.4444444444444444,
              "#bd3786"
             ],
             [
              0.5555555555555556,
              "#d8576b"
             ],
             [
              0.6666666666666666,
              "#ed7953"
             ],
             [
              0.7777777777777778,
              "#fb9f3a"
             ],
             [
              0.8888888888888888,
              "#fdca26"
             ],
             [
              1,
              "#f0f921"
             ]
            ],
            "type": "histogram2d"
           }
          ],
          "histogram2dcontour": [
           {
            "colorbar": {
             "outlinewidth": 0,
             "ticks": ""
            },
            "colorscale": [
             [
              0,
              "#0d0887"
             ],
             [
              0.1111111111111111,
              "#46039f"
             ],
             [
              0.2222222222222222,
              "#7201a8"
             ],
             [
              0.3333333333333333,
              "#9c179e"
             ],
             [
              0.4444444444444444,
              "#bd3786"
             ],
             [
              0.5555555555555556,
              "#d8576b"
             ],
             [
              0.6666666666666666,
              "#ed7953"
             ],
             [
              0.7777777777777778,
              "#fb9f3a"
             ],
             [
              0.8888888888888888,
              "#fdca26"
             ],
             [
              1,
              "#f0f921"
             ]
            ],
            "type": "histogram2dcontour"
           }
          ],
          "mesh3d": [
           {
            "colorbar": {
             "outlinewidth": 0,
             "ticks": ""
            },
            "type": "mesh3d"
           }
          ],
          "parcoords": [
           {
            "line": {
             "colorbar": {
              "outlinewidth": 0,
              "ticks": ""
             }
            },
            "type": "parcoords"
           }
          ],
          "pie": [
           {
            "automargin": true,
            "type": "pie"
           }
          ],
          "scatter": [
           {
            "fillpattern": {
             "fillmode": "overlay",
             "size": 10,
             "solidity": 0.2
            },
            "type": "scatter"
           }
          ],
          "scatter3d": [
           {
            "line": {
             "colorbar": {
              "outlinewidth": 0,
              "ticks": ""
             }
            },
            "marker": {
             "colorbar": {
              "outlinewidth": 0,
              "ticks": ""
             }
            },
            "type": "scatter3d"
           }
          ],
          "scattercarpet": [
           {
            "marker": {
             "colorbar": {
              "outlinewidth": 0,
              "ticks": ""
             }
            },
            "type": "scattercarpet"
           }
          ],
          "scattergeo": [
           {
            "marker": {
             "colorbar": {
              "outlinewidth": 0,
              "ticks": ""
             }
            },
            "type": "scattergeo"
           }
          ],
          "scattergl": [
           {
            "marker": {
             "colorbar": {
              "outlinewidth": 0,
              "ticks": ""
             }
            },
            "type": "scattergl"
           }
          ],
          "scattermapbox": [
           {
            "marker": {
             "colorbar": {
              "outlinewidth": 0,
              "ticks": ""
             }
            },
            "type": "scattermapbox"
           }
          ],
          "scatterpolar": [
           {
            "marker": {
             "colorbar": {
              "outlinewidth": 0,
              "ticks": ""
             }
            },
            "type": "scatterpolar"
           }
          ],
          "scatterpolargl": [
           {
            "marker": {
             "colorbar": {
              "outlinewidth": 0,
              "ticks": ""
             }
            },
            "type": "scatterpolargl"
           }
          ],
          "scatterternary": [
           {
            "marker": {
             "colorbar": {
              "outlinewidth": 0,
              "ticks": ""
             }
            },
            "type": "scatterternary"
           }
          ],
          "surface": [
           {
            "colorbar": {
             "outlinewidth": 0,
             "ticks": ""
            },
            "colorscale": [
             [
              0,
              "#0d0887"
             ],
             [
              0.1111111111111111,
              "#46039f"
             ],
             [
              0.2222222222222222,
              "#7201a8"
             ],
             [
              0.3333333333333333,
              "#9c179e"
             ],
             [
              0.4444444444444444,
              "#bd3786"
             ],
             [
              0.5555555555555556,
              "#d8576b"
             ],
             [
              0.6666666666666666,
              "#ed7953"
             ],
             [
              0.7777777777777778,
              "#fb9f3a"
             ],
             [
              0.8888888888888888,
              "#fdca26"
             ],
             [
              1,
              "#f0f921"
             ]
            ],
            "type": "surface"
           }
          ],
          "table": [
           {
            "cells": {
             "fill": {
              "color": "#EBF0F8"
             },
             "line": {
              "color": "white"
             }
            },
            "header": {
             "fill": {
              "color": "#C8D4E3"
             },
             "line": {
              "color": "white"
             }
            },
            "type": "table"
           }
          ]
         },
         "layout": {
          "annotationdefaults": {
           "arrowcolor": "#2a3f5f",
           "arrowhead": 0,
           "arrowwidth": 1
          },
          "autotypenumbers": "strict",
          "coloraxis": {
           "colorbar": {
            "outlinewidth": 0,
            "ticks": ""
           }
          },
          "colorscale": {
           "diverging": [
            [
             0,
             "#8e0152"
            ],
            [
             0.1,
             "#c51b7d"
            ],
            [
             0.2,
             "#de77ae"
            ],
            [
             0.3,
             "#f1b6da"
            ],
            [
             0.4,
             "#fde0ef"
            ],
            [
             0.5,
             "#f7f7f7"
            ],
            [
             0.6,
             "#e6f5d0"
            ],
            [
             0.7,
             "#b8e186"
            ],
            [
             0.8,
             "#7fbc41"
            ],
            [
             0.9,
             "#4d9221"
            ],
            [
             1,
             "#276419"
            ]
           ],
           "sequential": [
            [
             0,
             "#0d0887"
            ],
            [
             0.1111111111111111,
             "#46039f"
            ],
            [
             0.2222222222222222,
             "#7201a8"
            ],
            [
             0.3333333333333333,
             "#9c179e"
            ],
            [
             0.4444444444444444,
             "#bd3786"
            ],
            [
             0.5555555555555556,
             "#d8576b"
            ],
            [
             0.6666666666666666,
             "#ed7953"
            ],
            [
             0.7777777777777778,
             "#fb9f3a"
            ],
            [
             0.8888888888888888,
             "#fdca26"
            ],
            [
             1,
             "#f0f921"
            ]
           ],
           "sequentialminus": [
            [
             0,
             "#0d0887"
            ],
            [
             0.1111111111111111,
             "#46039f"
            ],
            [
             0.2222222222222222,
             "#7201a8"
            ],
            [
             0.3333333333333333,
             "#9c179e"
            ],
            [
             0.4444444444444444,
             "#bd3786"
            ],
            [
             0.5555555555555556,
             "#d8576b"
            ],
            [
             0.6666666666666666,
             "#ed7953"
            ],
            [
             0.7777777777777778,
             "#fb9f3a"
            ],
            [
             0.8888888888888888,
             "#fdca26"
            ],
            [
             1,
             "#f0f921"
            ]
           ]
          },
          "colorway": [
           "#636efa",
           "#EF553B",
           "#00cc96",
           "#ab63fa",
           "#FFA15A",
           "#19d3f3",
           "#FF6692",
           "#B6E880",
           "#FF97FF",
           "#FECB52"
          ],
          "font": {
           "color": "#2a3f5f"
          },
          "geo": {
           "bgcolor": "white",
           "lakecolor": "white",
           "landcolor": "#E5ECF6",
           "showlakes": true,
           "showland": true,
           "subunitcolor": "white"
          },
          "hoverlabel": {
           "align": "left"
          },
          "hovermode": "closest",
          "mapbox": {
           "style": "light"
          },
          "paper_bgcolor": "white",
          "plot_bgcolor": "#E5ECF6",
          "polar": {
           "angularaxis": {
            "gridcolor": "white",
            "linecolor": "white",
            "ticks": ""
           },
           "bgcolor": "#E5ECF6",
           "radialaxis": {
            "gridcolor": "white",
            "linecolor": "white",
            "ticks": ""
           }
          },
          "scene": {
           "xaxis": {
            "backgroundcolor": "#E5ECF6",
            "gridcolor": "white",
            "gridwidth": 2,
            "linecolor": "white",
            "showbackground": true,
            "ticks": "",
            "zerolinecolor": "white"
           },
           "yaxis": {
            "backgroundcolor": "#E5ECF6",
            "gridcolor": "white",
            "gridwidth": 2,
            "linecolor": "white",
            "showbackground": true,
            "ticks": "",
            "zerolinecolor": "white"
           },
           "zaxis": {
            "backgroundcolor": "#E5ECF6",
            "gridcolor": "white",
            "gridwidth": 2,
            "linecolor": "white",
            "showbackground": true,
            "ticks": "",
            "zerolinecolor": "white"
           }
          },
          "shapedefaults": {
           "line": {
            "color": "#2a3f5f"
           }
          },
          "ternary": {
           "aaxis": {
            "gridcolor": "white",
            "linecolor": "white",
            "ticks": ""
           },
           "baxis": {
            "gridcolor": "white",
            "linecolor": "white",
            "ticks": ""
           },
           "bgcolor": "#E5ECF6",
           "caxis": {
            "gridcolor": "white",
            "linecolor": "white",
            "ticks": ""
           }
          },
          "title": {
           "x": 0.05
          },
          "xaxis": {
           "automargin": true,
           "gridcolor": "white",
           "linecolor": "white",
           "ticks": "",
           "title": {
            "standoff": 15
           },
           "zerolinecolor": "white",
           "zerolinewidth": 2
          },
          "yaxis": {
           "automargin": true,
           "gridcolor": "white",
           "linecolor": "white",
           "ticks": "",
           "title": {
            "standoff": 15
           },
           "zerolinecolor": "white",
           "zerolinewidth": 2
          }
         }
        },
        "title": {
         "text": "Targeted Individuals over Time"
        },
        "xaxis": {
         "anchor": "y",
         "domain": [
          0,
          1
         ],
         "title": {
          "text": "Year"
         }
        },
        "yaxis": {
         "anchor": "x",
         "domain": [
          0,
          1
         ],
         "title": {
          "text": "Count"
         }
        }
       }
      }
     },
     "metadata": {},
     "output_type": "display_data"
    }
   ],
   "source": [
    "df_ind = df_ind.groupby(['Year', 'Targeted Individuals']).count()['Title'].reset_index()\n",
    "df_ind['Title'] = df_ind['Title'].cumsum()\n",
    "\n",
    "fig = px.line(df_ind, x=\"Year\", y=\"Title\", title=\"Targeted Individuals over Time\", labels={'Title': 'Count'})\n",
    "fig.show() # not sure why date not working"
   ]
  },
  {
   "cell_type": "code",
   "execution_count": 100,
   "metadata": {},
   "outputs": [
    {
     "data": {
      "text/html": [
       "<div>\n",
       "<style scoped>\n",
       "    .dataframe tbody tr th:only-of-type {\n",
       "        vertical-align: middle;\n",
       "    }\n",
       "\n",
       "    .dataframe tbody tr th {\n",
       "        vertical-align: top;\n",
       "    }\n",
       "\n",
       "    .dataframe thead th {\n",
       "        text-align: right;\n",
       "    }\n",
       "</style>\n",
       "<table border=\"1\" class=\"dataframe\">\n",
       "  <thead>\n",
       "    <tr style=\"text-align: right;\">\n",
       "      <th></th>\n",
       "      <th>Year</th>\n",
       "      <th>Targeted Individuals</th>\n",
       "      <th>Title</th>\n",
       "    </tr>\n",
       "  </thead>\n",
       "  <tbody>\n",
       "    <tr>\n",
       "      <th>0</th>\n",
       "      <td>2021</td>\n",
       "      <td>Adrian Zenz</td>\n",
       "      <td>1</td>\n",
       "    </tr>\n",
       "    <tr>\n",
       "      <th>1</th>\n",
       "      <td>2021</td>\n",
       "      <td>Björn Jerdén</td>\n",
       "      <td>2</td>\n",
       "    </tr>\n",
       "    <tr>\n",
       "      <th>2</th>\n",
       "      <td>2021</td>\n",
       "      <td>Dovile Sakaliene</td>\n",
       "      <td>3</td>\n",
       "    </tr>\n",
       "    <tr>\n",
       "      <th>3</th>\n",
       "      <td>2021</td>\n",
       "      <td>Gayle Manchin</td>\n",
       "      <td>4</td>\n",
       "    </tr>\n",
       "    <tr>\n",
       "      <th>4</th>\n",
       "      <td>2021</td>\n",
       "      <td>Ilhan Kyuchyuk</td>\n",
       "      <td>5</td>\n",
       "    </tr>\n",
       "    <tr>\n",
       "      <th>5</th>\n",
       "      <td>2021</td>\n",
       "      <td>Michael Chong</td>\n",
       "      <td>6</td>\n",
       "    </tr>\n",
       "    <tr>\n",
       "      <th>6</th>\n",
       "      <td>2021</td>\n",
       "      <td>Michael Gahler</td>\n",
       "      <td>7</td>\n",
       "    </tr>\n",
       "    <tr>\n",
       "      <th>7</th>\n",
       "      <td>2021</td>\n",
       "      <td>Miriam Lexmann</td>\n",
       "      <td>8</td>\n",
       "    </tr>\n",
       "    <tr>\n",
       "      <th>8</th>\n",
       "      <td>2021</td>\n",
       "      <td>Raphaël Glucksmann</td>\n",
       "      <td>9</td>\n",
       "    </tr>\n",
       "    <tr>\n",
       "      <th>9</th>\n",
       "      <td>2021</td>\n",
       "      <td>Reinhard Butikofer</td>\n",
       "      <td>10</td>\n",
       "    </tr>\n",
       "    <tr>\n",
       "      <th>10</th>\n",
       "      <td>2021</td>\n",
       "      <td>Samuel Cogolati</td>\n",
       "      <td>11</td>\n",
       "    </tr>\n",
       "    <tr>\n",
       "      <th>11</th>\n",
       "      <td>2021</td>\n",
       "      <td>Sjoerd Wiemer Sjoerdsma</td>\n",
       "      <td>12</td>\n",
       "    </tr>\n",
       "    <tr>\n",
       "      <th>12</th>\n",
       "      <td>2021</td>\n",
       "      <td>Tony Perkins</td>\n",
       "      <td>13</td>\n",
       "    </tr>\n",
       "    <tr>\n",
       "      <th>13</th>\n",
       "      <td>2022</td>\n",
       "      <td>Agnė Vaiciukevičiūtė</td>\n",
       "      <td>14</td>\n",
       "    </tr>\n",
       "    <tr>\n",
       "      <th>14</th>\n",
       "      <td>2022</td>\n",
       "      <td>Alexandra Pelosi</td>\n",
       "      <td>15</td>\n",
       "    </tr>\n",
       "    <tr>\n",
       "      <th>15</th>\n",
       "      <td>2022</td>\n",
       "      <td>Christine Pelosi</td>\n",
       "      <td>16</td>\n",
       "    </tr>\n",
       "    <tr>\n",
       "      <th>16</th>\n",
       "      <td>2022</td>\n",
       "      <td>Jacqueline Pelosi</td>\n",
       "      <td>17</td>\n",
       "    </tr>\n",
       "    <tr>\n",
       "      <th>17</th>\n",
       "      <td>2022</td>\n",
       "      <td>Nancy Corinne Pelosi</td>\n",
       "      <td>18</td>\n",
       "    </tr>\n",
       "    <tr>\n",
       "      <th>18</th>\n",
       "      <td>2022</td>\n",
       "      <td>Nancy Pelosi</td>\n",
       "      <td>19</td>\n",
       "    </tr>\n",
       "    <tr>\n",
       "      <th>19</th>\n",
       "      <td>2022</td>\n",
       "      <td>Paul Francis Pelosi</td>\n",
       "      <td>20</td>\n",
       "    </tr>\n",
       "    <tr>\n",
       "      <th>20</th>\n",
       "      <td>2022</td>\n",
       "      <td>Paul Pelosi Jr.</td>\n",
       "      <td>21</td>\n",
       "    </tr>\n",
       "    <tr>\n",
       "      <th>21</th>\n",
       "      <td>2023</td>\n",
       "      <td>Japan</td>\n",
       "      <td>22</td>\n",
       "    </tr>\n",
       "    <tr>\n",
       "      <th>22</th>\n",
       "      <td>2023</td>\n",
       "      <td>Michael McCaul</td>\n",
       "      <td>23</td>\n",
       "    </tr>\n",
       "    <tr>\n",
       "      <th>23</th>\n",
       "      <td>2024</td>\n",
       "      <td>Adam Bry</td>\n",
       "      <td>24</td>\n",
       "    </tr>\n",
       "    <tr>\n",
       "      <th>24</th>\n",
       "      <td>2024</td>\n",
       "      <td>Amy Gilliland</td>\n",
       "      <td>25</td>\n",
       "    </tr>\n",
       "    <tr>\n",
       "      <th>25</th>\n",
       "      <td>2024</td>\n",
       "      <td>Barbara Borgonovi</td>\n",
       "      <td>26</td>\n",
       "    </tr>\n",
       "    <tr>\n",
       "      <th>26</th>\n",
       "      <td>2024</td>\n",
       "      <td>Benjamin R. Davies</td>\n",
       "      <td>27</td>\n",
       "    </tr>\n",
       "    <tr>\n",
       "      <th>27</th>\n",
       "      <td>2024</td>\n",
       "      <td>Beth Edler</td>\n",
       "      <td>28</td>\n",
       "    </tr>\n",
       "    <tr>\n",
       "      <th>28</th>\n",
       "      <td>2024</td>\n",
       "      <td>Blake Resnick</td>\n",
       "      <td>29</td>\n",
       "    </tr>\n",
       "    <tr>\n",
       "      <th>29</th>\n",
       "      <td>2024</td>\n",
       "      <td>Brian William Schimpf</td>\n",
       "      <td>30</td>\n",
       "    </tr>\n",
       "    <tr>\n",
       "      <th>30</th>\n",
       "      <td>2024</td>\n",
       "      <td>Charles Woodburn</td>\n",
       "      <td>31</td>\n",
       "    </tr>\n",
       "    <tr>\n",
       "      <th>31</th>\n",
       "      <td>2024</td>\n",
       "      <td>Christopher Douglas Kastner</td>\n",
       "      <td>32</td>\n",
       "    </tr>\n",
       "    <tr>\n",
       "      <th>32</th>\n",
       "      <td>2024</td>\n",
       "      <td>Christopher J. Brady</td>\n",
       "      <td>33</td>\n",
       "    </tr>\n",
       "    <tr>\n",
       "      <th>33</th>\n",
       "      <td>2024</td>\n",
       "      <td>David Keith Sutton</td>\n",
       "      <td>34</td>\n",
       "    </tr>\n",
       "    <tr>\n",
       "      <th>34</th>\n",
       "      <td>2024</td>\n",
       "      <td>Firat H. Gezen</td>\n",
       "      <td>35</td>\n",
       "    </tr>\n",
       "    <tr>\n",
       "      <th>35</th>\n",
       "      <td>2024</td>\n",
       "      <td>Gerard Hueber</td>\n",
       "      <td>36</td>\n",
       "    </tr>\n",
       "    <tr>\n",
       "      <th>36</th>\n",
       "      <td>2024</td>\n",
       "      <td>Gregory Michael Kausner</td>\n",
       "      <td>37</td>\n",
       "    </tr>\n",
       "    <tr>\n",
       "      <th>37</th>\n",
       "      <td>2024</td>\n",
       "      <td>James William Ickes II</td>\n",
       "      <td>38</td>\n",
       "    </tr>\n",
       "    <tr>\n",
       "      <th>38</th>\n",
       "      <td>2024</td>\n",
       "      <td>Jason W. Aiken</td>\n",
       "      <td>39</td>\n",
       "    </tr>\n",
       "    <tr>\n",
       "      <th>39</th>\n",
       "      <td>2024</td>\n",
       "      <td>John Purvis</td>\n",
       "      <td>40</td>\n",
       "    </tr>\n",
       "    <tr>\n",
       "      <th>40</th>\n",
       "      <td>2024</td>\n",
       "      <td>Josh Brungardt</td>\n",
       "      <td>41</td>\n",
       "    </tr>\n",
       "    <tr>\n",
       "      <th>41</th>\n",
       "      <td>2024</td>\n",
       "      <td>Kathy J. Warden</td>\n",
       "      <td>42</td>\n",
       "    </tr>\n",
       "    <tr>\n",
       "      <th>42</th>\n",
       "      <td>2024</td>\n",
       "      <td>Kevin McDonnell</td>\n",
       "      <td>43</td>\n",
       "    </tr>\n",
       "    <tr>\n",
       "      <th>43</th>\n",
       "      <td>2024</td>\n",
       "      <td>Matthew Bromberg</td>\n",
       "      <td>44</td>\n",
       "    </tr>\n",
       "    <tr>\n",
       "      <th>44</th>\n",
       "      <td>2024</td>\n",
       "      <td>Matthew Marley Grimm</td>\n",
       "      <td>45</td>\n",
       "    </tr>\n",
       "    <tr>\n",
       "      <th>45</th>\n",
       "      <td>2024</td>\n",
       "      <td>Patrick Edward Jankowski</td>\n",
       "      <td>46</td>\n",
       "    </tr>\n",
       "    <tr>\n",
       "      <th>46</th>\n",
       "      <td>2024</td>\n",
       "      <td>Richard D. Crawford</td>\n",
       "      <td>47</td>\n",
       "    </tr>\n",
       "    <tr>\n",
       "      <th>47</th>\n",
       "      <td>2024</td>\n",
       "      <td>Roshan Roeder</td>\n",
       "      <td>48</td>\n",
       "    </tr>\n",
       "    <tr>\n",
       "      <th>48</th>\n",
       "      <td>2024</td>\n",
       "      <td>Stephen O’Bryan</td>\n",
       "      <td>49</td>\n",
       "    </tr>\n",
       "    <tr>\n",
       "      <th>49</th>\n",
       "      <td>2024</td>\n",
       "      <td>Steven Roger Rudder</td>\n",
       "      <td>50</td>\n",
       "    </tr>\n",
       "    <tr>\n",
       "      <th>50</th>\n",
       "      <td>2024</td>\n",
       "      <td>Thomas H. Jones</td>\n",
       "      <td>51</td>\n",
       "    </tr>\n",
       "    <tr>\n",
       "      <th>51</th>\n",
       "      <td>2024</td>\n",
       "      <td>Tom Moss</td>\n",
       "      <td>52</td>\n",
       "    </tr>\n",
       "    <tr>\n",
       "      <th>52</th>\n",
       "      <td>2024</td>\n",
       "      <td>Wahid Nawabi</td>\n",
       "      <td>53</td>\n",
       "    </tr>\n",
       "    <tr>\n",
       "      <th>53</th>\n",
       "      <td>2024</td>\n",
       "      <td>Yeong-Tae Pak</td>\n",
       "      <td>54</td>\n",
       "    </tr>\n",
       "  </tbody>\n",
       "</table>\n",
       "</div>"
      ],
      "text/plain": [
       "    Year         Targeted Individuals  Title\n",
       "0   2021                  Adrian Zenz      1\n",
       "1   2021                 Björn Jerdén      2\n",
       "2   2021             Dovile Sakaliene      3\n",
       "3   2021                Gayle Manchin      4\n",
       "4   2021               Ilhan Kyuchyuk      5\n",
       "5   2021                Michael Chong      6\n",
       "6   2021               Michael Gahler      7\n",
       "7   2021               Miriam Lexmann      8\n",
       "8   2021           Raphaël Glucksmann      9\n",
       "9   2021           Reinhard Butikofer     10\n",
       "10  2021              Samuel Cogolati     11\n",
       "11  2021      Sjoerd Wiemer Sjoerdsma     12\n",
       "12  2021                 Tony Perkins     13\n",
       "13  2022         Agnė Vaiciukevičiūtė     14\n",
       "14  2022             Alexandra Pelosi     15\n",
       "15  2022             Christine Pelosi     16\n",
       "16  2022            Jacqueline Pelosi     17\n",
       "17  2022         Nancy Corinne Pelosi     18\n",
       "18  2022                 Nancy Pelosi     19\n",
       "19  2022          Paul Francis Pelosi     20\n",
       "20  2022              Paul Pelosi Jr.     21\n",
       "21  2023                        Japan     22\n",
       "22  2023               Michael McCaul     23\n",
       "23  2024                     Adam Bry     24\n",
       "24  2024                Amy Gilliland     25\n",
       "25  2024            Barbara Borgonovi     26\n",
       "26  2024           Benjamin R. Davies     27\n",
       "27  2024                   Beth Edler     28\n",
       "28  2024                Blake Resnick     29\n",
       "29  2024        Brian William Schimpf     30\n",
       "30  2024             Charles Woodburn     31\n",
       "31  2024  Christopher Douglas Kastner     32\n",
       "32  2024         Christopher J. Brady     33\n",
       "33  2024           David Keith Sutton     34\n",
       "34  2024               Firat H. Gezen     35\n",
       "35  2024                Gerard Hueber     36\n",
       "36  2024      Gregory Michael Kausner     37\n",
       "37  2024       James William Ickes II     38\n",
       "38  2024               Jason W. Aiken     39\n",
       "39  2024                  John Purvis     40\n",
       "40  2024               Josh Brungardt     41\n",
       "41  2024              Kathy J. Warden     42\n",
       "42  2024              Kevin McDonnell     43\n",
       "43  2024             Matthew Bromberg     44\n",
       "44  2024         Matthew Marley Grimm     45\n",
       "45  2024     Patrick Edward Jankowski     46\n",
       "46  2024          Richard D. Crawford     47\n",
       "47  2024                Roshan Roeder     48\n",
       "48  2024              Stephen O’Bryan     49\n",
       "49  2024          Steven Roger Rudder     50\n",
       "50  2024              Thomas H. Jones     51\n",
       "51  2024                     Tom Moss     52\n",
       "52  2024                 Wahid Nawabi     53\n",
       "53  2024                Yeong-Tae Pak     54"
      ]
     },
     "execution_count": 100,
     "metadata": {},
     "output_type": "execute_result"
    }
   ],
   "source": [
    "df_ind"
   ]
  },
  {
   "cell_type": "code",
   "execution_count": 117,
   "metadata": {},
   "outputs": [
    {
     "name": "stderr",
     "output_type": "stream",
     "text": [
      "/var/folders/l_/b5wczsf55z9dmf_dzr3vw6ph0000gr/T/ipykernel_41398/264753422.py:2: SettingWithCopyWarning:\n",
      "\n",
      "\n",
      "A value is trying to be set on a copy of a slice from a DataFrame.\n",
      "Try using .loc[row_indexer,col_indexer] = value instead\n",
      "\n",
      "See the caveats in the documentation: https://pandas.pydata.org/pandas-docs/stable/user_guide/indexing.html#returning-a-view-versus-a-copy\n",
      "\n"
     ]
    }
   ],
   "source": [
    "df_ent = df[~df['Targeted Entities'].isnull()]\n",
    "df_ent['Targeted Entities'] = df_ent['Targeted Entities'].str.split('; ')"
   ]
  },
  {
   "cell_type": "code",
   "execution_count": 118,
   "metadata": {},
   "outputs": [],
   "source": [
    "df_ent = df_ent.explode('Targeted Entities')"
   ]
  },
  {
   "cell_type": "code",
   "execution_count": 119,
   "metadata": {},
   "outputs": [],
   "source": [
    "df_ent = df_ent.groupby(['Year', 'Targeted Entities']).count()['Title'].reset_index()"
   ]
  },
  {
   "cell_type": "code",
   "execution_count": 122,
   "metadata": {},
   "outputs": [
    {
     "data": {
      "text/html": [
       "<div>\n",
       "<style scoped>\n",
       "    .dataframe tbody tr th:only-of-type {\n",
       "        vertical-align: middle;\n",
       "    }\n",
       "\n",
       "    .dataframe tbody tr th {\n",
       "        vertical-align: top;\n",
       "    }\n",
       "\n",
       "    .dataframe thead th {\n",
       "        text-align: right;\n",
       "    }\n",
       "</style>\n",
       "<table border=\"1\" class=\"dataframe\">\n",
       "  <thead>\n",
       "    <tr style=\"text-align: right;\">\n",
       "      <th></th>\n",
       "      <th>Year</th>\n",
       "      <th>Targeted Entities</th>\n",
       "      <th>Title</th>\n",
       "    </tr>\n",
       "  </thead>\n",
       "  <tbody>\n",
       "    <tr>\n",
       "      <th>0</th>\n",
       "      <td>2021</td>\n",
       "      <td>Political and Security Committee of the Counci...</td>\n",
       "      <td>1</td>\n",
       "    </tr>\n",
       "    <tr>\n",
       "      <th>1</th>\n",
       "      <td>2021</td>\n",
       "      <td>Subcommittee on Human Rights of the European P...</td>\n",
       "      <td>2</td>\n",
       "    </tr>\n",
       "    <tr>\n",
       "      <th>2</th>\n",
       "      <td>2021</td>\n",
       "      <td>Subcommittee on International Human Rights of ...</td>\n",
       "      <td>3</td>\n",
       "    </tr>\n",
       "    <tr>\n",
       "      <th>3</th>\n",
       "      <td>2021</td>\n",
       "      <td>United States Commission on International Reli...</td>\n",
       "      <td>4</td>\n",
       "    </tr>\n",
       "    <tr>\n",
       "      <th>4</th>\n",
       "      <td>2021</td>\n",
       "      <td>the Alliance of Democracies Foundation in Denmark</td>\n",
       "      <td>5</td>\n",
       "    </tr>\n",
       "    <tr>\n",
       "      <th>5</th>\n",
       "      <td>2021</td>\n",
       "      <td>the Mercator Institute for China Studies in Ge...</td>\n",
       "      <td>6</td>\n",
       "    </tr>\n",
       "    <tr>\n",
       "      <th>6</th>\n",
       "      <td>2022</td>\n",
       "      <td>Ministry of Transport and Communications of Li...</td>\n",
       "      <td>7</td>\n",
       "    </tr>\n",
       "    <tr>\n",
       "      <th>7</th>\n",
       "      <td>2023</td>\n",
       "      <td>Lockheed Martin</td>\n",
       "      <td>8</td>\n",
       "    </tr>\n",
       "    <tr>\n",
       "      <th>8</th>\n",
       "      <td>2023</td>\n",
       "      <td>Micron</td>\n",
       "      <td>9</td>\n",
       "    </tr>\n",
       "    <tr>\n",
       "      <th>9</th>\n",
       "      <td>2023</td>\n",
       "      <td>Raytheon Missiles &amp; Defense</td>\n",
       "      <td>10</td>\n",
       "    </tr>\n",
       "    <tr>\n",
       "      <th>10</th>\n",
       "      <td>2024</td>\n",
       "      <td>ACT1 Federal</td>\n",
       "      <td>11</td>\n",
       "    </tr>\n",
       "    <tr>\n",
       "      <th>11</th>\n",
       "      <td>2024</td>\n",
       "      <td>AEVEX Aerospace</td>\n",
       "      <td>12</td>\n",
       "    </tr>\n",
       "    <tr>\n",
       "      <th>12</th>\n",
       "      <td>2024</td>\n",
       "      <td>Anduril Industries</td>\n",
       "      <td>13</td>\n",
       "    </tr>\n",
       "    <tr>\n",
       "      <th>13</th>\n",
       "      <td>2024</td>\n",
       "      <td>Applied Technologies Group</td>\n",
       "      <td>14</td>\n",
       "    </tr>\n",
       "    <tr>\n",
       "      <th>14</th>\n",
       "      <td>2024</td>\n",
       "      <td>Axient</td>\n",
       "      <td>15</td>\n",
       "    </tr>\n",
       "    <tr>\n",
       "      <th>15</th>\n",
       "      <td>2024</td>\n",
       "      <td>BRINC Drones, Inc.</td>\n",
       "      <td>16</td>\n",
       "    </tr>\n",
       "    <tr>\n",
       "      <th>16</th>\n",
       "      <td>2024</td>\n",
       "      <td>Cubic Corporation</td>\n",
       "      <td>17</td>\n",
       "    </tr>\n",
       "    <tr>\n",
       "      <th>17</th>\n",
       "      <td>2024</td>\n",
       "      <td>Cyberlux Corporation</td>\n",
       "      <td>18</td>\n",
       "    </tr>\n",
       "    <tr>\n",
       "      <th>18</th>\n",
       "      <td>2024</td>\n",
       "      <td>Domo Tactical Communications</td>\n",
       "      <td>19</td>\n",
       "    </tr>\n",
       "    <tr>\n",
       "      <th>19</th>\n",
       "      <td>2024</td>\n",
       "      <td>Edge Autonomy Operations LLC</td>\n",
       "      <td>20</td>\n",
       "    </tr>\n",
       "    <tr>\n",
       "      <th>20</th>\n",
       "      <td>2024</td>\n",
       "      <td>Exovera</td>\n",
       "      <td>21</td>\n",
       "    </tr>\n",
       "    <tr>\n",
       "      <th>21</th>\n",
       "      <td>2024</td>\n",
       "      <td>Firestorm Labs, Inc.</td>\n",
       "      <td>22</td>\n",
       "    </tr>\n",
       "    <tr>\n",
       "      <th>22</th>\n",
       "      <td>2024</td>\n",
       "      <td>General Dynamics Information Technology</td>\n",
       "      <td>23</td>\n",
       "    </tr>\n",
       "    <tr>\n",
       "      <th>23</th>\n",
       "      <td>2024</td>\n",
       "      <td>General Dynamics Mission Systems</td>\n",
       "      <td>24</td>\n",
       "    </tr>\n",
       "    <tr>\n",
       "      <th>24</th>\n",
       "      <td>2024</td>\n",
       "      <td>General Dynamics Ordnance and Tactical Systems</td>\n",
       "      <td>25</td>\n",
       "    </tr>\n",
       "    <tr>\n",
       "      <th>25</th>\n",
       "      <td>2024</td>\n",
       "      <td>Group W</td>\n",
       "      <td>26</td>\n",
       "    </tr>\n",
       "    <tr>\n",
       "      <th>26</th>\n",
       "      <td>2024</td>\n",
       "      <td>HavocAI</td>\n",
       "      <td>27</td>\n",
       "    </tr>\n",
       "    <tr>\n",
       "      <th>27</th>\n",
       "      <td>2024</td>\n",
       "      <td>Huntington Ingalls Industries Inc.</td>\n",
       "      <td>28</td>\n",
       "    </tr>\n",
       "    <tr>\n",
       "      <th>28</th>\n",
       "      <td>2024</td>\n",
       "      <td>Inter-Coastal Electronics</td>\n",
       "      <td>29</td>\n",
       "    </tr>\n",
       "    <tr>\n",
       "      <th>29</th>\n",
       "      <td>2024</td>\n",
       "      <td>IronMountain Solutions</td>\n",
       "      <td>30</td>\n",
       "    </tr>\n",
       "    <tr>\n",
       "      <th>30</th>\n",
       "      <td>2024</td>\n",
       "      <td>Kratos Unmanned Aerial Systems, Inc.</td>\n",
       "      <td>31</td>\n",
       "    </tr>\n",
       "    <tr>\n",
       "      <th>31</th>\n",
       "      <td>2024</td>\n",
       "      <td>LKD Aerospace</td>\n",
       "      <td>32</td>\n",
       "    </tr>\n",
       "    <tr>\n",
       "      <th>32</th>\n",
       "      <td>2024</td>\n",
       "      <td>Lockheed Martin Aeronautics</td>\n",
       "      <td>33</td>\n",
       "    </tr>\n",
       "    <tr>\n",
       "      <th>33</th>\n",
       "      <td>2024</td>\n",
       "      <td>Lockheed Martin Missiles and Fire Control</td>\n",
       "      <td>34</td>\n",
       "    </tr>\n",
       "    <tr>\n",
       "      <th>34</th>\n",
       "      <td>2024</td>\n",
       "      <td>Maritime Tactical Systems</td>\n",
       "      <td>35</td>\n",
       "    </tr>\n",
       "    <tr>\n",
       "      <th>35</th>\n",
       "      <td>2024</td>\n",
       "      <td>NVIDIA</td>\n",
       "      <td>36</td>\n",
       "    </tr>\n",
       "    <tr>\n",
       "      <th>36</th>\n",
       "      <td>2024</td>\n",
       "      <td>Neros Technologies</td>\n",
       "      <td>37</td>\n",
       "    </tr>\n",
       "    <tr>\n",
       "      <th>37</th>\n",
       "      <td>2024</td>\n",
       "      <td>Pacific Rim Defense</td>\n",
       "      <td>38</td>\n",
       "    </tr>\n",
       "    <tr>\n",
       "      <th>38</th>\n",
       "      <td>2024</td>\n",
       "      <td>Planate Management Group</td>\n",
       "      <td>39</td>\n",
       "    </tr>\n",
       "    <tr>\n",
       "      <th>39</th>\n",
       "      <td>2024</td>\n",
       "      <td>Rapid Flight LLC</td>\n",
       "      <td>40</td>\n",
       "    </tr>\n",
       "    <tr>\n",
       "      <th>40</th>\n",
       "      <td>2024</td>\n",
       "      <td>Raytheon Missile Systems</td>\n",
       "      <td>41</td>\n",
       "    </tr>\n",
       "    <tr>\n",
       "      <th>41</th>\n",
       "      <td>2024</td>\n",
       "      <td>Raytheon/Lockheed Martin Javelin Joint Venture</td>\n",
       "      <td>42</td>\n",
       "    </tr>\n",
       "    <tr>\n",
       "      <th>42</th>\n",
       "      <td>2024</td>\n",
       "      <td>Red Six Solutions</td>\n",
       "      <td>43</td>\n",
       "    </tr>\n",
       "    <tr>\n",
       "      <th>43</th>\n",
       "      <td>2024</td>\n",
       "      <td>S3 AeroDefense</td>\n",
       "      <td>44</td>\n",
       "    </tr>\n",
       "    <tr>\n",
       "      <th>44</th>\n",
       "      <td>2024</td>\n",
       "      <td>SYNEXXUS, Inc.</td>\n",
       "      <td>45</td>\n",
       "    </tr>\n",
       "    <tr>\n",
       "      <th>45</th>\n",
       "      <td>2024</td>\n",
       "      <td>Shield AI, Inc.</td>\n",
       "      <td>46</td>\n",
       "    </tr>\n",
       "    <tr>\n",
       "      <th>46</th>\n",
       "      <td>2024</td>\n",
       "      <td>Sierra Nevada Corporation</td>\n",
       "      <td>47</td>\n",
       "    </tr>\n",
       "    <tr>\n",
       "      <th>47</th>\n",
       "      <td>2024</td>\n",
       "      <td>Skydio Inc.</td>\n",
       "      <td>48</td>\n",
       "    </tr>\n",
       "    <tr>\n",
       "      <th>48</th>\n",
       "      <td>2024</td>\n",
       "      <td>Stick Rudder Enterprises LLC</td>\n",
       "      <td>49</td>\n",
       "    </tr>\n",
       "    <tr>\n",
       "      <th>49</th>\n",
       "      <td>2024</td>\n",
       "      <td>Summit Technologies Inc.</td>\n",
       "      <td>50</td>\n",
       "    </tr>\n",
       "    <tr>\n",
       "      <th>50</th>\n",
       "      <td>2024</td>\n",
       "      <td>System Studies &amp; Simulation</td>\n",
       "      <td>51</td>\n",
       "    </tr>\n",
       "    <tr>\n",
       "      <th>51</th>\n",
       "      <td>2024</td>\n",
       "      <td>TCOM, Limited Partnership</td>\n",
       "      <td>52</td>\n",
       "    </tr>\n",
       "    <tr>\n",
       "      <th>52</th>\n",
       "      <td>2024</td>\n",
       "      <td>Teledyne Brown Engineering, Inc.</td>\n",
       "      <td>53</td>\n",
       "    </tr>\n",
       "    <tr>\n",
       "      <th>53</th>\n",
       "      <td>2024</td>\n",
       "      <td>TextOre</td>\n",
       "      <td>54</td>\n",
       "    </tr>\n",
       "  </tbody>\n",
       "</table>\n",
       "</div>"
      ],
      "text/plain": [
       "    Year                                  Targeted Entities  Title\n",
       "0   2021  Political and Security Committee of the Counci...      1\n",
       "1   2021  Subcommittee on Human Rights of the European P...      2\n",
       "2   2021  Subcommittee on International Human Rights of ...      3\n",
       "3   2021  United States Commission on International Reli...      4\n",
       "4   2021  the Alliance of Democracies Foundation in Denmark      5\n",
       "5   2021  the Mercator Institute for China Studies in Ge...      6\n",
       "6   2022  Ministry of Transport and Communications of Li...      7\n",
       "7   2023                                    Lockheed Martin      8\n",
       "8   2023                                             Micron      9\n",
       "9   2023                        Raytheon Missiles & Defense     10\n",
       "10  2024                                       ACT1 Federal     11\n",
       "11  2024                                    AEVEX Aerospace     12\n",
       "12  2024                                 Anduril Industries     13\n",
       "13  2024                         Applied Technologies Group     14\n",
       "14  2024                                             Axient     15\n",
       "15  2024                                 BRINC Drones, Inc.     16\n",
       "16  2024                                  Cubic Corporation     17\n",
       "17  2024                               Cyberlux Corporation     18\n",
       "18  2024                       Domo Tactical Communications     19\n",
       "19  2024                       Edge Autonomy Operations LLC     20\n",
       "20  2024                                            Exovera     21\n",
       "21  2024                               Firestorm Labs, Inc.     22\n",
       "22  2024            General Dynamics Information Technology     23\n",
       "23  2024                   General Dynamics Mission Systems     24\n",
       "24  2024     General Dynamics Ordnance and Tactical Systems     25\n",
       "25  2024                                            Group W     26\n",
       "26  2024                                            HavocAI     27\n",
       "27  2024                 Huntington Ingalls Industries Inc.     28\n",
       "28  2024                          Inter-Coastal Electronics     29\n",
       "29  2024                             IronMountain Solutions     30\n",
       "30  2024               Kratos Unmanned Aerial Systems, Inc.     31\n",
       "31  2024                                      LKD Aerospace     32\n",
       "32  2024                        Lockheed Martin Aeronautics     33\n",
       "33  2024          Lockheed Martin Missiles and Fire Control     34\n",
       "34  2024                          Maritime Tactical Systems     35\n",
       "35  2024                                             NVIDIA     36\n",
       "36  2024                                 Neros Technologies     37\n",
       "37  2024                                Pacific Rim Defense     38\n",
       "38  2024                           Planate Management Group     39\n",
       "39  2024                                   Rapid Flight LLC     40\n",
       "40  2024                           Raytheon Missile Systems     41\n",
       "41  2024     Raytheon/Lockheed Martin Javelin Joint Venture     42\n",
       "42  2024                                  Red Six Solutions     43\n",
       "43  2024                                     S3 AeroDefense     44\n",
       "44  2024                                     SYNEXXUS, Inc.     45\n",
       "45  2024                                    Shield AI, Inc.     46\n",
       "46  2024                          Sierra Nevada Corporation     47\n",
       "47  2024                                        Skydio Inc.     48\n",
       "48  2024                       Stick Rudder Enterprises LLC     49\n",
       "49  2024                           Summit Technologies Inc.     50\n",
       "50  2024                        System Studies & Simulation     51\n",
       "51  2024                          TCOM, Limited Partnership     52\n",
       "52  2024                   Teledyne Brown Engineering, Inc.     53\n",
       "53  2024                                            TextOre     54"
      ]
     },
     "execution_count": 122,
     "metadata": {},
     "output_type": "execute_result"
    }
   ],
   "source": [
    "df_ent['Title'] = df_ent['Title'].cumsum()\n",
    "df_ent"
   ]
  },
  {
   "cell_type": "code",
   "execution_count": 123,
   "metadata": {},
   "outputs": [
    {
     "data": {
      "application/vnd.plotly.v1+json": {
       "config": {
        "plotlyServerURL": "https://plot.ly"
       },
       "data": [
        {
         "hovertemplate": "Year=%{x}<br>Count=%{y}<extra></extra>",
         "legendgroup": "",
         "line": {
          "color": "#636efa",
          "dash": "solid"
         },
         "marker": {
          "symbol": "circle"
         },
         "mode": "lines",
         "name": "",
         "orientation": "v",
         "showlegend": false,
         "type": "scatter",
         "x": [
          2021,
          2021,
          2021,
          2021,
          2021,
          2021,
          2022,
          2023,
          2023,
          2023,
          2024,
          2024,
          2024,
          2024,
          2024,
          2024,
          2024,
          2024,
          2024,
          2024,
          2024,
          2024,
          2024,
          2024,
          2024,
          2024,
          2024,
          2024,
          2024,
          2024,
          2024,
          2024,
          2024,
          2024,
          2024,
          2024,
          2024,
          2024,
          2024,
          2024,
          2024,
          2024,
          2024,
          2024,
          2024,
          2024,
          2024,
          2024,
          2024,
          2024,
          2024,
          2024,
          2024,
          2024
         ],
         "xaxis": "x",
         "y": [
          1,
          2,
          3,
          4,
          5,
          6,
          7,
          8,
          9,
          10,
          11,
          12,
          13,
          14,
          15,
          16,
          17,
          18,
          19,
          20,
          21,
          22,
          23,
          24,
          25,
          26,
          27,
          28,
          29,
          30,
          31,
          32,
          33,
          34,
          35,
          36,
          37,
          38,
          39,
          40,
          41,
          42,
          43,
          44,
          45,
          46,
          47,
          48,
          49,
          50,
          51,
          52,
          53,
          54
         ],
         "yaxis": "y"
        }
       ],
       "layout": {
        "legend": {
         "tracegroupgap": 0
        },
        "template": {
         "data": {
          "bar": [
           {
            "error_x": {
             "color": "#2a3f5f"
            },
            "error_y": {
             "color": "#2a3f5f"
            },
            "marker": {
             "line": {
              "color": "#E5ECF6",
              "width": 0.5
             },
             "pattern": {
              "fillmode": "overlay",
              "size": 10,
              "solidity": 0.2
             }
            },
            "type": "bar"
           }
          ],
          "barpolar": [
           {
            "marker": {
             "line": {
              "color": "#E5ECF6",
              "width": 0.5
             },
             "pattern": {
              "fillmode": "overlay",
              "size": 10,
              "solidity": 0.2
             }
            },
            "type": "barpolar"
           }
          ],
          "carpet": [
           {
            "aaxis": {
             "endlinecolor": "#2a3f5f",
             "gridcolor": "white",
             "linecolor": "white",
             "minorgridcolor": "white",
             "startlinecolor": "#2a3f5f"
            },
            "baxis": {
             "endlinecolor": "#2a3f5f",
             "gridcolor": "white",
             "linecolor": "white",
             "minorgridcolor": "white",
             "startlinecolor": "#2a3f5f"
            },
            "type": "carpet"
           }
          ],
          "choropleth": [
           {
            "colorbar": {
             "outlinewidth": 0,
             "ticks": ""
            },
            "type": "choropleth"
           }
          ],
          "contour": [
           {
            "colorbar": {
             "outlinewidth": 0,
             "ticks": ""
            },
            "colorscale": [
             [
              0,
              "#0d0887"
             ],
             [
              0.1111111111111111,
              "#46039f"
             ],
             [
              0.2222222222222222,
              "#7201a8"
             ],
             [
              0.3333333333333333,
              "#9c179e"
             ],
             [
              0.4444444444444444,
              "#bd3786"
             ],
             [
              0.5555555555555556,
              "#d8576b"
             ],
             [
              0.6666666666666666,
              "#ed7953"
             ],
             [
              0.7777777777777778,
              "#fb9f3a"
             ],
             [
              0.8888888888888888,
              "#fdca26"
             ],
             [
              1,
              "#f0f921"
             ]
            ],
            "type": "contour"
           }
          ],
          "contourcarpet": [
           {
            "colorbar": {
             "outlinewidth": 0,
             "ticks": ""
            },
            "type": "contourcarpet"
           }
          ],
          "heatmap": [
           {
            "colorbar": {
             "outlinewidth": 0,
             "ticks": ""
            },
            "colorscale": [
             [
              0,
              "#0d0887"
             ],
             [
              0.1111111111111111,
              "#46039f"
             ],
             [
              0.2222222222222222,
              "#7201a8"
             ],
             [
              0.3333333333333333,
              "#9c179e"
             ],
             [
              0.4444444444444444,
              "#bd3786"
             ],
             [
              0.5555555555555556,
              "#d8576b"
             ],
             [
              0.6666666666666666,
              "#ed7953"
             ],
             [
              0.7777777777777778,
              "#fb9f3a"
             ],
             [
              0.8888888888888888,
              "#fdca26"
             ],
             [
              1,
              "#f0f921"
             ]
            ],
            "type": "heatmap"
           }
          ],
          "heatmapgl": [
           {
            "colorbar": {
             "outlinewidth": 0,
             "ticks": ""
            },
            "colorscale": [
             [
              0,
              "#0d0887"
             ],
             [
              0.1111111111111111,
              "#46039f"
             ],
             [
              0.2222222222222222,
              "#7201a8"
             ],
             [
              0.3333333333333333,
              "#9c179e"
             ],
             [
              0.4444444444444444,
              "#bd3786"
             ],
             [
              0.5555555555555556,
              "#d8576b"
             ],
             [
              0.6666666666666666,
              "#ed7953"
             ],
             [
              0.7777777777777778,
              "#fb9f3a"
             ],
             [
              0.8888888888888888,
              "#fdca26"
             ],
             [
              1,
              "#f0f921"
             ]
            ],
            "type": "heatmapgl"
           }
          ],
          "histogram": [
           {
            "marker": {
             "pattern": {
              "fillmode": "overlay",
              "size": 10,
              "solidity": 0.2
             }
            },
            "type": "histogram"
           }
          ],
          "histogram2d": [
           {
            "colorbar": {
             "outlinewidth": 0,
             "ticks": ""
            },
            "colorscale": [
             [
              0,
              "#0d0887"
             ],
             [
              0.1111111111111111,
              "#46039f"
             ],
             [
              0.2222222222222222,
              "#7201a8"
             ],
             [
              0.3333333333333333,
              "#9c179e"
             ],
             [
              0.4444444444444444,
              "#bd3786"
             ],
             [
              0.5555555555555556,
              "#d8576b"
             ],
             [
              0.6666666666666666,
              "#ed7953"
             ],
             [
              0.7777777777777778,
              "#fb9f3a"
             ],
             [
              0.8888888888888888,
              "#fdca26"
             ],
             [
              1,
              "#f0f921"
             ]
            ],
            "type": "histogram2d"
           }
          ],
          "histogram2dcontour": [
           {
            "colorbar": {
             "outlinewidth": 0,
             "ticks": ""
            },
            "colorscale": [
             [
              0,
              "#0d0887"
             ],
             [
              0.1111111111111111,
              "#46039f"
             ],
             [
              0.2222222222222222,
              "#7201a8"
             ],
             [
              0.3333333333333333,
              "#9c179e"
             ],
             [
              0.4444444444444444,
              "#bd3786"
             ],
             [
              0.5555555555555556,
              "#d8576b"
             ],
             [
              0.6666666666666666,
              "#ed7953"
             ],
             [
              0.7777777777777778,
              "#fb9f3a"
             ],
             [
              0.8888888888888888,
              "#fdca26"
             ],
             [
              1,
              "#f0f921"
             ]
            ],
            "type": "histogram2dcontour"
           }
          ],
          "mesh3d": [
           {
            "colorbar": {
             "outlinewidth": 0,
             "ticks": ""
            },
            "type": "mesh3d"
           }
          ],
          "parcoords": [
           {
            "line": {
             "colorbar": {
              "outlinewidth": 0,
              "ticks": ""
             }
            },
            "type": "parcoords"
           }
          ],
          "pie": [
           {
            "automargin": true,
            "type": "pie"
           }
          ],
          "scatter": [
           {
            "fillpattern": {
             "fillmode": "overlay",
             "size": 10,
             "solidity": 0.2
            },
            "type": "scatter"
           }
          ],
          "scatter3d": [
           {
            "line": {
             "colorbar": {
              "outlinewidth": 0,
              "ticks": ""
             }
            },
            "marker": {
             "colorbar": {
              "outlinewidth": 0,
              "ticks": ""
             }
            },
            "type": "scatter3d"
           }
          ],
          "scattercarpet": [
           {
            "marker": {
             "colorbar": {
              "outlinewidth": 0,
              "ticks": ""
             }
            },
            "type": "scattercarpet"
           }
          ],
          "scattergeo": [
           {
            "marker": {
             "colorbar": {
              "outlinewidth": 0,
              "ticks": ""
             }
            },
            "type": "scattergeo"
           }
          ],
          "scattergl": [
           {
            "marker": {
             "colorbar": {
              "outlinewidth": 0,
              "ticks": ""
             }
            },
            "type": "scattergl"
           }
          ],
          "scattermapbox": [
           {
            "marker": {
             "colorbar": {
              "outlinewidth": 0,
              "ticks": ""
             }
            },
            "type": "scattermapbox"
           }
          ],
          "scatterpolar": [
           {
            "marker": {
             "colorbar": {
              "outlinewidth": 0,
              "ticks": ""
             }
            },
            "type": "scatterpolar"
           }
          ],
          "scatterpolargl": [
           {
            "marker": {
             "colorbar": {
              "outlinewidth": 0,
              "ticks": ""
             }
            },
            "type": "scatterpolargl"
           }
          ],
          "scatterternary": [
           {
            "marker": {
             "colorbar": {
              "outlinewidth": 0,
              "ticks": ""
             }
            },
            "type": "scatterternary"
           }
          ],
          "surface": [
           {
            "colorbar": {
             "outlinewidth": 0,
             "ticks": ""
            },
            "colorscale": [
             [
              0,
              "#0d0887"
             ],
             [
              0.1111111111111111,
              "#46039f"
             ],
             [
              0.2222222222222222,
              "#7201a8"
             ],
             [
              0.3333333333333333,
              "#9c179e"
             ],
             [
              0.4444444444444444,
              "#bd3786"
             ],
             [
              0.5555555555555556,
              "#d8576b"
             ],
             [
              0.6666666666666666,
              "#ed7953"
             ],
             [
              0.7777777777777778,
              "#fb9f3a"
             ],
             [
              0.8888888888888888,
              "#fdca26"
             ],
             [
              1,
              "#f0f921"
             ]
            ],
            "type": "surface"
           }
          ],
          "table": [
           {
            "cells": {
             "fill": {
              "color": "#EBF0F8"
             },
             "line": {
              "color": "white"
             }
            },
            "header": {
             "fill": {
              "color": "#C8D4E3"
             },
             "line": {
              "color": "white"
             }
            },
            "type": "table"
           }
          ]
         },
         "layout": {
          "annotationdefaults": {
           "arrowcolor": "#2a3f5f",
           "arrowhead": 0,
           "arrowwidth": 1
          },
          "autotypenumbers": "strict",
          "coloraxis": {
           "colorbar": {
            "outlinewidth": 0,
            "ticks": ""
           }
          },
          "colorscale": {
           "diverging": [
            [
             0,
             "#8e0152"
            ],
            [
             0.1,
             "#c51b7d"
            ],
            [
             0.2,
             "#de77ae"
            ],
            [
             0.3,
             "#f1b6da"
            ],
            [
             0.4,
             "#fde0ef"
            ],
            [
             0.5,
             "#f7f7f7"
            ],
            [
             0.6,
             "#e6f5d0"
            ],
            [
             0.7,
             "#b8e186"
            ],
            [
             0.8,
             "#7fbc41"
            ],
            [
             0.9,
             "#4d9221"
            ],
            [
             1,
             "#276419"
            ]
           ],
           "sequential": [
            [
             0,
             "#0d0887"
            ],
            [
             0.1111111111111111,
             "#46039f"
            ],
            [
             0.2222222222222222,
             "#7201a8"
            ],
            [
             0.3333333333333333,
             "#9c179e"
            ],
            [
             0.4444444444444444,
             "#bd3786"
            ],
            [
             0.5555555555555556,
             "#d8576b"
            ],
            [
             0.6666666666666666,
             "#ed7953"
            ],
            [
             0.7777777777777778,
             "#fb9f3a"
            ],
            [
             0.8888888888888888,
             "#fdca26"
            ],
            [
             1,
             "#f0f921"
            ]
           ],
           "sequentialminus": [
            [
             0,
             "#0d0887"
            ],
            [
             0.1111111111111111,
             "#46039f"
            ],
            [
             0.2222222222222222,
             "#7201a8"
            ],
            [
             0.3333333333333333,
             "#9c179e"
            ],
            [
             0.4444444444444444,
             "#bd3786"
            ],
            [
             0.5555555555555556,
             "#d8576b"
            ],
            [
             0.6666666666666666,
             "#ed7953"
            ],
            [
             0.7777777777777778,
             "#fb9f3a"
            ],
            [
             0.8888888888888888,
             "#fdca26"
            ],
            [
             1,
             "#f0f921"
            ]
           ]
          },
          "colorway": [
           "#636efa",
           "#EF553B",
           "#00cc96",
           "#ab63fa",
           "#FFA15A",
           "#19d3f3",
           "#FF6692",
           "#B6E880",
           "#FF97FF",
           "#FECB52"
          ],
          "font": {
           "color": "#2a3f5f"
          },
          "geo": {
           "bgcolor": "white",
           "lakecolor": "white",
           "landcolor": "#E5ECF6",
           "showlakes": true,
           "showland": true,
           "subunitcolor": "white"
          },
          "hoverlabel": {
           "align": "left"
          },
          "hovermode": "closest",
          "mapbox": {
           "style": "light"
          },
          "paper_bgcolor": "white",
          "plot_bgcolor": "#E5ECF6",
          "polar": {
           "angularaxis": {
            "gridcolor": "white",
            "linecolor": "white",
            "ticks": ""
           },
           "bgcolor": "#E5ECF6",
           "radialaxis": {
            "gridcolor": "white",
            "linecolor": "white",
            "ticks": ""
           }
          },
          "scene": {
           "xaxis": {
            "backgroundcolor": "#E5ECF6",
            "gridcolor": "white",
            "gridwidth": 2,
            "linecolor": "white",
            "showbackground": true,
            "ticks": "",
            "zerolinecolor": "white"
           },
           "yaxis": {
            "backgroundcolor": "#E5ECF6",
            "gridcolor": "white",
            "gridwidth": 2,
            "linecolor": "white",
            "showbackground": true,
            "ticks": "",
            "zerolinecolor": "white"
           },
           "zaxis": {
            "backgroundcolor": "#E5ECF6",
            "gridcolor": "white",
            "gridwidth": 2,
            "linecolor": "white",
            "showbackground": true,
            "ticks": "",
            "zerolinecolor": "white"
           }
          },
          "shapedefaults": {
           "line": {
            "color": "#2a3f5f"
           }
          },
          "ternary": {
           "aaxis": {
            "gridcolor": "white",
            "linecolor": "white",
            "ticks": ""
           },
           "baxis": {
            "gridcolor": "white",
            "linecolor": "white",
            "ticks": ""
           },
           "bgcolor": "#E5ECF6",
           "caxis": {
            "gridcolor": "white",
            "linecolor": "white",
            "ticks": ""
           }
          },
          "title": {
           "x": 0.05
          },
          "xaxis": {
           "automargin": true,
           "gridcolor": "white",
           "linecolor": "white",
           "ticks": "",
           "title": {
            "standoff": 15
           },
           "zerolinecolor": "white",
           "zerolinewidth": 2
          },
          "yaxis": {
           "automargin": true,
           "gridcolor": "white",
           "linecolor": "white",
           "ticks": "",
           "title": {
            "standoff": 15
           },
           "zerolinecolor": "white",
           "zerolinewidth": 2
          }
         }
        },
        "title": {
         "text": "Targeted Individuals over Time"
        },
        "xaxis": {
         "anchor": "y",
         "domain": [
          0,
          1
         ],
         "title": {
          "text": "Year"
         }
        },
        "yaxis": {
         "anchor": "x",
         "domain": [
          0,
          1
         ],
         "title": {
          "text": "Count"
         }
        }
       }
      }
     },
     "metadata": {},
     "output_type": "display_data"
    }
   ],
   "source": [
    "fig = px.line(df_ent, x=\"Year\", y=\"Title\", title=\"Targeted Individuals over Time\", labels={'Title': 'Count'})\n",
    "fig.show() # not sure why date not working"
   ]
  },
  {
   "cell_type": "code",
   "execution_count": null,
   "metadata": {},
   "outputs": [],
   "source": []
  }
 ],
 "metadata": {
  "kernelspec": {
   "display_name": "ecosa_viz",
   "language": "python",
   "name": "python3"
  },
  "language_info": {
   "codemirror_mode": {
    "name": "ipython",
    "version": 3
   },
   "file_extension": ".py",
   "mimetype": "text/x-python",
   "name": "python",
   "nbconvert_exporter": "python",
   "pygments_lexer": "ipython3",
   "version": "3.11.10"
  }
 },
 "nbformat": 4,
 "nbformat_minor": 2
}
