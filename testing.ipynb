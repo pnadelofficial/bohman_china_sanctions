{
 "cells": [
  {
   "cell_type": "code",
   "execution_count": 1,
   "metadata": {},
   "outputs": [
    {
     "name": "stderr",
     "output_type": "stream",
     "text": [
      "/Users/pnadel01/miniconda3/envs/ecosa_viz/lib/python3.11/site-packages/openpyxl/worksheet/_reader.py:329: UserWarning: Data Validation extension is not supported and will be removed\n",
      "  warn(msg)\n"
     ]
    }
   ],
   "source": [
    "import pandas as pd\n",
    "\n",
    "df = pd.read_excel('CSM.xlsm', sheet_name='Master Sheet')"
   ]
  },
  {
   "cell_type": "code",
   "execution_count": 2,
   "metadata": {},
   "outputs": [
    {
     "data": {
      "text/html": [
       "<div>\n",
       "<style scoped>\n",
       "    .dataframe tbody tr th:only-of-type {\n",
       "        vertical-align: middle;\n",
       "    }\n",
       "\n",
       "    .dataframe tbody tr th {\n",
       "        vertical-align: top;\n",
       "    }\n",
       "\n",
       "    .dataframe thead th {\n",
       "        text-align: right;\n",
       "    }\n",
       "</style>\n",
       "<table border=\"1\" class=\"dataframe\">\n",
       "  <thead>\n",
       "    <tr style=\"text-align: right;\">\n",
       "      <th></th>\n",
       "      <th>Start Date</th>\n",
       "      <th>Title</th>\n",
       "      <th>Form of Restriction</th>\n",
       "      <th>Restriction Quotes</th>\n",
       "      <th>Mechanism</th>\n",
       "      <th>Formality\\n0 - Informal \\n1 - Formal</th>\n",
       "      <th>Legal Basis</th>\n",
       "      <th>Targeted Individuals</th>\n",
       "      <th>Targeted Entities</th>\n",
       "      <th>Nationality of Targets</th>\n",
       "      <th>Sector</th>\n",
       "      <th>Targeted Product Categories</th>\n",
       "      <th>Comment</th>\n",
       "      <th>Full Text Chinese</th>\n",
       "      <th>Full Text English</th>\n",
       "      <th>Link</th>\n",
       "      <th>Link2</th>\n",
       "      <th>Link3</th>\n",
       "    </tr>\n",
       "  </thead>\n",
       "  <tbody>\n",
       "    <tr>\n",
       "      <th>0</th>\n",
       "      <td>2020-01-01</td>\n",
       "      <td>Cessation of Licenses to Export Graphite to Sw...</td>\n",
       "      <td>Export Control</td>\n",
       "      <td>Undefined</td>\n",
       "      <td>Bureaucratic Obstruction</td>\n",
       "      <td>0.0</td>\n",
       "      <td>NaN</td>\n",
       "      <td>NaN</td>\n",
       "      <td>NaN</td>\n",
       "      <td>Sweden (Europe)</td>\n",
       "      <td>Raw Materials</td>\n",
       "      <td>Graphite</td>\n",
       "      <td>The process of granting export licenses presum...</td>\n",
       "      <td>NaN</td>\n",
       "      <td>NaN</td>\n",
       "      <td>European Commission</td>\n",
       "      <td>Investigation by Swedish Public Radio</td>\n",
       "      <td>NaN</td>\n",
       "    </tr>\n",
       "    <tr>\n",
       "      <th>1</th>\n",
       "      <td>2021-03-22</td>\n",
       "      <td>Foreign Ministry Spokesperson Announces Sancti...</td>\n",
       "      <td>Targeted Sanction</td>\n",
       "      <td>Individuals concerned and their families are p...</td>\n",
       "      <td>Formal</td>\n",
       "      <td>1.0</td>\n",
       "      <td>Undefined</td>\n",
       "      <td>Reinhard Butikofer; Michael Gahler; Raphaël Gl...</td>\n",
       "      <td>Political and Security Committee of the Counci...</td>\n",
       "      <td>Germany (Europe); France (Europe); Bulgaria (E...</td>\n",
       "      <td>NaN</td>\n",
       "      <td>NaN</td>\n",
       "      <td>Significant step (escalation) in China's forma...</td>\n",
       "      <td>外交部发言人宣布中方对欧盟有关机构和人员实施制裁\\n2021-03-22 20:26\\n\\n...</td>\n",
       "      <td>Foreign Ministry Spokesperson Announces Sancti...</td>\n",
       "      <td>Full Text Chinese (MFA)</td>\n",
       "      <td>Full Text English (MFA)</td>\n",
       "      <td>NaN</td>\n",
       "    </tr>\n",
       "    <tr>\n",
       "      <th>2</th>\n",
       "      <td>2021-03-27</td>\n",
       "      <td>Foreign Ministry Spokesperson\\nAnnounces Sanct...</td>\n",
       "      <td>Targeted Sanction</td>\n",
       "      <td>prohibiting the above-mentioned individuals fr...</td>\n",
       "      <td>Formal</td>\n",
       "      <td>1.0</td>\n",
       "      <td>Undefined</td>\n",
       "      <td>Gayle Manchin; Tony Perkins; Michael Chong</td>\n",
       "      <td>United States Commission on International Reli...</td>\n",
       "      <td>United States (North America); Canada (North A...</td>\n",
       "      <td>NaN</td>\n",
       "      <td>NaN</td>\n",
       "      <td>Imposed together with sanctions against the EU...</td>\n",
       "      <td>外交部发言人宣布对美国、加拿大有关人员和实体实施制裁\\n2021-03-27 21:36 来...</td>\n",
       "      <td>Foreign Ministry Spokesperson Announces Sancti...</td>\n",
       "      <td>Full Text Chinese (MFA)</td>\n",
       "      <td>Full Text English (MFA)</td>\n",
       "      <td>NaN</td>\n",
       "    </tr>\n",
       "    <tr>\n",
       "      <th>3</th>\n",
       "      <td>2022-08-01</td>\n",
       "      <td>Foreign Ministry Spokesperson Announces China'...</td>\n",
       "      <td>Targeted Sanction</td>\n",
       "      <td>China decides to adopt sanctions on Vaiciukevi...</td>\n",
       "      <td>Formal</td>\n",
       "      <td>1.0</td>\n",
       "      <td>NaN</td>\n",
       "      <td>Agnė Vaiciukevičiūtė</td>\n",
       "      <td>Ministry of Transport and Communications of Li...</td>\n",
       "      <td>Lithuania (Europe)</td>\n",
       "      <td>Transportation</td>\n",
       "      <td>Lithuania's international road transport activ...</td>\n",
       "      <td>NaN</td>\n",
       "      <td>外交部发言人宣布中方针对立陶宛交通与通讯部副部长瓦伊丘凯维丘特实施制裁\\n2022-08-1...</td>\n",
       "      <td>Foreign Ministry Spokesperson Announces China’...</td>\n",
       "      <td>Full Text Chinese (MFA)</td>\n",
       "      <td>NaN</td>\n",
       "      <td>NaN</td>\n",
       "    </tr>\n",
       "    <tr>\n",
       "      <th>4</th>\n",
       "      <td>2023-04-13</td>\n",
       "      <td>Decision on taking countermeasures against ant...</td>\n",
       "      <td>Targeted Sanction</td>\n",
       "      <td>In accordance with Articles 3, 4, 6 and 15 of ...</td>\n",
       "      <td>Formal</td>\n",
       "      <td>1.0</td>\n",
       "      <td>Anti-Foreign Sanctions Law</td>\n",
       "      <td>Michael McCaul</td>\n",
       "      <td>NaN</td>\n",
       "      <td>United States (North America)</td>\n",
       "      <td>NaN</td>\n",
       "      <td>NaN</td>\n",
       "      <td>NaN</td>\n",
       "      <td>关于对美国反华议员迈克·麦考尔采取反制措施的决定\\n2023-04-13 17:36\\n\\n...</td>\n",
       "      <td>NaN</td>\n",
       "      <td>Full Text Chinese (MFA)</td>\n",
       "      <td>NaN</td>\n",
       "      <td>NaN</td>\n",
       "    </tr>\n",
       "    <tr>\n",
       "      <th>5</th>\n",
       "      <td>2023-07-03</td>\n",
       "      <td>Announcement on ... the Implementation of Expo...</td>\n",
       "      <td>Export Control</td>\n",
       "      <td>NaN</td>\n",
       "      <td>Formal</td>\n",
       "      <td>1.0</td>\n",
       "      <td>Export Control Law;\\nForeign Trade Law;\\nCusto...</td>\n",
       "      <td>NaN</td>\n",
       "      <td>NaN</td>\n",
       "      <td>NaN</td>\n",
       "      <td>Raw Materials</td>\n",
       "      <td>Gallium and germanium</td>\n",
       "      <td>Introduces export license requirements for gal...</td>\n",
       "      <td>商务部 海关总署公告2023年第23号 关于对镓、锗相关物项实施出口管制的公告\\n【发布单位...</td>\n",
       "      <td>NaN</td>\n",
       "      <td>Full Text Chinese (MOFCOM)</td>\n",
       "      <td>Analysis (PIIE)</td>\n",
       "      <td>Analysis (IFRI)</td>\n",
       "    </tr>\n",
       "    <tr>\n",
       "      <th>6</th>\n",
       "      <td>2023-08-24</td>\n",
       "      <td>China ban on Japanese seafood products after F...</td>\n",
       "      <td>Import Restriction</td>\n",
       "      <td>the General Administration of Customs has deci...</td>\n",
       "      <td>Conversion</td>\n",
       "      <td>0.0</td>\n",
       "      <td>Food Safety Law</td>\n",
       "      <td>Japan</td>\n",
       "      <td>NaN</td>\n",
       "      <td>Japan (Asia)</td>\n",
       "      <td>Food &amp; Beverage</td>\n",
       "      <td>Seafood products</td>\n",
       "      <td>No evidence that the ban had something to do w...</td>\n",
       "      <td>海关总署公告\\n2023年第103号\\n\\n为全面防范日本福岛核污染水排海对食品安全造成的放...</td>\n",
       "      <td>NaN</td>\n",
       "      <td>Full Text Chinese (Customs)</td>\n",
       "      <td>Full Text English (MFA)</td>\n",
       "      <td>Analysis (The Interpreter)</td>\n",
       "    </tr>\n",
       "    <tr>\n",
       "      <th>7</th>\n",
       "      <td>2023-08-31</td>\n",
       "      <td>Announcement ... on the Implementation of Temp...</td>\n",
       "      <td>Targeted Sanction</td>\n",
       "      <td>NaN</td>\n",
       "      <td>Formal</td>\n",
       "      <td>1.0</td>\n",
       "      <td>Export Control Law;\\nForeign Trade Law;\\nCusto...</td>\n",
       "      <td>NaN</td>\n",
       "      <td>NaN</td>\n",
       "      <td>NaN</td>\n",
       "      <td>Drones</td>\n",
       "      <td>NaN</td>\n",
       "      <td>Introduces temporary export license requiremen...</td>\n",
       "      <td>商务部 海关总署 国家国防科工局 中央军委装备发展部公告2023年第28号 关于对部分无人机...</td>\n",
       "      <td>NaN</td>\n",
       "      <td>Full Text Chinese (MOFCOM)</td>\n",
       "      <td>Analysis (Geopolitechs)</td>\n",
       "      <td>Reporting (Reuters)</td>\n",
       "    </tr>\n",
       "    <tr>\n",
       "      <th>8</th>\n",
       "      <td>2023-10-20</td>\n",
       "      <td>Announcement on ... Optimizing and Adjusting T...</td>\n",
       "      <td>Export Control</td>\n",
       "      <td>NaN</td>\n",
       "      <td>Formal</td>\n",
       "      <td>1.0</td>\n",
       "      <td>Export Control Law;\\nForeign Trade Law;\\nCusto...</td>\n",
       "      <td>NaN</td>\n",
       "      <td>NaN</td>\n",
       "      <td>NaN</td>\n",
       "      <td>Raw Materials</td>\n",
       "      <td>Graphite</td>\n",
       "      <td>Introduces export license requirements for gra...</td>\n",
       "      <td>商务部 海关总署公告2023年第39号 关于优化调整石墨物项临时出口管制措施的公告\\n\\n【...</td>\n",
       "      <td>NaN</td>\n",
       "      <td>Full Text Chinese (MOFCOM)</td>\n",
       "      <td>Analysis (PIIE)</td>\n",
       "      <td>NaN</td>\n",
       "    </tr>\n",
       "    <tr>\n",
       "      <th>9</th>\n",
       "      <td>2024-05-22</td>\n",
       "      <td>Decision on taking countermeasures against U.S...</td>\n",
       "      <td>Targeted Sanction</td>\n",
       "      <td>For the 12 companies as listed in the attached...</td>\n",
       "      <td>Formal</td>\n",
       "      <td>1.0</td>\n",
       "      <td>Anti-Foreign Sanctions Law (Articles 3, 4, 5, ...</td>\n",
       "      <td>Kathy J. Warden; Matthew Bromberg; Benjamin R....</td>\n",
       "      <td>Lockheed Martin Missiles and Fire Control; Loc...</td>\n",
       "      <td>United States (North America)</td>\n",
       "      <td>Defense</td>\n",
       "      <td>Missiles, missile defense, munitions, aerospac...</td>\n",
       "      <td>Very similar in form to subsequent sanctions d...</td>\n",
       "      <td>关于对美国军工企业及高级管理人员采取反制措施的决定\\n2024-05-22 17:00\\n\\...</td>\n",
       "      <td>Decision on Taking Countermeasures Against\\nU....</td>\n",
       "      <td>Full Text Chinese (MFA)</td>\n",
       "      <td>Full Text English (MFA)</td>\n",
       "      <td>NaN</td>\n",
       "    </tr>\n",
       "    <tr>\n",
       "      <th>10</th>\n",
       "      <td>2024-07-12</td>\n",
       "      <td>Decision on taking countermeasures against U.S...</td>\n",
       "      <td>Targeted Sanction</td>\n",
       "      <td>For the six companies ...\\nTheir movable and i...</td>\n",
       "      <td>Formal</td>\n",
       "      <td>1.0</td>\n",
       "      <td>Anti-Foreign Sanctions Law (Articles 3, 4, 5, ...</td>\n",
       "      <td>Wahid Nawabi; Kevin McDonnell; Brian William S...</td>\n",
       "      <td>Anduril Industries; Maritime Tactical Systems;...</td>\n",
       "      <td>United States (North America)</td>\n",
       "      <td>Defense</td>\n",
       "      <td>Aerospace, maritime systems, defense systems</td>\n",
       "      <td>Very similar to other sanctions decisions on U...</td>\n",
       "      <td>关于对美国军工企业及高级管理人员采取反制措施的决定\\n2024-07-12 18:10\\n\\...</td>\n",
       "      <td>Decision on Taking Countermeasures Against U.S...</td>\n",
       "      <td>Full Text Chinese (MFA)</td>\n",
       "      <td>Full Text English (MFA)</td>\n",
       "      <td>NaN</td>\n",
       "    </tr>\n",
       "    <tr>\n",
       "      <th>11</th>\n",
       "      <td>2024-08-15</td>\n",
       "      <td>Announcement … on the Implementation of Export...</td>\n",
       "      <td>Export Control</td>\n",
       "      <td>NaN</td>\n",
       "      <td>Formal</td>\n",
       "      <td>1.0</td>\n",
       "      <td>Export Control Law;\\nForeign Trade Law;\\nCusto...</td>\n",
       "      <td>NaN</td>\n",
       "      <td>NaN</td>\n",
       "      <td>NaN</td>\n",
       "      <td>Raw Materials</td>\n",
       "      <td>Antimony</td>\n",
       "      <td>Introduces export license requirements for ant...</td>\n",
       "      <td>商务部 海关总署公告2024年第33号 关于对锑等物项实施出口管制的公告\\n【发布单位】安全...</td>\n",
       "      <td>NaN</td>\n",
       "      <td>Full Text Chinese (MOFCOM)</td>\n",
       "      <td>Analysis (CSIS)</td>\n",
       "      <td>Reporting (Reuters)</td>\n",
       "    </tr>\n",
       "    <tr>\n",
       "      <th>12</th>\n",
       "      <td>2024-09-18</td>\n",
       "      <td>Decision on taking countermeasures against U.S...</td>\n",
       "      <td>Targeted Sanction</td>\n",
       "      <td>China has decided to take the following counte...</td>\n",
       "      <td>Formal</td>\n",
       "      <td>1.0</td>\n",
       "      <td>Anti-Foreign Sanctions Law (Articles 3, 4, 6, ...</td>\n",
       "      <td>NaN</td>\n",
       "      <td>Sierra Nevada Corporation; Stick Rudder Enterp...</td>\n",
       "      <td>United States (North America)</td>\n",
       "      <td>Defense</td>\n",
       "      <td>Aerospace, defense transport and communication...</td>\n",
       "      <td>Does not reference article 5 of the Anti-Forei...</td>\n",
       "      <td>关于对美国军工企业采取反制措施的决定\\n2024-09-18 14:43\\n\\n【中大小】 ...</td>\n",
       "      <td>Decision on Taking Countermeasures Against U.S...</td>\n",
       "      <td>Full Text Chinese (MFA)</td>\n",
       "      <td>Full Text English (MFA)</td>\n",
       "      <td>NaN</td>\n",
       "    </tr>\n",
       "    <tr>\n",
       "      <th>13</th>\n",
       "      <td>2024-10-10</td>\n",
       "      <td>Decision on taking countermeasures against U.S...</td>\n",
       "      <td>Targeted Sanction</td>\n",
       "      <td>For the three companies … Their movable and im...</td>\n",
       "      <td>Formal</td>\n",
       "      <td>1.0</td>\n",
       "      <td>Anti-Foreign Sanctions Law (Articles 3, 4, 5, ...</td>\n",
       "      <td>Steven Roger Rudder; James William Ickes II; D...</td>\n",
       "      <td>Edge Autonomy Operations LLC; Huntington Ingal...</td>\n",
       "      <td>United States (North America)</td>\n",
       "      <td>Defense</td>\n",
       "      <td>Drones, ships, aerospace, defense systems</td>\n",
       "      <td>Several media reports on impact on Skydio. \\n\\...</td>\n",
       "      <td>关于对美国军工企业及高级管理人员采取反制措施的决定\\n2024-10-10 17:00\\n\\...</td>\n",
       "      <td>Decision on Taking Countermeasures Against U.S...</td>\n",
       "      <td>Full Text Chinese (MFA)</td>\n",
       "      <td>Full Text English (MFA)</td>\n",
       "      <td>Skydio Statement</td>\n",
       "    </tr>\n",
       "    <tr>\n",
       "      <th>14</th>\n",
       "      <td>2024-12-03</td>\n",
       "      <td>Ministry of Commerce Notice 2024 No. 46: Notic...</td>\n",
       "      <td>Export Control</td>\n",
       "      <td>\\nThe export of dual-use items to U.S. militar...</td>\n",
       "      <td>Formal</td>\n",
       "      <td>1.0</td>\n",
       "      <td>Export Control Law</td>\n",
       "      <td>NaN</td>\n",
       "      <td>NaN</td>\n",
       "      <td>United States (North America)</td>\n",
       "      <td>Raw Materials</td>\n",
       "      <td>Gallium, germanium, antimony, superhard materi...</td>\n",
       "      <td>First \"transshipment\" regulation on exports. \\...</td>\n",
       "      <td>商务部公告2024年第46号 关于加强相关两用物项对美国出口管制的公告\\n【发布单位】安全与...</td>\n",
       "      <td>Ministry of Commerce Notice 2024 No. 46: Notic...</td>\n",
       "      <td>Full Text Chinese (MOFCOM)</td>\n",
       "      <td>Reporting (NYT)</td>\n",
       "      <td>NaN</td>\n",
       "    </tr>\n",
       "    <tr>\n",
       "      <th>15</th>\n",
       "      <td>2024-12-05</td>\n",
       "      <td>Decision on taking countermeasures against U.S...</td>\n",
       "      <td>Targeted Sanction</td>\n",
       "      <td>For the 13 companies … Their movable and immov...</td>\n",
       "      <td>Formal</td>\n",
       "      <td>1.0</td>\n",
       "      <td>Anti-Foreign Sanctions Law (Articles 3, 4, 5, ...</td>\n",
       "      <td>Barbara Borgonovi; Gerard Hueber; Charles Wood...</td>\n",
       "      <td>Teledyne Brown Engineering, Inc.; BRINC Drones...</td>\n",
       "      <td>United States (North America)</td>\n",
       "      <td>Defense</td>\n",
       "      <td>Aerospace, drones, AI, surveillance, naval</td>\n",
       "      <td>Very similar to other sanctions decisions on U...</td>\n",
       "      <td>\\n关于对美国军工企业及高级管理人员采取反制措施的决定\\n2024-12-05 15:00\\...</td>\n",
       "      <td>Decision on Taking Countermeasures Against U.S...</td>\n",
       "      <td>Full Text Chinese (MFA)</td>\n",
       "      <td>Full Text English (MFA)</td>\n",
       "      <td>NaN</td>\n",
       "    </tr>\n",
       "    <tr>\n",
       "      <th>16</th>\n",
       "      <td>2023-03-31</td>\n",
       "      <td>Restrictions on Micron</td>\n",
       "      <td>Obstruction of Foreign Business in China</td>\n",
       "      <td>In accordance with the Cybersecurity Law and o...</td>\n",
       "      <td>Formal</td>\n",
       "      <td>1.0</td>\n",
       "      <td>National Security Law;\\nCybersecurity Law</td>\n",
       "      <td>NaN</td>\n",
       "      <td>Micron</td>\n",
       "      <td>United States (North America)</td>\n",
       "      <td>Semiconductors</td>\n",
       "      <td>NaN</td>\n",
       "      <td>Investigation led to restriction of purchases ...</td>\n",
       "      <td>为保障关键信息基础设施供应链安全，防范产品问题隐患造成网络安全风险，维护国家安全，依据《中华...</td>\n",
       "      <td>NaN</td>\n",
       "      <td>Full Text Chinese Investgation Launch (CAC)</td>\n",
       "      <td>Full Text Chinese Investgation Result (CAC)</td>\n",
       "      <td>NaN</td>\n",
       "    </tr>\n",
       "    <tr>\n",
       "      <th>17</th>\n",
       "      <td>2022-08-05</td>\n",
       "      <td>Foreign Ministry Spokesperson Announces China'...</td>\n",
       "      <td>Targeted Sanction</td>\n",
       "      <td>In response to Pelosi's vile provocative behav...</td>\n",
       "      <td>Formal</td>\n",
       "      <td>1.0</td>\n",
       "      <td>Undefined.\\n\"in accordance with the relevant l...</td>\n",
       "      <td>Nancy Pelosi; Paul Francis Pelosi; Nancy Corin...</td>\n",
       "      <td>NaN</td>\n",
       "      <td>United States (North America)</td>\n",
       "      <td>NaN</td>\n",
       "      <td>NaN</td>\n",
       "      <td>NaN</td>\n",
       "      <td>外交部发言人宣布中方对美国国会众议长佩洛西实施制裁\\n2022-08-05 16:15\\n\\...</td>\n",
       "      <td>NaN</td>\n",
       "      <td>Full Text Chinese (MFA)</td>\n",
       "      <td>NaN</td>\n",
       "      <td>NaN</td>\n",
       "    </tr>\n",
       "    <tr>\n",
       "      <th>18</th>\n",
       "      <td>2022-08-03</td>\n",
       "      <td>Suspension of natural sand exports to Taiwan f...</td>\n",
       "      <td>Export Control</td>\n",
       "      <td>The Ministry of Commerce (MOC) has decided to ...</td>\n",
       "      <td>Conversion</td>\n",
       "      <td>0.0</td>\n",
       "      <td>Undefined.\\n\"relevant laws and regulations\"</td>\n",
       "      <td>NaN</td>\n",
       "      <td>NaN</td>\n",
       "      <td>Taiwan (Asia)</td>\n",
       "      <td>Other</td>\n",
       "      <td>Sand</td>\n",
       "      <td>Announcement made the day Pelosi visited Taiwan.</td>\n",
       "      <td>商务部回应暂停天然砂对台湾地区出口\\n2022-08-03 17:02 来源：新华网\\n　　...</td>\n",
       "      <td>NaN</td>\n",
       "      <td>Full Text Chinese (MOFCOM)</td>\n",
       "      <td>NaN</td>\n",
       "      <td>NaN</td>\n",
       "    </tr>\n",
       "    <tr>\n",
       "      <th>19</th>\n",
       "      <td>2022-08-03</td>\n",
       "      <td>Suspension of the import of citrus fruits, fre...</td>\n",
       "      <td>Import Restriction</td>\n",
       "      <td>Since last year, mainland customs has repeated...</td>\n",
       "      <td>Conversion</td>\n",
       "      <td>0.0</td>\n",
       "      <td>Undefined.\\n\"in accordance with relevant mainl...</td>\n",
       "      <td>NaN</td>\n",
       "      <td>NaN</td>\n",
       "      <td>Taiwan (Asia)</td>\n",
       "      <td>Food &amp; Beverage</td>\n",
       "      <td>Citrus fruits, fresh white hairtail, frozen ho...</td>\n",
       "      <td>Announcement made the day Pelosi visited Taiwan.</td>\n",
       "      <td>海关总署动植物检疫司 进出口食品安全局关于暂停台湾地区柑橘类水果和冰鲜白带鱼、冻竹荚鱼输入大...</td>\n",
       "      <td>NaN</td>\n",
       "      <td>Full Text Chinese (Customs)</td>\n",
       "      <td>NaN</td>\n",
       "      <td>NaN</td>\n",
       "    </tr>\n",
       "    <tr>\n",
       "      <th>20</th>\n",
       "      <td>2023-02-01</td>\n",
       "      <td>Announcement... on the inclusion of Lockheed M...</td>\n",
       "      <td>Targeted Sanction</td>\n",
       "      <td>\\n1. The above-mentioned enterprises are prohi...</td>\n",
       "      <td>Formal</td>\n",
       "      <td>1.0</td>\n",
       "      <td>Unreliable Entity List\\n\\nForeign Trade Law;\\n...</td>\n",
       "      <td>NaN</td>\n",
       "      <td>Lockheed Martin; Raytheon Missiles &amp; Defense</td>\n",
       "      <td>United States (North America)</td>\n",
       "      <td>Defense</td>\n",
       "      <td>NaN</td>\n",
       "      <td>Is this a \"sanction\" or \"restriction on foreig...</td>\n",
       "      <td>不可靠实体清单工作机制关于将洛克希德·马丁公司、雷神导弹与防务公司列入不可靠实体清单的公告\\...</td>\n",
       "      <td>NaN</td>\n",
       "      <td>Full Text Chinese (MOFCOM)</td>\n",
       "      <td>NaN</td>\n",
       "      <td>NaN</td>\n",
       "    </tr>\n",
       "    <tr>\n",
       "      <th>21</th>\n",
       "      <td>2024-12-10</td>\n",
       "      <td>Antitrust probe into Nvidia</td>\n",
       "      <td>Obstruction of Foreign Business in China</td>\n",
       "      <td>NaN</td>\n",
       "      <td>Conversion</td>\n",
       "      <td>0.0</td>\n",
       "      <td>Anti-Monopoly Law</td>\n",
       "      <td>NaN</td>\n",
       "      <td>NVIDIA</td>\n",
       "      <td>United States (North America)</td>\n",
       "      <td>Semiconductors</td>\n",
       "      <td>NaN</td>\n",
       "      <td>This is a threat as well? Should be moved to \"...</td>\n",
       "      <td>NaN</td>\n",
       "      <td>NaN</td>\n",
       "      <td>Reporting (Xinhua)</td>\n",
       "      <td>Reporting (Zhejiang)</td>\n",
       "      <td>Reporting (FT)</td>\n",
       "    </tr>\n",
       "    <tr>\n",
       "      <th>22</th>\n",
       "      <td>2023-08-24</td>\n",
       "      <td>Boycott of Japanese beauty products after Fuku...</td>\n",
       "      <td>Boycott</td>\n",
       "      <td>NaN</td>\n",
       "      <td>Boycott Fomentation</td>\n",
       "      <td>0.0</td>\n",
       "      <td>Shiseido, Kosé, Procter &amp; Gamble</td>\n",
       "      <td>NaN</td>\n",
       "      <td>NaN</td>\n",
       "      <td>Japan (Asia)</td>\n",
       "      <td>Consumer Goods</td>\n",
       "      <td>Beauty products</td>\n",
       "      <td>NaN</td>\n",
       "      <td>NaN</td>\n",
       "      <td>NaN</td>\n",
       "      <td>Reporting (FT)</td>\n",
       "      <td>NaN</td>\n",
       "      <td>NaN</td>\n",
       "    </tr>\n",
       "    <tr>\n",
       "      <th>31</th>\n",
       "      <td>2024-08-21</td>\n",
       "      <td>Anti-dumping Probe EU Dairy</td>\n",
       "      <td>Sanction</td>\n",
       "      <td>NaN</td>\n",
       "      <td>NaN</td>\n",
       "      <td>0.0</td>\n",
       "      <td>ADCVD Regime</td>\n",
       "      <td>NaN</td>\n",
       "      <td>NaN</td>\n",
       "      <td>European Union (Europe)</td>\n",
       "      <td>Agriculture</td>\n",
       "      <td>NaN</td>\n",
       "      <td>Retaliatory response to EV tariffs</td>\n",
       "      <td>NaN</td>\n",
       "      <td>NaN</td>\n",
       "      <td>China opens anti-subsidy probe into EU dairy i...</td>\n",
       "      <td>Earlier threat</td>\n",
       "      <td>MOFCOM Announcement??</td>\n",
       "    </tr>\n",
       "    <tr>\n",
       "      <th>32</th>\n",
       "      <td>2024-10-08</td>\n",
       "      <td>Anti-dumping Duties EU Brandy</td>\n",
       "      <td>Sanction</td>\n",
       "      <td>NaN</td>\n",
       "      <td>NaN</td>\n",
       "      <td>0.0</td>\n",
       "      <td>ADCVD Regime</td>\n",
       "      <td>NaN</td>\n",
       "      <td>NaN</td>\n",
       "      <td>European Union (Europe)</td>\n",
       "      <td>Food &amp; Beverage</td>\n",
       "      <td>NaN</td>\n",
       "      <td>Retaliatory response to EV tariffs</td>\n",
       "      <td>NaN</td>\n",
       "      <td>NaN</td>\n",
       "      <td>China targets brandy in EU trade tit-for-tat a...</td>\n",
       "      <td>NaN</td>\n",
       "      <td>MOFCOM Announcement??</td>\n",
       "    </tr>\n",
       "    <tr>\n",
       "      <th>33</th>\n",
       "      <td>2024-06-17</td>\n",
       "      <td>Anti-dumping Probe EU Pork</td>\n",
       "      <td>Sanction</td>\n",
       "      <td>NaN</td>\n",
       "      <td>NaN</td>\n",
       "      <td>0.0</td>\n",
       "      <td>ADCVD Regime</td>\n",
       "      <td>NaN</td>\n",
       "      <td>NaN</td>\n",
       "      <td>European Union (Europe)</td>\n",
       "      <td>Agriculture</td>\n",
       "      <td>NaN</td>\n",
       "      <td>Retaliatory response to EV tariffs</td>\n",
       "      <td>NaN</td>\n",
       "      <td>NaN</td>\n",
       "      <td>China opens tit-for-tat anti-dumping probe int...</td>\n",
       "      <td>Earlier threat</td>\n",
       "      <td>MOFCOM Announcement??</td>\n",
       "    </tr>\n",
       "    <tr>\n",
       "      <th>34</th>\n",
       "      <td>2024-09-04</td>\n",
       "      <td>Anti-dumping Probe Canada Canola</td>\n",
       "      <td>Sanction</td>\n",
       "      <td>NaN</td>\n",
       "      <td>NaN</td>\n",
       "      <td>0.0</td>\n",
       "      <td>ADCVD Regime</td>\n",
       "      <td>NaN</td>\n",
       "      <td>NaN</td>\n",
       "      <td>Canada (North America)</td>\n",
       "      <td>Agriculture</td>\n",
       "      <td>NaN</td>\n",
       "      <td>Retaliatory response to Canadian EV, steel, al...</td>\n",
       "      <td>NaN</td>\n",
       "      <td>NaN</td>\n",
       "      <td>\"China hits back at Canada EV tariffs with can...</td>\n",
       "      <td>Reuters (good detail)</td>\n",
       "      <td>MOFCOM Announcement??</td>\n",
       "    </tr>\n",
       "    <tr>\n",
       "      <th>36</th>\n",
       "      <td>2000-10-19</td>\n",
       "      <td>Exclusion of French companies from LNG Project</td>\n",
       "      <td>Sanction</td>\n",
       "      <td>NaN</td>\n",
       "      <td>NaN</td>\n",
       "      <td>0.0</td>\n",
       "      <td>NaN</td>\n",
       "      <td>NaN</td>\n",
       "      <td>NaN</td>\n",
       "      <td>France (Europe)</td>\n",
       "      <td>NaN</td>\n",
       "      <td>NaN</td>\n",
       "      <td>NaN</td>\n",
       "      <td>NaN</td>\n",
       "      <td>NaN</td>\n",
       "      <td>NaN</td>\n",
       "      <td>NaN</td>\n",
       "      <td>NaN</td>\n",
       "    </tr>\n",
       "    <tr>\n",
       "      <th>37</th>\n",
       "      <td>2002-11-07</td>\n",
       "      <td>Mongolia Dalai Lama Retaliation</td>\n",
       "      <td>Sanction</td>\n",
       "      <td>NaN</td>\n",
       "      <td>NaN</td>\n",
       "      <td>0.0</td>\n",
       "      <td>NaN</td>\n",
       "      <td>NaN</td>\n",
       "      <td>NaN</td>\n",
       "      <td>Mongolia (Asia)</td>\n",
       "      <td>Raw Materials</td>\n",
       "      <td>Copper</td>\n",
       "      <td>NaN</td>\n",
       "      <td>NaN</td>\n",
       "      <td>NaN</td>\n",
       "      <td>NaN</td>\n",
       "      <td>NaN</td>\n",
       "      <td>NaN</td>\n",
       "    </tr>\n",
       "    <tr>\n",
       "      <th>38</th>\n",
       "      <td>2003-04-01</td>\n",
       "      <td>DPRK Oil Export Restrictions</td>\n",
       "      <td>Sanction</td>\n",
       "      <td>NaN</td>\n",
       "      <td>NaN</td>\n",
       "      <td>0.0</td>\n",
       "      <td>NaN</td>\n",
       "      <td>NaN</td>\n",
       "      <td>NaN</td>\n",
       "      <td>North Korea (Asia)</td>\n",
       "      <td>Energy</td>\n",
       "      <td>Oil</td>\n",
       "      <td>NaN</td>\n",
       "      <td>NaN</td>\n",
       "      <td>NaN</td>\n",
       "      <td>NaN</td>\n",
       "      <td>NaN</td>\n",
       "      <td>NaN</td>\n",
       "    </tr>\n",
       "    <tr>\n",
       "      <th>39</th>\n",
       "      <td>2006-08-23</td>\n",
       "      <td>Mongolia Dalai Lama Retaliation 2</td>\n",
       "      <td>Sanction</td>\n",
       "      <td>NaN</td>\n",
       "      <td>NaN</td>\n",
       "      <td>0.0</td>\n",
       "      <td>NaN</td>\n",
       "      <td>NaN</td>\n",
       "      <td>NaN</td>\n",
       "      <td>Mongolia (Asia)</td>\n",
       "      <td>Transportation</td>\n",
       "      <td>NaN</td>\n",
       "      <td>NaN</td>\n",
       "      <td>NaN</td>\n",
       "      <td>NaN</td>\n",
       "      <td>NaN</td>\n",
       "      <td>NaN</td>\n",
       "      <td>NaN</td>\n",
       "    </tr>\n",
       "  </tbody>\n",
       "</table>\n",
       "</div>"
      ],
      "text/plain": [
       "   Start Date                                              Title  \\\n",
       "0  2020-01-01  Cessation of Licenses to Export Graphite to Sw...   \n",
       "1  2021-03-22  Foreign Ministry Spokesperson Announces Sancti...   \n",
       "2  2021-03-27  Foreign Ministry Spokesperson\\nAnnounces Sanct...   \n",
       "3  2022-08-01  Foreign Ministry Spokesperson Announces China'...   \n",
       "4  2023-04-13  Decision on taking countermeasures against ant...   \n",
       "5  2023-07-03  Announcement on ... the Implementation of Expo...   \n",
       "6  2023-08-24  China ban on Japanese seafood products after F...   \n",
       "7  2023-08-31  Announcement ... on the Implementation of Temp...   \n",
       "8  2023-10-20  Announcement on ... Optimizing and Adjusting T...   \n",
       "9  2024-05-22  Decision on taking countermeasures against U.S...   \n",
       "10 2024-07-12  Decision on taking countermeasures against U.S...   \n",
       "11 2024-08-15  Announcement … on the Implementation of Export...   \n",
       "12 2024-09-18  Decision on taking countermeasures against U.S...   \n",
       "13 2024-10-10  Decision on taking countermeasures against U.S...   \n",
       "14 2024-12-03  Ministry of Commerce Notice 2024 No. 46: Notic...   \n",
       "15 2024-12-05  Decision on taking countermeasures against U.S...   \n",
       "16 2023-03-31                             Restrictions on Micron   \n",
       "17 2022-08-05  Foreign Ministry Spokesperson Announces China'...   \n",
       "18 2022-08-03  Suspension of natural sand exports to Taiwan f...   \n",
       "19 2022-08-03  Suspension of the import of citrus fruits, fre...   \n",
       "20 2023-02-01  Announcement... on the inclusion of Lockheed M...   \n",
       "21 2024-12-10                        Antitrust probe into Nvidia   \n",
       "22 2023-08-24  Boycott of Japanese beauty products after Fuku...   \n",
       "31 2024-08-21                        Anti-dumping Probe EU Dairy   \n",
       "32 2024-10-08                      Anti-dumping Duties EU Brandy   \n",
       "33 2024-06-17                         Anti-dumping Probe EU Pork   \n",
       "34 2024-09-04                   Anti-dumping Probe Canada Canola   \n",
       "36 2000-10-19     Exclusion of French companies from LNG Project   \n",
       "37 2002-11-07                    Mongolia Dalai Lama Retaliation   \n",
       "38 2003-04-01                       DPRK Oil Export Restrictions   \n",
       "39 2006-08-23                  Mongolia Dalai Lama Retaliation 2   \n",
       "\n",
       "                         Form of Restriction  \\\n",
       "0                             Export Control   \n",
       "1                          Targeted Sanction   \n",
       "2                          Targeted Sanction   \n",
       "3                          Targeted Sanction   \n",
       "4                          Targeted Sanction   \n",
       "5                             Export Control   \n",
       "6                         Import Restriction   \n",
       "7                          Targeted Sanction   \n",
       "8                             Export Control   \n",
       "9                          Targeted Sanction   \n",
       "10                         Targeted Sanction   \n",
       "11                            Export Control   \n",
       "12                         Targeted Sanction   \n",
       "13                         Targeted Sanction   \n",
       "14                            Export Control   \n",
       "15                         Targeted Sanction   \n",
       "16  Obstruction of Foreign Business in China   \n",
       "17                         Targeted Sanction   \n",
       "18                            Export Control   \n",
       "19                        Import Restriction   \n",
       "20                         Targeted Sanction   \n",
       "21  Obstruction of Foreign Business in China   \n",
       "22                                   Boycott   \n",
       "31                                  Sanction   \n",
       "32                                  Sanction   \n",
       "33                                  Sanction   \n",
       "34                                  Sanction   \n",
       "36                                  Sanction   \n",
       "37                                  Sanction   \n",
       "38                                  Sanction   \n",
       "39                                  Sanction   \n",
       "\n",
       "                                   Restriction Quotes  \\\n",
       "0                                           Undefined   \n",
       "1   Individuals concerned and their families are p...   \n",
       "2   prohibiting the above-mentioned individuals fr...   \n",
       "3   China decides to adopt sanctions on Vaiciukevi...   \n",
       "4   In accordance with Articles 3, 4, 6 and 15 of ...   \n",
       "5                                                 NaN   \n",
       "6   the General Administration of Customs has deci...   \n",
       "7                                                 NaN   \n",
       "8                                                 NaN   \n",
       "9   For the 12 companies as listed in the attached...   \n",
       "10  For the six companies ...\\nTheir movable and i...   \n",
       "11                                                NaN   \n",
       "12  China has decided to take the following counte...   \n",
       "13  For the three companies … Their movable and im...   \n",
       "14  \\nThe export of dual-use items to U.S. militar...   \n",
       "15  For the 13 companies … Their movable and immov...   \n",
       "16  In accordance with the Cybersecurity Law and o...   \n",
       "17  In response to Pelosi's vile provocative behav...   \n",
       "18  The Ministry of Commerce (MOC) has decided to ...   \n",
       "19  Since last year, mainland customs has repeated...   \n",
       "20  \\n1. The above-mentioned enterprises are prohi...   \n",
       "21                                                NaN   \n",
       "22                                                NaN   \n",
       "31                                                NaN   \n",
       "32                                                NaN   \n",
       "33                                                NaN   \n",
       "34                                                NaN   \n",
       "36                                                NaN   \n",
       "37                                                NaN   \n",
       "38                                                NaN   \n",
       "39                                                NaN   \n",
       "\n",
       "                   Mechanism  Formality\\n0 - Informal \\n1 - Formal  \\\n",
       "0   Bureaucratic Obstruction                                   0.0   \n",
       "1                     Formal                                   1.0   \n",
       "2                     Formal                                   1.0   \n",
       "3                     Formal                                   1.0   \n",
       "4                     Formal                                   1.0   \n",
       "5                     Formal                                   1.0   \n",
       "6                 Conversion                                   0.0   \n",
       "7                     Formal                                   1.0   \n",
       "8                     Formal                                   1.0   \n",
       "9                     Formal                                   1.0   \n",
       "10                    Formal                                   1.0   \n",
       "11                    Formal                                   1.0   \n",
       "12                    Formal                                   1.0   \n",
       "13                    Formal                                   1.0   \n",
       "14                    Formal                                   1.0   \n",
       "15                    Formal                                   1.0   \n",
       "16                    Formal                                   1.0   \n",
       "17                    Formal                                   1.0   \n",
       "18                Conversion                                   0.0   \n",
       "19                Conversion                                   0.0   \n",
       "20                    Formal                                   1.0   \n",
       "21                Conversion                                   0.0   \n",
       "22       Boycott Fomentation                                   0.0   \n",
       "31                       NaN                                   0.0   \n",
       "32                       NaN                                   0.0   \n",
       "33                       NaN                                   0.0   \n",
       "34                       NaN                                   0.0   \n",
       "36                       NaN                                   0.0   \n",
       "37                       NaN                                   0.0   \n",
       "38                       NaN                                   0.0   \n",
       "39                       NaN                                   0.0   \n",
       "\n",
       "                                          Legal Basis  \\\n",
       "0                                                 NaN   \n",
       "1                                           Undefined   \n",
       "2                                           Undefined   \n",
       "3                                                 NaN   \n",
       "4                          Anti-Foreign Sanctions Law   \n",
       "5   Export Control Law;\\nForeign Trade Law;\\nCusto...   \n",
       "6                                     Food Safety Law   \n",
       "7   Export Control Law;\\nForeign Trade Law;\\nCusto...   \n",
       "8   Export Control Law;\\nForeign Trade Law;\\nCusto...   \n",
       "9   Anti-Foreign Sanctions Law (Articles 3, 4, 5, ...   \n",
       "10  Anti-Foreign Sanctions Law (Articles 3, 4, 5, ...   \n",
       "11  Export Control Law;\\nForeign Trade Law;\\nCusto...   \n",
       "12  Anti-Foreign Sanctions Law (Articles 3, 4, 6, ...   \n",
       "13  Anti-Foreign Sanctions Law (Articles 3, 4, 5, ...   \n",
       "14                                 Export Control Law   \n",
       "15  Anti-Foreign Sanctions Law (Articles 3, 4, 5, ...   \n",
       "16          National Security Law;\\nCybersecurity Law   \n",
       "17  Undefined.\\n\"in accordance with the relevant l...   \n",
       "18        Undefined.\\n\"relevant laws and regulations\"   \n",
       "19  Undefined.\\n\"in accordance with relevant mainl...   \n",
       "20  Unreliable Entity List\\n\\nForeign Trade Law;\\n...   \n",
       "21                                  Anti-Monopoly Law   \n",
       "22                   Shiseido, Kosé, Procter & Gamble   \n",
       "31                                       ADCVD Regime   \n",
       "32                                       ADCVD Regime   \n",
       "33                                       ADCVD Regime   \n",
       "34                                       ADCVD Regime   \n",
       "36                                                NaN   \n",
       "37                                                NaN   \n",
       "38                                                NaN   \n",
       "39                                                NaN   \n",
       "\n",
       "                                 Targeted Individuals  \\\n",
       "0                                                 NaN   \n",
       "1   Reinhard Butikofer; Michael Gahler; Raphaël Gl...   \n",
       "2          Gayle Manchin; Tony Perkins; Michael Chong   \n",
       "3                                Agnė Vaiciukevičiūtė   \n",
       "4                                      Michael McCaul   \n",
       "5                                                 NaN   \n",
       "6                                               Japan   \n",
       "7                                                 NaN   \n",
       "8                                                 NaN   \n",
       "9   Kathy J. Warden; Matthew Bromberg; Benjamin R....   \n",
       "10  Wahid Nawabi; Kevin McDonnell; Brian William S...   \n",
       "11                                                NaN   \n",
       "12                                                NaN   \n",
       "13  Steven Roger Rudder; James William Ickes II; D...   \n",
       "14                                                NaN   \n",
       "15  Barbara Borgonovi; Gerard Hueber; Charles Wood...   \n",
       "16                                                NaN   \n",
       "17  Nancy Pelosi; Paul Francis Pelosi; Nancy Corin...   \n",
       "18                                                NaN   \n",
       "19                                                NaN   \n",
       "20                                                NaN   \n",
       "21                                                NaN   \n",
       "22                                                NaN   \n",
       "31                                                NaN   \n",
       "32                                                NaN   \n",
       "33                                                NaN   \n",
       "34                                                NaN   \n",
       "36                                                NaN   \n",
       "37                                                NaN   \n",
       "38                                                NaN   \n",
       "39                                                NaN   \n",
       "\n",
       "                                    Targeted Entities  \\\n",
       "0                                                 NaN   \n",
       "1   Political and Security Committee of the Counci...   \n",
       "2   United States Commission on International Reli...   \n",
       "3   Ministry of Transport and Communications of Li...   \n",
       "4                                                 NaN   \n",
       "5                                                 NaN   \n",
       "6                                                 NaN   \n",
       "7                                                 NaN   \n",
       "8                                                 NaN   \n",
       "9   Lockheed Martin Missiles and Fire Control; Loc...   \n",
       "10  Anduril Industries; Maritime Tactical Systems;...   \n",
       "11                                                NaN   \n",
       "12  Sierra Nevada Corporation; Stick Rudder Enterp...   \n",
       "13  Edge Autonomy Operations LLC; Huntington Ingal...   \n",
       "14                                                NaN   \n",
       "15  Teledyne Brown Engineering, Inc.; BRINC Drones...   \n",
       "16                                             Micron   \n",
       "17                                                NaN   \n",
       "18                                                NaN   \n",
       "19                                                NaN   \n",
       "20       Lockheed Martin; Raytheon Missiles & Defense   \n",
       "21                                             NVIDIA   \n",
       "22                                                NaN   \n",
       "31                                                NaN   \n",
       "32                                                NaN   \n",
       "33                                                NaN   \n",
       "34                                                NaN   \n",
       "36                                                NaN   \n",
       "37                                                NaN   \n",
       "38                                                NaN   \n",
       "39                                                NaN   \n",
       "\n",
       "                               Nationality of Targets           Sector  \\\n",
       "0                                     Sweden (Europe)   Raw Materials    \n",
       "1   Germany (Europe); France (Europe); Bulgaria (E...              NaN   \n",
       "2   United States (North America); Canada (North A...              NaN   \n",
       "3                                  Lithuania (Europe)   Transportation   \n",
       "4                       United States (North America)              NaN   \n",
       "5                                                 NaN   Raw Materials    \n",
       "6                                        Japan (Asia)  Food & Beverage   \n",
       "7                                                 NaN           Drones   \n",
       "8                                                 NaN   Raw Materials    \n",
       "9                       United States (North America)          Defense   \n",
       "10                      United States (North America)          Defense   \n",
       "11                                                NaN   Raw Materials    \n",
       "12                      United States (North America)          Defense   \n",
       "13                      United States (North America)          Defense   \n",
       "14                      United States (North America)   Raw Materials    \n",
       "15                      United States (North America)          Defense   \n",
       "16                      United States (North America)  Semiconductors    \n",
       "17                      United States (North America)              NaN   \n",
       "18                                      Taiwan (Asia)            Other   \n",
       "19                                      Taiwan (Asia)  Food & Beverage   \n",
       "20                      United States (North America)          Defense   \n",
       "21                      United States (North America)  Semiconductors    \n",
       "22                                       Japan (Asia)   Consumer Goods   \n",
       "31                            European Union (Europe)      Agriculture   \n",
       "32                            European Union (Europe)  Food & Beverage   \n",
       "33                            European Union (Europe)      Agriculture   \n",
       "34                             Canada (North America)      Agriculture   \n",
       "36                                    France (Europe)              NaN   \n",
       "37                                    Mongolia (Asia)   Raw Materials    \n",
       "38                                 North Korea (Asia)          Energy    \n",
       "39                                    Mongolia (Asia)   Transportation   \n",
       "\n",
       "                          Targeted Product Categories  \\\n",
       "0                                            Graphite   \n",
       "1                                                 NaN   \n",
       "2                                                 NaN   \n",
       "3   Lithuania's international road transport activ...   \n",
       "4                                                 NaN   \n",
       "5                               Gallium and germanium   \n",
       "6                                    Seafood products   \n",
       "7                                                 NaN   \n",
       "8                                            Graphite   \n",
       "9   Missiles, missile defense, munitions, aerospac...   \n",
       "10       Aerospace, maritime systems, defense systems   \n",
       "11                                           Antimony   \n",
       "12  Aerospace, defense transport and communication...   \n",
       "13          Drones, ships, aerospace, defense systems   \n",
       "14  Gallium, germanium, antimony, superhard materi...   \n",
       "15         Aerospace, drones, AI, surveillance, naval   \n",
       "16                                                NaN   \n",
       "17                                                NaN   \n",
       "18                                               Sand   \n",
       "19  Citrus fruits, fresh white hairtail, frozen ho...   \n",
       "20                                                NaN   \n",
       "21                                                NaN   \n",
       "22                                    Beauty products   \n",
       "31                                                NaN   \n",
       "32                                                NaN   \n",
       "33                                                NaN   \n",
       "34                                                NaN   \n",
       "36                                                NaN   \n",
       "37                                             Copper   \n",
       "38                                                Oil   \n",
       "39                                                NaN   \n",
       "\n",
       "                                              Comment  \\\n",
       "0   The process of granting export licenses presum...   \n",
       "1   Significant step (escalation) in China's forma...   \n",
       "2   Imposed together with sanctions against the EU...   \n",
       "3                                                 NaN   \n",
       "4                                                 NaN   \n",
       "5   Introduces export license requirements for gal...   \n",
       "6   No evidence that the ban had something to do w...   \n",
       "7   Introduces temporary export license requiremen...   \n",
       "8   Introduces export license requirements for gra...   \n",
       "9   Very similar in form to subsequent sanctions d...   \n",
       "10  Very similar to other sanctions decisions on U...   \n",
       "11  Introduces export license requirements for ant...   \n",
       "12  Does not reference article 5 of the Anti-Forei...   \n",
       "13  Several media reports on impact on Skydio. \\n\\...   \n",
       "14  First \"transshipment\" regulation on exports. \\...   \n",
       "15  Very similar to other sanctions decisions on U...   \n",
       "16  Investigation led to restriction of purchases ...   \n",
       "17                                                NaN   \n",
       "18   Announcement made the day Pelosi visited Taiwan.   \n",
       "19   Announcement made the day Pelosi visited Taiwan.   \n",
       "20  Is this a \"sanction\" or \"restriction on foreig...   \n",
       "21  This is a threat as well? Should be moved to \"...   \n",
       "22                                                NaN   \n",
       "31                 Retaliatory response to EV tariffs   \n",
       "32                 Retaliatory response to EV tariffs   \n",
       "33                 Retaliatory response to EV tariffs   \n",
       "34  Retaliatory response to Canadian EV, steel, al...   \n",
       "36                                                NaN   \n",
       "37                                                NaN   \n",
       "38                                                NaN   \n",
       "39                                                NaN   \n",
       "\n",
       "                                    Full Text Chinese  \\\n",
       "0                                                 NaN   \n",
       "1   外交部发言人宣布中方对欧盟有关机构和人员实施制裁\\n2021-03-22 20:26\\n\\n...   \n",
       "2   外交部发言人宣布对美国、加拿大有关人员和实体实施制裁\\n2021-03-27 21:36 来...   \n",
       "3   外交部发言人宣布中方针对立陶宛交通与通讯部副部长瓦伊丘凯维丘特实施制裁\\n2022-08-1...   \n",
       "4   关于对美国反华议员迈克·麦考尔采取反制措施的决定\\n2023-04-13 17:36\\n\\n...   \n",
       "5   商务部 海关总署公告2023年第23号 关于对镓、锗相关物项实施出口管制的公告\\n【发布单位...   \n",
       "6   海关总署公告\\n2023年第103号\\n\\n为全面防范日本福岛核污染水排海对食品安全造成的放...   \n",
       "7   商务部 海关总署 国家国防科工局 中央军委装备发展部公告2023年第28号 关于对部分无人机...   \n",
       "8   商务部 海关总署公告2023年第39号 关于优化调整石墨物项临时出口管制措施的公告\\n\\n【...   \n",
       "9   关于对美国军工企业及高级管理人员采取反制措施的决定\\n2024-05-22 17:00\\n\\...   \n",
       "10  关于对美国军工企业及高级管理人员采取反制措施的决定\\n2024-07-12 18:10\\n\\...   \n",
       "11  商务部 海关总署公告2024年第33号 关于对锑等物项实施出口管制的公告\\n【发布单位】安全...   \n",
       "12  关于对美国军工企业采取反制措施的决定\\n2024-09-18 14:43\\n\\n【中大小】 ...   \n",
       "13  关于对美国军工企业及高级管理人员采取反制措施的决定\\n2024-10-10 17:00\\n\\...   \n",
       "14  商务部公告2024年第46号 关于加强相关两用物项对美国出口管制的公告\\n【发布单位】安全与...   \n",
       "15  \\n关于对美国军工企业及高级管理人员采取反制措施的决定\\n2024-12-05 15:00\\...   \n",
       "16  为保障关键信息基础设施供应链安全，防范产品问题隐患造成网络安全风险，维护国家安全，依据《中华...   \n",
       "17  外交部发言人宣布中方对美国国会众议长佩洛西实施制裁\\n2022-08-05 16:15\\n\\...   \n",
       "18  商务部回应暂停天然砂对台湾地区出口\\n2022-08-03 17:02 来源：新华网\\n　　...   \n",
       "19  海关总署动植物检疫司 进出口食品安全局关于暂停台湾地区柑橘类水果和冰鲜白带鱼、冻竹荚鱼输入大...   \n",
       "20  不可靠实体清单工作机制关于将洛克希德·马丁公司、雷神导弹与防务公司列入不可靠实体清单的公告\\...   \n",
       "21                                                NaN   \n",
       "22                                                NaN   \n",
       "31                                                NaN   \n",
       "32                                                NaN   \n",
       "33                                                NaN   \n",
       "34                                                NaN   \n",
       "36                                                NaN   \n",
       "37                                                NaN   \n",
       "38                                                NaN   \n",
       "39                                                NaN   \n",
       "\n",
       "                                    Full Text English  \\\n",
       "0                                                 NaN   \n",
       "1   Foreign Ministry Spokesperson Announces Sancti...   \n",
       "2   Foreign Ministry Spokesperson Announces Sancti...   \n",
       "3   Foreign Ministry Spokesperson Announces China’...   \n",
       "4                                                 NaN   \n",
       "5                                                 NaN   \n",
       "6                                                 NaN   \n",
       "7                                                 NaN   \n",
       "8                                                 NaN   \n",
       "9   Decision on Taking Countermeasures Against\\nU....   \n",
       "10  Decision on Taking Countermeasures Against U.S...   \n",
       "11                                                NaN   \n",
       "12  Decision on Taking Countermeasures Against U.S...   \n",
       "13  Decision on Taking Countermeasures Against U.S...   \n",
       "14  Ministry of Commerce Notice 2024 No. 46: Notic...   \n",
       "15  Decision on Taking Countermeasures Against U.S...   \n",
       "16                                                NaN   \n",
       "17                                                NaN   \n",
       "18                                                NaN   \n",
       "19                                                NaN   \n",
       "20                                                NaN   \n",
       "21                                                NaN   \n",
       "22                                                NaN   \n",
       "31                                                NaN   \n",
       "32                                                NaN   \n",
       "33                                                NaN   \n",
       "34                                                NaN   \n",
       "36                                                NaN   \n",
       "37                                                NaN   \n",
       "38                                                NaN   \n",
       "39                                                NaN   \n",
       "\n",
       "                                                 Link  \\\n",
       "0                                 European Commission   \n",
       "1                             Full Text Chinese (MFA)   \n",
       "2                             Full Text Chinese (MFA)   \n",
       "3                             Full Text Chinese (MFA)   \n",
       "4                             Full Text Chinese (MFA)   \n",
       "5                          Full Text Chinese (MOFCOM)   \n",
       "6                         Full Text Chinese (Customs)   \n",
       "7                          Full Text Chinese (MOFCOM)   \n",
       "8                          Full Text Chinese (MOFCOM)   \n",
       "9                             Full Text Chinese (MFA)   \n",
       "10                            Full Text Chinese (MFA)   \n",
       "11                         Full Text Chinese (MOFCOM)   \n",
       "12                            Full Text Chinese (MFA)   \n",
       "13                            Full Text Chinese (MFA)   \n",
       "14                         Full Text Chinese (MOFCOM)   \n",
       "15                            Full Text Chinese (MFA)   \n",
       "16        Full Text Chinese Investgation Launch (CAC)   \n",
       "17                            Full Text Chinese (MFA)   \n",
       "18                         Full Text Chinese (MOFCOM)   \n",
       "19                        Full Text Chinese (Customs)   \n",
       "20                         Full Text Chinese (MOFCOM)   \n",
       "21                                 Reporting (Xinhua)   \n",
       "22                                     Reporting (FT)   \n",
       "31  China opens anti-subsidy probe into EU dairy i...   \n",
       "32  China targets brandy in EU trade tit-for-tat a...   \n",
       "33  China opens tit-for-tat anti-dumping probe int...   \n",
       "34  \"China hits back at Canada EV tariffs with can...   \n",
       "36                                                NaN   \n",
       "37                                                NaN   \n",
       "38                                                NaN   \n",
       "39                                                NaN   \n",
       "\n",
       "                                          Link2                       Link3  \n",
       "0         Investigation by Swedish Public Radio                         NaN  \n",
       "1                       Full Text English (MFA)                         NaN  \n",
       "2                       Full Text English (MFA)                         NaN  \n",
       "3                                           NaN                         NaN  \n",
       "4                                           NaN                         NaN  \n",
       "5                               Analysis (PIIE)             Analysis (IFRI)  \n",
       "6                       Full Text English (MFA)  Analysis (The Interpreter)  \n",
       "7                       Analysis (Geopolitechs)         Reporting (Reuters)  \n",
       "8                               Analysis (PIIE)                         NaN  \n",
       "9                       Full Text English (MFA)                         NaN  \n",
       "10                      Full Text English (MFA)                         NaN  \n",
       "11                              Analysis (CSIS)         Reporting (Reuters)  \n",
       "12                      Full Text English (MFA)                         NaN  \n",
       "13                      Full Text English (MFA)            Skydio Statement  \n",
       "14                              Reporting (NYT)                         NaN  \n",
       "15                      Full Text English (MFA)                         NaN  \n",
       "16  Full Text Chinese Investgation Result (CAC)                         NaN  \n",
       "17                                          NaN                         NaN  \n",
       "18                                          NaN                         NaN  \n",
       "19                                          NaN                         NaN  \n",
       "20                                          NaN                         NaN  \n",
       "21                         Reporting (Zhejiang)              Reporting (FT)  \n",
       "22                                          NaN                         NaN  \n",
       "31                               Earlier threat       MOFCOM Announcement??  \n",
       "32                                          NaN       MOFCOM Announcement??  \n",
       "33                               Earlier threat       MOFCOM Announcement??  \n",
       "34                        Reuters (good detail)       MOFCOM Announcement??  \n",
       "36                                          NaN                         NaN  \n",
       "37                                          NaN                         NaN  \n",
       "38                                          NaN                         NaN  \n",
       "39                                          NaN                         NaN  "
      ]
     },
     "execution_count": 2,
     "metadata": {},
     "output_type": "execute_result"
    }
   ],
   "source": [
    "df = df.dropna(subset=['Title'])\n",
    "df"
   ]
  },
  {
   "cell_type": "markdown",
   "metadata": {},
   "source": [
    "# Tab 1\n",
    "\n",
    "* Sunburst chart\n",
    "* Or treemap chart"
   ]
  },
  {
   "cell_type": "code",
   "execution_count": 11,
   "metadata": {},
   "outputs": [
    {
     "data": {
      "text/html": [
       "<div>\n",
       "<style scoped>\n",
       "    .dataframe tbody tr th:only-of-type {\n",
       "        vertical-align: middle;\n",
       "    }\n",
       "\n",
       "    .dataframe tbody tr th {\n",
       "        vertical-align: top;\n",
       "    }\n",
       "\n",
       "    .dataframe thead th {\n",
       "        text-align: right;\n",
       "    }\n",
       "</style>\n",
       "<table border=\"1\" class=\"dataframe\">\n",
       "  <thead>\n",
       "    <tr style=\"text-align: right;\">\n",
       "      <th></th>\n",
       "      <th>Start Date</th>\n",
       "      <th>Title</th>\n",
       "      <th>Form of Restriction</th>\n",
       "      <th>Restriction Quotes</th>\n",
       "      <th>Mechanism</th>\n",
       "      <th>Formality\\n0 - Informal \\n1 - Formal</th>\n",
       "      <th>Legal Basis</th>\n",
       "      <th>Targeted Individuals</th>\n",
       "      <th>Targeted Entities</th>\n",
       "      <th>Nationality of Targets</th>\n",
       "      <th>Sector</th>\n",
       "      <th>Targeted Product Categories</th>\n",
       "      <th>Comment</th>\n",
       "      <th>Full Text Chinese</th>\n",
       "      <th>Full Text English</th>\n",
       "      <th>Link</th>\n",
       "      <th>Link2</th>\n",
       "      <th>Link3</th>\n",
       "    </tr>\n",
       "  </thead>\n",
       "  <tbody>\n",
       "    <tr>\n",
       "      <th>0</th>\n",
       "      <td>2020-01-01</td>\n",
       "      <td>Cessation of Licenses to Export Graphite to Sw...</td>\n",
       "      <td>Export Control</td>\n",
       "      <td>Undefined</td>\n",
       "      <td>Bureaucratic Obstruction</td>\n",
       "      <td>0.0</td>\n",
       "      <td>NaN</td>\n",
       "      <td>NaN</td>\n",
       "      <td>NaN</td>\n",
       "      <td>Sweden (Europe)</td>\n",
       "      <td>Raw Materials</td>\n",
       "      <td>Graphite</td>\n",
       "      <td>The process of granting export licenses presum...</td>\n",
       "      <td>NaN</td>\n",
       "      <td>NaN</td>\n",
       "      <td>European Commission</td>\n",
       "      <td>Investigation by Swedish Public Radio</td>\n",
       "      <td>NaN</td>\n",
       "    </tr>\n",
       "    <tr>\n",
       "      <th>1</th>\n",
       "      <td>2021-03-22</td>\n",
       "      <td>Foreign Ministry Spokesperson Announces Sancti...</td>\n",
       "      <td>Targeted Sanction</td>\n",
       "      <td>Individuals concerned and their families are p...</td>\n",
       "      <td>Formal</td>\n",
       "      <td>1.0</td>\n",
       "      <td>Undefined</td>\n",
       "      <td>Reinhard Butikofer; Michael Gahler; Raphaël Gl...</td>\n",
       "      <td>Political and Security Committee of the Counci...</td>\n",
       "      <td>Germany (Europe); France (Europe); Bulgaria (E...</td>\n",
       "      <td>NaN</td>\n",
       "      <td>NaN</td>\n",
       "      <td>Significant step (escalation) in China's forma...</td>\n",
       "      <td>外交部发言人宣布中方对欧盟有关机构和人员实施制裁\\n2021-03-22 20:26\\n\\n...</td>\n",
       "      <td>Foreign Ministry Spokesperson Announces Sancti...</td>\n",
       "      <td>Full Text Chinese (MFA)</td>\n",
       "      <td>Full Text English (MFA)</td>\n",
       "      <td>NaN</td>\n",
       "    </tr>\n",
       "    <tr>\n",
       "      <th>2</th>\n",
       "      <td>2021-03-27</td>\n",
       "      <td>Foreign Ministry Spokesperson\\nAnnounces Sanct...</td>\n",
       "      <td>Targeted Sanction</td>\n",
       "      <td>prohibiting the above-mentioned individuals fr...</td>\n",
       "      <td>Formal</td>\n",
       "      <td>1.0</td>\n",
       "      <td>Undefined</td>\n",
       "      <td>Gayle Manchin; Tony Perkins; Michael Chong</td>\n",
       "      <td>United States Commission on International Reli...</td>\n",
       "      <td>United States (North America); Canada (North A...</td>\n",
       "      <td>NaN</td>\n",
       "      <td>NaN</td>\n",
       "      <td>Imposed together with sanctions against the EU...</td>\n",
       "      <td>外交部发言人宣布对美国、加拿大有关人员和实体实施制裁\\n2021-03-27 21:36 来...</td>\n",
       "      <td>Foreign Ministry Spokesperson Announces Sancti...</td>\n",
       "      <td>Full Text Chinese (MFA)</td>\n",
       "      <td>Full Text English (MFA)</td>\n",
       "      <td>NaN</td>\n",
       "    </tr>\n",
       "    <tr>\n",
       "      <th>3</th>\n",
       "      <td>2022-08-01</td>\n",
       "      <td>Foreign Ministry Spokesperson Announces China'...</td>\n",
       "      <td>Targeted Sanction</td>\n",
       "      <td>China decides to adopt sanctions on Vaiciukevi...</td>\n",
       "      <td>Formal</td>\n",
       "      <td>1.0</td>\n",
       "      <td>NaN</td>\n",
       "      <td>Agnė Vaiciukevičiūtė</td>\n",
       "      <td>Ministry of Transport and Communications of Li...</td>\n",
       "      <td>Lithuania (Europe)</td>\n",
       "      <td>Transportation</td>\n",
       "      <td>Lithuania's international road transport activ...</td>\n",
       "      <td>NaN</td>\n",
       "      <td>外交部发言人宣布中方针对立陶宛交通与通讯部副部长瓦伊丘凯维丘特实施制裁\\n2022-08-1...</td>\n",
       "      <td>Foreign Ministry Spokesperson Announces China’...</td>\n",
       "      <td>Full Text Chinese (MFA)</td>\n",
       "      <td>NaN</td>\n",
       "      <td>NaN</td>\n",
       "    </tr>\n",
       "    <tr>\n",
       "      <th>4</th>\n",
       "      <td>2023-04-13</td>\n",
       "      <td>Decision on taking countermeasures against ant...</td>\n",
       "      <td>Targeted Sanction</td>\n",
       "      <td>In accordance with Articles 3, 4, 6 and 15 of ...</td>\n",
       "      <td>Formal</td>\n",
       "      <td>1.0</td>\n",
       "      <td>Anti-Foreign Sanctions Law</td>\n",
       "      <td>Michael McCaul</td>\n",
       "      <td>NaN</td>\n",
       "      <td>United States (North America)</td>\n",
       "      <td>NaN</td>\n",
       "      <td>NaN</td>\n",
       "      <td>NaN</td>\n",
       "      <td>关于对美国反华议员迈克·麦考尔采取反制措施的决定\\n2023-04-13 17:36\\n\\n...</td>\n",
       "      <td>NaN</td>\n",
       "      <td>Full Text Chinese (MFA)</td>\n",
       "      <td>NaN</td>\n",
       "      <td>NaN</td>\n",
       "    </tr>\n",
       "    <tr>\n",
       "      <th>6</th>\n",
       "      <td>2023-08-24</td>\n",
       "      <td>China ban on Japanese seafood products after F...</td>\n",
       "      <td>Import Restriction</td>\n",
       "      <td>the General Administration of Customs has deci...</td>\n",
       "      <td>Conversion</td>\n",
       "      <td>0.0</td>\n",
       "      <td>Food Safety Law</td>\n",
       "      <td>Japan</td>\n",
       "      <td>NaN</td>\n",
       "      <td>Japan (Asia)</td>\n",
       "      <td>Food &amp; Beverage</td>\n",
       "      <td>Seafood products</td>\n",
       "      <td>No evidence that the ban had something to do w...</td>\n",
       "      <td>海关总署公告\\n2023年第103号\\n\\n为全面防范日本福岛核污染水排海对食品安全造成的放...</td>\n",
       "      <td>NaN</td>\n",
       "      <td>Full Text Chinese (Customs)</td>\n",
       "      <td>Full Text English (MFA)</td>\n",
       "      <td>Analysis (The Interpreter)</td>\n",
       "    </tr>\n",
       "    <tr>\n",
       "      <th>9</th>\n",
       "      <td>2024-05-22</td>\n",
       "      <td>Decision on taking countermeasures against U.S...</td>\n",
       "      <td>Targeted Sanction</td>\n",
       "      <td>For the 12 companies as listed in the attached...</td>\n",
       "      <td>Formal</td>\n",
       "      <td>1.0</td>\n",
       "      <td>Anti-Foreign Sanctions Law (Articles 3, 4, 5, ...</td>\n",
       "      <td>Kathy J. Warden; Matthew Bromberg; Benjamin R....</td>\n",
       "      <td>Lockheed Martin Missiles and Fire Control; Loc...</td>\n",
       "      <td>United States (North America)</td>\n",
       "      <td>Defense</td>\n",
       "      <td>Missiles, missile defense, munitions, aerospac...</td>\n",
       "      <td>Very similar in form to subsequent sanctions d...</td>\n",
       "      <td>关于对美国军工企业及高级管理人员采取反制措施的决定\\n2024-05-22 17:00\\n\\...</td>\n",
       "      <td>Decision on Taking Countermeasures Against\\nU....</td>\n",
       "      <td>Full Text Chinese (MFA)</td>\n",
       "      <td>Full Text English (MFA)</td>\n",
       "      <td>NaN</td>\n",
       "    </tr>\n",
       "    <tr>\n",
       "      <th>10</th>\n",
       "      <td>2024-07-12</td>\n",
       "      <td>Decision on taking countermeasures against U.S...</td>\n",
       "      <td>Targeted Sanction</td>\n",
       "      <td>For the six companies ...\\nTheir movable and i...</td>\n",
       "      <td>Formal</td>\n",
       "      <td>1.0</td>\n",
       "      <td>Anti-Foreign Sanctions Law (Articles 3, 4, 5, ...</td>\n",
       "      <td>Wahid Nawabi; Kevin McDonnell; Brian William S...</td>\n",
       "      <td>Anduril Industries; Maritime Tactical Systems;...</td>\n",
       "      <td>United States (North America)</td>\n",
       "      <td>Defense</td>\n",
       "      <td>Aerospace, maritime systems, defense systems</td>\n",
       "      <td>Very similar to other sanctions decisions on U...</td>\n",
       "      <td>关于对美国军工企业及高级管理人员采取反制措施的决定\\n2024-07-12 18:10\\n\\...</td>\n",
       "      <td>Decision on Taking Countermeasures Against U.S...</td>\n",
       "      <td>Full Text Chinese (MFA)</td>\n",
       "      <td>Full Text English (MFA)</td>\n",
       "      <td>NaN</td>\n",
       "    </tr>\n",
       "    <tr>\n",
       "      <th>12</th>\n",
       "      <td>2024-09-18</td>\n",
       "      <td>Decision on taking countermeasures against U.S...</td>\n",
       "      <td>Targeted Sanction</td>\n",
       "      <td>China has decided to take the following counte...</td>\n",
       "      <td>Formal</td>\n",
       "      <td>1.0</td>\n",
       "      <td>Anti-Foreign Sanctions Law (Articles 3, 4, 6, ...</td>\n",
       "      <td>NaN</td>\n",
       "      <td>Sierra Nevada Corporation; Stick Rudder Enterp...</td>\n",
       "      <td>United States (North America)</td>\n",
       "      <td>Defense</td>\n",
       "      <td>Aerospace, defense transport and communication...</td>\n",
       "      <td>Does not reference article 5 of the Anti-Forei...</td>\n",
       "      <td>关于对美国军工企业采取反制措施的决定\\n2024-09-18 14:43\\n\\n【中大小】 ...</td>\n",
       "      <td>Decision on Taking Countermeasures Against U.S...</td>\n",
       "      <td>Full Text Chinese (MFA)</td>\n",
       "      <td>Full Text English (MFA)</td>\n",
       "      <td>NaN</td>\n",
       "    </tr>\n",
       "    <tr>\n",
       "      <th>13</th>\n",
       "      <td>2024-10-10</td>\n",
       "      <td>Decision on taking countermeasures against U.S...</td>\n",
       "      <td>Targeted Sanction</td>\n",
       "      <td>For the three companies … Their movable and im...</td>\n",
       "      <td>Formal</td>\n",
       "      <td>1.0</td>\n",
       "      <td>Anti-Foreign Sanctions Law (Articles 3, 4, 5, ...</td>\n",
       "      <td>Steven Roger Rudder; James William Ickes II; D...</td>\n",
       "      <td>Edge Autonomy Operations LLC; Huntington Ingal...</td>\n",
       "      <td>United States (North America)</td>\n",
       "      <td>Defense</td>\n",
       "      <td>Drones, ships, aerospace, defense systems</td>\n",
       "      <td>Several media reports on impact on Skydio. \\n\\...</td>\n",
       "      <td>关于对美国军工企业及高级管理人员采取反制措施的决定\\n2024-10-10 17:00\\n\\...</td>\n",
       "      <td>Decision on Taking Countermeasures Against U.S...</td>\n",
       "      <td>Full Text Chinese (MFA)</td>\n",
       "      <td>Full Text English (MFA)</td>\n",
       "      <td>Skydio Statement</td>\n",
       "    </tr>\n",
       "    <tr>\n",
       "      <th>14</th>\n",
       "      <td>2024-12-03</td>\n",
       "      <td>Ministry of Commerce Notice 2024 No. 46: Notic...</td>\n",
       "      <td>Export Control</td>\n",
       "      <td>\\nThe export of dual-use items to U.S. militar...</td>\n",
       "      <td>Formal</td>\n",
       "      <td>1.0</td>\n",
       "      <td>Export Control Law</td>\n",
       "      <td>NaN</td>\n",
       "      <td>NaN</td>\n",
       "      <td>United States (North America)</td>\n",
       "      <td>Raw Materials</td>\n",
       "      <td>Gallium, germanium, antimony, superhard materi...</td>\n",
       "      <td>First \"transshipment\" regulation on exports. \\...</td>\n",
       "      <td>商务部公告2024年第46号 关于加强相关两用物项对美国出口管制的公告\\n【发布单位】安全与...</td>\n",
       "      <td>Ministry of Commerce Notice 2024 No. 46: Notic...</td>\n",
       "      <td>Full Text Chinese (MOFCOM)</td>\n",
       "      <td>Reporting (NYT)</td>\n",
       "      <td>NaN</td>\n",
       "    </tr>\n",
       "    <tr>\n",
       "      <th>15</th>\n",
       "      <td>2024-12-05</td>\n",
       "      <td>Decision on taking countermeasures against U.S...</td>\n",
       "      <td>Targeted Sanction</td>\n",
       "      <td>For the 13 companies … Their movable and immov...</td>\n",
       "      <td>Formal</td>\n",
       "      <td>1.0</td>\n",
       "      <td>Anti-Foreign Sanctions Law (Articles 3, 4, 5, ...</td>\n",
       "      <td>Barbara Borgonovi; Gerard Hueber; Charles Wood...</td>\n",
       "      <td>Teledyne Brown Engineering, Inc.; BRINC Drones...</td>\n",
       "      <td>United States (North America)</td>\n",
       "      <td>Defense</td>\n",
       "      <td>Aerospace, drones, AI, surveillance, naval</td>\n",
       "      <td>Very similar to other sanctions decisions on U...</td>\n",
       "      <td>\\n关于对美国军工企业及高级管理人员采取反制措施的决定\\n2024-12-05 15:00\\...</td>\n",
       "      <td>Decision on Taking Countermeasures Against U.S...</td>\n",
       "      <td>Full Text Chinese (MFA)</td>\n",
       "      <td>Full Text English (MFA)</td>\n",
       "      <td>NaN</td>\n",
       "    </tr>\n",
       "    <tr>\n",
       "      <th>16</th>\n",
       "      <td>2023-03-31</td>\n",
       "      <td>Restrictions on Micron</td>\n",
       "      <td>Obstruction of Foreign Business in China</td>\n",
       "      <td>In accordance with the Cybersecurity Law and o...</td>\n",
       "      <td>Formal</td>\n",
       "      <td>1.0</td>\n",
       "      <td>National Security Law;\\nCybersecurity Law</td>\n",
       "      <td>NaN</td>\n",
       "      <td>Micron</td>\n",
       "      <td>United States (North America)</td>\n",
       "      <td>Semiconductors</td>\n",
       "      <td>NaN</td>\n",
       "      <td>Investigation led to restriction of purchases ...</td>\n",
       "      <td>为保障关键信息基础设施供应链安全，防范产品问题隐患造成网络安全风险，维护国家安全，依据《中华...</td>\n",
       "      <td>NaN</td>\n",
       "      <td>Full Text Chinese Investgation Launch (CAC)</td>\n",
       "      <td>Full Text Chinese Investgation Result (CAC)</td>\n",
       "      <td>NaN</td>\n",
       "    </tr>\n",
       "    <tr>\n",
       "      <th>17</th>\n",
       "      <td>2022-08-05</td>\n",
       "      <td>Foreign Ministry Spokesperson Announces China'...</td>\n",
       "      <td>Targeted Sanction</td>\n",
       "      <td>In response to Pelosi's vile provocative behav...</td>\n",
       "      <td>Formal</td>\n",
       "      <td>1.0</td>\n",
       "      <td>Undefined.\\n\"in accordance with the relevant l...</td>\n",
       "      <td>Nancy Pelosi; Paul Francis Pelosi; Nancy Corin...</td>\n",
       "      <td>NaN</td>\n",
       "      <td>United States (North America)</td>\n",
       "      <td>NaN</td>\n",
       "      <td>NaN</td>\n",
       "      <td>NaN</td>\n",
       "      <td>外交部发言人宣布中方对美国国会众议长佩洛西实施制裁\\n2022-08-05 16:15\\n\\...</td>\n",
       "      <td>NaN</td>\n",
       "      <td>Full Text Chinese (MFA)</td>\n",
       "      <td>NaN</td>\n",
       "      <td>NaN</td>\n",
       "    </tr>\n",
       "    <tr>\n",
       "      <th>18</th>\n",
       "      <td>2022-08-03</td>\n",
       "      <td>Suspension of natural sand exports to Taiwan f...</td>\n",
       "      <td>Export Control</td>\n",
       "      <td>The Ministry of Commerce (MOC) has decided to ...</td>\n",
       "      <td>Conversion</td>\n",
       "      <td>0.0</td>\n",
       "      <td>Undefined.\\n\"relevant laws and regulations\"</td>\n",
       "      <td>NaN</td>\n",
       "      <td>NaN</td>\n",
       "      <td>Taiwan (Asia)</td>\n",
       "      <td>Other</td>\n",
       "      <td>Sand</td>\n",
       "      <td>Announcement made the day Pelosi visited Taiwan.</td>\n",
       "      <td>商务部回应暂停天然砂对台湾地区出口\\n2022-08-03 17:02 来源：新华网\\n　　...</td>\n",
       "      <td>NaN</td>\n",
       "      <td>Full Text Chinese (MOFCOM)</td>\n",
       "      <td>NaN</td>\n",
       "      <td>NaN</td>\n",
       "    </tr>\n",
       "    <tr>\n",
       "      <th>19</th>\n",
       "      <td>2022-08-03</td>\n",
       "      <td>Suspension of the import of citrus fruits, fre...</td>\n",
       "      <td>Import Restriction</td>\n",
       "      <td>Since last year, mainland customs has repeated...</td>\n",
       "      <td>Conversion</td>\n",
       "      <td>0.0</td>\n",
       "      <td>Undefined.\\n\"in accordance with relevant mainl...</td>\n",
       "      <td>NaN</td>\n",
       "      <td>NaN</td>\n",
       "      <td>Taiwan (Asia)</td>\n",
       "      <td>Food &amp; Beverage</td>\n",
       "      <td>Citrus fruits, fresh white hairtail, frozen ho...</td>\n",
       "      <td>Announcement made the day Pelosi visited Taiwan.</td>\n",
       "      <td>海关总署动植物检疫司 进出口食品安全局关于暂停台湾地区柑橘类水果和冰鲜白带鱼、冻竹荚鱼输入大...</td>\n",
       "      <td>NaN</td>\n",
       "      <td>Full Text Chinese (Customs)</td>\n",
       "      <td>NaN</td>\n",
       "      <td>NaN</td>\n",
       "    </tr>\n",
       "    <tr>\n",
       "      <th>20</th>\n",
       "      <td>2023-02-01</td>\n",
       "      <td>Announcement... on the inclusion of Lockheed M...</td>\n",
       "      <td>Targeted Sanction</td>\n",
       "      <td>\\n1. The above-mentioned enterprises are prohi...</td>\n",
       "      <td>Formal</td>\n",
       "      <td>1.0</td>\n",
       "      <td>Unreliable Entity List\\n\\nForeign Trade Law;\\n...</td>\n",
       "      <td>NaN</td>\n",
       "      <td>Lockheed Martin; Raytheon Missiles &amp; Defense</td>\n",
       "      <td>United States (North America)</td>\n",
       "      <td>Defense</td>\n",
       "      <td>NaN</td>\n",
       "      <td>Is this a \"sanction\" or \"restriction on foreig...</td>\n",
       "      <td>不可靠实体清单工作机制关于将洛克希德·马丁公司、雷神导弹与防务公司列入不可靠实体清单的公告\\...</td>\n",
       "      <td>NaN</td>\n",
       "      <td>Full Text Chinese (MOFCOM)</td>\n",
       "      <td>NaN</td>\n",
       "      <td>NaN</td>\n",
       "    </tr>\n",
       "    <tr>\n",
       "      <th>21</th>\n",
       "      <td>2024-12-10</td>\n",
       "      <td>Antitrust probe into Nvidia</td>\n",
       "      <td>Obstruction of Foreign Business in China</td>\n",
       "      <td>NaN</td>\n",
       "      <td>Conversion</td>\n",
       "      <td>0.0</td>\n",
       "      <td>Anti-Monopoly Law</td>\n",
       "      <td>NaN</td>\n",
       "      <td>NVIDIA</td>\n",
       "      <td>United States (North America)</td>\n",
       "      <td>Semiconductors</td>\n",
       "      <td>NaN</td>\n",
       "      <td>This is a threat as well? Should be moved to \"...</td>\n",
       "      <td>NaN</td>\n",
       "      <td>NaN</td>\n",
       "      <td>Reporting (Xinhua)</td>\n",
       "      <td>Reporting (Zhejiang)</td>\n",
       "      <td>Reporting (FT)</td>\n",
       "    </tr>\n",
       "    <tr>\n",
       "      <th>22</th>\n",
       "      <td>2023-08-24</td>\n",
       "      <td>Boycott of Japanese beauty products after Fuku...</td>\n",
       "      <td>Boycott</td>\n",
       "      <td>NaN</td>\n",
       "      <td>Boycott Fomentation</td>\n",
       "      <td>0.0</td>\n",
       "      <td>Shiseido, Kosé, Procter &amp; Gamble</td>\n",
       "      <td>NaN</td>\n",
       "      <td>NaN</td>\n",
       "      <td>Japan (Asia)</td>\n",
       "      <td>Consumer Goods</td>\n",
       "      <td>Beauty products</td>\n",
       "      <td>NaN</td>\n",
       "      <td>NaN</td>\n",
       "      <td>NaN</td>\n",
       "      <td>Reporting (FT)</td>\n",
       "      <td>NaN</td>\n",
       "      <td>NaN</td>\n",
       "    </tr>\n",
       "    <tr>\n",
       "      <th>31</th>\n",
       "      <td>2024-08-21</td>\n",
       "      <td>Anti-dumping Probe EU Dairy</td>\n",
       "      <td>Sanction</td>\n",
       "      <td>NaN</td>\n",
       "      <td>NaN</td>\n",
       "      <td>0.0</td>\n",
       "      <td>ADCVD Regime</td>\n",
       "      <td>NaN</td>\n",
       "      <td>NaN</td>\n",
       "      <td>European Union (Europe)</td>\n",
       "      <td>Agriculture</td>\n",
       "      <td>NaN</td>\n",
       "      <td>Retaliatory response to EV tariffs</td>\n",
       "      <td>NaN</td>\n",
       "      <td>NaN</td>\n",
       "      <td>China opens anti-subsidy probe into EU dairy i...</td>\n",
       "      <td>Earlier threat</td>\n",
       "      <td>MOFCOM Announcement??</td>\n",
       "    </tr>\n",
       "    <tr>\n",
       "      <th>32</th>\n",
       "      <td>2024-10-08</td>\n",
       "      <td>Anti-dumping Duties EU Brandy</td>\n",
       "      <td>Sanction</td>\n",
       "      <td>NaN</td>\n",
       "      <td>NaN</td>\n",
       "      <td>0.0</td>\n",
       "      <td>ADCVD Regime</td>\n",
       "      <td>NaN</td>\n",
       "      <td>NaN</td>\n",
       "      <td>European Union (Europe)</td>\n",
       "      <td>Food &amp; Beverage</td>\n",
       "      <td>NaN</td>\n",
       "      <td>Retaliatory response to EV tariffs</td>\n",
       "      <td>NaN</td>\n",
       "      <td>NaN</td>\n",
       "      <td>China targets brandy in EU trade tit-for-tat a...</td>\n",
       "      <td>NaN</td>\n",
       "      <td>MOFCOM Announcement??</td>\n",
       "    </tr>\n",
       "    <tr>\n",
       "      <th>33</th>\n",
       "      <td>2024-06-17</td>\n",
       "      <td>Anti-dumping Probe EU Pork</td>\n",
       "      <td>Sanction</td>\n",
       "      <td>NaN</td>\n",
       "      <td>NaN</td>\n",
       "      <td>0.0</td>\n",
       "      <td>ADCVD Regime</td>\n",
       "      <td>NaN</td>\n",
       "      <td>NaN</td>\n",
       "      <td>European Union (Europe)</td>\n",
       "      <td>Agriculture</td>\n",
       "      <td>NaN</td>\n",
       "      <td>Retaliatory response to EV tariffs</td>\n",
       "      <td>NaN</td>\n",
       "      <td>NaN</td>\n",
       "      <td>China opens tit-for-tat anti-dumping probe int...</td>\n",
       "      <td>Earlier threat</td>\n",
       "      <td>MOFCOM Announcement??</td>\n",
       "    </tr>\n",
       "    <tr>\n",
       "      <th>34</th>\n",
       "      <td>2024-09-04</td>\n",
       "      <td>Anti-dumping Probe Canada Canola</td>\n",
       "      <td>Sanction</td>\n",
       "      <td>NaN</td>\n",
       "      <td>NaN</td>\n",
       "      <td>0.0</td>\n",
       "      <td>ADCVD Regime</td>\n",
       "      <td>NaN</td>\n",
       "      <td>NaN</td>\n",
       "      <td>Canada (North America)</td>\n",
       "      <td>Agriculture</td>\n",
       "      <td>NaN</td>\n",
       "      <td>Retaliatory response to Canadian EV, steel, al...</td>\n",
       "      <td>NaN</td>\n",
       "      <td>NaN</td>\n",
       "      <td>\"China hits back at Canada EV tariffs with can...</td>\n",
       "      <td>Reuters (good detail)</td>\n",
       "      <td>MOFCOM Announcement??</td>\n",
       "    </tr>\n",
       "    <tr>\n",
       "      <th>36</th>\n",
       "      <td>2000-10-19</td>\n",
       "      <td>Exclusion of French companies from LNG Project</td>\n",
       "      <td>Sanction</td>\n",
       "      <td>NaN</td>\n",
       "      <td>NaN</td>\n",
       "      <td>0.0</td>\n",
       "      <td>NaN</td>\n",
       "      <td>NaN</td>\n",
       "      <td>NaN</td>\n",
       "      <td>France (Europe)</td>\n",
       "      <td>NaN</td>\n",
       "      <td>NaN</td>\n",
       "      <td>NaN</td>\n",
       "      <td>NaN</td>\n",
       "      <td>NaN</td>\n",
       "      <td>NaN</td>\n",
       "      <td>NaN</td>\n",
       "      <td>NaN</td>\n",
       "    </tr>\n",
       "    <tr>\n",
       "      <th>37</th>\n",
       "      <td>2002-11-07</td>\n",
       "      <td>Mongolia Dalai Lama Retaliation</td>\n",
       "      <td>Sanction</td>\n",
       "      <td>NaN</td>\n",
       "      <td>NaN</td>\n",
       "      <td>0.0</td>\n",
       "      <td>NaN</td>\n",
       "      <td>NaN</td>\n",
       "      <td>NaN</td>\n",
       "      <td>Mongolia (Asia)</td>\n",
       "      <td>Raw Materials</td>\n",
       "      <td>Copper</td>\n",
       "      <td>NaN</td>\n",
       "      <td>NaN</td>\n",
       "      <td>NaN</td>\n",
       "      <td>NaN</td>\n",
       "      <td>NaN</td>\n",
       "      <td>NaN</td>\n",
       "    </tr>\n",
       "    <tr>\n",
       "      <th>38</th>\n",
       "      <td>2003-04-01</td>\n",
       "      <td>DPRK Oil Export Restrictions</td>\n",
       "      <td>Sanction</td>\n",
       "      <td>NaN</td>\n",
       "      <td>NaN</td>\n",
       "      <td>0.0</td>\n",
       "      <td>NaN</td>\n",
       "      <td>NaN</td>\n",
       "      <td>NaN</td>\n",
       "      <td>North Korea (Asia)</td>\n",
       "      <td>Energy</td>\n",
       "      <td>Oil</td>\n",
       "      <td>NaN</td>\n",
       "      <td>NaN</td>\n",
       "      <td>NaN</td>\n",
       "      <td>NaN</td>\n",
       "      <td>NaN</td>\n",
       "      <td>NaN</td>\n",
       "    </tr>\n",
       "    <tr>\n",
       "      <th>39</th>\n",
       "      <td>2006-08-23</td>\n",
       "      <td>Mongolia Dalai Lama Retaliation 2</td>\n",
       "      <td>Sanction</td>\n",
       "      <td>NaN</td>\n",
       "      <td>NaN</td>\n",
       "      <td>0.0</td>\n",
       "      <td>NaN</td>\n",
       "      <td>NaN</td>\n",
       "      <td>NaN</td>\n",
       "      <td>Mongolia (Asia)</td>\n",
       "      <td>Transportation</td>\n",
       "      <td>NaN</td>\n",
       "      <td>NaN</td>\n",
       "      <td>NaN</td>\n",
       "      <td>NaN</td>\n",
       "      <td>NaN</td>\n",
       "      <td>NaN</td>\n",
       "      <td>NaN</td>\n",
       "    </tr>\n",
       "  </tbody>\n",
       "</table>\n",
       "</div>"
      ],
      "text/plain": [
       "   Start Date                                              Title  \\\n",
       "0  2020-01-01  Cessation of Licenses to Export Graphite to Sw...   \n",
       "1  2021-03-22  Foreign Ministry Spokesperson Announces Sancti...   \n",
       "2  2021-03-27  Foreign Ministry Spokesperson\\nAnnounces Sanct...   \n",
       "3  2022-08-01  Foreign Ministry Spokesperson Announces China'...   \n",
       "4  2023-04-13  Decision on taking countermeasures against ant...   \n",
       "6  2023-08-24  China ban on Japanese seafood products after F...   \n",
       "9  2024-05-22  Decision on taking countermeasures against U.S...   \n",
       "10 2024-07-12  Decision on taking countermeasures against U.S...   \n",
       "12 2024-09-18  Decision on taking countermeasures against U.S...   \n",
       "13 2024-10-10  Decision on taking countermeasures against U.S...   \n",
       "14 2024-12-03  Ministry of Commerce Notice 2024 No. 46: Notic...   \n",
       "15 2024-12-05  Decision on taking countermeasures against U.S...   \n",
       "16 2023-03-31                             Restrictions on Micron   \n",
       "17 2022-08-05  Foreign Ministry Spokesperson Announces China'...   \n",
       "18 2022-08-03  Suspension of natural sand exports to Taiwan f...   \n",
       "19 2022-08-03  Suspension of the import of citrus fruits, fre...   \n",
       "20 2023-02-01  Announcement... on the inclusion of Lockheed M...   \n",
       "21 2024-12-10                        Antitrust probe into Nvidia   \n",
       "22 2023-08-24  Boycott of Japanese beauty products after Fuku...   \n",
       "31 2024-08-21                        Anti-dumping Probe EU Dairy   \n",
       "32 2024-10-08                      Anti-dumping Duties EU Brandy   \n",
       "33 2024-06-17                         Anti-dumping Probe EU Pork   \n",
       "34 2024-09-04                   Anti-dumping Probe Canada Canola   \n",
       "36 2000-10-19     Exclusion of French companies from LNG Project   \n",
       "37 2002-11-07                    Mongolia Dalai Lama Retaliation   \n",
       "38 2003-04-01                       DPRK Oil Export Restrictions   \n",
       "39 2006-08-23                  Mongolia Dalai Lama Retaliation 2   \n",
       "\n",
       "                         Form of Restriction  \\\n",
       "0                             Export Control   \n",
       "1                          Targeted Sanction   \n",
       "2                          Targeted Sanction   \n",
       "3                          Targeted Sanction   \n",
       "4                          Targeted Sanction   \n",
       "6                         Import Restriction   \n",
       "9                          Targeted Sanction   \n",
       "10                         Targeted Sanction   \n",
       "12                         Targeted Sanction   \n",
       "13                         Targeted Sanction   \n",
       "14                            Export Control   \n",
       "15                         Targeted Sanction   \n",
       "16  Obstruction of Foreign Business in China   \n",
       "17                         Targeted Sanction   \n",
       "18                            Export Control   \n",
       "19                        Import Restriction   \n",
       "20                         Targeted Sanction   \n",
       "21  Obstruction of Foreign Business in China   \n",
       "22                                   Boycott   \n",
       "31                                  Sanction   \n",
       "32                                  Sanction   \n",
       "33                                  Sanction   \n",
       "34                                  Sanction   \n",
       "36                                  Sanction   \n",
       "37                                  Sanction   \n",
       "38                                  Sanction   \n",
       "39                                  Sanction   \n",
       "\n",
       "                                   Restriction Quotes  \\\n",
       "0                                           Undefined   \n",
       "1   Individuals concerned and their families are p...   \n",
       "2   prohibiting the above-mentioned individuals fr...   \n",
       "3   China decides to adopt sanctions on Vaiciukevi...   \n",
       "4   In accordance with Articles 3, 4, 6 and 15 of ...   \n",
       "6   the General Administration of Customs has deci...   \n",
       "9   For the 12 companies as listed in the attached...   \n",
       "10  For the six companies ...\\nTheir movable and i...   \n",
       "12  China has decided to take the following counte...   \n",
       "13  For the three companies … Their movable and im...   \n",
       "14  \\nThe export of dual-use items to U.S. militar...   \n",
       "15  For the 13 companies … Their movable and immov...   \n",
       "16  In accordance with the Cybersecurity Law and o...   \n",
       "17  In response to Pelosi's vile provocative behav...   \n",
       "18  The Ministry of Commerce (MOC) has decided to ...   \n",
       "19  Since last year, mainland customs has repeated...   \n",
       "20  \\n1. The above-mentioned enterprises are prohi...   \n",
       "21                                                NaN   \n",
       "22                                                NaN   \n",
       "31                                                NaN   \n",
       "32                                                NaN   \n",
       "33                                                NaN   \n",
       "34                                                NaN   \n",
       "36                                                NaN   \n",
       "37                                                NaN   \n",
       "38                                                NaN   \n",
       "39                                                NaN   \n",
       "\n",
       "                   Mechanism  Formality\\n0 - Informal \\n1 - Formal  \\\n",
       "0   Bureaucratic Obstruction                                   0.0   \n",
       "1                     Formal                                   1.0   \n",
       "2                     Formal                                   1.0   \n",
       "3                     Formal                                   1.0   \n",
       "4                     Formal                                   1.0   \n",
       "6                 Conversion                                   0.0   \n",
       "9                     Formal                                   1.0   \n",
       "10                    Formal                                   1.0   \n",
       "12                    Formal                                   1.0   \n",
       "13                    Formal                                   1.0   \n",
       "14                    Formal                                   1.0   \n",
       "15                    Formal                                   1.0   \n",
       "16                    Formal                                   1.0   \n",
       "17                    Formal                                   1.0   \n",
       "18                Conversion                                   0.0   \n",
       "19                Conversion                                   0.0   \n",
       "20                    Formal                                   1.0   \n",
       "21                Conversion                                   0.0   \n",
       "22       Boycott Fomentation                                   0.0   \n",
       "31                       NaN                                   0.0   \n",
       "32                       NaN                                   0.0   \n",
       "33                       NaN                                   0.0   \n",
       "34                       NaN                                   0.0   \n",
       "36                       NaN                                   0.0   \n",
       "37                       NaN                                   0.0   \n",
       "38                       NaN                                   0.0   \n",
       "39                       NaN                                   0.0   \n",
       "\n",
       "                                          Legal Basis  \\\n",
       "0                                                 NaN   \n",
       "1                                           Undefined   \n",
       "2                                           Undefined   \n",
       "3                                                 NaN   \n",
       "4                          Anti-Foreign Sanctions Law   \n",
       "6                                     Food Safety Law   \n",
       "9   Anti-Foreign Sanctions Law (Articles 3, 4, 5, ...   \n",
       "10  Anti-Foreign Sanctions Law (Articles 3, 4, 5, ...   \n",
       "12  Anti-Foreign Sanctions Law (Articles 3, 4, 6, ...   \n",
       "13  Anti-Foreign Sanctions Law (Articles 3, 4, 5, ...   \n",
       "14                                 Export Control Law   \n",
       "15  Anti-Foreign Sanctions Law (Articles 3, 4, 5, ...   \n",
       "16          National Security Law;\\nCybersecurity Law   \n",
       "17  Undefined.\\n\"in accordance with the relevant l...   \n",
       "18        Undefined.\\n\"relevant laws and regulations\"   \n",
       "19  Undefined.\\n\"in accordance with relevant mainl...   \n",
       "20  Unreliable Entity List\\n\\nForeign Trade Law;\\n...   \n",
       "21                                  Anti-Monopoly Law   \n",
       "22                   Shiseido, Kosé, Procter & Gamble   \n",
       "31                                       ADCVD Regime   \n",
       "32                                       ADCVD Regime   \n",
       "33                                       ADCVD Regime   \n",
       "34                                       ADCVD Regime   \n",
       "36                                                NaN   \n",
       "37                                                NaN   \n",
       "38                                                NaN   \n",
       "39                                                NaN   \n",
       "\n",
       "                                 Targeted Individuals  \\\n",
       "0                                                 NaN   \n",
       "1   Reinhard Butikofer; Michael Gahler; Raphaël Gl...   \n",
       "2          Gayle Manchin; Tony Perkins; Michael Chong   \n",
       "3                                Agnė Vaiciukevičiūtė   \n",
       "4                                      Michael McCaul   \n",
       "6                                               Japan   \n",
       "9   Kathy J. Warden; Matthew Bromberg; Benjamin R....   \n",
       "10  Wahid Nawabi; Kevin McDonnell; Brian William S...   \n",
       "12                                                NaN   \n",
       "13  Steven Roger Rudder; James William Ickes II; D...   \n",
       "14                                                NaN   \n",
       "15  Barbara Borgonovi; Gerard Hueber; Charles Wood...   \n",
       "16                                                NaN   \n",
       "17  Nancy Pelosi; Paul Francis Pelosi; Nancy Corin...   \n",
       "18                                                NaN   \n",
       "19                                                NaN   \n",
       "20                                                NaN   \n",
       "21                                                NaN   \n",
       "22                                                NaN   \n",
       "31                                                NaN   \n",
       "32                                                NaN   \n",
       "33                                                NaN   \n",
       "34                                                NaN   \n",
       "36                                                NaN   \n",
       "37                                                NaN   \n",
       "38                                                NaN   \n",
       "39                                                NaN   \n",
       "\n",
       "                                    Targeted Entities  \\\n",
       "0                                                 NaN   \n",
       "1   Political and Security Committee of the Counci...   \n",
       "2   United States Commission on International Reli...   \n",
       "3   Ministry of Transport and Communications of Li...   \n",
       "4                                                 NaN   \n",
       "6                                                 NaN   \n",
       "9   Lockheed Martin Missiles and Fire Control; Loc...   \n",
       "10  Anduril Industries; Maritime Tactical Systems;...   \n",
       "12  Sierra Nevada Corporation; Stick Rudder Enterp...   \n",
       "13  Edge Autonomy Operations LLC; Huntington Ingal...   \n",
       "14                                                NaN   \n",
       "15  Teledyne Brown Engineering, Inc.; BRINC Drones...   \n",
       "16                                             Micron   \n",
       "17                                                NaN   \n",
       "18                                                NaN   \n",
       "19                                                NaN   \n",
       "20       Lockheed Martin; Raytheon Missiles & Defense   \n",
       "21                                             NVIDIA   \n",
       "22                                                NaN   \n",
       "31                                                NaN   \n",
       "32                                                NaN   \n",
       "33                                                NaN   \n",
       "34                                                NaN   \n",
       "36                                                NaN   \n",
       "37                                                NaN   \n",
       "38                                                NaN   \n",
       "39                                                NaN   \n",
       "\n",
       "                               Nationality of Targets           Sector  \\\n",
       "0                                     Sweden (Europe)   Raw Materials    \n",
       "1   Germany (Europe); France (Europe); Bulgaria (E...              NaN   \n",
       "2   United States (North America); Canada (North A...              NaN   \n",
       "3                                  Lithuania (Europe)   Transportation   \n",
       "4                       United States (North America)              NaN   \n",
       "6                                        Japan (Asia)  Food & Beverage   \n",
       "9                       United States (North America)          Defense   \n",
       "10                      United States (North America)          Defense   \n",
       "12                      United States (North America)          Defense   \n",
       "13                      United States (North America)          Defense   \n",
       "14                      United States (North America)   Raw Materials    \n",
       "15                      United States (North America)          Defense   \n",
       "16                      United States (North America)  Semiconductors    \n",
       "17                      United States (North America)              NaN   \n",
       "18                                      Taiwan (Asia)            Other   \n",
       "19                                      Taiwan (Asia)  Food & Beverage   \n",
       "20                      United States (North America)          Defense   \n",
       "21                      United States (North America)  Semiconductors    \n",
       "22                                       Japan (Asia)   Consumer Goods   \n",
       "31                            European Union (Europe)      Agriculture   \n",
       "32                            European Union (Europe)  Food & Beverage   \n",
       "33                            European Union (Europe)      Agriculture   \n",
       "34                             Canada (North America)      Agriculture   \n",
       "36                                    France (Europe)              NaN   \n",
       "37                                    Mongolia (Asia)   Raw Materials    \n",
       "38                                 North Korea (Asia)          Energy    \n",
       "39                                    Mongolia (Asia)   Transportation   \n",
       "\n",
       "                          Targeted Product Categories  \\\n",
       "0                                            Graphite   \n",
       "1                                                 NaN   \n",
       "2                                                 NaN   \n",
       "3   Lithuania's international road transport activ...   \n",
       "4                                                 NaN   \n",
       "6                                    Seafood products   \n",
       "9   Missiles, missile defense, munitions, aerospac...   \n",
       "10       Aerospace, maritime systems, defense systems   \n",
       "12  Aerospace, defense transport and communication...   \n",
       "13          Drones, ships, aerospace, defense systems   \n",
       "14  Gallium, germanium, antimony, superhard materi...   \n",
       "15         Aerospace, drones, AI, surveillance, naval   \n",
       "16                                                NaN   \n",
       "17                                                NaN   \n",
       "18                                               Sand   \n",
       "19  Citrus fruits, fresh white hairtail, frozen ho...   \n",
       "20                                                NaN   \n",
       "21                                                NaN   \n",
       "22                                    Beauty products   \n",
       "31                                                NaN   \n",
       "32                                                NaN   \n",
       "33                                                NaN   \n",
       "34                                                NaN   \n",
       "36                                                NaN   \n",
       "37                                             Copper   \n",
       "38                                                Oil   \n",
       "39                                                NaN   \n",
       "\n",
       "                                              Comment  \\\n",
       "0   The process of granting export licenses presum...   \n",
       "1   Significant step (escalation) in China's forma...   \n",
       "2   Imposed together with sanctions against the EU...   \n",
       "3                                                 NaN   \n",
       "4                                                 NaN   \n",
       "6   No evidence that the ban had something to do w...   \n",
       "9   Very similar in form to subsequent sanctions d...   \n",
       "10  Very similar to other sanctions decisions on U...   \n",
       "12  Does not reference article 5 of the Anti-Forei...   \n",
       "13  Several media reports on impact on Skydio. \\n\\...   \n",
       "14  First \"transshipment\" regulation on exports. \\...   \n",
       "15  Very similar to other sanctions decisions on U...   \n",
       "16  Investigation led to restriction of purchases ...   \n",
       "17                                                NaN   \n",
       "18   Announcement made the day Pelosi visited Taiwan.   \n",
       "19   Announcement made the day Pelosi visited Taiwan.   \n",
       "20  Is this a \"sanction\" or \"restriction on foreig...   \n",
       "21  This is a threat as well? Should be moved to \"...   \n",
       "22                                                NaN   \n",
       "31                 Retaliatory response to EV tariffs   \n",
       "32                 Retaliatory response to EV tariffs   \n",
       "33                 Retaliatory response to EV tariffs   \n",
       "34  Retaliatory response to Canadian EV, steel, al...   \n",
       "36                                                NaN   \n",
       "37                                                NaN   \n",
       "38                                                NaN   \n",
       "39                                                NaN   \n",
       "\n",
       "                                    Full Text Chinese  \\\n",
       "0                                                 NaN   \n",
       "1   外交部发言人宣布中方对欧盟有关机构和人员实施制裁\\n2021-03-22 20:26\\n\\n...   \n",
       "2   外交部发言人宣布对美国、加拿大有关人员和实体实施制裁\\n2021-03-27 21:36 来...   \n",
       "3   外交部发言人宣布中方针对立陶宛交通与通讯部副部长瓦伊丘凯维丘特实施制裁\\n2022-08-1...   \n",
       "4   关于对美国反华议员迈克·麦考尔采取反制措施的决定\\n2023-04-13 17:36\\n\\n...   \n",
       "6   海关总署公告\\n2023年第103号\\n\\n为全面防范日本福岛核污染水排海对食品安全造成的放...   \n",
       "9   关于对美国军工企业及高级管理人员采取反制措施的决定\\n2024-05-22 17:00\\n\\...   \n",
       "10  关于对美国军工企业及高级管理人员采取反制措施的决定\\n2024-07-12 18:10\\n\\...   \n",
       "12  关于对美国军工企业采取反制措施的决定\\n2024-09-18 14:43\\n\\n【中大小】 ...   \n",
       "13  关于对美国军工企业及高级管理人员采取反制措施的决定\\n2024-10-10 17:00\\n\\...   \n",
       "14  商务部公告2024年第46号 关于加强相关两用物项对美国出口管制的公告\\n【发布单位】安全与...   \n",
       "15  \\n关于对美国军工企业及高级管理人员采取反制措施的决定\\n2024-12-05 15:00\\...   \n",
       "16  为保障关键信息基础设施供应链安全，防范产品问题隐患造成网络安全风险，维护国家安全，依据《中华...   \n",
       "17  外交部发言人宣布中方对美国国会众议长佩洛西实施制裁\\n2022-08-05 16:15\\n\\...   \n",
       "18  商务部回应暂停天然砂对台湾地区出口\\n2022-08-03 17:02 来源：新华网\\n　　...   \n",
       "19  海关总署动植物检疫司 进出口食品安全局关于暂停台湾地区柑橘类水果和冰鲜白带鱼、冻竹荚鱼输入大...   \n",
       "20  不可靠实体清单工作机制关于将洛克希德·马丁公司、雷神导弹与防务公司列入不可靠实体清单的公告\\...   \n",
       "21                                                NaN   \n",
       "22                                                NaN   \n",
       "31                                                NaN   \n",
       "32                                                NaN   \n",
       "33                                                NaN   \n",
       "34                                                NaN   \n",
       "36                                                NaN   \n",
       "37                                                NaN   \n",
       "38                                                NaN   \n",
       "39                                                NaN   \n",
       "\n",
       "                                    Full Text English  \\\n",
       "0                                                 NaN   \n",
       "1   Foreign Ministry Spokesperson Announces Sancti...   \n",
       "2   Foreign Ministry Spokesperson Announces Sancti...   \n",
       "3   Foreign Ministry Spokesperson Announces China’...   \n",
       "4                                                 NaN   \n",
       "6                                                 NaN   \n",
       "9   Decision on Taking Countermeasures Against\\nU....   \n",
       "10  Decision on Taking Countermeasures Against U.S...   \n",
       "12  Decision on Taking Countermeasures Against U.S...   \n",
       "13  Decision on Taking Countermeasures Against U.S...   \n",
       "14  Ministry of Commerce Notice 2024 No. 46: Notic...   \n",
       "15  Decision on Taking Countermeasures Against U.S...   \n",
       "16                                                NaN   \n",
       "17                                                NaN   \n",
       "18                                                NaN   \n",
       "19                                                NaN   \n",
       "20                                                NaN   \n",
       "21                                                NaN   \n",
       "22                                                NaN   \n",
       "31                                                NaN   \n",
       "32                                                NaN   \n",
       "33                                                NaN   \n",
       "34                                                NaN   \n",
       "36                                                NaN   \n",
       "37                                                NaN   \n",
       "38                                                NaN   \n",
       "39                                                NaN   \n",
       "\n",
       "                                                 Link  \\\n",
       "0                                 European Commission   \n",
       "1                             Full Text Chinese (MFA)   \n",
       "2                             Full Text Chinese (MFA)   \n",
       "3                             Full Text Chinese (MFA)   \n",
       "4                             Full Text Chinese (MFA)   \n",
       "6                         Full Text Chinese (Customs)   \n",
       "9                             Full Text Chinese (MFA)   \n",
       "10                            Full Text Chinese (MFA)   \n",
       "12                            Full Text Chinese (MFA)   \n",
       "13                            Full Text Chinese (MFA)   \n",
       "14                         Full Text Chinese (MOFCOM)   \n",
       "15                            Full Text Chinese (MFA)   \n",
       "16        Full Text Chinese Investgation Launch (CAC)   \n",
       "17                            Full Text Chinese (MFA)   \n",
       "18                         Full Text Chinese (MOFCOM)   \n",
       "19                        Full Text Chinese (Customs)   \n",
       "20                         Full Text Chinese (MOFCOM)   \n",
       "21                                 Reporting (Xinhua)   \n",
       "22                                     Reporting (FT)   \n",
       "31  China opens anti-subsidy probe into EU dairy i...   \n",
       "32  China targets brandy in EU trade tit-for-tat a...   \n",
       "33  China opens tit-for-tat anti-dumping probe int...   \n",
       "34  \"China hits back at Canada EV tariffs with can...   \n",
       "36                                                NaN   \n",
       "37                                                NaN   \n",
       "38                                                NaN   \n",
       "39                                                NaN   \n",
       "\n",
       "                                          Link2                       Link3  \n",
       "0         Investigation by Swedish Public Radio                         NaN  \n",
       "1                       Full Text English (MFA)                         NaN  \n",
       "2                       Full Text English (MFA)                         NaN  \n",
       "3                                           NaN                         NaN  \n",
       "4                                           NaN                         NaN  \n",
       "6                       Full Text English (MFA)  Analysis (The Interpreter)  \n",
       "9                       Full Text English (MFA)                         NaN  \n",
       "10                      Full Text English (MFA)                         NaN  \n",
       "12                      Full Text English (MFA)                         NaN  \n",
       "13                      Full Text English (MFA)            Skydio Statement  \n",
       "14                              Reporting (NYT)                         NaN  \n",
       "15                      Full Text English (MFA)                         NaN  \n",
       "16  Full Text Chinese Investgation Result (CAC)                         NaN  \n",
       "17                                          NaN                         NaN  \n",
       "18                                          NaN                         NaN  \n",
       "19                                          NaN                         NaN  \n",
       "20                                          NaN                         NaN  \n",
       "21                         Reporting (Zhejiang)              Reporting (FT)  \n",
       "22                                          NaN                         NaN  \n",
       "31                               Earlier threat       MOFCOM Announcement??  \n",
       "32                                          NaN       MOFCOM Announcement??  \n",
       "33                               Earlier threat       MOFCOM Announcement??  \n",
       "34                        Reuters (good detail)       MOFCOM Announcement??  \n",
       "36                                          NaN                         NaN  \n",
       "37                                          NaN                         NaN  \n",
       "38                                          NaN                         NaN  \n",
       "39                                          NaN                         NaN  "
      ]
     },
     "execution_count": 11,
     "metadata": {},
     "output_type": "execute_result"
    }
   ],
   "source": [
    "df_national = df[~df['Nationality of Targets'].isnull()]\n",
    "df_national"
   ]
  },
  {
   "cell_type": "code",
   "execution_count": 19,
   "metadata": {},
   "outputs": [
    {
     "data": {
      "text/html": [
       "<div>\n",
       "<style scoped>\n",
       "    .dataframe tbody tr th:only-of-type {\n",
       "        vertical-align: middle;\n",
       "    }\n",
       "\n",
       "    .dataframe tbody tr th {\n",
       "        vertical-align: top;\n",
       "    }\n",
       "\n",
       "    .dataframe thead th {\n",
       "        text-align: right;\n",
       "    }\n",
       "</style>\n",
       "<table border=\"1\" class=\"dataframe\">\n",
       "  <thead>\n",
       "    <tr style=\"text-align: right;\">\n",
       "      <th></th>\n",
       "      <th>Nationality of Targets</th>\n",
       "      <th>Continent</th>\n",
       "      <th>Country</th>\n",
       "    </tr>\n",
       "  </thead>\n",
       "  <tbody>\n",
       "    <tr>\n",
       "      <th>0</th>\n",
       "      <td>Sweden (Europe)</td>\n",
       "      <td>Europe</td>\n",
       "      <td>Sweden</td>\n",
       "    </tr>\n",
       "    <tr>\n",
       "      <th>1</th>\n",
       "      <td>Germany (Europe)</td>\n",
       "      <td>Europe</td>\n",
       "      <td>Germany</td>\n",
       "    </tr>\n",
       "    <tr>\n",
       "      <th>1</th>\n",
       "      <td>France (Europe)</td>\n",
       "      <td>Europe</td>\n",
       "      <td>France</td>\n",
       "    </tr>\n",
       "    <tr>\n",
       "      <th>1</th>\n",
       "      <td>Bulgaria (Europe)</td>\n",
       "      <td>Europe</td>\n",
       "      <td>Bulgaria</td>\n",
       "    </tr>\n",
       "    <tr>\n",
       "      <th>1</th>\n",
       "      <td>Slovakia (Europe)</td>\n",
       "      <td>Europe</td>\n",
       "      <td>Slovakia</td>\n",
       "    </tr>\n",
       "    <tr>\n",
       "      <th>1</th>\n",
       "      <td>Netherlands (Europe)</td>\n",
       "      <td>Europe</td>\n",
       "      <td>Netherlands</td>\n",
       "    </tr>\n",
       "    <tr>\n",
       "      <th>1</th>\n",
       "      <td>Belgium (Europe)</td>\n",
       "      <td>Europe</td>\n",
       "      <td>Belgium</td>\n",
       "    </tr>\n",
       "    <tr>\n",
       "      <th>1</th>\n",
       "      <td>Lithuania (Europe)</td>\n",
       "      <td>Europe</td>\n",
       "      <td>Lithuania</td>\n",
       "    </tr>\n",
       "    <tr>\n",
       "      <th>1</th>\n",
       "      <td>Sweden (Europe)</td>\n",
       "      <td>Europe</td>\n",
       "      <td>Sweden</td>\n",
       "    </tr>\n",
       "    <tr>\n",
       "      <th>1</th>\n",
       "      <td>European Union (Europe)</td>\n",
       "      <td>Europe</td>\n",
       "      <td>European Union</td>\n",
       "    </tr>\n",
       "    <tr>\n",
       "      <th>1</th>\n",
       "      <td>Denmark (Europe)</td>\n",
       "      <td>Europe</td>\n",
       "      <td>Denmark</td>\n",
       "    </tr>\n",
       "    <tr>\n",
       "      <th>2</th>\n",
       "      <td>United States (North America)</td>\n",
       "      <td>North America</td>\n",
       "      <td>United States</td>\n",
       "    </tr>\n",
       "    <tr>\n",
       "      <th>2</th>\n",
       "      <td>Canada (North America)</td>\n",
       "      <td>North America</td>\n",
       "      <td>Canada</td>\n",
       "    </tr>\n",
       "    <tr>\n",
       "      <th>3</th>\n",
       "      <td>Lithuania (Europe)</td>\n",
       "      <td>Europe</td>\n",
       "      <td>Lithuania</td>\n",
       "    </tr>\n",
       "    <tr>\n",
       "      <th>4</th>\n",
       "      <td>United States (North America)</td>\n",
       "      <td>North America</td>\n",
       "      <td>United States</td>\n",
       "    </tr>\n",
       "    <tr>\n",
       "      <th>6</th>\n",
       "      <td>Japan (Asia)</td>\n",
       "      <td>Asia</td>\n",
       "      <td>Japan</td>\n",
       "    </tr>\n",
       "    <tr>\n",
       "      <th>9</th>\n",
       "      <td>United States (North America)</td>\n",
       "      <td>North America</td>\n",
       "      <td>United States</td>\n",
       "    </tr>\n",
       "    <tr>\n",
       "      <th>10</th>\n",
       "      <td>United States (North America)</td>\n",
       "      <td>North America</td>\n",
       "      <td>United States</td>\n",
       "    </tr>\n",
       "    <tr>\n",
       "      <th>12</th>\n",
       "      <td>United States (North America)</td>\n",
       "      <td>North America</td>\n",
       "      <td>United States</td>\n",
       "    </tr>\n",
       "    <tr>\n",
       "      <th>13</th>\n",
       "      <td>United States (North America)</td>\n",
       "      <td>North America</td>\n",
       "      <td>United States</td>\n",
       "    </tr>\n",
       "    <tr>\n",
       "      <th>14</th>\n",
       "      <td>United States (North America)</td>\n",
       "      <td>North America</td>\n",
       "      <td>United States</td>\n",
       "    </tr>\n",
       "    <tr>\n",
       "      <th>15</th>\n",
       "      <td>United States (North America)</td>\n",
       "      <td>North America</td>\n",
       "      <td>United States</td>\n",
       "    </tr>\n",
       "    <tr>\n",
       "      <th>16</th>\n",
       "      <td>United States (North America)</td>\n",
       "      <td>North America</td>\n",
       "      <td>United States</td>\n",
       "    </tr>\n",
       "    <tr>\n",
       "      <th>17</th>\n",
       "      <td>United States (North America)</td>\n",
       "      <td>North America</td>\n",
       "      <td>United States</td>\n",
       "    </tr>\n",
       "    <tr>\n",
       "      <th>18</th>\n",
       "      <td>Taiwan (Asia)</td>\n",
       "      <td>Asia</td>\n",
       "      <td>Taiwan</td>\n",
       "    </tr>\n",
       "    <tr>\n",
       "      <th>19</th>\n",
       "      <td>Taiwan (Asia)</td>\n",
       "      <td>Asia</td>\n",
       "      <td>Taiwan</td>\n",
       "    </tr>\n",
       "    <tr>\n",
       "      <th>20</th>\n",
       "      <td>United States (North America)</td>\n",
       "      <td>North America</td>\n",
       "      <td>United States</td>\n",
       "    </tr>\n",
       "    <tr>\n",
       "      <th>21</th>\n",
       "      <td>United States (North America)</td>\n",
       "      <td>North America</td>\n",
       "      <td>United States</td>\n",
       "    </tr>\n",
       "    <tr>\n",
       "      <th>22</th>\n",
       "      <td>Japan (Asia)</td>\n",
       "      <td>Asia</td>\n",
       "      <td>Japan</td>\n",
       "    </tr>\n",
       "    <tr>\n",
       "      <th>31</th>\n",
       "      <td>European Union (Europe)</td>\n",
       "      <td>Europe</td>\n",
       "      <td>European Union</td>\n",
       "    </tr>\n",
       "    <tr>\n",
       "      <th>32</th>\n",
       "      <td>European Union (Europe)</td>\n",
       "      <td>Europe</td>\n",
       "      <td>European Union</td>\n",
       "    </tr>\n",
       "    <tr>\n",
       "      <th>33</th>\n",
       "      <td>European Union (Europe)</td>\n",
       "      <td>Europe</td>\n",
       "      <td>European Union</td>\n",
       "    </tr>\n",
       "    <tr>\n",
       "      <th>34</th>\n",
       "      <td>Canada (North America)</td>\n",
       "      <td>North America</td>\n",
       "      <td>Canada</td>\n",
       "    </tr>\n",
       "    <tr>\n",
       "      <th>36</th>\n",
       "      <td>France (Europe)</td>\n",
       "      <td>Europe</td>\n",
       "      <td>France</td>\n",
       "    </tr>\n",
       "    <tr>\n",
       "      <th>37</th>\n",
       "      <td>Mongolia (Asia)</td>\n",
       "      <td>Asia</td>\n",
       "      <td>Mongolia</td>\n",
       "    </tr>\n",
       "    <tr>\n",
       "      <th>38</th>\n",
       "      <td>North Korea (Asia)</td>\n",
       "      <td>Asia</td>\n",
       "      <td>North Korea</td>\n",
       "    </tr>\n",
       "    <tr>\n",
       "      <th>39</th>\n",
       "      <td>Mongolia (Asia)</td>\n",
       "      <td>Asia</td>\n",
       "      <td>Mongolia</td>\n",
       "    </tr>\n",
       "  </tbody>\n",
       "</table>\n",
       "</div>"
      ],
      "text/plain": [
       "           Nationality of Targets      Continent         Country\n",
       "0                 Sweden (Europe)         Europe          Sweden\n",
       "1                Germany (Europe)         Europe         Germany\n",
       "1                 France (Europe)         Europe          France\n",
       "1               Bulgaria (Europe)         Europe        Bulgaria\n",
       "1               Slovakia (Europe)         Europe        Slovakia\n",
       "1            Netherlands (Europe)         Europe     Netherlands\n",
       "1                Belgium (Europe)         Europe         Belgium\n",
       "1              Lithuania (Europe)         Europe       Lithuania\n",
       "1                 Sweden (Europe)         Europe          Sweden\n",
       "1         European Union (Europe)         Europe  European Union\n",
       "1                Denmark (Europe)         Europe         Denmark\n",
       "2   United States (North America)  North America   United States\n",
       "2          Canada (North America)  North America          Canada\n",
       "3              Lithuania (Europe)         Europe       Lithuania\n",
       "4   United States (North America)  North America   United States\n",
       "6                    Japan (Asia)           Asia           Japan\n",
       "9   United States (North America)  North America   United States\n",
       "10  United States (North America)  North America   United States\n",
       "12  United States (North America)  North America   United States\n",
       "13  United States (North America)  North America   United States\n",
       "14  United States (North America)  North America   United States\n",
       "15  United States (North America)  North America   United States\n",
       "16  United States (North America)  North America   United States\n",
       "17  United States (North America)  North America   United States\n",
       "18                  Taiwan (Asia)           Asia          Taiwan\n",
       "19                  Taiwan (Asia)           Asia          Taiwan\n",
       "20  United States (North America)  North America   United States\n",
       "21  United States (North America)  North America   United States\n",
       "22                   Japan (Asia)           Asia           Japan\n",
       "31        European Union (Europe)         Europe  European Union\n",
       "32        European Union (Europe)         Europe  European Union\n",
       "33        European Union (Europe)         Europe  European Union\n",
       "34         Canada (North America)  North America          Canada\n",
       "36                France (Europe)         Europe          France\n",
       "37                Mongolia (Asia)           Asia        Mongolia\n",
       "38             North Korea (Asia)           Asia     North Korea\n",
       "39                Mongolia (Asia)           Asia        Mongolia"
      ]
     },
     "execution_count": 19,
     "metadata": {},
     "output_type": "execute_result"
    }
   ],
   "source": [
    "hierarchy = pd.DataFrame(df_national['Nationality of Targets'].str.split('; ').explode())\n",
    "hierarchy['Continent'] = hierarchy['Nationality of Targets'].str.extract(r'\\((.*)\\)')[0]\n",
    "hierarchy['Country'] = hierarchy['Nationality of Targets'].str.extract(r'(.*) \\(')[0]\n",
    "hierarchy"
   ]
  },
  {
   "cell_type": "code",
   "execution_count": 25,
   "metadata": {},
   "outputs": [],
   "source": [
    "sunburst = hierarchy.groupby(['Continent', 'Country']).size().reset_index(name='Count').sort_values(by='Count', ascending=False).reset_index(drop=True)\n",
    "sunburst['Percentage'] = sunburst['Count'] / sunburst['Count'].sum() * 100"
   ]
  },
  {
   "cell_type": "code",
   "execution_count": 27,
   "metadata": {},
   "outputs": [
    {
     "data": {
      "application/vnd.plotly.v1+json": {
       "config": {
        "plotlyServerURL": "https://plot.ly"
       },
       "data": [
        {
         "branchvalues": "total",
         "customdata": [
          [
           2.7027027027027026
          ],
          [
           2.7027027027027026
          ],
          [
           5.405405405405405
          ],
          [
           2.7027027027027026
          ],
          [
           10.81081081081081
          ],
          [
           5.405405405405405
          ],
          [
           2.7027027027027026
          ],
          [
           5.405405405405405
          ],
          [
           5.405405405405405
          ],
          [
           5.405405405405405
          ],
          [
           2.7027027027027026
          ],
          [
           2.7027027027027026
          ],
          [
           2.7027027027027026
          ],
          [
           5.405405405405405
          ],
          [
           5.405405405405405
          ],
          [
           32.432432432432435
          ],
          [
           "(?)"
          ],
          [
           "(?)"
          ],
          [
           "(?)"
          ]
         ],
         "domain": {
          "x": [
           0,
           1
          ],
          "y": [
           0,
           1
          ]
         },
         "hovertemplate": "labels=%{label}<br>Count=%{value}<br>parent=%{parent}<br>id=%{id}<br>Percentage=%{customdata[0]}<extra></extra>",
         "ids": [
          "Europe/Belgium",
          "Europe/Bulgaria",
          "North America/Canada",
          "Europe/Denmark",
          "Europe/European Union",
          "Europe/France",
          "Europe/Germany",
          "Asia/Japan",
          "Europe/Lithuania",
          "Asia/Mongolia",
          "Europe/Netherlands",
          "Asia/North Korea",
          "Europe/Slovakia",
          "Europe/Sweden",
          "Asia/Taiwan",
          "North America/United States",
          "Asia",
          "Europe",
          "North America"
         ],
         "labels": [
          "Belgium",
          "Bulgaria",
          "Canada",
          "Denmark",
          "European Union",
          "France",
          "Germany",
          "Japan",
          "Lithuania",
          "Mongolia",
          "Netherlands",
          "North Korea",
          "Slovakia",
          "Sweden",
          "Taiwan",
          "United States",
          "Asia",
          "Europe",
          "North America"
         ],
         "name": "",
         "parents": [
          "Europe",
          "Europe",
          "North America",
          "Europe",
          "Europe",
          "Europe",
          "Europe",
          "Asia",
          "Europe",
          "Asia",
          "Europe",
          "Asia",
          "Europe",
          "Europe",
          "Asia",
          "North America",
          "",
          "",
          ""
         ],
         "type": "sunburst",
         "values": [
          1,
          1,
          2,
          1,
          4,
          2,
          1,
          2,
          2,
          2,
          1,
          1,
          1,
          2,
          2,
          12,
          7,
          16,
          14
         ]
        }
       ],
       "layout": {
        "legend": {
         "tracegroupgap": 0
        },
        "margin": {
         "t": 60
        },
        "template": {
         "data": {
          "bar": [
           {
            "error_x": {
             "color": "#2a3f5f"
            },
            "error_y": {
             "color": "#2a3f5f"
            },
            "marker": {
             "line": {
              "color": "#E5ECF6",
              "width": 0.5
             },
             "pattern": {
              "fillmode": "overlay",
              "size": 10,
              "solidity": 0.2
             }
            },
            "type": "bar"
           }
          ],
          "barpolar": [
           {
            "marker": {
             "line": {
              "color": "#E5ECF6",
              "width": 0.5
             },
             "pattern": {
              "fillmode": "overlay",
              "size": 10,
              "solidity": 0.2
             }
            },
            "type": "barpolar"
           }
          ],
          "carpet": [
           {
            "aaxis": {
             "endlinecolor": "#2a3f5f",
             "gridcolor": "white",
             "linecolor": "white",
             "minorgridcolor": "white",
             "startlinecolor": "#2a3f5f"
            },
            "baxis": {
             "endlinecolor": "#2a3f5f",
             "gridcolor": "white",
             "linecolor": "white",
             "minorgridcolor": "white",
             "startlinecolor": "#2a3f5f"
            },
            "type": "carpet"
           }
          ],
          "choropleth": [
           {
            "colorbar": {
             "outlinewidth": 0,
             "ticks": ""
            },
            "type": "choropleth"
           }
          ],
          "contour": [
           {
            "colorbar": {
             "outlinewidth": 0,
             "ticks": ""
            },
            "colorscale": [
             [
              0,
              "#0d0887"
             ],
             [
              0.1111111111111111,
              "#46039f"
             ],
             [
              0.2222222222222222,
              "#7201a8"
             ],
             [
              0.3333333333333333,
              "#9c179e"
             ],
             [
              0.4444444444444444,
              "#bd3786"
             ],
             [
              0.5555555555555556,
              "#d8576b"
             ],
             [
              0.6666666666666666,
              "#ed7953"
             ],
             [
              0.7777777777777778,
              "#fb9f3a"
             ],
             [
              0.8888888888888888,
              "#fdca26"
             ],
             [
              1,
              "#f0f921"
             ]
            ],
            "type": "contour"
           }
          ],
          "contourcarpet": [
           {
            "colorbar": {
             "outlinewidth": 0,
             "ticks": ""
            },
            "type": "contourcarpet"
           }
          ],
          "heatmap": [
           {
            "colorbar": {
             "outlinewidth": 0,
             "ticks": ""
            },
            "colorscale": [
             [
              0,
              "#0d0887"
             ],
             [
              0.1111111111111111,
              "#46039f"
             ],
             [
              0.2222222222222222,
              "#7201a8"
             ],
             [
              0.3333333333333333,
              "#9c179e"
             ],
             [
              0.4444444444444444,
              "#bd3786"
             ],
             [
              0.5555555555555556,
              "#d8576b"
             ],
             [
              0.6666666666666666,
              "#ed7953"
             ],
             [
              0.7777777777777778,
              "#fb9f3a"
             ],
             [
              0.8888888888888888,
              "#fdca26"
             ],
             [
              1,
              "#f0f921"
             ]
            ],
            "type": "heatmap"
           }
          ],
          "heatmapgl": [
           {
            "colorbar": {
             "outlinewidth": 0,
             "ticks": ""
            },
            "colorscale": [
             [
              0,
              "#0d0887"
             ],
             [
              0.1111111111111111,
              "#46039f"
             ],
             [
              0.2222222222222222,
              "#7201a8"
             ],
             [
              0.3333333333333333,
              "#9c179e"
             ],
             [
              0.4444444444444444,
              "#bd3786"
             ],
             [
              0.5555555555555556,
              "#d8576b"
             ],
             [
              0.6666666666666666,
              "#ed7953"
             ],
             [
              0.7777777777777778,
              "#fb9f3a"
             ],
             [
              0.8888888888888888,
              "#fdca26"
             ],
             [
              1,
              "#f0f921"
             ]
            ],
            "type": "heatmapgl"
           }
          ],
          "histogram": [
           {
            "marker": {
             "pattern": {
              "fillmode": "overlay",
              "size": 10,
              "solidity": 0.2
             }
            },
            "type": "histogram"
           }
          ],
          "histogram2d": [
           {
            "colorbar": {
             "outlinewidth": 0,
             "ticks": ""
            },
            "colorscale": [
             [
              0,
              "#0d0887"
             ],
             [
              0.1111111111111111,
              "#46039f"
             ],
             [
              0.2222222222222222,
              "#7201a8"
             ],
             [
              0.3333333333333333,
              "#9c179e"
             ],
             [
              0.4444444444444444,
              "#bd3786"
             ],
             [
              0.5555555555555556,
              "#d8576b"
             ],
             [
              0.6666666666666666,
              "#ed7953"
             ],
             [
              0.7777777777777778,
              "#fb9f3a"
             ],
             [
              0.8888888888888888,
              "#fdca26"
             ],
             [
              1,
              "#f0f921"
             ]
            ],
            "type": "histogram2d"
           }
          ],
          "histogram2dcontour": [
           {
            "colorbar": {
             "outlinewidth": 0,
             "ticks": ""
            },
            "colorscale": [
             [
              0,
              "#0d0887"
             ],
             [
              0.1111111111111111,
              "#46039f"
             ],
             [
              0.2222222222222222,
              "#7201a8"
             ],
             [
              0.3333333333333333,
              "#9c179e"
             ],
             [
              0.4444444444444444,
              "#bd3786"
             ],
             [
              0.5555555555555556,
              "#d8576b"
             ],
             [
              0.6666666666666666,
              "#ed7953"
             ],
             [
              0.7777777777777778,
              "#fb9f3a"
             ],
             [
              0.8888888888888888,
              "#fdca26"
             ],
             [
              1,
              "#f0f921"
             ]
            ],
            "type": "histogram2dcontour"
           }
          ],
          "mesh3d": [
           {
            "colorbar": {
             "outlinewidth": 0,
             "ticks": ""
            },
            "type": "mesh3d"
           }
          ],
          "parcoords": [
           {
            "line": {
             "colorbar": {
              "outlinewidth": 0,
              "ticks": ""
             }
            },
            "type": "parcoords"
           }
          ],
          "pie": [
           {
            "automargin": true,
            "type": "pie"
           }
          ],
          "scatter": [
           {
            "fillpattern": {
             "fillmode": "overlay",
             "size": 10,
             "solidity": 0.2
            },
            "type": "scatter"
           }
          ],
          "scatter3d": [
           {
            "line": {
             "colorbar": {
              "outlinewidth": 0,
              "ticks": ""
             }
            },
            "marker": {
             "colorbar": {
              "outlinewidth": 0,
              "ticks": ""
             }
            },
            "type": "scatter3d"
           }
          ],
          "scattercarpet": [
           {
            "marker": {
             "colorbar": {
              "outlinewidth": 0,
              "ticks": ""
             }
            },
            "type": "scattercarpet"
           }
          ],
          "scattergeo": [
           {
            "marker": {
             "colorbar": {
              "outlinewidth": 0,
              "ticks": ""
             }
            },
            "type": "scattergeo"
           }
          ],
          "scattergl": [
           {
            "marker": {
             "colorbar": {
              "outlinewidth": 0,
              "ticks": ""
             }
            },
            "type": "scattergl"
           }
          ],
          "scattermapbox": [
           {
            "marker": {
             "colorbar": {
              "outlinewidth": 0,
              "ticks": ""
             }
            },
            "type": "scattermapbox"
           }
          ],
          "scatterpolar": [
           {
            "marker": {
             "colorbar": {
              "outlinewidth": 0,
              "ticks": ""
             }
            },
            "type": "scatterpolar"
           }
          ],
          "scatterpolargl": [
           {
            "marker": {
             "colorbar": {
              "outlinewidth": 0,
              "ticks": ""
             }
            },
            "type": "scatterpolargl"
           }
          ],
          "scatterternary": [
           {
            "marker": {
             "colorbar": {
              "outlinewidth": 0,
              "ticks": ""
             }
            },
            "type": "scatterternary"
           }
          ],
          "surface": [
           {
            "colorbar": {
             "outlinewidth": 0,
             "ticks": ""
            },
            "colorscale": [
             [
              0,
              "#0d0887"
             ],
             [
              0.1111111111111111,
              "#46039f"
             ],
             [
              0.2222222222222222,
              "#7201a8"
             ],
             [
              0.3333333333333333,
              "#9c179e"
             ],
             [
              0.4444444444444444,
              "#bd3786"
             ],
             [
              0.5555555555555556,
              "#d8576b"
             ],
             [
              0.6666666666666666,
              "#ed7953"
             ],
             [
              0.7777777777777778,
              "#fb9f3a"
             ],
             [
              0.8888888888888888,
              "#fdca26"
             ],
             [
              1,
              "#f0f921"
             ]
            ],
            "type": "surface"
           }
          ],
          "table": [
           {
            "cells": {
             "fill": {
              "color": "#EBF0F8"
             },
             "line": {
              "color": "white"
             }
            },
            "header": {
             "fill": {
              "color": "#C8D4E3"
             },
             "line": {
              "color": "white"
             }
            },
            "type": "table"
           }
          ]
         },
         "layout": {
          "annotationdefaults": {
           "arrowcolor": "#2a3f5f",
           "arrowhead": 0,
           "arrowwidth": 1
          },
          "autotypenumbers": "strict",
          "coloraxis": {
           "colorbar": {
            "outlinewidth": 0,
            "ticks": ""
           }
          },
          "colorscale": {
           "diverging": [
            [
             0,
             "#8e0152"
            ],
            [
             0.1,
             "#c51b7d"
            ],
            [
             0.2,
             "#de77ae"
            ],
            [
             0.3,
             "#f1b6da"
            ],
            [
             0.4,
             "#fde0ef"
            ],
            [
             0.5,
             "#f7f7f7"
            ],
            [
             0.6,
             "#e6f5d0"
            ],
            [
             0.7,
             "#b8e186"
            ],
            [
             0.8,
             "#7fbc41"
            ],
            [
             0.9,
             "#4d9221"
            ],
            [
             1,
             "#276419"
            ]
           ],
           "sequential": [
            [
             0,
             "#0d0887"
            ],
            [
             0.1111111111111111,
             "#46039f"
            ],
            [
             0.2222222222222222,
             "#7201a8"
            ],
            [
             0.3333333333333333,
             "#9c179e"
            ],
            [
             0.4444444444444444,
             "#bd3786"
            ],
            [
             0.5555555555555556,
             "#d8576b"
            ],
            [
             0.6666666666666666,
             "#ed7953"
            ],
            [
             0.7777777777777778,
             "#fb9f3a"
            ],
            [
             0.8888888888888888,
             "#fdca26"
            ],
            [
             1,
             "#f0f921"
            ]
           ],
           "sequentialminus": [
            [
             0,
             "#0d0887"
            ],
            [
             0.1111111111111111,
             "#46039f"
            ],
            [
             0.2222222222222222,
             "#7201a8"
            ],
            [
             0.3333333333333333,
             "#9c179e"
            ],
            [
             0.4444444444444444,
             "#bd3786"
            ],
            [
             0.5555555555555556,
             "#d8576b"
            ],
            [
             0.6666666666666666,
             "#ed7953"
            ],
            [
             0.7777777777777778,
             "#fb9f3a"
            ],
            [
             0.8888888888888888,
             "#fdca26"
            ],
            [
             1,
             "#f0f921"
            ]
           ]
          },
          "colorway": [
           "#636efa",
           "#EF553B",
           "#00cc96",
           "#ab63fa",
           "#FFA15A",
           "#19d3f3",
           "#FF6692",
           "#B6E880",
           "#FF97FF",
           "#FECB52"
          ],
          "font": {
           "color": "#2a3f5f"
          },
          "geo": {
           "bgcolor": "white",
           "lakecolor": "white",
           "landcolor": "#E5ECF6",
           "showlakes": true,
           "showland": true,
           "subunitcolor": "white"
          },
          "hoverlabel": {
           "align": "left"
          },
          "hovermode": "closest",
          "mapbox": {
           "style": "light"
          },
          "paper_bgcolor": "white",
          "plot_bgcolor": "#E5ECF6",
          "polar": {
           "angularaxis": {
            "gridcolor": "white",
            "linecolor": "white",
            "ticks": ""
           },
           "bgcolor": "#E5ECF6",
           "radialaxis": {
            "gridcolor": "white",
            "linecolor": "white",
            "ticks": ""
           }
          },
          "scene": {
           "xaxis": {
            "backgroundcolor": "#E5ECF6",
            "gridcolor": "white",
            "gridwidth": 2,
            "linecolor": "white",
            "showbackground": true,
            "ticks": "",
            "zerolinecolor": "white"
           },
           "yaxis": {
            "backgroundcolor": "#E5ECF6",
            "gridcolor": "white",
            "gridwidth": 2,
            "linecolor": "white",
            "showbackground": true,
            "ticks": "",
            "zerolinecolor": "white"
           },
           "zaxis": {
            "backgroundcolor": "#E5ECF6",
            "gridcolor": "white",
            "gridwidth": 2,
            "linecolor": "white",
            "showbackground": true,
            "ticks": "",
            "zerolinecolor": "white"
           }
          },
          "shapedefaults": {
           "line": {
            "color": "#2a3f5f"
           }
          },
          "ternary": {
           "aaxis": {
            "gridcolor": "white",
            "linecolor": "white",
            "ticks": ""
           },
           "baxis": {
            "gridcolor": "white",
            "linecolor": "white",
            "ticks": ""
           },
           "bgcolor": "#E5ECF6",
           "caxis": {
            "gridcolor": "white",
            "linecolor": "white",
            "ticks": ""
           }
          },
          "title": {
           "x": 0.05
          },
          "xaxis": {
           "automargin": true,
           "gridcolor": "white",
           "linecolor": "white",
           "ticks": "",
           "title": {
            "standoff": 15
           },
           "zerolinecolor": "white",
           "zerolinewidth": 2
          },
          "yaxis": {
           "automargin": true,
           "gridcolor": "white",
           "linecolor": "white",
           "ticks": "",
           "title": {
            "standoff": 15
           },
           "zerolinecolor": "white",
           "zerolinewidth": 2
          }
         }
        }
       }
      }
     },
     "metadata": {},
     "output_type": "display_data"
    }
   ],
   "source": [
    "import plotly.express as px\n",
    "\n",
    "fig = px.sunburst(sunburst, path=['Continent', 'Country'], values='Count', hover_data=['Percentage'])\n",
    "fig.show()"
   ]
  },
  {
   "cell_type": "code",
   "execution_count": 28,
   "metadata": {},
   "outputs": [
    {
     "data": {
      "application/vnd.plotly.v1+json": {
       "config": {
        "plotlyServerURL": "https://plot.ly"
       },
       "data": [
        {
         "branchvalues": "total",
         "customdata": [
          [
           2.7027027027027026
          ],
          [
           2.7027027027027026
          ],
          [
           5.405405405405405
          ],
          [
           2.7027027027027026
          ],
          [
           10.81081081081081
          ],
          [
           5.405405405405405
          ],
          [
           2.7027027027027026
          ],
          [
           5.405405405405405
          ],
          [
           5.405405405405405
          ],
          [
           5.405405405405405
          ],
          [
           2.7027027027027026
          ],
          [
           2.7027027027027026
          ],
          [
           2.7027027027027026
          ],
          [
           5.405405405405405
          ],
          [
           5.405405405405405
          ],
          [
           32.432432432432435
          ],
          [
           "(?)"
          ],
          [
           "(?)"
          ],
          [
           "(?)"
          ]
         ],
         "domain": {
          "x": [
           0,
           1
          ],
          "y": [
           0,
           1
          ]
         },
         "hovertemplate": "labels=%{label}<br>Count=%{value}<br>parent=%{parent}<br>id=%{id}<br>Percentage=%{customdata[0]}<extra></extra>",
         "ids": [
          "Europe/Belgium",
          "Europe/Bulgaria",
          "North America/Canada",
          "Europe/Denmark",
          "Europe/European Union",
          "Europe/France",
          "Europe/Germany",
          "Asia/Japan",
          "Europe/Lithuania",
          "Asia/Mongolia",
          "Europe/Netherlands",
          "Asia/North Korea",
          "Europe/Slovakia",
          "Europe/Sweden",
          "Asia/Taiwan",
          "North America/United States",
          "Asia",
          "Europe",
          "North America"
         ],
         "labels": [
          "Belgium",
          "Bulgaria",
          "Canada",
          "Denmark",
          "European Union",
          "France",
          "Germany",
          "Japan",
          "Lithuania",
          "Mongolia",
          "Netherlands",
          "North Korea",
          "Slovakia",
          "Sweden",
          "Taiwan",
          "United States",
          "Asia",
          "Europe",
          "North America"
         ],
         "name": "",
         "parents": [
          "Europe",
          "Europe",
          "North America",
          "Europe",
          "Europe",
          "Europe",
          "Europe",
          "Asia",
          "Europe",
          "Asia",
          "Europe",
          "Asia",
          "Europe",
          "Europe",
          "Asia",
          "North America",
          "",
          "",
          ""
         ],
         "type": "treemap",
         "values": [
          1,
          1,
          2,
          1,
          4,
          2,
          1,
          2,
          2,
          2,
          1,
          1,
          1,
          2,
          2,
          12,
          7,
          16,
          14
         ]
        }
       ],
       "layout": {
        "legend": {
         "tracegroupgap": 0
        },
        "margin": {
         "t": 60
        },
        "template": {
         "data": {
          "bar": [
           {
            "error_x": {
             "color": "#2a3f5f"
            },
            "error_y": {
             "color": "#2a3f5f"
            },
            "marker": {
             "line": {
              "color": "#E5ECF6",
              "width": 0.5
             },
             "pattern": {
              "fillmode": "overlay",
              "size": 10,
              "solidity": 0.2
             }
            },
            "type": "bar"
           }
          ],
          "barpolar": [
           {
            "marker": {
             "line": {
              "color": "#E5ECF6",
              "width": 0.5
             },
             "pattern": {
              "fillmode": "overlay",
              "size": 10,
              "solidity": 0.2
             }
            },
            "type": "barpolar"
           }
          ],
          "carpet": [
           {
            "aaxis": {
             "endlinecolor": "#2a3f5f",
             "gridcolor": "white",
             "linecolor": "white",
             "minorgridcolor": "white",
             "startlinecolor": "#2a3f5f"
            },
            "baxis": {
             "endlinecolor": "#2a3f5f",
             "gridcolor": "white",
             "linecolor": "white",
             "minorgridcolor": "white",
             "startlinecolor": "#2a3f5f"
            },
            "type": "carpet"
           }
          ],
          "choropleth": [
           {
            "colorbar": {
             "outlinewidth": 0,
             "ticks": ""
            },
            "type": "choropleth"
           }
          ],
          "contour": [
           {
            "colorbar": {
             "outlinewidth": 0,
             "ticks": ""
            },
            "colorscale": [
             [
              0,
              "#0d0887"
             ],
             [
              0.1111111111111111,
              "#46039f"
             ],
             [
              0.2222222222222222,
              "#7201a8"
             ],
             [
              0.3333333333333333,
              "#9c179e"
             ],
             [
              0.4444444444444444,
              "#bd3786"
             ],
             [
              0.5555555555555556,
              "#d8576b"
             ],
             [
              0.6666666666666666,
              "#ed7953"
             ],
             [
              0.7777777777777778,
              "#fb9f3a"
             ],
             [
              0.8888888888888888,
              "#fdca26"
             ],
             [
              1,
              "#f0f921"
             ]
            ],
            "type": "contour"
           }
          ],
          "contourcarpet": [
           {
            "colorbar": {
             "outlinewidth": 0,
             "ticks": ""
            },
            "type": "contourcarpet"
           }
          ],
          "heatmap": [
           {
            "colorbar": {
             "outlinewidth": 0,
             "ticks": ""
            },
            "colorscale": [
             [
              0,
              "#0d0887"
             ],
             [
              0.1111111111111111,
              "#46039f"
             ],
             [
              0.2222222222222222,
              "#7201a8"
             ],
             [
              0.3333333333333333,
              "#9c179e"
             ],
             [
              0.4444444444444444,
              "#bd3786"
             ],
             [
              0.5555555555555556,
              "#d8576b"
             ],
             [
              0.6666666666666666,
              "#ed7953"
             ],
             [
              0.7777777777777778,
              "#fb9f3a"
             ],
             [
              0.8888888888888888,
              "#fdca26"
             ],
             [
              1,
              "#f0f921"
             ]
            ],
            "type": "heatmap"
           }
          ],
          "heatmapgl": [
           {
            "colorbar": {
             "outlinewidth": 0,
             "ticks": ""
            },
            "colorscale": [
             [
              0,
              "#0d0887"
             ],
             [
              0.1111111111111111,
              "#46039f"
             ],
             [
              0.2222222222222222,
              "#7201a8"
             ],
             [
              0.3333333333333333,
              "#9c179e"
             ],
             [
              0.4444444444444444,
              "#bd3786"
             ],
             [
              0.5555555555555556,
              "#d8576b"
             ],
             [
              0.6666666666666666,
              "#ed7953"
             ],
             [
              0.7777777777777778,
              "#fb9f3a"
             ],
             [
              0.8888888888888888,
              "#fdca26"
             ],
             [
              1,
              "#f0f921"
             ]
            ],
            "type": "heatmapgl"
           }
          ],
          "histogram": [
           {
            "marker": {
             "pattern": {
              "fillmode": "overlay",
              "size": 10,
              "solidity": 0.2
             }
            },
            "type": "histogram"
           }
          ],
          "histogram2d": [
           {
            "colorbar": {
             "outlinewidth": 0,
             "ticks": ""
            },
            "colorscale": [
             [
              0,
              "#0d0887"
             ],
             [
              0.1111111111111111,
              "#46039f"
             ],
             [
              0.2222222222222222,
              "#7201a8"
             ],
             [
              0.3333333333333333,
              "#9c179e"
             ],
             [
              0.4444444444444444,
              "#bd3786"
             ],
             [
              0.5555555555555556,
              "#d8576b"
             ],
             [
              0.6666666666666666,
              "#ed7953"
             ],
             [
              0.7777777777777778,
              "#fb9f3a"
             ],
             [
              0.8888888888888888,
              "#fdca26"
             ],
             [
              1,
              "#f0f921"
             ]
            ],
            "type": "histogram2d"
           }
          ],
          "histogram2dcontour": [
           {
            "colorbar": {
             "outlinewidth": 0,
             "ticks": ""
            },
            "colorscale": [
             [
              0,
              "#0d0887"
             ],
             [
              0.1111111111111111,
              "#46039f"
             ],
             [
              0.2222222222222222,
              "#7201a8"
             ],
             [
              0.3333333333333333,
              "#9c179e"
             ],
             [
              0.4444444444444444,
              "#bd3786"
             ],
             [
              0.5555555555555556,
              "#d8576b"
             ],
             [
              0.6666666666666666,
              "#ed7953"
             ],
             [
              0.7777777777777778,
              "#fb9f3a"
             ],
             [
              0.8888888888888888,
              "#fdca26"
             ],
             [
              1,
              "#f0f921"
             ]
            ],
            "type": "histogram2dcontour"
           }
          ],
          "mesh3d": [
           {
            "colorbar": {
             "outlinewidth": 0,
             "ticks": ""
            },
            "type": "mesh3d"
           }
          ],
          "parcoords": [
           {
            "line": {
             "colorbar": {
              "outlinewidth": 0,
              "ticks": ""
             }
            },
            "type": "parcoords"
           }
          ],
          "pie": [
           {
            "automargin": true,
            "type": "pie"
           }
          ],
          "scatter": [
           {
            "fillpattern": {
             "fillmode": "overlay",
             "size": 10,
             "solidity": 0.2
            },
            "type": "scatter"
           }
          ],
          "scatter3d": [
           {
            "line": {
             "colorbar": {
              "outlinewidth": 0,
              "ticks": ""
             }
            },
            "marker": {
             "colorbar": {
              "outlinewidth": 0,
              "ticks": ""
             }
            },
            "type": "scatter3d"
           }
          ],
          "scattercarpet": [
           {
            "marker": {
             "colorbar": {
              "outlinewidth": 0,
              "ticks": ""
             }
            },
            "type": "scattercarpet"
           }
          ],
          "scattergeo": [
           {
            "marker": {
             "colorbar": {
              "outlinewidth": 0,
              "ticks": ""
             }
            },
            "type": "scattergeo"
           }
          ],
          "scattergl": [
           {
            "marker": {
             "colorbar": {
              "outlinewidth": 0,
              "ticks": ""
             }
            },
            "type": "scattergl"
           }
          ],
          "scattermapbox": [
           {
            "marker": {
             "colorbar": {
              "outlinewidth": 0,
              "ticks": ""
             }
            },
            "type": "scattermapbox"
           }
          ],
          "scatterpolar": [
           {
            "marker": {
             "colorbar": {
              "outlinewidth": 0,
              "ticks": ""
             }
            },
            "type": "scatterpolar"
           }
          ],
          "scatterpolargl": [
           {
            "marker": {
             "colorbar": {
              "outlinewidth": 0,
              "ticks": ""
             }
            },
            "type": "scatterpolargl"
           }
          ],
          "scatterternary": [
           {
            "marker": {
             "colorbar": {
              "outlinewidth": 0,
              "ticks": ""
             }
            },
            "type": "scatterternary"
           }
          ],
          "surface": [
           {
            "colorbar": {
             "outlinewidth": 0,
             "ticks": ""
            },
            "colorscale": [
             [
              0,
              "#0d0887"
             ],
             [
              0.1111111111111111,
              "#46039f"
             ],
             [
              0.2222222222222222,
              "#7201a8"
             ],
             [
              0.3333333333333333,
              "#9c179e"
             ],
             [
              0.4444444444444444,
              "#bd3786"
             ],
             [
              0.5555555555555556,
              "#d8576b"
             ],
             [
              0.6666666666666666,
              "#ed7953"
             ],
             [
              0.7777777777777778,
              "#fb9f3a"
             ],
             [
              0.8888888888888888,
              "#fdca26"
             ],
             [
              1,
              "#f0f921"
             ]
            ],
            "type": "surface"
           }
          ],
          "table": [
           {
            "cells": {
             "fill": {
              "color": "#EBF0F8"
             },
             "line": {
              "color": "white"
             }
            },
            "header": {
             "fill": {
              "color": "#C8D4E3"
             },
             "line": {
              "color": "white"
             }
            },
            "type": "table"
           }
          ]
         },
         "layout": {
          "annotationdefaults": {
           "arrowcolor": "#2a3f5f",
           "arrowhead": 0,
           "arrowwidth": 1
          },
          "autotypenumbers": "strict",
          "coloraxis": {
           "colorbar": {
            "outlinewidth": 0,
            "ticks": ""
           }
          },
          "colorscale": {
           "diverging": [
            [
             0,
             "#8e0152"
            ],
            [
             0.1,
             "#c51b7d"
            ],
            [
             0.2,
             "#de77ae"
            ],
            [
             0.3,
             "#f1b6da"
            ],
            [
             0.4,
             "#fde0ef"
            ],
            [
             0.5,
             "#f7f7f7"
            ],
            [
             0.6,
             "#e6f5d0"
            ],
            [
             0.7,
             "#b8e186"
            ],
            [
             0.8,
             "#7fbc41"
            ],
            [
             0.9,
             "#4d9221"
            ],
            [
             1,
             "#276419"
            ]
           ],
           "sequential": [
            [
             0,
             "#0d0887"
            ],
            [
             0.1111111111111111,
             "#46039f"
            ],
            [
             0.2222222222222222,
             "#7201a8"
            ],
            [
             0.3333333333333333,
             "#9c179e"
            ],
            [
             0.4444444444444444,
             "#bd3786"
            ],
            [
             0.5555555555555556,
             "#d8576b"
            ],
            [
             0.6666666666666666,
             "#ed7953"
            ],
            [
             0.7777777777777778,
             "#fb9f3a"
            ],
            [
             0.8888888888888888,
             "#fdca26"
            ],
            [
             1,
             "#f0f921"
            ]
           ],
           "sequentialminus": [
            [
             0,
             "#0d0887"
            ],
            [
             0.1111111111111111,
             "#46039f"
            ],
            [
             0.2222222222222222,
             "#7201a8"
            ],
            [
             0.3333333333333333,
             "#9c179e"
            ],
            [
             0.4444444444444444,
             "#bd3786"
            ],
            [
             0.5555555555555556,
             "#d8576b"
            ],
            [
             0.6666666666666666,
             "#ed7953"
            ],
            [
             0.7777777777777778,
             "#fb9f3a"
            ],
            [
             0.8888888888888888,
             "#fdca26"
            ],
            [
             1,
             "#f0f921"
            ]
           ]
          },
          "colorway": [
           "#636efa",
           "#EF553B",
           "#00cc96",
           "#ab63fa",
           "#FFA15A",
           "#19d3f3",
           "#FF6692",
           "#B6E880",
           "#FF97FF",
           "#FECB52"
          ],
          "font": {
           "color": "#2a3f5f"
          },
          "geo": {
           "bgcolor": "white",
           "lakecolor": "white",
           "landcolor": "#E5ECF6",
           "showlakes": true,
           "showland": true,
           "subunitcolor": "white"
          },
          "hoverlabel": {
           "align": "left"
          },
          "hovermode": "closest",
          "mapbox": {
           "style": "light"
          },
          "paper_bgcolor": "white",
          "plot_bgcolor": "#E5ECF6",
          "polar": {
           "angularaxis": {
            "gridcolor": "white",
            "linecolor": "white",
            "ticks": ""
           },
           "bgcolor": "#E5ECF6",
           "radialaxis": {
            "gridcolor": "white",
            "linecolor": "white",
            "ticks": ""
           }
          },
          "scene": {
           "xaxis": {
            "backgroundcolor": "#E5ECF6",
            "gridcolor": "white",
            "gridwidth": 2,
            "linecolor": "white",
            "showbackground": true,
            "ticks": "",
            "zerolinecolor": "white"
           },
           "yaxis": {
            "backgroundcolor": "#E5ECF6",
            "gridcolor": "white",
            "gridwidth": 2,
            "linecolor": "white",
            "showbackground": true,
            "ticks": "",
            "zerolinecolor": "white"
           },
           "zaxis": {
            "backgroundcolor": "#E5ECF6",
            "gridcolor": "white",
            "gridwidth": 2,
            "linecolor": "white",
            "showbackground": true,
            "ticks": "",
            "zerolinecolor": "white"
           }
          },
          "shapedefaults": {
           "line": {
            "color": "#2a3f5f"
           }
          },
          "ternary": {
           "aaxis": {
            "gridcolor": "white",
            "linecolor": "white",
            "ticks": ""
           },
           "baxis": {
            "gridcolor": "white",
            "linecolor": "white",
            "ticks": ""
           },
           "bgcolor": "#E5ECF6",
           "caxis": {
            "gridcolor": "white",
            "linecolor": "white",
            "ticks": ""
           }
          },
          "title": {
           "x": 0.05
          },
          "xaxis": {
           "automargin": true,
           "gridcolor": "white",
           "linecolor": "white",
           "ticks": "",
           "title": {
            "standoff": 15
           },
           "zerolinecolor": "white",
           "zerolinewidth": 2
          },
          "yaxis": {
           "automargin": true,
           "gridcolor": "white",
           "linecolor": "white",
           "ticks": "",
           "title": {
            "standoff": 15
           },
           "zerolinecolor": "white",
           "zerolinewidth": 2
          }
         }
        }
       }
      }
     },
     "metadata": {},
     "output_type": "display_data"
    }
   ],
   "source": [
    "fig = px.treemap(sunburst, path=['Continent', 'Country'], values='Count', hover_data=['Percentage'])\n",
    "fig.show()"
   ]
  },
  {
   "cell_type": "markdown",
   "metadata": {},
   "source": [
    "# Form of restriction"
   ]
  },
  {
   "cell_type": "code",
   "execution_count": 52,
   "metadata": {},
   "outputs": [
    {
     "data": {
      "text/html": [
       "<div>\n",
       "<style scoped>\n",
       "    .dataframe tbody tr th:only-of-type {\n",
       "        vertical-align: middle;\n",
       "    }\n",
       "\n",
       "    .dataframe tbody tr th {\n",
       "        vertical-align: top;\n",
       "    }\n",
       "\n",
       "    .dataframe thead th {\n",
       "        text-align: right;\n",
       "    }\n",
       "</style>\n",
       "<table border=\"1\" class=\"dataframe\">\n",
       "  <thead>\n",
       "    <tr style=\"text-align: right;\">\n",
       "      <th></th>\n",
       "      <th>Start Date</th>\n",
       "      <th>Form of Restriction</th>\n",
       "      <th>Title</th>\n",
       "    </tr>\n",
       "  </thead>\n",
       "  <tbody>\n",
       "    <tr>\n",
       "      <th>0</th>\n",
       "      <td>2000-10-19</td>\n",
       "      <td>Sanction</td>\n",
       "      <td>1</td>\n",
       "    </tr>\n",
       "    <tr>\n",
       "      <th>1</th>\n",
       "      <td>2002-11-07</td>\n",
       "      <td>Sanction</td>\n",
       "      <td>1</td>\n",
       "    </tr>\n",
       "    <tr>\n",
       "      <th>2</th>\n",
       "      <td>2003-04-01</td>\n",
       "      <td>Sanction</td>\n",
       "      <td>1</td>\n",
       "    </tr>\n",
       "    <tr>\n",
       "      <th>3</th>\n",
       "      <td>2006-08-23</td>\n",
       "      <td>Sanction</td>\n",
       "      <td>1</td>\n",
       "    </tr>\n",
       "    <tr>\n",
       "      <th>4</th>\n",
       "      <td>2020-01-01</td>\n",
       "      <td>Export Control</td>\n",
       "      <td>1</td>\n",
       "    </tr>\n",
       "    <tr>\n",
       "      <th>5</th>\n",
       "      <td>2021-03-22</td>\n",
       "      <td>Targeted Sanction</td>\n",
       "      <td>1</td>\n",
       "    </tr>\n",
       "    <tr>\n",
       "      <th>6</th>\n",
       "      <td>2021-03-27</td>\n",
       "      <td>Targeted Sanction</td>\n",
       "      <td>1</td>\n",
       "    </tr>\n",
       "    <tr>\n",
       "      <th>7</th>\n",
       "      <td>2022-08-01</td>\n",
       "      <td>Targeted Sanction</td>\n",
       "      <td>1</td>\n",
       "    </tr>\n",
       "    <tr>\n",
       "      <th>8</th>\n",
       "      <td>2022-08-03</td>\n",
       "      <td>Export Control</td>\n",
       "      <td>1</td>\n",
       "    </tr>\n",
       "    <tr>\n",
       "      <th>9</th>\n",
       "      <td>2022-08-03</td>\n",
       "      <td>Import Restriction</td>\n",
       "      <td>1</td>\n",
       "    </tr>\n",
       "    <tr>\n",
       "      <th>10</th>\n",
       "      <td>2022-08-05</td>\n",
       "      <td>Targeted Sanction</td>\n",
       "      <td>1</td>\n",
       "    </tr>\n",
       "    <tr>\n",
       "      <th>11</th>\n",
       "      <td>2023-02-01</td>\n",
       "      <td>Targeted Sanction</td>\n",
       "      <td>1</td>\n",
       "    </tr>\n",
       "    <tr>\n",
       "      <th>12</th>\n",
       "      <td>2023-03-31</td>\n",
       "      <td>Obstruction of Foreign Business in China</td>\n",
       "      <td>1</td>\n",
       "    </tr>\n",
       "    <tr>\n",
       "      <th>13</th>\n",
       "      <td>2023-04-13</td>\n",
       "      <td>Targeted Sanction</td>\n",
       "      <td>1</td>\n",
       "    </tr>\n",
       "    <tr>\n",
       "      <th>14</th>\n",
       "      <td>2023-07-03</td>\n",
       "      <td>Export Control</td>\n",
       "      <td>1</td>\n",
       "    </tr>\n",
       "    <tr>\n",
       "      <th>15</th>\n",
       "      <td>2023-08-24</td>\n",
       "      <td>Boycott</td>\n",
       "      <td>1</td>\n",
       "    </tr>\n",
       "    <tr>\n",
       "      <th>16</th>\n",
       "      <td>2023-08-24</td>\n",
       "      <td>Import Restriction</td>\n",
       "      <td>1</td>\n",
       "    </tr>\n",
       "    <tr>\n",
       "      <th>17</th>\n",
       "      <td>2023-08-31</td>\n",
       "      <td>Targeted Sanction</td>\n",
       "      <td>1</td>\n",
       "    </tr>\n",
       "    <tr>\n",
       "      <th>18</th>\n",
       "      <td>2023-10-20</td>\n",
       "      <td>Export Control</td>\n",
       "      <td>1</td>\n",
       "    </tr>\n",
       "    <tr>\n",
       "      <th>19</th>\n",
       "      <td>2024-05-22</td>\n",
       "      <td>Targeted Sanction</td>\n",
       "      <td>1</td>\n",
       "    </tr>\n",
       "    <tr>\n",
       "      <th>20</th>\n",
       "      <td>2024-06-17</td>\n",
       "      <td>Sanction</td>\n",
       "      <td>1</td>\n",
       "    </tr>\n",
       "    <tr>\n",
       "      <th>21</th>\n",
       "      <td>2024-07-12</td>\n",
       "      <td>Targeted Sanction</td>\n",
       "      <td>1</td>\n",
       "    </tr>\n",
       "    <tr>\n",
       "      <th>22</th>\n",
       "      <td>2024-08-15</td>\n",
       "      <td>Export Control</td>\n",
       "      <td>1</td>\n",
       "    </tr>\n",
       "    <tr>\n",
       "      <th>23</th>\n",
       "      <td>2024-08-21</td>\n",
       "      <td>Sanction</td>\n",
       "      <td>1</td>\n",
       "    </tr>\n",
       "    <tr>\n",
       "      <th>24</th>\n",
       "      <td>2024-09-04</td>\n",
       "      <td>Sanction</td>\n",
       "      <td>1</td>\n",
       "    </tr>\n",
       "    <tr>\n",
       "      <th>25</th>\n",
       "      <td>2024-09-18</td>\n",
       "      <td>Targeted Sanction</td>\n",
       "      <td>1</td>\n",
       "    </tr>\n",
       "    <tr>\n",
       "      <th>26</th>\n",
       "      <td>2024-10-08</td>\n",
       "      <td>Sanction</td>\n",
       "      <td>1</td>\n",
       "    </tr>\n",
       "    <tr>\n",
       "      <th>27</th>\n",
       "      <td>2024-10-10</td>\n",
       "      <td>Targeted Sanction</td>\n",
       "      <td>1</td>\n",
       "    </tr>\n",
       "    <tr>\n",
       "      <th>28</th>\n",
       "      <td>2024-12-03</td>\n",
       "      <td>Export Control</td>\n",
       "      <td>1</td>\n",
       "    </tr>\n",
       "    <tr>\n",
       "      <th>29</th>\n",
       "      <td>2024-12-05</td>\n",
       "      <td>Targeted Sanction</td>\n",
       "      <td>1</td>\n",
       "    </tr>\n",
       "    <tr>\n",
       "      <th>30</th>\n",
       "      <td>2024-12-10</td>\n",
       "      <td>Obstruction of Foreign Business in China</td>\n",
       "      <td>1</td>\n",
       "    </tr>\n",
       "  </tbody>\n",
       "</table>\n",
       "</div>"
      ],
      "text/plain": [
       "   Start Date                       Form of Restriction  Title\n",
       "0  2000-10-19                                  Sanction      1\n",
       "1  2002-11-07                                  Sanction      1\n",
       "2  2003-04-01                                  Sanction      1\n",
       "3  2006-08-23                                  Sanction      1\n",
       "4  2020-01-01                            Export Control      1\n",
       "5  2021-03-22                         Targeted Sanction      1\n",
       "6  2021-03-27                         Targeted Sanction      1\n",
       "7  2022-08-01                         Targeted Sanction      1\n",
       "8  2022-08-03                            Export Control      1\n",
       "9  2022-08-03                        Import Restriction      1\n",
       "10 2022-08-05                         Targeted Sanction      1\n",
       "11 2023-02-01                         Targeted Sanction      1\n",
       "12 2023-03-31  Obstruction of Foreign Business in China      1\n",
       "13 2023-04-13                         Targeted Sanction      1\n",
       "14 2023-07-03                            Export Control      1\n",
       "15 2023-08-24                                   Boycott      1\n",
       "16 2023-08-24                        Import Restriction      1\n",
       "17 2023-08-31                         Targeted Sanction      1\n",
       "18 2023-10-20                            Export Control      1\n",
       "19 2024-05-22                         Targeted Sanction      1\n",
       "20 2024-06-17                                  Sanction      1\n",
       "21 2024-07-12                         Targeted Sanction      1\n",
       "22 2024-08-15                            Export Control      1\n",
       "23 2024-08-21                                  Sanction      1\n",
       "24 2024-09-04                                  Sanction      1\n",
       "25 2024-09-18                         Targeted Sanction      1\n",
       "26 2024-10-08                                  Sanction      1\n",
       "27 2024-10-10                         Targeted Sanction      1\n",
       "28 2024-12-03                            Export Control      1\n",
       "29 2024-12-05                         Targeted Sanction      1\n",
       "30 2024-12-10  Obstruction of Foreign Business in China      1"
      ]
     },
     "execution_count": 52,
     "metadata": {},
     "output_type": "execute_result"
    }
   ],
   "source": [
    "df_for = df.groupby(['Start Date', 'Form of Restriction']).count()['Title'].reset_index()\n",
    "df_for"
   ]
  },
  {
   "cell_type": "code",
   "execution_count": 62,
   "metadata": {},
   "outputs": [
    {
     "data": {
      "text/html": [
       "<div>\n",
       "<style scoped>\n",
       "    .dataframe tbody tr th:only-of-type {\n",
       "        vertical-align: middle;\n",
       "    }\n",
       "\n",
       "    .dataframe tbody tr th {\n",
       "        vertical-align: top;\n",
       "    }\n",
       "\n",
       "    .dataframe thead th {\n",
       "        text-align: right;\n",
       "    }\n",
       "</style>\n",
       "<table border=\"1\" class=\"dataframe\">\n",
       "  <thead>\n",
       "    <tr style=\"text-align: right;\">\n",
       "      <th></th>\n",
       "      <th>Year</th>\n",
       "      <th>Form of Restriction</th>\n",
       "      <th>Title</th>\n",
       "    </tr>\n",
       "  </thead>\n",
       "  <tbody>\n",
       "    <tr>\n",
       "      <th>0</th>\n",
       "      <td>2000</td>\n",
       "      <td>Sanction</td>\n",
       "      <td>1</td>\n",
       "    </tr>\n",
       "    <tr>\n",
       "      <th>1</th>\n",
       "      <td>2002</td>\n",
       "      <td>Sanction</td>\n",
       "      <td>1</td>\n",
       "    </tr>\n",
       "    <tr>\n",
       "      <th>2</th>\n",
       "      <td>2003</td>\n",
       "      <td>Sanction</td>\n",
       "      <td>1</td>\n",
       "    </tr>\n",
       "    <tr>\n",
       "      <th>3</th>\n",
       "      <td>2006</td>\n",
       "      <td>Sanction</td>\n",
       "      <td>1</td>\n",
       "    </tr>\n",
       "    <tr>\n",
       "      <th>4</th>\n",
       "      <td>2020</td>\n",
       "      <td>Export Control</td>\n",
       "      <td>1</td>\n",
       "    </tr>\n",
       "    <tr>\n",
       "      <th>5</th>\n",
       "      <td>2021</td>\n",
       "      <td>Targeted Sanction</td>\n",
       "      <td>2</td>\n",
       "    </tr>\n",
       "    <tr>\n",
       "      <th>6</th>\n",
       "      <td>2022</td>\n",
       "      <td>Export Control</td>\n",
       "      <td>1</td>\n",
       "    </tr>\n",
       "    <tr>\n",
       "      <th>7</th>\n",
       "      <td>2022</td>\n",
       "      <td>Import Restriction</td>\n",
       "      <td>1</td>\n",
       "    </tr>\n",
       "    <tr>\n",
       "      <th>8</th>\n",
       "      <td>2022</td>\n",
       "      <td>Targeted Sanction</td>\n",
       "      <td>2</td>\n",
       "    </tr>\n",
       "    <tr>\n",
       "      <th>9</th>\n",
       "      <td>2023</td>\n",
       "      <td>Boycott</td>\n",
       "      <td>1</td>\n",
       "    </tr>\n",
       "    <tr>\n",
       "      <th>10</th>\n",
       "      <td>2023</td>\n",
       "      <td>Export Control</td>\n",
       "      <td>2</td>\n",
       "    </tr>\n",
       "    <tr>\n",
       "      <th>11</th>\n",
       "      <td>2023</td>\n",
       "      <td>Import Restriction</td>\n",
       "      <td>1</td>\n",
       "    </tr>\n",
       "    <tr>\n",
       "      <th>12</th>\n",
       "      <td>2023</td>\n",
       "      <td>Obstruction of Foreign Business in China</td>\n",
       "      <td>1</td>\n",
       "    </tr>\n",
       "    <tr>\n",
       "      <th>13</th>\n",
       "      <td>2023</td>\n",
       "      <td>Targeted Sanction</td>\n",
       "      <td>3</td>\n",
       "    </tr>\n",
       "    <tr>\n",
       "      <th>14</th>\n",
       "      <td>2024</td>\n",
       "      <td>Export Control</td>\n",
       "      <td>2</td>\n",
       "    </tr>\n",
       "    <tr>\n",
       "      <th>15</th>\n",
       "      <td>2024</td>\n",
       "      <td>Obstruction of Foreign Business in China</td>\n",
       "      <td>1</td>\n",
       "    </tr>\n",
       "    <tr>\n",
       "      <th>16</th>\n",
       "      <td>2024</td>\n",
       "      <td>Sanction</td>\n",
       "      <td>4</td>\n",
       "    </tr>\n",
       "    <tr>\n",
       "      <th>17</th>\n",
       "      <td>2024</td>\n",
       "      <td>Targeted Sanction</td>\n",
       "      <td>5</td>\n",
       "    </tr>\n",
       "  </tbody>\n",
       "</table>\n",
       "</div>"
      ],
      "text/plain": [
       "    Year                       Form of Restriction  Title\n",
       "0   2000                                  Sanction      1\n",
       "1   2002                                  Sanction      1\n",
       "2   2003                                  Sanction      1\n",
       "3   2006                                  Sanction      1\n",
       "4   2020                            Export Control      1\n",
       "5   2021                         Targeted Sanction      2\n",
       "6   2022                            Export Control      1\n",
       "7   2022                        Import Restriction      1\n",
       "8   2022                         Targeted Sanction      2\n",
       "9   2023                                   Boycott      1\n",
       "10  2023                            Export Control      2\n",
       "11  2023                        Import Restriction      1\n",
       "12  2023  Obstruction of Foreign Business in China      1\n",
       "13  2023                         Targeted Sanction      3\n",
       "14  2024                            Export Control      2\n",
       "15  2024  Obstruction of Foreign Business in China      1\n",
       "16  2024                                  Sanction      4\n",
       "17  2024                         Targeted Sanction      5"
      ]
     },
     "execution_count": 62,
     "metadata": {},
     "output_type": "execute_result"
    }
   ],
   "source": [
    "df_for['Year'] = df_for['Start Date'].dt.year\n",
    "df_for = df_for.groupby(['Year', 'Form of Restriction']).count()['Title'].reset_index()\n",
    "df_for"
   ]
  },
  {
   "cell_type": "code",
   "execution_count": 64,
   "metadata": {},
   "outputs": [
    {
     "data": {
      "application/vnd.plotly.v1+json": {
       "config": {
        "plotlyServerURL": "https://plot.ly"
       },
       "data": [
        {
         "alignmentgroup": "True",
         "hovertemplate": "Form of Restriction=Sanction<br>Year=%{x}<br>Count=%{y}<extra></extra>",
         "legendgroup": "Sanction",
         "marker": {
          "color": "#636efa",
          "pattern": {
           "shape": ""
          }
         },
         "name": "Sanction",
         "offsetgroup": "Sanction",
         "orientation": "v",
         "showlegend": true,
         "textposition": "auto",
         "type": "bar",
         "x": [
          2000,
          2002,
          2003,
          2006,
          2024
         ],
         "xaxis": "x",
         "y": [
          1,
          1,
          1,
          1,
          4
         ],
         "yaxis": "y"
        },
        {
         "alignmentgroup": "True",
         "hovertemplate": "Form of Restriction=Export Control<br>Year=%{x}<br>Count=%{y}<extra></extra>",
         "legendgroup": "Export Control",
         "marker": {
          "color": "#EF553B",
          "pattern": {
           "shape": ""
          }
         },
         "name": "Export Control",
         "offsetgroup": "Export Control",
         "orientation": "v",
         "showlegend": true,
         "textposition": "auto",
         "type": "bar",
         "x": [
          2020,
          2022,
          2023,
          2024
         ],
         "xaxis": "x",
         "y": [
          1,
          1,
          2,
          2
         ],
         "yaxis": "y"
        },
        {
         "alignmentgroup": "True",
         "hovertemplate": "Form of Restriction=Targeted Sanction<br>Year=%{x}<br>Count=%{y}<extra></extra>",
         "legendgroup": "Targeted Sanction",
         "marker": {
          "color": "#00cc96",
          "pattern": {
           "shape": ""
          }
         },
         "name": "Targeted Sanction",
         "offsetgroup": "Targeted Sanction",
         "orientation": "v",
         "showlegend": true,
         "textposition": "auto",
         "type": "bar",
         "x": [
          2021,
          2022,
          2023,
          2024
         ],
         "xaxis": "x",
         "y": [
          2,
          2,
          3,
          5
         ],
         "yaxis": "y"
        },
        {
         "alignmentgroup": "True",
         "hovertemplate": "Form of Restriction=Import Restriction<br>Year=%{x}<br>Count=%{y}<extra></extra>",
         "legendgroup": "Import Restriction",
         "marker": {
          "color": "#ab63fa",
          "pattern": {
           "shape": ""
          }
         },
         "name": "Import Restriction",
         "offsetgroup": "Import Restriction",
         "orientation": "v",
         "showlegend": true,
         "textposition": "auto",
         "type": "bar",
         "x": [
          2022,
          2023
         ],
         "xaxis": "x",
         "y": [
          1,
          1
         ],
         "yaxis": "y"
        },
        {
         "alignmentgroup": "True",
         "hovertemplate": "Form of Restriction=Boycott<br>Year=%{x}<br>Count=%{y}<extra></extra>",
         "legendgroup": "Boycott",
         "marker": {
          "color": "#FFA15A",
          "pattern": {
           "shape": ""
          }
         },
         "name": "Boycott",
         "offsetgroup": "Boycott",
         "orientation": "v",
         "showlegend": true,
         "textposition": "auto",
         "type": "bar",
         "x": [
          2023
         ],
         "xaxis": "x",
         "y": [
          1
         ],
         "yaxis": "y"
        },
        {
         "alignmentgroup": "True",
         "hovertemplate": "Form of Restriction=Obstruction of Foreign Business in China<br>Year=%{x}<br>Count=%{y}<extra></extra>",
         "legendgroup": "Obstruction of Foreign Business in China",
         "marker": {
          "color": "#19d3f3",
          "pattern": {
           "shape": ""
          }
         },
         "name": "Obstruction of Foreign Business in China",
         "offsetgroup": "Obstruction of Foreign Business in China",
         "orientation": "v",
         "showlegend": true,
         "textposition": "auto",
         "type": "bar",
         "x": [
          2023,
          2024
         ],
         "xaxis": "x",
         "y": [
          1,
          1
         ],
         "yaxis": "y"
        }
       ],
       "layout": {
        "barmode": "relative",
        "legend": {
         "title": {
          "text": "Form of Restriction"
         },
         "tracegroupgap": 0
        },
        "template": {
         "data": {
          "bar": [
           {
            "error_x": {
             "color": "#2a3f5f"
            },
            "error_y": {
             "color": "#2a3f5f"
            },
            "marker": {
             "line": {
              "color": "#E5ECF6",
              "width": 0.5
             },
             "pattern": {
              "fillmode": "overlay",
              "size": 10,
              "solidity": 0.2
             }
            },
            "type": "bar"
           }
          ],
          "barpolar": [
           {
            "marker": {
             "line": {
              "color": "#E5ECF6",
              "width": 0.5
             },
             "pattern": {
              "fillmode": "overlay",
              "size": 10,
              "solidity": 0.2
             }
            },
            "type": "barpolar"
           }
          ],
          "carpet": [
           {
            "aaxis": {
             "endlinecolor": "#2a3f5f",
             "gridcolor": "white",
             "linecolor": "white",
             "minorgridcolor": "white",
             "startlinecolor": "#2a3f5f"
            },
            "baxis": {
             "endlinecolor": "#2a3f5f",
             "gridcolor": "white",
             "linecolor": "white",
             "minorgridcolor": "white",
             "startlinecolor": "#2a3f5f"
            },
            "type": "carpet"
           }
          ],
          "choropleth": [
           {
            "colorbar": {
             "outlinewidth": 0,
             "ticks": ""
            },
            "type": "choropleth"
           }
          ],
          "contour": [
           {
            "colorbar": {
             "outlinewidth": 0,
             "ticks": ""
            },
            "colorscale": [
             [
              0,
              "#0d0887"
             ],
             [
              0.1111111111111111,
              "#46039f"
             ],
             [
              0.2222222222222222,
              "#7201a8"
             ],
             [
              0.3333333333333333,
              "#9c179e"
             ],
             [
              0.4444444444444444,
              "#bd3786"
             ],
             [
              0.5555555555555556,
              "#d8576b"
             ],
             [
              0.6666666666666666,
              "#ed7953"
             ],
             [
              0.7777777777777778,
              "#fb9f3a"
             ],
             [
              0.8888888888888888,
              "#fdca26"
             ],
             [
              1,
              "#f0f921"
             ]
            ],
            "type": "contour"
           }
          ],
          "contourcarpet": [
           {
            "colorbar": {
             "outlinewidth": 0,
             "ticks": ""
            },
            "type": "contourcarpet"
           }
          ],
          "heatmap": [
           {
            "colorbar": {
             "outlinewidth": 0,
             "ticks": ""
            },
            "colorscale": [
             [
              0,
              "#0d0887"
             ],
             [
              0.1111111111111111,
              "#46039f"
             ],
             [
              0.2222222222222222,
              "#7201a8"
             ],
             [
              0.3333333333333333,
              "#9c179e"
             ],
             [
              0.4444444444444444,
              "#bd3786"
             ],
             [
              0.5555555555555556,
              "#d8576b"
             ],
             [
              0.6666666666666666,
              "#ed7953"
             ],
             [
              0.7777777777777778,
              "#fb9f3a"
             ],
             [
              0.8888888888888888,
              "#fdca26"
             ],
             [
              1,
              "#f0f921"
             ]
            ],
            "type": "heatmap"
           }
          ],
          "heatmapgl": [
           {
            "colorbar": {
             "outlinewidth": 0,
             "ticks": ""
            },
            "colorscale": [
             [
              0,
              "#0d0887"
             ],
             [
              0.1111111111111111,
              "#46039f"
             ],
             [
              0.2222222222222222,
              "#7201a8"
             ],
             [
              0.3333333333333333,
              "#9c179e"
             ],
             [
              0.4444444444444444,
              "#bd3786"
             ],
             [
              0.5555555555555556,
              "#d8576b"
             ],
             [
              0.6666666666666666,
              "#ed7953"
             ],
             [
              0.7777777777777778,
              "#fb9f3a"
             ],
             [
              0.8888888888888888,
              "#fdca26"
             ],
             [
              1,
              "#f0f921"
             ]
            ],
            "type": "heatmapgl"
           }
          ],
          "histogram": [
           {
            "marker": {
             "pattern": {
              "fillmode": "overlay",
              "size": 10,
              "solidity": 0.2
             }
            },
            "type": "histogram"
           }
          ],
          "histogram2d": [
           {
            "colorbar": {
             "outlinewidth": 0,
             "ticks": ""
            },
            "colorscale": [
             [
              0,
              "#0d0887"
             ],
             [
              0.1111111111111111,
              "#46039f"
             ],
             [
              0.2222222222222222,
              "#7201a8"
             ],
             [
              0.3333333333333333,
              "#9c179e"
             ],
             [
              0.4444444444444444,
              "#bd3786"
             ],
             [
              0.5555555555555556,
              "#d8576b"
             ],
             [
              0.6666666666666666,
              "#ed7953"
             ],
             [
              0.7777777777777778,
              "#fb9f3a"
             ],
             [
              0.8888888888888888,
              "#fdca26"
             ],
             [
              1,
              "#f0f921"
             ]
            ],
            "type": "histogram2d"
           }
          ],
          "histogram2dcontour": [
           {
            "colorbar": {
             "outlinewidth": 0,
             "ticks": ""
            },
            "colorscale": [
             [
              0,
              "#0d0887"
             ],
             [
              0.1111111111111111,
              "#46039f"
             ],
             [
              0.2222222222222222,
              "#7201a8"
             ],
             [
              0.3333333333333333,
              "#9c179e"
             ],
             [
              0.4444444444444444,
              "#bd3786"
             ],
             [
              0.5555555555555556,
              "#d8576b"
             ],
             [
              0.6666666666666666,
              "#ed7953"
             ],
             [
              0.7777777777777778,
              "#fb9f3a"
             ],
             [
              0.8888888888888888,
              "#fdca26"
             ],
             [
              1,
              "#f0f921"
             ]
            ],
            "type": "histogram2dcontour"
           }
          ],
          "mesh3d": [
           {
            "colorbar": {
             "outlinewidth": 0,
             "ticks": ""
            },
            "type": "mesh3d"
           }
          ],
          "parcoords": [
           {
            "line": {
             "colorbar": {
              "outlinewidth": 0,
              "ticks": ""
             }
            },
            "type": "parcoords"
           }
          ],
          "pie": [
           {
            "automargin": true,
            "type": "pie"
           }
          ],
          "scatter": [
           {
            "fillpattern": {
             "fillmode": "overlay",
             "size": 10,
             "solidity": 0.2
            },
            "type": "scatter"
           }
          ],
          "scatter3d": [
           {
            "line": {
             "colorbar": {
              "outlinewidth": 0,
              "ticks": ""
             }
            },
            "marker": {
             "colorbar": {
              "outlinewidth": 0,
              "ticks": ""
             }
            },
            "type": "scatter3d"
           }
          ],
          "scattercarpet": [
           {
            "marker": {
             "colorbar": {
              "outlinewidth": 0,
              "ticks": ""
             }
            },
            "type": "scattercarpet"
           }
          ],
          "scattergeo": [
           {
            "marker": {
             "colorbar": {
              "outlinewidth": 0,
              "ticks": ""
             }
            },
            "type": "scattergeo"
           }
          ],
          "scattergl": [
           {
            "marker": {
             "colorbar": {
              "outlinewidth": 0,
              "ticks": ""
             }
            },
            "type": "scattergl"
           }
          ],
          "scattermapbox": [
           {
            "marker": {
             "colorbar": {
              "outlinewidth": 0,
              "ticks": ""
             }
            },
            "type": "scattermapbox"
           }
          ],
          "scatterpolar": [
           {
            "marker": {
             "colorbar": {
              "outlinewidth": 0,
              "ticks": ""
             }
            },
            "type": "scatterpolar"
           }
          ],
          "scatterpolargl": [
           {
            "marker": {
             "colorbar": {
              "outlinewidth": 0,
              "ticks": ""
             }
            },
            "type": "scatterpolargl"
           }
          ],
          "scatterternary": [
           {
            "marker": {
             "colorbar": {
              "outlinewidth": 0,
              "ticks": ""
             }
            },
            "type": "scatterternary"
           }
          ],
          "surface": [
           {
            "colorbar": {
             "outlinewidth": 0,
             "ticks": ""
            },
            "colorscale": [
             [
              0,
              "#0d0887"
             ],
             [
              0.1111111111111111,
              "#46039f"
             ],
             [
              0.2222222222222222,
              "#7201a8"
             ],
             [
              0.3333333333333333,
              "#9c179e"
             ],
             [
              0.4444444444444444,
              "#bd3786"
             ],
             [
              0.5555555555555556,
              "#d8576b"
             ],
             [
              0.6666666666666666,
              "#ed7953"
             ],
             [
              0.7777777777777778,
              "#fb9f3a"
             ],
             [
              0.8888888888888888,
              "#fdca26"
             ],
             [
              1,
              "#f0f921"
             ]
            ],
            "type": "surface"
           }
          ],
          "table": [
           {
            "cells": {
             "fill": {
              "color": "#EBF0F8"
             },
             "line": {
              "color": "white"
             }
            },
            "header": {
             "fill": {
              "color": "#C8D4E3"
             },
             "line": {
              "color": "white"
             }
            },
            "type": "table"
           }
          ]
         },
         "layout": {
          "annotationdefaults": {
           "arrowcolor": "#2a3f5f",
           "arrowhead": 0,
           "arrowwidth": 1
          },
          "autotypenumbers": "strict",
          "coloraxis": {
           "colorbar": {
            "outlinewidth": 0,
            "ticks": ""
           }
          },
          "colorscale": {
           "diverging": [
            [
             0,
             "#8e0152"
            ],
            [
             0.1,
             "#c51b7d"
            ],
            [
             0.2,
             "#de77ae"
            ],
            [
             0.3,
             "#f1b6da"
            ],
            [
             0.4,
             "#fde0ef"
            ],
            [
             0.5,
             "#f7f7f7"
            ],
            [
             0.6,
             "#e6f5d0"
            ],
            [
             0.7,
             "#b8e186"
            ],
            [
             0.8,
             "#7fbc41"
            ],
            [
             0.9,
             "#4d9221"
            ],
            [
             1,
             "#276419"
            ]
           ],
           "sequential": [
            [
             0,
             "#0d0887"
            ],
            [
             0.1111111111111111,
             "#46039f"
            ],
            [
             0.2222222222222222,
             "#7201a8"
            ],
            [
             0.3333333333333333,
             "#9c179e"
            ],
            [
             0.4444444444444444,
             "#bd3786"
            ],
            [
             0.5555555555555556,
             "#d8576b"
            ],
            [
             0.6666666666666666,
             "#ed7953"
            ],
            [
             0.7777777777777778,
             "#fb9f3a"
            ],
            [
             0.8888888888888888,
             "#fdca26"
            ],
            [
             1,
             "#f0f921"
            ]
           ],
           "sequentialminus": [
            [
             0,
             "#0d0887"
            ],
            [
             0.1111111111111111,
             "#46039f"
            ],
            [
             0.2222222222222222,
             "#7201a8"
            ],
            [
             0.3333333333333333,
             "#9c179e"
            ],
            [
             0.4444444444444444,
             "#bd3786"
            ],
            [
             0.5555555555555556,
             "#d8576b"
            ],
            [
             0.6666666666666666,
             "#ed7953"
            ],
            [
             0.7777777777777778,
             "#fb9f3a"
            ],
            [
             0.8888888888888888,
             "#fdca26"
            ],
            [
             1,
             "#f0f921"
            ]
           ]
          },
          "colorway": [
           "#636efa",
           "#EF553B",
           "#00cc96",
           "#ab63fa",
           "#FFA15A",
           "#19d3f3",
           "#FF6692",
           "#B6E880",
           "#FF97FF",
           "#FECB52"
          ],
          "font": {
           "color": "#2a3f5f"
          },
          "geo": {
           "bgcolor": "white",
           "lakecolor": "white",
           "landcolor": "#E5ECF6",
           "showlakes": true,
           "showland": true,
           "subunitcolor": "white"
          },
          "hoverlabel": {
           "align": "left"
          },
          "hovermode": "closest",
          "mapbox": {
           "style": "light"
          },
          "paper_bgcolor": "white",
          "plot_bgcolor": "#E5ECF6",
          "polar": {
           "angularaxis": {
            "gridcolor": "white",
            "linecolor": "white",
            "ticks": ""
           },
           "bgcolor": "#E5ECF6",
           "radialaxis": {
            "gridcolor": "white",
            "linecolor": "white",
            "ticks": ""
           }
          },
          "scene": {
           "xaxis": {
            "backgroundcolor": "#E5ECF6",
            "gridcolor": "white",
            "gridwidth": 2,
            "linecolor": "white",
            "showbackground": true,
            "ticks": "",
            "zerolinecolor": "white"
           },
           "yaxis": {
            "backgroundcolor": "#E5ECF6",
            "gridcolor": "white",
            "gridwidth": 2,
            "linecolor": "white",
            "showbackground": true,
            "ticks": "",
            "zerolinecolor": "white"
           },
           "zaxis": {
            "backgroundcolor": "#E5ECF6",
            "gridcolor": "white",
            "gridwidth": 2,
            "linecolor": "white",
            "showbackground": true,
            "ticks": "",
            "zerolinecolor": "white"
           }
          },
          "shapedefaults": {
           "line": {
            "color": "#2a3f5f"
           }
          },
          "ternary": {
           "aaxis": {
            "gridcolor": "white",
            "linecolor": "white",
            "ticks": ""
           },
           "baxis": {
            "gridcolor": "white",
            "linecolor": "white",
            "ticks": ""
           },
           "bgcolor": "#E5ECF6",
           "caxis": {
            "gridcolor": "white",
            "linecolor": "white",
            "ticks": ""
           }
          },
          "title": {
           "x": 0.05
          },
          "xaxis": {
           "automargin": true,
           "gridcolor": "white",
           "linecolor": "white",
           "ticks": "",
           "title": {
            "standoff": 15
           },
           "zerolinecolor": "white",
           "zerolinewidth": 2
          },
          "yaxis": {
           "automargin": true,
           "gridcolor": "white",
           "linecolor": "white",
           "ticks": "",
           "title": {
            "standoff": 15
           },
           "zerolinecolor": "white",
           "zerolinewidth": 2
          }
         }
        },
        "title": {
         "text": "Form of Restriction over Time"
        },
        "xaxis": {
         "anchor": "y",
         "domain": [
          0,
          1
         ],
         "title": {
          "text": "Year"
         }
        },
        "yaxis": {
         "anchor": "x",
         "domain": [
          0,
          1
         ],
         "title": {
          "text": "Count"
         }
        }
       }
      }
     },
     "metadata": {},
     "output_type": "display_data"
    }
   ],
   "source": [
    "fig = px.bar(df_for, x=\"Year\", y=\"Title\", color=\"Form of Restriction\", title=\"Form of Restriction over Time\", labels={'Title': 'Count'})\n",
    "fig.show() # weird because time scale + little data - switched to year"
   ]
  },
  {
   "cell_type": "markdown",
   "metadata": {},
   "source": [
    "# Tab 2"
   ]
  },
  {
   "cell_type": "code",
   "execution_count": 66,
   "metadata": {},
   "outputs": [
    {
     "data": {
      "text/html": [
       "<div>\n",
       "<style scoped>\n",
       "    .dataframe tbody tr th:only-of-type {\n",
       "        vertical-align: middle;\n",
       "    }\n",
       "\n",
       "    .dataframe tbody tr th {\n",
       "        vertical-align: top;\n",
       "    }\n",
       "\n",
       "    .dataframe thead th {\n",
       "        text-align: right;\n",
       "    }\n",
       "</style>\n",
       "<table border=\"1\" class=\"dataframe\">\n",
       "  <thead>\n",
       "    <tr style=\"text-align: right;\">\n",
       "      <th></th>\n",
       "      <th>Year</th>\n",
       "      <th>Formaility</th>\n",
       "      <th>Title</th>\n",
       "    </tr>\n",
       "  </thead>\n",
       "  <tbody>\n",
       "    <tr>\n",
       "      <th>0</th>\n",
       "      <td>2000</td>\n",
       "      <td>Informal</td>\n",
       "      <td>1</td>\n",
       "    </tr>\n",
       "    <tr>\n",
       "      <th>1</th>\n",
       "      <td>2002</td>\n",
       "      <td>Informal</td>\n",
       "      <td>1</td>\n",
       "    </tr>\n",
       "    <tr>\n",
       "      <th>2</th>\n",
       "      <td>2003</td>\n",
       "      <td>Informal</td>\n",
       "      <td>1</td>\n",
       "    </tr>\n",
       "    <tr>\n",
       "      <th>3</th>\n",
       "      <td>2006</td>\n",
       "      <td>Informal</td>\n",
       "      <td>1</td>\n",
       "    </tr>\n",
       "    <tr>\n",
       "      <th>4</th>\n",
       "      <td>2020</td>\n",
       "      <td>Informal</td>\n",
       "      <td>1</td>\n",
       "    </tr>\n",
       "    <tr>\n",
       "      <th>5</th>\n",
       "      <td>2021</td>\n",
       "      <td>Formal</td>\n",
       "      <td>2</td>\n",
       "    </tr>\n",
       "    <tr>\n",
       "      <th>6</th>\n",
       "      <td>2022</td>\n",
       "      <td>Formal</td>\n",
       "      <td>2</td>\n",
       "    </tr>\n",
       "    <tr>\n",
       "      <th>7</th>\n",
       "      <td>2022</td>\n",
       "      <td>Informal</td>\n",
       "      <td>2</td>\n",
       "    </tr>\n",
       "    <tr>\n",
       "      <th>8</th>\n",
       "      <td>2023</td>\n",
       "      <td>Formal</td>\n",
       "      <td>6</td>\n",
       "    </tr>\n",
       "    <tr>\n",
       "      <th>9</th>\n",
       "      <td>2023</td>\n",
       "      <td>Informal</td>\n",
       "      <td>2</td>\n",
       "    </tr>\n",
       "    <tr>\n",
       "      <th>10</th>\n",
       "      <td>2024</td>\n",
       "      <td>Formal</td>\n",
       "      <td>7</td>\n",
       "    </tr>\n",
       "    <tr>\n",
       "      <th>11</th>\n",
       "      <td>2024</td>\n",
       "      <td>Informal</td>\n",
       "      <td>5</td>\n",
       "    </tr>\n",
       "  </tbody>\n",
       "</table>\n",
       "</div>"
      ],
      "text/plain": [
       "    Year Formaility  Title\n",
       "0   2000   Informal      1\n",
       "1   2002   Informal      1\n",
       "2   2003   Informal      1\n",
       "3   2006   Informal      1\n",
       "4   2020   Informal      1\n",
       "5   2021     Formal      2\n",
       "6   2022     Formal      2\n",
       "7   2022   Informal      2\n",
       "8   2023     Formal      6\n",
       "9   2023   Informal      2\n",
       "10  2024     Formal      7\n",
       "11  2024   Informal      5"
      ]
     },
     "execution_count": 66,
     "metadata": {},
     "output_type": "execute_result"
    }
   ],
   "source": [
    "df['Year'] = df['Start Date'].dt.year\n",
    "df['Formaility'] = df['Formality\\n0 - Informal \\n1 - Formal'].apply(lambda x: 'Informal' if x == 0 else 'Formal')\n",
    "df.groupby(['Year', 'Formaility']).count()['Title'].reset_index()"
   ]
  },
  {
   "cell_type": "code",
   "execution_count": 71,
   "metadata": {},
   "outputs": [
    {
     "data": {
      "application/vnd.plotly.v1+json": {
       "config": {
        "plotlyServerURL": "https://plot.ly"
       },
       "data": [
        {
         "hovertemplate": "Formaility=Informal<br>Year=%{x}<br>Count=%{y}<extra></extra>",
         "legendgroup": "Informal",
         "line": {
          "color": "#636efa",
          "dash": "solid"
         },
         "marker": {
          "symbol": "circle"
         },
         "mode": "lines",
         "name": "Informal",
         "orientation": "v",
         "showlegend": true,
         "type": "scatter",
         "x": [
          2000,
          2002,
          2003,
          2006,
          2020,
          2022,
          2023,
          2024
         ],
         "xaxis": "x",
         "y": [
          1,
          2,
          3,
          4,
          5,
          7,
          9,
          14
         ],
         "yaxis": "y"
        },
        {
         "hovertemplate": "Formaility=Formal<br>Year=%{x}<br>Count=%{y}<extra></extra>",
         "legendgroup": "Formal",
         "line": {
          "color": "#EF553B",
          "dash": "solid"
         },
         "marker": {
          "symbol": "circle"
         },
         "mode": "lines",
         "name": "Formal",
         "orientation": "v",
         "showlegend": true,
         "type": "scatter",
         "x": [
          2021,
          2022,
          2023,
          2024
         ],
         "xaxis": "x",
         "y": [
          2,
          4,
          10,
          17
         ],
         "yaxis": "y"
        }
       ],
       "layout": {
        "legend": {
         "title": {
          "text": "Formaility"
         },
         "tracegroupgap": 0
        },
        "template": {
         "data": {
          "bar": [
           {
            "error_x": {
             "color": "#2a3f5f"
            },
            "error_y": {
             "color": "#2a3f5f"
            },
            "marker": {
             "line": {
              "color": "#E5ECF6",
              "width": 0.5
             },
             "pattern": {
              "fillmode": "overlay",
              "size": 10,
              "solidity": 0.2
             }
            },
            "type": "bar"
           }
          ],
          "barpolar": [
           {
            "marker": {
             "line": {
              "color": "#E5ECF6",
              "width": 0.5
             },
             "pattern": {
              "fillmode": "overlay",
              "size": 10,
              "solidity": 0.2
             }
            },
            "type": "barpolar"
           }
          ],
          "carpet": [
           {
            "aaxis": {
             "endlinecolor": "#2a3f5f",
             "gridcolor": "white",
             "linecolor": "white",
             "minorgridcolor": "white",
             "startlinecolor": "#2a3f5f"
            },
            "baxis": {
             "endlinecolor": "#2a3f5f",
             "gridcolor": "white",
             "linecolor": "white",
             "minorgridcolor": "white",
             "startlinecolor": "#2a3f5f"
            },
            "type": "carpet"
           }
          ],
          "choropleth": [
           {
            "colorbar": {
             "outlinewidth": 0,
             "ticks": ""
            },
            "type": "choropleth"
           }
          ],
          "contour": [
           {
            "colorbar": {
             "outlinewidth": 0,
             "ticks": ""
            },
            "colorscale": [
             [
              0,
              "#0d0887"
             ],
             [
              0.1111111111111111,
              "#46039f"
             ],
             [
              0.2222222222222222,
              "#7201a8"
             ],
             [
              0.3333333333333333,
              "#9c179e"
             ],
             [
              0.4444444444444444,
              "#bd3786"
             ],
             [
              0.5555555555555556,
              "#d8576b"
             ],
             [
              0.6666666666666666,
              "#ed7953"
             ],
             [
              0.7777777777777778,
              "#fb9f3a"
             ],
             [
              0.8888888888888888,
              "#fdca26"
             ],
             [
              1,
              "#f0f921"
             ]
            ],
            "type": "contour"
           }
          ],
          "contourcarpet": [
           {
            "colorbar": {
             "outlinewidth": 0,
             "ticks": ""
            },
            "type": "contourcarpet"
           }
          ],
          "heatmap": [
           {
            "colorbar": {
             "outlinewidth": 0,
             "ticks": ""
            },
            "colorscale": [
             [
              0,
              "#0d0887"
             ],
             [
              0.1111111111111111,
              "#46039f"
             ],
             [
              0.2222222222222222,
              "#7201a8"
             ],
             [
              0.3333333333333333,
              "#9c179e"
             ],
             [
              0.4444444444444444,
              "#bd3786"
             ],
             [
              0.5555555555555556,
              "#d8576b"
             ],
             [
              0.6666666666666666,
              "#ed7953"
             ],
             [
              0.7777777777777778,
              "#fb9f3a"
             ],
             [
              0.8888888888888888,
              "#fdca26"
             ],
             [
              1,
              "#f0f921"
             ]
            ],
            "type": "heatmap"
           }
          ],
          "heatmapgl": [
           {
            "colorbar": {
             "outlinewidth": 0,
             "ticks": ""
            },
            "colorscale": [
             [
              0,
              "#0d0887"
             ],
             [
              0.1111111111111111,
              "#46039f"
             ],
             [
              0.2222222222222222,
              "#7201a8"
             ],
             [
              0.3333333333333333,
              "#9c179e"
             ],
             [
              0.4444444444444444,
              "#bd3786"
             ],
             [
              0.5555555555555556,
              "#d8576b"
             ],
             [
              0.6666666666666666,
              "#ed7953"
             ],
             [
              0.7777777777777778,
              "#fb9f3a"
             ],
             [
              0.8888888888888888,
              "#fdca26"
             ],
             [
              1,
              "#f0f921"
             ]
            ],
            "type": "heatmapgl"
           }
          ],
          "histogram": [
           {
            "marker": {
             "pattern": {
              "fillmode": "overlay",
              "size": 10,
              "solidity": 0.2
             }
            },
            "type": "histogram"
           }
          ],
          "histogram2d": [
           {
            "colorbar": {
             "outlinewidth": 0,
             "ticks": ""
            },
            "colorscale": [
             [
              0,
              "#0d0887"
             ],
             [
              0.1111111111111111,
              "#46039f"
             ],
             [
              0.2222222222222222,
              "#7201a8"
             ],
             [
              0.3333333333333333,
              "#9c179e"
             ],
             [
              0.4444444444444444,
              "#bd3786"
             ],
             [
              0.5555555555555556,
              "#d8576b"
             ],
             [
              0.6666666666666666,
              "#ed7953"
             ],
             [
              0.7777777777777778,
              "#fb9f3a"
             ],
             [
              0.8888888888888888,
              "#fdca26"
             ],
             [
              1,
              "#f0f921"
             ]
            ],
            "type": "histogram2d"
           }
          ],
          "histogram2dcontour": [
           {
            "colorbar": {
             "outlinewidth": 0,
             "ticks": ""
            },
            "colorscale": [
             [
              0,
              "#0d0887"
             ],
             [
              0.1111111111111111,
              "#46039f"
             ],
             [
              0.2222222222222222,
              "#7201a8"
             ],
             [
              0.3333333333333333,
              "#9c179e"
             ],
             [
              0.4444444444444444,
              "#bd3786"
             ],
             [
              0.5555555555555556,
              "#d8576b"
             ],
             [
              0.6666666666666666,
              "#ed7953"
             ],
             [
              0.7777777777777778,
              "#fb9f3a"
             ],
             [
              0.8888888888888888,
              "#fdca26"
             ],
             [
              1,
              "#f0f921"
             ]
            ],
            "type": "histogram2dcontour"
           }
          ],
          "mesh3d": [
           {
            "colorbar": {
             "outlinewidth": 0,
             "ticks": ""
            },
            "type": "mesh3d"
           }
          ],
          "parcoords": [
           {
            "line": {
             "colorbar": {
              "outlinewidth": 0,
              "ticks": ""
             }
            },
            "type": "parcoords"
           }
          ],
          "pie": [
           {
            "automargin": true,
            "type": "pie"
           }
          ],
          "scatter": [
           {
            "fillpattern": {
             "fillmode": "overlay",
             "size": 10,
             "solidity": 0.2
            },
            "type": "scatter"
           }
          ],
          "scatter3d": [
           {
            "line": {
             "colorbar": {
              "outlinewidth": 0,
              "ticks": ""
             }
            },
            "marker": {
             "colorbar": {
              "outlinewidth": 0,
              "ticks": ""
             }
            },
            "type": "scatter3d"
           }
          ],
          "scattercarpet": [
           {
            "marker": {
             "colorbar": {
              "outlinewidth": 0,
              "ticks": ""
             }
            },
            "type": "scattercarpet"
           }
          ],
          "scattergeo": [
           {
            "marker": {
             "colorbar": {
              "outlinewidth": 0,
              "ticks": ""
             }
            },
            "type": "scattergeo"
           }
          ],
          "scattergl": [
           {
            "marker": {
             "colorbar": {
              "outlinewidth": 0,
              "ticks": ""
             }
            },
            "type": "scattergl"
           }
          ],
          "scattermapbox": [
           {
            "marker": {
             "colorbar": {
              "outlinewidth": 0,
              "ticks": ""
             }
            },
            "type": "scattermapbox"
           }
          ],
          "scatterpolar": [
           {
            "marker": {
             "colorbar": {
              "outlinewidth": 0,
              "ticks": ""
             }
            },
            "type": "scatterpolar"
           }
          ],
          "scatterpolargl": [
           {
            "marker": {
             "colorbar": {
              "outlinewidth": 0,
              "ticks": ""
             }
            },
            "type": "scatterpolargl"
           }
          ],
          "scatterternary": [
           {
            "marker": {
             "colorbar": {
              "outlinewidth": 0,
              "ticks": ""
             }
            },
            "type": "scatterternary"
           }
          ],
          "surface": [
           {
            "colorbar": {
             "outlinewidth": 0,
             "ticks": ""
            },
            "colorscale": [
             [
              0,
              "#0d0887"
             ],
             [
              0.1111111111111111,
              "#46039f"
             ],
             [
              0.2222222222222222,
              "#7201a8"
             ],
             [
              0.3333333333333333,
              "#9c179e"
             ],
             [
              0.4444444444444444,
              "#bd3786"
             ],
             [
              0.5555555555555556,
              "#d8576b"
             ],
             [
              0.6666666666666666,
              "#ed7953"
             ],
             [
              0.7777777777777778,
              "#fb9f3a"
             ],
             [
              0.8888888888888888,
              "#fdca26"
             ],
             [
              1,
              "#f0f921"
             ]
            ],
            "type": "surface"
           }
          ],
          "table": [
           {
            "cells": {
             "fill": {
              "color": "#EBF0F8"
             },
             "line": {
              "color": "white"
             }
            },
            "header": {
             "fill": {
              "color": "#C8D4E3"
             },
             "line": {
              "color": "white"
             }
            },
            "type": "table"
           }
          ]
         },
         "layout": {
          "annotationdefaults": {
           "arrowcolor": "#2a3f5f",
           "arrowhead": 0,
           "arrowwidth": 1
          },
          "autotypenumbers": "strict",
          "coloraxis": {
           "colorbar": {
            "outlinewidth": 0,
            "ticks": ""
           }
          },
          "colorscale": {
           "diverging": [
            [
             0,
             "#8e0152"
            ],
            [
             0.1,
             "#c51b7d"
            ],
            [
             0.2,
             "#de77ae"
            ],
            [
             0.3,
             "#f1b6da"
            ],
            [
             0.4,
             "#fde0ef"
            ],
            [
             0.5,
             "#f7f7f7"
            ],
            [
             0.6,
             "#e6f5d0"
            ],
            [
             0.7,
             "#b8e186"
            ],
            [
             0.8,
             "#7fbc41"
            ],
            [
             0.9,
             "#4d9221"
            ],
            [
             1,
             "#276419"
            ]
           ],
           "sequential": [
            [
             0,
             "#0d0887"
            ],
            [
             0.1111111111111111,
             "#46039f"
            ],
            [
             0.2222222222222222,
             "#7201a8"
            ],
            [
             0.3333333333333333,
             "#9c179e"
            ],
            [
             0.4444444444444444,
             "#bd3786"
            ],
            [
             0.5555555555555556,
             "#d8576b"
            ],
            [
             0.6666666666666666,
             "#ed7953"
            ],
            [
             0.7777777777777778,
             "#fb9f3a"
            ],
            [
             0.8888888888888888,
             "#fdca26"
            ],
            [
             1,
             "#f0f921"
            ]
           ],
           "sequentialminus": [
            [
             0,
             "#0d0887"
            ],
            [
             0.1111111111111111,
             "#46039f"
            ],
            [
             0.2222222222222222,
             "#7201a8"
            ],
            [
             0.3333333333333333,
             "#9c179e"
            ],
            [
             0.4444444444444444,
             "#bd3786"
            ],
            [
             0.5555555555555556,
             "#d8576b"
            ],
            [
             0.6666666666666666,
             "#ed7953"
            ],
            [
             0.7777777777777778,
             "#fb9f3a"
            ],
            [
             0.8888888888888888,
             "#fdca26"
            ],
            [
             1,
             "#f0f921"
            ]
           ]
          },
          "colorway": [
           "#636efa",
           "#EF553B",
           "#00cc96",
           "#ab63fa",
           "#FFA15A",
           "#19d3f3",
           "#FF6692",
           "#B6E880",
           "#FF97FF",
           "#FECB52"
          ],
          "font": {
           "color": "#2a3f5f"
          },
          "geo": {
           "bgcolor": "white",
           "lakecolor": "white",
           "landcolor": "#E5ECF6",
           "showlakes": true,
           "showland": true,
           "subunitcolor": "white"
          },
          "hoverlabel": {
           "align": "left"
          },
          "hovermode": "closest",
          "mapbox": {
           "style": "light"
          },
          "paper_bgcolor": "white",
          "plot_bgcolor": "#E5ECF6",
          "polar": {
           "angularaxis": {
            "gridcolor": "white",
            "linecolor": "white",
            "ticks": ""
           },
           "bgcolor": "#E5ECF6",
           "radialaxis": {
            "gridcolor": "white",
            "linecolor": "white",
            "ticks": ""
           }
          },
          "scene": {
           "xaxis": {
            "backgroundcolor": "#E5ECF6",
            "gridcolor": "white",
            "gridwidth": 2,
            "linecolor": "white",
            "showbackground": true,
            "ticks": "",
            "zerolinecolor": "white"
           },
           "yaxis": {
            "backgroundcolor": "#E5ECF6",
            "gridcolor": "white",
            "gridwidth": 2,
            "linecolor": "white",
            "showbackground": true,
            "ticks": "",
            "zerolinecolor": "white"
           },
           "zaxis": {
            "backgroundcolor": "#E5ECF6",
            "gridcolor": "white",
            "gridwidth": 2,
            "linecolor": "white",
            "showbackground": true,
            "ticks": "",
            "zerolinecolor": "white"
           }
          },
          "shapedefaults": {
           "line": {
            "color": "#2a3f5f"
           }
          },
          "ternary": {
           "aaxis": {
            "gridcolor": "white",
            "linecolor": "white",
            "ticks": ""
           },
           "baxis": {
            "gridcolor": "white",
            "linecolor": "white",
            "ticks": ""
           },
           "bgcolor": "#E5ECF6",
           "caxis": {
            "gridcolor": "white",
            "linecolor": "white",
            "ticks": ""
           }
          },
          "title": {
           "x": 0.05
          },
          "xaxis": {
           "automargin": true,
           "gridcolor": "white",
           "linecolor": "white",
           "ticks": "",
           "title": {
            "standoff": 15
           },
           "zerolinecolor": "white",
           "zerolinewidth": 2
          },
          "yaxis": {
           "automargin": true,
           "gridcolor": "white",
           "linecolor": "white",
           "ticks": "",
           "title": {
            "standoff": 15
           },
           "zerolinecolor": "white",
           "zerolinewidth": 2
          }
         }
        },
        "title": {
         "text": "Formality over Time"
        },
        "xaxis": {
         "anchor": "y",
         "domain": [
          0,
          1
         ],
         "title": {
          "text": "Year"
         }
        },
        "yaxis": {
         "anchor": "x",
         "domain": [
          0,
          1
         ],
         "title": {
          "text": "Count"
         }
        }
       }
      }
     },
     "metadata": {},
     "output_type": "display_data"
    }
   ],
   "source": [
    "df_formality = df.groupby(['Year', 'Formaility']).count()['Title'].reset_index()\n",
    "df_formality['Title'] = df_formality.groupby('Formaility')['Title'].cumsum()\n",
    "\n",
    "fig = px.line(df_formality, x=\"Year\", y=\"Title\", color=\"Formaility\", title=\"Formality over Time\", labels={'Title': 'Count'})\n",
    "fig.show()"
   ]
  },
  {
   "cell_type": "code",
   "execution_count": 97,
   "metadata": {},
   "outputs": [
    {
     "data": {
      "text/plain": [
       "0     2000\n",
       "1     2002\n",
       "2     2003\n",
       "3     2006\n",
       "4     2020\n",
       "5     2021\n",
       "6     2022\n",
       "7     2022\n",
       "8     2023\n",
       "9     2023\n",
       "10    2024\n",
       "11    2024\n",
       "Name: Year, dtype: int32"
      ]
     },
     "execution_count": 97,
     "metadata": {},
     "output_type": "execute_result"
    }
   ],
   "source": [
    "df_formality.Year"
   ]
  },
  {
   "cell_type": "markdown",
   "metadata": {},
   "source": [
    "# Tab 3"
   ]
  },
  {
   "cell_type": "code",
   "execution_count": null,
   "metadata": {},
   "outputs": [
    {
     "name": "stderr",
     "output_type": "stream",
     "text": [
      "/var/folders/l_/b5wczsf55z9dmf_dzr3vw6ph0000gr/T/ipykernel_41398/615155125.py:2: SettingWithCopyWarning:\n",
      "\n",
      "\n",
      "A value is trying to be set on a copy of a slice from a DataFrame.\n",
      "Try using .loc[row_indexer,col_indexer] = value instead\n",
      "\n",
      "See the caveats in the documentation: https://pandas.pydata.org/pandas-docs/stable/user_guide/indexing.html#returning-a-view-versus-a-copy\n",
      "\n"
     ]
    }
   ],
   "source": [
    "df_ind = df[~df['Targeted Individuals'].isnull()]\n",
    "df_ind['Targeted Individuals'] = df_ind['Targeted Individuals'].str.split('; ')\n",
    "df_ind = df_ind.explode('Targeted Individuals')"
   ]
  },
  {
   "cell_type": "code",
   "execution_count": null,
   "metadata": {},
   "outputs": [
    {
     "data": {
      "application/vnd.plotly.v1+json": {
       "config": {
        "plotlyServerURL": "https://plot.ly"
       },
       "data": [
        {
         "hovertemplate": "Year=%{x}<br>Count=%{y}<extra></extra>",
         "legendgroup": "",
         "line": {
          "color": "#636efa",
          "dash": "solid"
         },
         "marker": {
          "symbol": "circle"
         },
         "mode": "lines",
         "name": "",
         "orientation": "v",
         "showlegend": false,
         "type": "scatter",
         "x": [
          2021,
          2021,
          2021,
          2021,
          2021,
          2021,
          2021,
          2021,
          2021,
          2021,
          2021,
          2021,
          2021,
          2022,
          2022,
          2022,
          2022,
          2022,
          2022,
          2022,
          2022,
          2023,
          2023,
          2024,
          2024,
          2024,
          2024,
          2024,
          2024,
          2024,
          2024,
          2024,
          2024,
          2024,
          2024,
          2024,
          2024,
          2024,
          2024,
          2024,
          2024,
          2024,
          2024,
          2024,
          2024,
          2024,
          2024,
          2024,
          2024,
          2024,
          2024,
          2024,
          2024,
          2024
         ],
         "xaxis": "x",
         "y": [
          1,
          2,
          3,
          4,
          5,
          6,
          7,
          8,
          9,
          10,
          11,
          12,
          13,
          14,
          15,
          16,
          17,
          18,
          19,
          20,
          21,
          22,
          23,
          24,
          25,
          26,
          27,
          28,
          29,
          30,
          31,
          32,
          33,
          34,
          35,
          36,
          37,
          38,
          39,
          40,
          41,
          42,
          43,
          44,
          45,
          46,
          47,
          48,
          49,
          50,
          51,
          52,
          53,
          54
         ],
         "yaxis": "y"
        }
       ],
       "layout": {
        "legend": {
         "tracegroupgap": 0
        },
        "template": {
         "data": {
          "bar": [
           {
            "error_x": {
             "color": "#2a3f5f"
            },
            "error_y": {
             "color": "#2a3f5f"
            },
            "marker": {
             "line": {
              "color": "#E5ECF6",
              "width": 0.5
             },
             "pattern": {
              "fillmode": "overlay",
              "size": 10,
              "solidity": 0.2
             }
            },
            "type": "bar"
           }
          ],
          "barpolar": [
           {
            "marker": {
             "line": {
              "color": "#E5ECF6",
              "width": 0.5
             },
             "pattern": {
              "fillmode": "overlay",
              "size": 10,
              "solidity": 0.2
             }
            },
            "type": "barpolar"
           }
          ],
          "carpet": [
           {
            "aaxis": {
             "endlinecolor": "#2a3f5f",
             "gridcolor": "white",
             "linecolor": "white",
             "minorgridcolor": "white",
             "startlinecolor": "#2a3f5f"
            },
            "baxis": {
             "endlinecolor": "#2a3f5f",
             "gridcolor": "white",
             "linecolor": "white",
             "minorgridcolor": "white",
             "startlinecolor": "#2a3f5f"
            },
            "type": "carpet"
           }
          ],
          "choropleth": [
           {
            "colorbar": {
             "outlinewidth": 0,
             "ticks": ""
            },
            "type": "choropleth"
           }
          ],
          "contour": [
           {
            "colorbar": {
             "outlinewidth": 0,
             "ticks": ""
            },
            "colorscale": [
             [
              0,
              "#0d0887"
             ],
             [
              0.1111111111111111,
              "#46039f"
             ],
             [
              0.2222222222222222,
              "#7201a8"
             ],
             [
              0.3333333333333333,
              "#9c179e"
             ],
             [
              0.4444444444444444,
              "#bd3786"
             ],
             [
              0.5555555555555556,
              "#d8576b"
             ],
             [
              0.6666666666666666,
              "#ed7953"
             ],
             [
              0.7777777777777778,
              "#fb9f3a"
             ],
             [
              0.8888888888888888,
              "#fdca26"
             ],
             [
              1,
              "#f0f921"
             ]
            ],
            "type": "contour"
           }
          ],
          "contourcarpet": [
           {
            "colorbar": {
             "outlinewidth": 0,
             "ticks": ""
            },
            "type": "contourcarpet"
           }
          ],
          "heatmap": [
           {
            "colorbar": {
             "outlinewidth": 0,
             "ticks": ""
            },
            "colorscale": [
             [
              0,
              "#0d0887"
             ],
             [
              0.1111111111111111,
              "#46039f"
             ],
             [
              0.2222222222222222,
              "#7201a8"
             ],
             [
              0.3333333333333333,
              "#9c179e"
             ],
             [
              0.4444444444444444,
              "#bd3786"
             ],
             [
              0.5555555555555556,
              "#d8576b"
             ],
             [
              0.6666666666666666,
              "#ed7953"
             ],
             [
              0.7777777777777778,
              "#fb9f3a"
             ],
             [
              0.8888888888888888,
              "#fdca26"
             ],
             [
              1,
              "#f0f921"
             ]
            ],
            "type": "heatmap"
           }
          ],
          "heatmapgl": [
           {
            "colorbar": {
             "outlinewidth": 0,
             "ticks": ""
            },
            "colorscale": [
             [
              0,
              "#0d0887"
             ],
             [
              0.1111111111111111,
              "#46039f"
             ],
             [
              0.2222222222222222,
              "#7201a8"
             ],
             [
              0.3333333333333333,
              "#9c179e"
             ],
             [
              0.4444444444444444,
              "#bd3786"
             ],
             [
              0.5555555555555556,
              "#d8576b"
             ],
             [
              0.6666666666666666,
              "#ed7953"
             ],
             [
              0.7777777777777778,
              "#fb9f3a"
             ],
             [
              0.8888888888888888,
              "#fdca26"
             ],
             [
              1,
              "#f0f921"
             ]
            ],
            "type": "heatmapgl"
           }
          ],
          "histogram": [
           {
            "marker": {
             "pattern": {
              "fillmode": "overlay",
              "size": 10,
              "solidity": 0.2
             }
            },
            "type": "histogram"
           }
          ],
          "histogram2d": [
           {
            "colorbar": {
             "outlinewidth": 0,
             "ticks": ""
            },
            "colorscale": [
             [
              0,
              "#0d0887"
             ],
             [
              0.1111111111111111,
              "#46039f"
             ],
             [
              0.2222222222222222,
              "#7201a8"
             ],
             [
              0.3333333333333333,
              "#9c179e"
             ],
             [
              0.4444444444444444,
              "#bd3786"
             ],
             [
              0.5555555555555556,
              "#d8576b"
             ],
             [
              0.6666666666666666,
              "#ed7953"
             ],
             [
              0.7777777777777778,
              "#fb9f3a"
             ],
             [
              0.8888888888888888,
              "#fdca26"
             ],
             [
              1,
              "#f0f921"
             ]
            ],
            "type": "histogram2d"
           }
          ],
          "histogram2dcontour": [
           {
            "colorbar": {
             "outlinewidth": 0,
             "ticks": ""
            },
            "colorscale": [
             [
              0,
              "#0d0887"
             ],
             [
              0.1111111111111111,
              "#46039f"
             ],
             [
              0.2222222222222222,
              "#7201a8"
             ],
             [
              0.3333333333333333,
              "#9c179e"
             ],
             [
              0.4444444444444444,
              "#bd3786"
             ],
             [
              0.5555555555555556,
              "#d8576b"
             ],
             [
              0.6666666666666666,
              "#ed7953"
             ],
             [
              0.7777777777777778,
              "#fb9f3a"
             ],
             [
              0.8888888888888888,
              "#fdca26"
             ],
             [
              1,
              "#f0f921"
             ]
            ],
            "type": "histogram2dcontour"
           }
          ],
          "mesh3d": [
           {
            "colorbar": {
             "outlinewidth": 0,
             "ticks": ""
            },
            "type": "mesh3d"
           }
          ],
          "parcoords": [
           {
            "line": {
             "colorbar": {
              "outlinewidth": 0,
              "ticks": ""
             }
            },
            "type": "parcoords"
           }
          ],
          "pie": [
           {
            "automargin": true,
            "type": "pie"
           }
          ],
          "scatter": [
           {
            "fillpattern": {
             "fillmode": "overlay",
             "size": 10,
             "solidity": 0.2
            },
            "type": "scatter"
           }
          ],
          "scatter3d": [
           {
            "line": {
             "colorbar": {
              "outlinewidth": 0,
              "ticks": ""
             }
            },
            "marker": {
             "colorbar": {
              "outlinewidth": 0,
              "ticks": ""
             }
            },
            "type": "scatter3d"
           }
          ],
          "scattercarpet": [
           {
            "marker": {
             "colorbar": {
              "outlinewidth": 0,
              "ticks": ""
             }
            },
            "type": "scattercarpet"
           }
          ],
          "scattergeo": [
           {
            "marker": {
             "colorbar": {
              "outlinewidth": 0,
              "ticks": ""
             }
            },
            "type": "scattergeo"
           }
          ],
          "scattergl": [
           {
            "marker": {
             "colorbar": {
              "outlinewidth": 0,
              "ticks": ""
             }
            },
            "type": "scattergl"
           }
          ],
          "scattermapbox": [
           {
            "marker": {
             "colorbar": {
              "outlinewidth": 0,
              "ticks": ""
             }
            },
            "type": "scattermapbox"
           }
          ],
          "scatterpolar": [
           {
            "marker": {
             "colorbar": {
              "outlinewidth": 0,
              "ticks": ""
             }
            },
            "type": "scatterpolar"
           }
          ],
          "scatterpolargl": [
           {
            "marker": {
             "colorbar": {
              "outlinewidth": 0,
              "ticks": ""
             }
            },
            "type": "scatterpolargl"
           }
          ],
          "scatterternary": [
           {
            "marker": {
             "colorbar": {
              "outlinewidth": 0,
              "ticks": ""
             }
            },
            "type": "scatterternary"
           }
          ],
          "surface": [
           {
            "colorbar": {
             "outlinewidth": 0,
             "ticks": ""
            },
            "colorscale": [
             [
              0,
              "#0d0887"
             ],
             [
              0.1111111111111111,
              "#46039f"
             ],
             [
              0.2222222222222222,
              "#7201a8"
             ],
             [
              0.3333333333333333,
              "#9c179e"
             ],
             [
              0.4444444444444444,
              "#bd3786"
             ],
             [
              0.5555555555555556,
              "#d8576b"
             ],
             [
              0.6666666666666666,
              "#ed7953"
             ],
             [
              0.7777777777777778,
              "#fb9f3a"
             ],
             [
              0.8888888888888888,
              "#fdca26"
             ],
             [
              1,
              "#f0f921"
             ]
            ],
            "type": "surface"
           }
          ],
          "table": [
           {
            "cells": {
             "fill": {
              "color": "#EBF0F8"
             },
             "line": {
              "color": "white"
             }
            },
            "header": {
             "fill": {
              "color": "#C8D4E3"
             },
             "line": {
              "color": "white"
             }
            },
            "type": "table"
           }
          ]
         },
         "layout": {
          "annotationdefaults": {
           "arrowcolor": "#2a3f5f",
           "arrowhead": 0,
           "arrowwidth": 1
          },
          "autotypenumbers": "strict",
          "coloraxis": {
           "colorbar": {
            "outlinewidth": 0,
            "ticks": ""
           }
          },
          "colorscale": {
           "diverging": [
            [
             0,
             "#8e0152"
            ],
            [
             0.1,
             "#c51b7d"
            ],
            [
             0.2,
             "#de77ae"
            ],
            [
             0.3,
             "#f1b6da"
            ],
            [
             0.4,
             "#fde0ef"
            ],
            [
             0.5,
             "#f7f7f7"
            ],
            [
             0.6,
             "#e6f5d0"
            ],
            [
             0.7,
             "#b8e186"
            ],
            [
             0.8,
             "#7fbc41"
            ],
            [
             0.9,
             "#4d9221"
            ],
            [
             1,
             "#276419"
            ]
           ],
           "sequential": [
            [
             0,
             "#0d0887"
            ],
            [
             0.1111111111111111,
             "#46039f"
            ],
            [
             0.2222222222222222,
             "#7201a8"
            ],
            [
             0.3333333333333333,
             "#9c179e"
            ],
            [
             0.4444444444444444,
             "#bd3786"
            ],
            [
             0.5555555555555556,
             "#d8576b"
            ],
            [
             0.6666666666666666,
             "#ed7953"
            ],
            [
             0.7777777777777778,
             "#fb9f3a"
            ],
            [
             0.8888888888888888,
             "#fdca26"
            ],
            [
             1,
             "#f0f921"
            ]
           ],
           "sequentialminus": [
            [
             0,
             "#0d0887"
            ],
            [
             0.1111111111111111,
             "#46039f"
            ],
            [
             0.2222222222222222,
             "#7201a8"
            ],
            [
             0.3333333333333333,
             "#9c179e"
            ],
            [
             0.4444444444444444,
             "#bd3786"
            ],
            [
             0.5555555555555556,
             "#d8576b"
            ],
            [
             0.6666666666666666,
             "#ed7953"
            ],
            [
             0.7777777777777778,
             "#fb9f3a"
            ],
            [
             0.8888888888888888,
             "#fdca26"
            ],
            [
             1,
             "#f0f921"
            ]
           ]
          },
          "colorway": [
           "#636efa",
           "#EF553B",
           "#00cc96",
           "#ab63fa",
           "#FFA15A",
           "#19d3f3",
           "#FF6692",
           "#B6E880",
           "#FF97FF",
           "#FECB52"
          ],
          "font": {
           "color": "#2a3f5f"
          },
          "geo": {
           "bgcolor": "white",
           "lakecolor": "white",
           "landcolor": "#E5ECF6",
           "showlakes": true,
           "showland": true,
           "subunitcolor": "white"
          },
          "hoverlabel": {
           "align": "left"
          },
          "hovermode": "closest",
          "mapbox": {
           "style": "light"
          },
          "paper_bgcolor": "white",
          "plot_bgcolor": "#E5ECF6",
          "polar": {
           "angularaxis": {
            "gridcolor": "white",
            "linecolor": "white",
            "ticks": ""
           },
           "bgcolor": "#E5ECF6",
           "radialaxis": {
            "gridcolor": "white",
            "linecolor": "white",
            "ticks": ""
           }
          },
          "scene": {
           "xaxis": {
            "backgroundcolor": "#E5ECF6",
            "gridcolor": "white",
            "gridwidth": 2,
            "linecolor": "white",
            "showbackground": true,
            "ticks": "",
            "zerolinecolor": "white"
           },
           "yaxis": {
            "backgroundcolor": "#E5ECF6",
            "gridcolor": "white",
            "gridwidth": 2,
            "linecolor": "white",
            "showbackground": true,
            "ticks": "",
            "zerolinecolor": "white"
           },
           "zaxis": {
            "backgroundcolor": "#E5ECF6",
            "gridcolor": "white",
            "gridwidth": 2,
            "linecolor": "white",
            "showbackground": true,
            "ticks": "",
            "zerolinecolor": "white"
           }
          },
          "shapedefaults": {
           "line": {
            "color": "#2a3f5f"
           }
          },
          "ternary": {
           "aaxis": {
            "gridcolor": "white",
            "linecolor": "white",
            "ticks": ""
           },
           "baxis": {
            "gridcolor": "white",
            "linecolor": "white",
            "ticks": ""
           },
           "bgcolor": "#E5ECF6",
           "caxis": {
            "gridcolor": "white",
            "linecolor": "white",
            "ticks": ""
           }
          },
          "title": {
           "x": 0.05
          },
          "xaxis": {
           "automargin": true,
           "gridcolor": "white",
           "linecolor": "white",
           "ticks": "",
           "title": {
            "standoff": 15
           },
           "zerolinecolor": "white",
           "zerolinewidth": 2
          },
          "yaxis": {
           "automargin": true,
           "gridcolor": "white",
           "linecolor": "white",
           "ticks": "",
           "title": {
            "standoff": 15
           },
           "zerolinecolor": "white",
           "zerolinewidth": 2
          }
         }
        },
        "title": {
         "text": "Targeted Individuals over Time"
        },
        "xaxis": {
         "anchor": "y",
         "domain": [
          0,
          1
         ],
         "title": {
          "text": "Year"
         }
        },
        "yaxis": {
         "anchor": "x",
         "domain": [
          0,
          1
         ],
         "title": {
          "text": "Count"
         }
        }
       }
      }
     },
     "metadata": {},
     "output_type": "display_data"
    }
   ],
   "source": [
    "df_ind = df_ind.groupby(['Year', 'Targeted Individuals']).count()['Title'].reset_index()\n",
    "df_ind['Title'] = df_ind['Title'].cumsum()\n",
    "\n",
    "fig = px.line(df_ind, x=\"Year\", y=\"Title\", title=\"Targeted Individuals over Time\", labels={'Title': 'Count'})\n",
    "fig.show() # not sure why date not working"
   ]
  },
  {
   "cell_type": "code",
   "execution_count": 100,
   "metadata": {},
   "outputs": [
    {
     "data": {
      "text/html": [
       "<div>\n",
       "<style scoped>\n",
       "    .dataframe tbody tr th:only-of-type {\n",
       "        vertical-align: middle;\n",
       "    }\n",
       "\n",
       "    .dataframe tbody tr th {\n",
       "        vertical-align: top;\n",
       "    }\n",
       "\n",
       "    .dataframe thead th {\n",
       "        text-align: right;\n",
       "    }\n",
       "</style>\n",
       "<table border=\"1\" class=\"dataframe\">\n",
       "  <thead>\n",
       "    <tr style=\"text-align: right;\">\n",
       "      <th></th>\n",
       "      <th>Year</th>\n",
       "      <th>Targeted Individuals</th>\n",
       "      <th>Title</th>\n",
       "    </tr>\n",
       "  </thead>\n",
       "  <tbody>\n",
       "    <tr>\n",
       "      <th>0</th>\n",
       "      <td>2021</td>\n",
       "      <td>Adrian Zenz</td>\n",
       "      <td>1</td>\n",
       "    </tr>\n",
       "    <tr>\n",
       "      <th>1</th>\n",
       "      <td>2021</td>\n",
       "      <td>Björn Jerdén</td>\n",
       "      <td>2</td>\n",
       "    </tr>\n",
       "    <tr>\n",
       "      <th>2</th>\n",
       "      <td>2021</td>\n",
       "      <td>Dovile Sakaliene</td>\n",
       "      <td>3</td>\n",
       "    </tr>\n",
       "    <tr>\n",
       "      <th>3</th>\n",
       "      <td>2021</td>\n",
       "      <td>Gayle Manchin</td>\n",
       "      <td>4</td>\n",
       "    </tr>\n",
       "    <tr>\n",
       "      <th>4</th>\n",
       "      <td>2021</td>\n",
       "      <td>Ilhan Kyuchyuk</td>\n",
       "      <td>5</td>\n",
       "    </tr>\n",
       "    <tr>\n",
       "      <th>5</th>\n",
       "      <td>2021</td>\n",
       "      <td>Michael Chong</td>\n",
       "      <td>6</td>\n",
       "    </tr>\n",
       "    <tr>\n",
       "      <th>6</th>\n",
       "      <td>2021</td>\n",
       "      <td>Michael Gahler</td>\n",
       "      <td>7</td>\n",
       "    </tr>\n",
       "    <tr>\n",
       "      <th>7</th>\n",
       "      <td>2021</td>\n",
       "      <td>Miriam Lexmann</td>\n",
       "      <td>8</td>\n",
       "    </tr>\n",
       "    <tr>\n",
       "      <th>8</th>\n",
       "      <td>2021</td>\n",
       "      <td>Raphaël Glucksmann</td>\n",
       "      <td>9</td>\n",
       "    </tr>\n",
       "    <tr>\n",
       "      <th>9</th>\n",
       "      <td>2021</td>\n",
       "      <td>Reinhard Butikofer</td>\n",
       "      <td>10</td>\n",
       "    </tr>\n",
       "    <tr>\n",
       "      <th>10</th>\n",
       "      <td>2021</td>\n",
       "      <td>Samuel Cogolati</td>\n",
       "      <td>11</td>\n",
       "    </tr>\n",
       "    <tr>\n",
       "      <th>11</th>\n",
       "      <td>2021</td>\n",
       "      <td>Sjoerd Wiemer Sjoerdsma</td>\n",
       "      <td>12</td>\n",
       "    </tr>\n",
       "    <tr>\n",
       "      <th>12</th>\n",
       "      <td>2021</td>\n",
       "      <td>Tony Perkins</td>\n",
       "      <td>13</td>\n",
       "    </tr>\n",
       "    <tr>\n",
       "      <th>13</th>\n",
       "      <td>2022</td>\n",
       "      <td>Agnė Vaiciukevičiūtė</td>\n",
       "      <td>14</td>\n",
       "    </tr>\n",
       "    <tr>\n",
       "      <th>14</th>\n",
       "      <td>2022</td>\n",
       "      <td>Alexandra Pelosi</td>\n",
       "      <td>15</td>\n",
       "    </tr>\n",
       "    <tr>\n",
       "      <th>15</th>\n",
       "      <td>2022</td>\n",
       "      <td>Christine Pelosi</td>\n",
       "      <td>16</td>\n",
       "    </tr>\n",
       "    <tr>\n",
       "      <th>16</th>\n",
       "      <td>2022</td>\n",
       "      <td>Jacqueline Pelosi</td>\n",
       "      <td>17</td>\n",
       "    </tr>\n",
       "    <tr>\n",
       "      <th>17</th>\n",
       "      <td>2022</td>\n",
       "      <td>Nancy Corinne Pelosi</td>\n",
       "      <td>18</td>\n",
       "    </tr>\n",
       "    <tr>\n",
       "      <th>18</th>\n",
       "      <td>2022</td>\n",
       "      <td>Nancy Pelosi</td>\n",
       "      <td>19</td>\n",
       "    </tr>\n",
       "    <tr>\n",
       "      <th>19</th>\n",
       "      <td>2022</td>\n",
       "      <td>Paul Francis Pelosi</td>\n",
       "      <td>20</td>\n",
       "    </tr>\n",
       "    <tr>\n",
       "      <th>20</th>\n",
       "      <td>2022</td>\n",
       "      <td>Paul Pelosi Jr.</td>\n",
       "      <td>21</td>\n",
       "    </tr>\n",
       "    <tr>\n",
       "      <th>21</th>\n",
       "      <td>2023</td>\n",
       "      <td>Japan</td>\n",
       "      <td>22</td>\n",
       "    </tr>\n",
       "    <tr>\n",
       "      <th>22</th>\n",
       "      <td>2023</td>\n",
       "      <td>Michael McCaul</td>\n",
       "      <td>23</td>\n",
       "    </tr>\n",
       "    <tr>\n",
       "      <th>23</th>\n",
       "      <td>2024</td>\n",
       "      <td>Adam Bry</td>\n",
       "      <td>24</td>\n",
       "    </tr>\n",
       "    <tr>\n",
       "      <th>24</th>\n",
       "      <td>2024</td>\n",
       "      <td>Amy Gilliland</td>\n",
       "      <td>25</td>\n",
       "    </tr>\n",
       "    <tr>\n",
       "      <th>25</th>\n",
       "      <td>2024</td>\n",
       "      <td>Barbara Borgonovi</td>\n",
       "      <td>26</td>\n",
       "    </tr>\n",
       "    <tr>\n",
       "      <th>26</th>\n",
       "      <td>2024</td>\n",
       "      <td>Benjamin R. Davies</td>\n",
       "      <td>27</td>\n",
       "    </tr>\n",
       "    <tr>\n",
       "      <th>27</th>\n",
       "      <td>2024</td>\n",
       "      <td>Beth Edler</td>\n",
       "      <td>28</td>\n",
       "    </tr>\n",
       "    <tr>\n",
       "      <th>28</th>\n",
       "      <td>2024</td>\n",
       "      <td>Blake Resnick</td>\n",
       "      <td>29</td>\n",
       "    </tr>\n",
       "    <tr>\n",
       "      <th>29</th>\n",
       "      <td>2024</td>\n",
       "      <td>Brian William Schimpf</td>\n",
       "      <td>30</td>\n",
       "    </tr>\n",
       "    <tr>\n",
       "      <th>30</th>\n",
       "      <td>2024</td>\n",
       "      <td>Charles Woodburn</td>\n",
       "      <td>31</td>\n",
       "    </tr>\n",
       "    <tr>\n",
       "      <th>31</th>\n",
       "      <td>2024</td>\n",
       "      <td>Christopher Douglas Kastner</td>\n",
       "      <td>32</td>\n",
       "    </tr>\n",
       "    <tr>\n",
       "      <th>32</th>\n",
       "      <td>2024</td>\n",
       "      <td>Christopher J. Brady</td>\n",
       "      <td>33</td>\n",
       "    </tr>\n",
       "    <tr>\n",
       "      <th>33</th>\n",
       "      <td>2024</td>\n",
       "      <td>David Keith Sutton</td>\n",
       "      <td>34</td>\n",
       "    </tr>\n",
       "    <tr>\n",
       "      <th>34</th>\n",
       "      <td>2024</td>\n",
       "      <td>Firat H. Gezen</td>\n",
       "      <td>35</td>\n",
       "    </tr>\n",
       "    <tr>\n",
       "      <th>35</th>\n",
       "      <td>2024</td>\n",
       "      <td>Gerard Hueber</td>\n",
       "      <td>36</td>\n",
       "    </tr>\n",
       "    <tr>\n",
       "      <th>36</th>\n",
       "      <td>2024</td>\n",
       "      <td>Gregory Michael Kausner</td>\n",
       "      <td>37</td>\n",
       "    </tr>\n",
       "    <tr>\n",
       "      <th>37</th>\n",
       "      <td>2024</td>\n",
       "      <td>James William Ickes II</td>\n",
       "      <td>38</td>\n",
       "    </tr>\n",
       "    <tr>\n",
       "      <th>38</th>\n",
       "      <td>2024</td>\n",
       "      <td>Jason W. Aiken</td>\n",
       "      <td>39</td>\n",
       "    </tr>\n",
       "    <tr>\n",
       "      <th>39</th>\n",
       "      <td>2024</td>\n",
       "      <td>John Purvis</td>\n",
       "      <td>40</td>\n",
       "    </tr>\n",
       "    <tr>\n",
       "      <th>40</th>\n",
       "      <td>2024</td>\n",
       "      <td>Josh Brungardt</td>\n",
       "      <td>41</td>\n",
       "    </tr>\n",
       "    <tr>\n",
       "      <th>41</th>\n",
       "      <td>2024</td>\n",
       "      <td>Kathy J. Warden</td>\n",
       "      <td>42</td>\n",
       "    </tr>\n",
       "    <tr>\n",
       "      <th>42</th>\n",
       "      <td>2024</td>\n",
       "      <td>Kevin McDonnell</td>\n",
       "      <td>43</td>\n",
       "    </tr>\n",
       "    <tr>\n",
       "      <th>43</th>\n",
       "      <td>2024</td>\n",
       "      <td>Matthew Bromberg</td>\n",
       "      <td>44</td>\n",
       "    </tr>\n",
       "    <tr>\n",
       "      <th>44</th>\n",
       "      <td>2024</td>\n",
       "      <td>Matthew Marley Grimm</td>\n",
       "      <td>45</td>\n",
       "    </tr>\n",
       "    <tr>\n",
       "      <th>45</th>\n",
       "      <td>2024</td>\n",
       "      <td>Patrick Edward Jankowski</td>\n",
       "      <td>46</td>\n",
       "    </tr>\n",
       "    <tr>\n",
       "      <th>46</th>\n",
       "      <td>2024</td>\n",
       "      <td>Richard D. Crawford</td>\n",
       "      <td>47</td>\n",
       "    </tr>\n",
       "    <tr>\n",
       "      <th>47</th>\n",
       "      <td>2024</td>\n",
       "      <td>Roshan Roeder</td>\n",
       "      <td>48</td>\n",
       "    </tr>\n",
       "    <tr>\n",
       "      <th>48</th>\n",
       "      <td>2024</td>\n",
       "      <td>Stephen O’Bryan</td>\n",
       "      <td>49</td>\n",
       "    </tr>\n",
       "    <tr>\n",
       "      <th>49</th>\n",
       "      <td>2024</td>\n",
       "      <td>Steven Roger Rudder</td>\n",
       "      <td>50</td>\n",
       "    </tr>\n",
       "    <tr>\n",
       "      <th>50</th>\n",
       "      <td>2024</td>\n",
       "      <td>Thomas H. Jones</td>\n",
       "      <td>51</td>\n",
       "    </tr>\n",
       "    <tr>\n",
       "      <th>51</th>\n",
       "      <td>2024</td>\n",
       "      <td>Tom Moss</td>\n",
       "      <td>52</td>\n",
       "    </tr>\n",
       "    <tr>\n",
       "      <th>52</th>\n",
       "      <td>2024</td>\n",
       "      <td>Wahid Nawabi</td>\n",
       "      <td>53</td>\n",
       "    </tr>\n",
       "    <tr>\n",
       "      <th>53</th>\n",
       "      <td>2024</td>\n",
       "      <td>Yeong-Tae Pak</td>\n",
       "      <td>54</td>\n",
       "    </tr>\n",
       "  </tbody>\n",
       "</table>\n",
       "</div>"
      ],
      "text/plain": [
       "    Year         Targeted Individuals  Title\n",
       "0   2021                  Adrian Zenz      1\n",
       "1   2021                 Björn Jerdén      2\n",
       "2   2021             Dovile Sakaliene      3\n",
       "3   2021                Gayle Manchin      4\n",
       "4   2021               Ilhan Kyuchyuk      5\n",
       "5   2021                Michael Chong      6\n",
       "6   2021               Michael Gahler      7\n",
       "7   2021               Miriam Lexmann      8\n",
       "8   2021           Raphaël Glucksmann      9\n",
       "9   2021           Reinhard Butikofer     10\n",
       "10  2021              Samuel Cogolati     11\n",
       "11  2021      Sjoerd Wiemer Sjoerdsma     12\n",
       "12  2021                 Tony Perkins     13\n",
       "13  2022         Agnė Vaiciukevičiūtė     14\n",
       "14  2022             Alexandra Pelosi     15\n",
       "15  2022             Christine Pelosi     16\n",
       "16  2022            Jacqueline Pelosi     17\n",
       "17  2022         Nancy Corinne Pelosi     18\n",
       "18  2022                 Nancy Pelosi     19\n",
       "19  2022          Paul Francis Pelosi     20\n",
       "20  2022              Paul Pelosi Jr.     21\n",
       "21  2023                        Japan     22\n",
       "22  2023               Michael McCaul     23\n",
       "23  2024                     Adam Bry     24\n",
       "24  2024                Amy Gilliland     25\n",
       "25  2024            Barbara Borgonovi     26\n",
       "26  2024           Benjamin R. Davies     27\n",
       "27  2024                   Beth Edler     28\n",
       "28  2024                Blake Resnick     29\n",
       "29  2024        Brian William Schimpf     30\n",
       "30  2024             Charles Woodburn     31\n",
       "31  2024  Christopher Douglas Kastner     32\n",
       "32  2024         Christopher J. Brady     33\n",
       "33  2024           David Keith Sutton     34\n",
       "34  2024               Firat H. Gezen     35\n",
       "35  2024                Gerard Hueber     36\n",
       "36  2024      Gregory Michael Kausner     37\n",
       "37  2024       James William Ickes II     38\n",
       "38  2024               Jason W. Aiken     39\n",
       "39  2024                  John Purvis     40\n",
       "40  2024               Josh Brungardt     41\n",
       "41  2024              Kathy J. Warden     42\n",
       "42  2024              Kevin McDonnell     43\n",
       "43  2024             Matthew Bromberg     44\n",
       "44  2024         Matthew Marley Grimm     45\n",
       "45  2024     Patrick Edward Jankowski     46\n",
       "46  2024          Richard D. Crawford     47\n",
       "47  2024                Roshan Roeder     48\n",
       "48  2024              Stephen O’Bryan     49\n",
       "49  2024          Steven Roger Rudder     50\n",
       "50  2024              Thomas H. Jones     51\n",
       "51  2024                     Tom Moss     52\n",
       "52  2024                 Wahid Nawabi     53\n",
       "53  2024                Yeong-Tae Pak     54"
      ]
     },
     "execution_count": 100,
     "metadata": {},
     "output_type": "execute_result"
    }
   ],
   "source": [
    "df_ind"
   ]
  },
  {
   "cell_type": "code",
   "execution_count": 117,
   "metadata": {},
   "outputs": [
    {
     "name": "stderr",
     "output_type": "stream",
     "text": [
      "/var/folders/l_/b5wczsf55z9dmf_dzr3vw6ph0000gr/T/ipykernel_41398/264753422.py:2: SettingWithCopyWarning:\n",
      "\n",
      "\n",
      "A value is trying to be set on a copy of a slice from a DataFrame.\n",
      "Try using .loc[row_indexer,col_indexer] = value instead\n",
      "\n",
      "See the caveats in the documentation: https://pandas.pydata.org/pandas-docs/stable/user_guide/indexing.html#returning-a-view-versus-a-copy\n",
      "\n"
     ]
    }
   ],
   "source": [
    "df_ent = df[~df['Targeted Entities'].isnull()]\n",
    "df_ent['Targeted Entities'] = df_ent['Targeted Entities'].str.split('; ')"
   ]
  },
  {
   "cell_type": "code",
   "execution_count": 118,
   "metadata": {},
   "outputs": [],
   "source": [
    "df_ent = df_ent.explode('Targeted Entities')"
   ]
  },
  {
   "cell_type": "code",
   "execution_count": 119,
   "metadata": {},
   "outputs": [],
   "source": [
    "df_ent = df_ent.groupby(['Year', 'Targeted Entities']).count()['Title'].reset_index()"
   ]
  },
  {
   "cell_type": "code",
   "execution_count": 122,
   "metadata": {},
   "outputs": [
    {
     "data": {
      "text/html": [
       "<div>\n",
       "<style scoped>\n",
       "    .dataframe tbody tr th:only-of-type {\n",
       "        vertical-align: middle;\n",
       "    }\n",
       "\n",
       "    .dataframe tbody tr th {\n",
       "        vertical-align: top;\n",
       "    }\n",
       "\n",
       "    .dataframe thead th {\n",
       "        text-align: right;\n",
       "    }\n",
       "</style>\n",
       "<table border=\"1\" class=\"dataframe\">\n",
       "  <thead>\n",
       "    <tr style=\"text-align: right;\">\n",
       "      <th></th>\n",
       "      <th>Year</th>\n",
       "      <th>Targeted Entities</th>\n",
       "      <th>Title</th>\n",
       "    </tr>\n",
       "  </thead>\n",
       "  <tbody>\n",
       "    <tr>\n",
       "      <th>0</th>\n",
       "      <td>2021</td>\n",
       "      <td>Political and Security Committee of the Counci...</td>\n",
       "      <td>1</td>\n",
       "    </tr>\n",
       "    <tr>\n",
       "      <th>1</th>\n",
       "      <td>2021</td>\n",
       "      <td>Subcommittee on Human Rights of the European P...</td>\n",
       "      <td>2</td>\n",
       "    </tr>\n",
       "    <tr>\n",
       "      <th>2</th>\n",
       "      <td>2021</td>\n",
       "      <td>Subcommittee on International Human Rights of ...</td>\n",
       "      <td>3</td>\n",
       "    </tr>\n",
       "    <tr>\n",
       "      <th>3</th>\n",
       "      <td>2021</td>\n",
       "      <td>United States Commission on International Reli...</td>\n",
       "      <td>4</td>\n",
       "    </tr>\n",
       "    <tr>\n",
       "      <th>4</th>\n",
       "      <td>2021</td>\n",
       "      <td>the Alliance of Democracies Foundation in Denmark</td>\n",
       "      <td>5</td>\n",
       "    </tr>\n",
       "    <tr>\n",
       "      <th>5</th>\n",
       "      <td>2021</td>\n",
       "      <td>the Mercator Institute for China Studies in Ge...</td>\n",
       "      <td>6</td>\n",
       "    </tr>\n",
       "    <tr>\n",
       "      <th>6</th>\n",
       "      <td>2022</td>\n",
       "      <td>Ministry of Transport and Communications of Li...</td>\n",
       "      <td>7</td>\n",
       "    </tr>\n",
       "    <tr>\n",
       "      <th>7</th>\n",
       "      <td>2023</td>\n",
       "      <td>Lockheed Martin</td>\n",
       "      <td>8</td>\n",
       "    </tr>\n",
       "    <tr>\n",
       "      <th>8</th>\n",
       "      <td>2023</td>\n",
       "      <td>Micron</td>\n",
       "      <td>9</td>\n",
       "    </tr>\n",
       "    <tr>\n",
       "      <th>9</th>\n",
       "      <td>2023</td>\n",
       "      <td>Raytheon Missiles &amp; Defense</td>\n",
       "      <td>10</td>\n",
       "    </tr>\n",
       "    <tr>\n",
       "      <th>10</th>\n",
       "      <td>2024</td>\n",
       "      <td>ACT1 Federal</td>\n",
       "      <td>11</td>\n",
       "    </tr>\n",
       "    <tr>\n",
       "      <th>11</th>\n",
       "      <td>2024</td>\n",
       "      <td>AEVEX Aerospace</td>\n",
       "      <td>12</td>\n",
       "    </tr>\n",
       "    <tr>\n",
       "      <th>12</th>\n",
       "      <td>2024</td>\n",
       "      <td>Anduril Industries</td>\n",
       "      <td>13</td>\n",
       "    </tr>\n",
       "    <tr>\n",
       "      <th>13</th>\n",
       "      <td>2024</td>\n",
       "      <td>Applied Technologies Group</td>\n",
       "      <td>14</td>\n",
       "    </tr>\n",
       "    <tr>\n",
       "      <th>14</th>\n",
       "      <td>2024</td>\n",
       "      <td>Axient</td>\n",
       "      <td>15</td>\n",
       "    </tr>\n",
       "    <tr>\n",
       "      <th>15</th>\n",
       "      <td>2024</td>\n",
       "      <td>BRINC Drones, Inc.</td>\n",
       "      <td>16</td>\n",
       "    </tr>\n",
       "    <tr>\n",
       "      <th>16</th>\n",
       "      <td>2024</td>\n",
       "      <td>Cubic Corporation</td>\n",
       "      <td>17</td>\n",
       "    </tr>\n",
       "    <tr>\n",
       "      <th>17</th>\n",
       "      <td>2024</td>\n",
       "      <td>Cyberlux Corporation</td>\n",
       "      <td>18</td>\n",
       "    </tr>\n",
       "    <tr>\n",
       "      <th>18</th>\n",
       "      <td>2024</td>\n",
       "      <td>Domo Tactical Communications</td>\n",
       "      <td>19</td>\n",
       "    </tr>\n",
       "    <tr>\n",
       "      <th>19</th>\n",
       "      <td>2024</td>\n",
       "      <td>Edge Autonomy Operations LLC</td>\n",
       "      <td>20</td>\n",
       "    </tr>\n",
       "    <tr>\n",
       "      <th>20</th>\n",
       "      <td>2024</td>\n",
       "      <td>Exovera</td>\n",
       "      <td>21</td>\n",
       "    </tr>\n",
       "    <tr>\n",
       "      <th>21</th>\n",
       "      <td>2024</td>\n",
       "      <td>Firestorm Labs, Inc.</td>\n",
       "      <td>22</td>\n",
       "    </tr>\n",
       "    <tr>\n",
       "      <th>22</th>\n",
       "      <td>2024</td>\n",
       "      <td>General Dynamics Information Technology</td>\n",
       "      <td>23</td>\n",
       "    </tr>\n",
       "    <tr>\n",
       "      <th>23</th>\n",
       "      <td>2024</td>\n",
       "      <td>General Dynamics Mission Systems</td>\n",
       "      <td>24</td>\n",
       "    </tr>\n",
       "    <tr>\n",
       "      <th>24</th>\n",
       "      <td>2024</td>\n",
       "      <td>General Dynamics Ordnance and Tactical Systems</td>\n",
       "      <td>25</td>\n",
       "    </tr>\n",
       "    <tr>\n",
       "      <th>25</th>\n",
       "      <td>2024</td>\n",
       "      <td>Group W</td>\n",
       "      <td>26</td>\n",
       "    </tr>\n",
       "    <tr>\n",
       "      <th>26</th>\n",
       "      <td>2024</td>\n",
       "      <td>HavocAI</td>\n",
       "      <td>27</td>\n",
       "    </tr>\n",
       "    <tr>\n",
       "      <th>27</th>\n",
       "      <td>2024</td>\n",
       "      <td>Huntington Ingalls Industries Inc.</td>\n",
       "      <td>28</td>\n",
       "    </tr>\n",
       "    <tr>\n",
       "      <th>28</th>\n",
       "      <td>2024</td>\n",
       "      <td>Inter-Coastal Electronics</td>\n",
       "      <td>29</td>\n",
       "    </tr>\n",
       "    <tr>\n",
       "      <th>29</th>\n",
       "      <td>2024</td>\n",
       "      <td>IronMountain Solutions</td>\n",
       "      <td>30</td>\n",
       "    </tr>\n",
       "    <tr>\n",
       "      <th>30</th>\n",
       "      <td>2024</td>\n",
       "      <td>Kratos Unmanned Aerial Systems, Inc.</td>\n",
       "      <td>31</td>\n",
       "    </tr>\n",
       "    <tr>\n",
       "      <th>31</th>\n",
       "      <td>2024</td>\n",
       "      <td>LKD Aerospace</td>\n",
       "      <td>32</td>\n",
       "    </tr>\n",
       "    <tr>\n",
       "      <th>32</th>\n",
       "      <td>2024</td>\n",
       "      <td>Lockheed Martin Aeronautics</td>\n",
       "      <td>33</td>\n",
       "    </tr>\n",
       "    <tr>\n",
       "      <th>33</th>\n",
       "      <td>2024</td>\n",
       "      <td>Lockheed Martin Missiles and Fire Control</td>\n",
       "      <td>34</td>\n",
       "    </tr>\n",
       "    <tr>\n",
       "      <th>34</th>\n",
       "      <td>2024</td>\n",
       "      <td>Maritime Tactical Systems</td>\n",
       "      <td>35</td>\n",
       "    </tr>\n",
       "    <tr>\n",
       "      <th>35</th>\n",
       "      <td>2024</td>\n",
       "      <td>NVIDIA</td>\n",
       "      <td>36</td>\n",
       "    </tr>\n",
       "    <tr>\n",
       "      <th>36</th>\n",
       "      <td>2024</td>\n",
       "      <td>Neros Technologies</td>\n",
       "      <td>37</td>\n",
       "    </tr>\n",
       "    <tr>\n",
       "      <th>37</th>\n",
       "      <td>2024</td>\n",
       "      <td>Pacific Rim Defense</td>\n",
       "      <td>38</td>\n",
       "    </tr>\n",
       "    <tr>\n",
       "      <th>38</th>\n",
       "      <td>2024</td>\n",
       "      <td>Planate Management Group</td>\n",
       "      <td>39</td>\n",
       "    </tr>\n",
       "    <tr>\n",
       "      <th>39</th>\n",
       "      <td>2024</td>\n",
       "      <td>Rapid Flight LLC</td>\n",
       "      <td>40</td>\n",
       "    </tr>\n",
       "    <tr>\n",
       "      <th>40</th>\n",
       "      <td>2024</td>\n",
       "      <td>Raytheon Missile Systems</td>\n",
       "      <td>41</td>\n",
       "    </tr>\n",
       "    <tr>\n",
       "      <th>41</th>\n",
       "      <td>2024</td>\n",
       "      <td>Raytheon/Lockheed Martin Javelin Joint Venture</td>\n",
       "      <td>42</td>\n",
       "    </tr>\n",
       "    <tr>\n",
       "      <th>42</th>\n",
       "      <td>2024</td>\n",
       "      <td>Red Six Solutions</td>\n",
       "      <td>43</td>\n",
       "    </tr>\n",
       "    <tr>\n",
       "      <th>43</th>\n",
       "      <td>2024</td>\n",
       "      <td>S3 AeroDefense</td>\n",
       "      <td>44</td>\n",
       "    </tr>\n",
       "    <tr>\n",
       "      <th>44</th>\n",
       "      <td>2024</td>\n",
       "      <td>SYNEXXUS, Inc.</td>\n",
       "      <td>45</td>\n",
       "    </tr>\n",
       "    <tr>\n",
       "      <th>45</th>\n",
       "      <td>2024</td>\n",
       "      <td>Shield AI, Inc.</td>\n",
       "      <td>46</td>\n",
       "    </tr>\n",
       "    <tr>\n",
       "      <th>46</th>\n",
       "      <td>2024</td>\n",
       "      <td>Sierra Nevada Corporation</td>\n",
       "      <td>47</td>\n",
       "    </tr>\n",
       "    <tr>\n",
       "      <th>47</th>\n",
       "      <td>2024</td>\n",
       "      <td>Skydio Inc.</td>\n",
       "      <td>48</td>\n",
       "    </tr>\n",
       "    <tr>\n",
       "      <th>48</th>\n",
       "      <td>2024</td>\n",
       "      <td>Stick Rudder Enterprises LLC</td>\n",
       "      <td>49</td>\n",
       "    </tr>\n",
       "    <tr>\n",
       "      <th>49</th>\n",
       "      <td>2024</td>\n",
       "      <td>Summit Technologies Inc.</td>\n",
       "      <td>50</td>\n",
       "    </tr>\n",
       "    <tr>\n",
       "      <th>50</th>\n",
       "      <td>2024</td>\n",
       "      <td>System Studies &amp; Simulation</td>\n",
       "      <td>51</td>\n",
       "    </tr>\n",
       "    <tr>\n",
       "      <th>51</th>\n",
       "      <td>2024</td>\n",
       "      <td>TCOM, Limited Partnership</td>\n",
       "      <td>52</td>\n",
       "    </tr>\n",
       "    <tr>\n",
       "      <th>52</th>\n",
       "      <td>2024</td>\n",
       "      <td>Teledyne Brown Engineering, Inc.</td>\n",
       "      <td>53</td>\n",
       "    </tr>\n",
       "    <tr>\n",
       "      <th>53</th>\n",
       "      <td>2024</td>\n",
       "      <td>TextOre</td>\n",
       "      <td>54</td>\n",
       "    </tr>\n",
       "  </tbody>\n",
       "</table>\n",
       "</div>"
      ],
      "text/plain": [
       "    Year                                  Targeted Entities  Title\n",
       "0   2021  Political and Security Committee of the Counci...      1\n",
       "1   2021  Subcommittee on Human Rights of the European P...      2\n",
       "2   2021  Subcommittee on International Human Rights of ...      3\n",
       "3   2021  United States Commission on International Reli...      4\n",
       "4   2021  the Alliance of Democracies Foundation in Denmark      5\n",
       "5   2021  the Mercator Institute for China Studies in Ge...      6\n",
       "6   2022  Ministry of Transport and Communications of Li...      7\n",
       "7   2023                                    Lockheed Martin      8\n",
       "8   2023                                             Micron      9\n",
       "9   2023                        Raytheon Missiles & Defense     10\n",
       "10  2024                                       ACT1 Federal     11\n",
       "11  2024                                    AEVEX Aerospace     12\n",
       "12  2024                                 Anduril Industries     13\n",
       "13  2024                         Applied Technologies Group     14\n",
       "14  2024                                             Axient     15\n",
       "15  2024                                 BRINC Drones, Inc.     16\n",
       "16  2024                                  Cubic Corporation     17\n",
       "17  2024                               Cyberlux Corporation     18\n",
       "18  2024                       Domo Tactical Communications     19\n",
       "19  2024                       Edge Autonomy Operations LLC     20\n",
       "20  2024                                            Exovera     21\n",
       "21  2024                               Firestorm Labs, Inc.     22\n",
       "22  2024            General Dynamics Information Technology     23\n",
       "23  2024                   General Dynamics Mission Systems     24\n",
       "24  2024     General Dynamics Ordnance and Tactical Systems     25\n",
       "25  2024                                            Group W     26\n",
       "26  2024                                            HavocAI     27\n",
       "27  2024                 Huntington Ingalls Industries Inc.     28\n",
       "28  2024                          Inter-Coastal Electronics     29\n",
       "29  2024                             IronMountain Solutions     30\n",
       "30  2024               Kratos Unmanned Aerial Systems, Inc.     31\n",
       "31  2024                                      LKD Aerospace     32\n",
       "32  2024                        Lockheed Martin Aeronautics     33\n",
       "33  2024          Lockheed Martin Missiles and Fire Control     34\n",
       "34  2024                          Maritime Tactical Systems     35\n",
       "35  2024                                             NVIDIA     36\n",
       "36  2024                                 Neros Technologies     37\n",
       "37  2024                                Pacific Rim Defense     38\n",
       "38  2024                           Planate Management Group     39\n",
       "39  2024                                   Rapid Flight LLC     40\n",
       "40  2024                           Raytheon Missile Systems     41\n",
       "41  2024     Raytheon/Lockheed Martin Javelin Joint Venture     42\n",
       "42  2024                                  Red Six Solutions     43\n",
       "43  2024                                     S3 AeroDefense     44\n",
       "44  2024                                     SYNEXXUS, Inc.     45\n",
       "45  2024                                    Shield AI, Inc.     46\n",
       "46  2024                          Sierra Nevada Corporation     47\n",
       "47  2024                                        Skydio Inc.     48\n",
       "48  2024                       Stick Rudder Enterprises LLC     49\n",
       "49  2024                           Summit Technologies Inc.     50\n",
       "50  2024                        System Studies & Simulation     51\n",
       "51  2024                          TCOM, Limited Partnership     52\n",
       "52  2024                   Teledyne Brown Engineering, Inc.     53\n",
       "53  2024                                            TextOre     54"
      ]
     },
     "execution_count": 122,
     "metadata": {},
     "output_type": "execute_result"
    }
   ],
   "source": [
    "df_ent['Title'] = df_ent['Title'].cumsum()\n",
    "df_ent"
   ]
  },
  {
   "cell_type": "code",
   "execution_count": 123,
   "metadata": {},
   "outputs": [
    {
     "data": {
      "application/vnd.plotly.v1+json": {
       "config": {
        "plotlyServerURL": "https://plot.ly"
       },
       "data": [
        {
         "hovertemplate": "Year=%{x}<br>Count=%{y}<extra></extra>",
         "legendgroup": "",
         "line": {
          "color": "#636efa",
          "dash": "solid"
         },
         "marker": {
          "symbol": "circle"
         },
         "mode": "lines",
         "name": "",
         "orientation": "v",
         "showlegend": false,
         "type": "scatter",
         "x": [
          2021,
          2021,
          2021,
          2021,
          2021,
          2021,
          2022,
          2023,
          2023,
          2023,
          2024,
          2024,
          2024,
          2024,
          2024,
          2024,
          2024,
          2024,
          2024,
          2024,
          2024,
          2024,
          2024,
          2024,
          2024,
          2024,
          2024,
          2024,
          2024,
          2024,
          2024,
          2024,
          2024,
          2024,
          2024,
          2024,
          2024,
          2024,
          2024,
          2024,
          2024,
          2024,
          2024,
          2024,
          2024,
          2024,
          2024,
          2024,
          2024,
          2024,
          2024,
          2024,
          2024,
          2024
         ],
         "xaxis": "x",
         "y": [
          1,
          2,
          3,
          4,
          5,
          6,
          7,
          8,
          9,
          10,
          11,
          12,
          13,
          14,
          15,
          16,
          17,
          18,
          19,
          20,
          21,
          22,
          23,
          24,
          25,
          26,
          27,
          28,
          29,
          30,
          31,
          32,
          33,
          34,
          35,
          36,
          37,
          38,
          39,
          40,
          41,
          42,
          43,
          44,
          45,
          46,
          47,
          48,
          49,
          50,
          51,
          52,
          53,
          54
         ],
         "yaxis": "y"
        }
       ],
       "layout": {
        "legend": {
         "tracegroupgap": 0
        },
        "template": {
         "data": {
          "bar": [
           {
            "error_x": {
             "color": "#2a3f5f"
            },
            "error_y": {
             "color": "#2a3f5f"
            },
            "marker": {
             "line": {
              "color": "#E5ECF6",
              "width": 0.5
             },
             "pattern": {
              "fillmode": "overlay",
              "size": 10,
              "solidity": 0.2
             }
            },
            "type": "bar"
           }
          ],
          "barpolar": [
           {
            "marker": {
             "line": {
              "color": "#E5ECF6",
              "width": 0.5
             },
             "pattern": {
              "fillmode": "overlay",
              "size": 10,
              "solidity": 0.2
             }
            },
            "type": "barpolar"
           }
          ],
          "carpet": [
           {
            "aaxis": {
             "endlinecolor": "#2a3f5f",
             "gridcolor": "white",
             "linecolor": "white",
             "minorgridcolor": "white",
             "startlinecolor": "#2a3f5f"
            },
            "baxis": {
             "endlinecolor": "#2a3f5f",
             "gridcolor": "white",
             "linecolor": "white",
             "minorgridcolor": "white",
             "startlinecolor": "#2a3f5f"
            },
            "type": "carpet"
           }
          ],
          "choropleth": [
           {
            "colorbar": {
             "outlinewidth": 0,
             "ticks": ""
            },
            "type": "choropleth"
           }
          ],
          "contour": [
           {
            "colorbar": {
             "outlinewidth": 0,
             "ticks": ""
            },
            "colorscale": [
             [
              0,
              "#0d0887"
             ],
             [
              0.1111111111111111,
              "#46039f"
             ],
             [
              0.2222222222222222,
              "#7201a8"
             ],
             [
              0.3333333333333333,
              "#9c179e"
             ],
             [
              0.4444444444444444,
              "#bd3786"
             ],
             [
              0.5555555555555556,
              "#d8576b"
             ],
             [
              0.6666666666666666,
              "#ed7953"
             ],
             [
              0.7777777777777778,
              "#fb9f3a"
             ],
             [
              0.8888888888888888,
              "#fdca26"
             ],
             [
              1,
              "#f0f921"
             ]
            ],
            "type": "contour"
           }
          ],
          "contourcarpet": [
           {
            "colorbar": {
             "outlinewidth": 0,
             "ticks": ""
            },
            "type": "contourcarpet"
           }
          ],
          "heatmap": [
           {
            "colorbar": {
             "outlinewidth": 0,
             "ticks": ""
            },
            "colorscale": [
             [
              0,
              "#0d0887"
             ],
             [
              0.1111111111111111,
              "#46039f"
             ],
             [
              0.2222222222222222,
              "#7201a8"
             ],
             [
              0.3333333333333333,
              "#9c179e"
             ],
             [
              0.4444444444444444,
              "#bd3786"
             ],
             [
              0.5555555555555556,
              "#d8576b"
             ],
             [
              0.6666666666666666,
              "#ed7953"
             ],
             [
              0.7777777777777778,
              "#fb9f3a"
             ],
             [
              0.8888888888888888,
              "#fdca26"
             ],
             [
              1,
              "#f0f921"
             ]
            ],
            "type": "heatmap"
           }
          ],
          "heatmapgl": [
           {
            "colorbar": {
             "outlinewidth": 0,
             "ticks": ""
            },
            "colorscale": [
             [
              0,
              "#0d0887"
             ],
             [
              0.1111111111111111,
              "#46039f"
             ],
             [
              0.2222222222222222,
              "#7201a8"
             ],
             [
              0.3333333333333333,
              "#9c179e"
             ],
             [
              0.4444444444444444,
              "#bd3786"
             ],
             [
              0.5555555555555556,
              "#d8576b"
             ],
             [
              0.6666666666666666,
              "#ed7953"
             ],
             [
              0.7777777777777778,
              "#fb9f3a"
             ],
             [
              0.8888888888888888,
              "#fdca26"
             ],
             [
              1,
              "#f0f921"
             ]
            ],
            "type": "heatmapgl"
           }
          ],
          "histogram": [
           {
            "marker": {
             "pattern": {
              "fillmode": "overlay",
              "size": 10,
              "solidity": 0.2
             }
            },
            "type": "histogram"
           }
          ],
          "histogram2d": [
           {
            "colorbar": {
             "outlinewidth": 0,
             "ticks": ""
            },
            "colorscale": [
             [
              0,
              "#0d0887"
             ],
             [
              0.1111111111111111,
              "#46039f"
             ],
             [
              0.2222222222222222,
              "#7201a8"
             ],
             [
              0.3333333333333333,
              "#9c179e"
             ],
             [
              0.4444444444444444,
              "#bd3786"
             ],
             [
              0.5555555555555556,
              "#d8576b"
             ],
             [
              0.6666666666666666,
              "#ed7953"
             ],
             [
              0.7777777777777778,
              "#fb9f3a"
             ],
             [
              0.8888888888888888,
              "#fdca26"
             ],
             [
              1,
              "#f0f921"
             ]
            ],
            "type": "histogram2d"
           }
          ],
          "histogram2dcontour": [
           {
            "colorbar": {
             "outlinewidth": 0,
             "ticks": ""
            },
            "colorscale": [
             [
              0,
              "#0d0887"
             ],
             [
              0.1111111111111111,
              "#46039f"
             ],
             [
              0.2222222222222222,
              "#7201a8"
             ],
             [
              0.3333333333333333,
              "#9c179e"
             ],
             [
              0.4444444444444444,
              "#bd3786"
             ],
             [
              0.5555555555555556,
              "#d8576b"
             ],
             [
              0.6666666666666666,
              "#ed7953"
             ],
             [
              0.7777777777777778,
              "#fb9f3a"
             ],
             [
              0.8888888888888888,
              "#fdca26"
             ],
             [
              1,
              "#f0f921"
             ]
            ],
            "type": "histogram2dcontour"
           }
          ],
          "mesh3d": [
           {
            "colorbar": {
             "outlinewidth": 0,
             "ticks": ""
            },
            "type": "mesh3d"
           }
          ],
          "parcoords": [
           {
            "line": {
             "colorbar": {
              "outlinewidth": 0,
              "ticks": ""
             }
            },
            "type": "parcoords"
           }
          ],
          "pie": [
           {
            "automargin": true,
            "type": "pie"
           }
          ],
          "scatter": [
           {
            "fillpattern": {
             "fillmode": "overlay",
             "size": 10,
             "solidity": 0.2
            },
            "type": "scatter"
           }
          ],
          "scatter3d": [
           {
            "line": {
             "colorbar": {
              "outlinewidth": 0,
              "ticks": ""
             }
            },
            "marker": {
             "colorbar": {
              "outlinewidth": 0,
              "ticks": ""
             }
            },
            "type": "scatter3d"
           }
          ],
          "scattercarpet": [
           {
            "marker": {
             "colorbar": {
              "outlinewidth": 0,
              "ticks": ""
             }
            },
            "type": "scattercarpet"
           }
          ],
          "scattergeo": [
           {
            "marker": {
             "colorbar": {
              "outlinewidth": 0,
              "ticks": ""
             }
            },
            "type": "scattergeo"
           }
          ],
          "scattergl": [
           {
            "marker": {
             "colorbar": {
              "outlinewidth": 0,
              "ticks": ""
             }
            },
            "type": "scattergl"
           }
          ],
          "scattermapbox": [
           {
            "marker": {
             "colorbar": {
              "outlinewidth": 0,
              "ticks": ""
             }
            },
            "type": "scattermapbox"
           }
          ],
          "scatterpolar": [
           {
            "marker": {
             "colorbar": {
              "outlinewidth": 0,
              "ticks": ""
             }
            },
            "type": "scatterpolar"
           }
          ],
          "scatterpolargl": [
           {
            "marker": {
             "colorbar": {
              "outlinewidth": 0,
              "ticks": ""
             }
            },
            "type": "scatterpolargl"
           }
          ],
          "scatterternary": [
           {
            "marker": {
             "colorbar": {
              "outlinewidth": 0,
              "ticks": ""
             }
            },
            "type": "scatterternary"
           }
          ],
          "surface": [
           {
            "colorbar": {
             "outlinewidth": 0,
             "ticks": ""
            },
            "colorscale": [
             [
              0,
              "#0d0887"
             ],
             [
              0.1111111111111111,
              "#46039f"
             ],
             [
              0.2222222222222222,
              "#7201a8"
             ],
             [
              0.3333333333333333,
              "#9c179e"
             ],
             [
              0.4444444444444444,
              "#bd3786"
             ],
             [
              0.5555555555555556,
              "#d8576b"
             ],
             [
              0.6666666666666666,
              "#ed7953"
             ],
             [
              0.7777777777777778,
              "#fb9f3a"
             ],
             [
              0.8888888888888888,
              "#fdca26"
             ],
             [
              1,
              "#f0f921"
             ]
            ],
            "type": "surface"
           }
          ],
          "table": [
           {
            "cells": {
             "fill": {
              "color": "#EBF0F8"
             },
             "line": {
              "color": "white"
             }
            },
            "header": {
             "fill": {
              "color": "#C8D4E3"
             },
             "line": {
              "color": "white"
             }
            },
            "type": "table"
           }
          ]
         },
         "layout": {
          "annotationdefaults": {
           "arrowcolor": "#2a3f5f",
           "arrowhead": 0,
           "arrowwidth": 1
          },
          "autotypenumbers": "strict",
          "coloraxis": {
           "colorbar": {
            "outlinewidth": 0,
            "ticks": ""
           }
          },
          "colorscale": {
           "diverging": [
            [
             0,
             "#8e0152"
            ],
            [
             0.1,
             "#c51b7d"
            ],
            [
             0.2,
             "#de77ae"
            ],
            [
             0.3,
             "#f1b6da"
            ],
            [
             0.4,
             "#fde0ef"
            ],
            [
             0.5,
             "#f7f7f7"
            ],
            [
             0.6,
             "#e6f5d0"
            ],
            [
             0.7,
             "#b8e186"
            ],
            [
             0.8,
             "#7fbc41"
            ],
            [
             0.9,
             "#4d9221"
            ],
            [
             1,
             "#276419"
            ]
           ],
           "sequential": [
            [
             0,
             "#0d0887"
            ],
            [
             0.1111111111111111,
             "#46039f"
            ],
            [
             0.2222222222222222,
             "#7201a8"
            ],
            [
             0.3333333333333333,
             "#9c179e"
            ],
            [
             0.4444444444444444,
             "#bd3786"
            ],
            [
             0.5555555555555556,
             "#d8576b"
            ],
            [
             0.6666666666666666,
             "#ed7953"
            ],
            [
             0.7777777777777778,
             "#fb9f3a"
            ],
            [
             0.8888888888888888,
             "#fdca26"
            ],
            [
             1,
             "#f0f921"
            ]
           ],
           "sequentialminus": [
            [
             0,
             "#0d0887"
            ],
            [
             0.1111111111111111,
             "#46039f"
            ],
            [
             0.2222222222222222,
             "#7201a8"
            ],
            [
             0.3333333333333333,
             "#9c179e"
            ],
            [
             0.4444444444444444,
             "#bd3786"
            ],
            [
             0.5555555555555556,
             "#d8576b"
            ],
            [
             0.6666666666666666,
             "#ed7953"
            ],
            [
             0.7777777777777778,
             "#fb9f3a"
            ],
            [
             0.8888888888888888,
             "#fdca26"
            ],
            [
             1,
             "#f0f921"
            ]
           ]
          },
          "colorway": [
           "#636efa",
           "#EF553B",
           "#00cc96",
           "#ab63fa",
           "#FFA15A",
           "#19d3f3",
           "#FF6692",
           "#B6E880",
           "#FF97FF",
           "#FECB52"
          ],
          "font": {
           "color": "#2a3f5f"
          },
          "geo": {
           "bgcolor": "white",
           "lakecolor": "white",
           "landcolor": "#E5ECF6",
           "showlakes": true,
           "showland": true,
           "subunitcolor": "white"
          },
          "hoverlabel": {
           "align": "left"
          },
          "hovermode": "closest",
          "mapbox": {
           "style": "light"
          },
          "paper_bgcolor": "white",
          "plot_bgcolor": "#E5ECF6",
          "polar": {
           "angularaxis": {
            "gridcolor": "white",
            "linecolor": "white",
            "ticks": ""
           },
           "bgcolor": "#E5ECF6",
           "radialaxis": {
            "gridcolor": "white",
            "linecolor": "white",
            "ticks": ""
           }
          },
          "scene": {
           "xaxis": {
            "backgroundcolor": "#E5ECF6",
            "gridcolor": "white",
            "gridwidth": 2,
            "linecolor": "white",
            "showbackground": true,
            "ticks": "",
            "zerolinecolor": "white"
           },
           "yaxis": {
            "backgroundcolor": "#E5ECF6",
            "gridcolor": "white",
            "gridwidth": 2,
            "linecolor": "white",
            "showbackground": true,
            "ticks": "",
            "zerolinecolor": "white"
           },
           "zaxis": {
            "backgroundcolor": "#E5ECF6",
            "gridcolor": "white",
            "gridwidth": 2,
            "linecolor": "white",
            "showbackground": true,
            "ticks": "",
            "zerolinecolor": "white"
           }
          },
          "shapedefaults": {
           "line": {
            "color": "#2a3f5f"
           }
          },
          "ternary": {
           "aaxis": {
            "gridcolor": "white",
            "linecolor": "white",
            "ticks": ""
           },
           "baxis": {
            "gridcolor": "white",
            "linecolor": "white",
            "ticks": ""
           },
           "bgcolor": "#E5ECF6",
           "caxis": {
            "gridcolor": "white",
            "linecolor": "white",
            "ticks": ""
           }
          },
          "title": {
           "x": 0.05
          },
          "xaxis": {
           "automargin": true,
           "gridcolor": "white",
           "linecolor": "white",
           "ticks": "",
           "title": {
            "standoff": 15
           },
           "zerolinecolor": "white",
           "zerolinewidth": 2
          },
          "yaxis": {
           "automargin": true,
           "gridcolor": "white",
           "linecolor": "white",
           "ticks": "",
           "title": {
            "standoff": 15
           },
           "zerolinecolor": "white",
           "zerolinewidth": 2
          }
         }
        },
        "title": {
         "text": "Targeted Individuals over Time"
        },
        "xaxis": {
         "anchor": "y",
         "domain": [
          0,
          1
         ],
         "title": {
          "text": "Year"
         }
        },
        "yaxis": {
         "anchor": "x",
         "domain": [
          0,
          1
         ],
         "title": {
          "text": "Count"
         }
        }
       }
      }
     },
     "metadata": {},
     "output_type": "display_data"
    }
   ],
   "source": [
    "fig = px.line(df_ent, x=\"Year\", y=\"Title\", title=\"Targeted Individuals over Time\", labels={'Title': 'Count'})\n",
    "fig.show() # not sure why date not working"
   ]
  },
  {
   "cell_type": "code",
   "execution_count": null,
   "metadata": {},
   "outputs": [],
   "source": []
  }
 ],
 "metadata": {
  "kernelspec": {
   "display_name": "ecosa_viz",
   "language": "python",
   "name": "python3"
  },
  "language_info": {
   "codemirror_mode": {
    "name": "ipython",
    "version": 3
   },
   "file_extension": ".py",
   "mimetype": "text/x-python",
   "name": "python",
   "nbconvert_exporter": "python",
   "pygments_lexer": "ipython3",
   "version": "3.11.10"
  }
 },
 "nbformat": 4,
 "nbformat_minor": 2
}
